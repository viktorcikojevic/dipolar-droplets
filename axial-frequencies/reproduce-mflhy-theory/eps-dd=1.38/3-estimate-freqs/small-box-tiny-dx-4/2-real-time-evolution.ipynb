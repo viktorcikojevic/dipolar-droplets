{
 "cells": [
  {
   "attachments": {},
   "cell_type": "markdown",
   "metadata": {},
   "source": [
    "From the \"Supersolid symmetry breaking from compressional oscillations in a dipolar quantum gas\" paper (link here [https://arxiv.org/abs/1906.02791](https://arxiv.org/abs/1906.02791)), the authors say:\n",
    "\n",
    "\"The equilibrium density configuration is found by fixing the equation parameters to the values available in the experiments, and then evolving the eGPE in imaginary time. We consider $\\mathrm{N}=35000$ atoms of ${ }^{162} \\mathrm{Dy}$, for which $a_{d d}=130 a_0\\left(a_0\\right.$ is the Bohr radius). The trapping frequencies are $\\omega_{x, y, z}=2 \\pi(18.5,53,81) \\mathrm{Hz}$, and $a_s$ is changed to tune the value of $\\epsilon_{d d}$.\"\n",
    "\n"
   ]
  },
  {
   "attachments": {},
   "cell_type": "markdown",
   "metadata": {},
   "source": [
    "# import modules"
   ]
  },
  {
   "cell_type": "code",
   "execution_count": 1,
   "metadata": {},
   "outputs": [],
   "source": [
    "import matplotlib.pyplot as plt\n",
    "\n",
    "# Import dependencies\n",
    "import numpy as np\n",
    "import sys\n",
    "sys.path.append('../../../../../3D-egpe-code/egpe')\n",
    "from egpe import eGPE\n"
   ]
  },
  {
   "cell_type": "code",
   "execution_count": 2,
   "metadata": {},
   "outputs": [],
   "source": [
    "\n",
    "\n",
    "# Define the parameters\n",
    "nparticles = 35_000\n",
    "fx, fy, fz = 18.5, 53, 81\n",
    "# Harmonic oscillator length is given by a_ho = sqrt(hbar/(m*omega)), where m is the mass of the atom, and omega is the 2*pi*f0, where f0 is the frequency of the trap.\n",
    "# We want to calculate a_h0 / r_0 = sqrt(hbar/(m*omega)/r_0, where r_0 = 390 a_0.\n",
    "# a_h0/r_0 = sqrt(1.05457182e-34 m^2 kg / s / ( 162 * (1.66053907e-27 kilograms) * (2*pi*20 Hertz)) / (390 * 5.291772109E-11 m)= 1.7662456 microns / ((390 * 5.291772109E-11 m)) = 85.5825757\n",
    "# a_h0_y = a_h0 * sqrt(18.5/53) = = 85.5825757 * sqrt(18.5/53) = 50.563052245\n",
    "# a_h0_z = a_h0 * sqrt(18.5/81) = = 85.5825757 * sqrt(18.5/81) = 40.9005085201\n",
    "\n",
    "\n",
    "\n",
    "# Get the optimal sr and sz\n",
    "gp = eGPE(eps_dd=1.38,\n",
    "          nparticles=nparticles,\n",
    "          fx=fx, fy=fy, fz=fz,\n",
    "          nxyz=np.array([256, 64, 64])  ,\n",
    "          box_size=np.array([800, 500, 500]) * 2 * 1.5,\n",
    "          lambda_pot_external=0.001\n",
    "          # rho_cutoff=0.8,\n",
    "          # z_cutoff=0.8,\n",
    "          )\n",
    "\n",
    "r0 = gp.box_size / 20\n",
    "gp.psi  = np.exp(-0.5 * (gp.x / r0[0]-1)**2 - 0.5 * (gp.y / r0[1])**2 - 0.5 * (gp.z / r0[2])**2) + 0j\n",
    "gp.psi += np.exp(-0.5 * (gp.x / r0[0]+1)**2 - 0.5 * (gp.y / r0[1])**2 - 0.5 * (gp.z / r0[2])**2) + 0j\n",
    "gp.normalize_psi()\n",
    "\n"
   ]
  },
  {
   "cell_type": "code",
   "execution_count": null,
   "metadata": {},
   "outputs": [],
   "source": [
    "# first evolve slowly, with no output\n",
    "gp.evolve(dt=1, \n",
    "          t_max=1E+03,\n",
    "          verbose=False)\n",
    "\n",
    "\n",
    "# Evolve faster, with output\n",
    "gp.evolve(dt=10, \n",
    "          t_max=4E+05,\n",
    "          verbose=False, \n",
    "          print_each_percent=1, \n",
    "          output_root_dir=\"1-equilibrate-output\")"
   ]
  },
  {
   "attachments": {},
   "cell_type": "markdown",
   "metadata": {},
   "source": [
    "OK, now the system is equilibrated. Let's change $\\lambda$ to 0 and evolve the system in real-time."
   ]
  },
  {
   "cell_type": "code",
   "execution_count": 3,
   "metadata": {},
   "outputs": [
    {
     "name": "stdout",
     "output_type": "stream",
     "text": [
      "[INFO] Created output directory:  2-real-time/snapshots_time_evolution_0\n"
     ]
    },
    {
     "name": "stderr",
     "output_type": "stream",
     "text": [
      "  7%|▋         | 737565/10000000 [3:51:29<48:27:03, 53.10it/s] \n"
     ]
    },
    {
     "ename": "KeyboardInterrupt",
     "evalue": "",
     "output_type": "error",
     "traceback": [
      "\u001b[0;31m---------------------------------------------------------------------------\u001b[0m",
      "\u001b[0;31mKeyboardInterrupt\u001b[0m                         Traceback (most recent call last)",
      "Cell \u001b[0;32mIn [3], line 9\u001b[0m\n\u001b[1;32m      7\u001b[0m dt \u001b[39m=\u001b[39m \u001b[39m10\u001b[39m\n\u001b[1;32m      8\u001b[0m t_max \u001b[39m=\u001b[39m dt \u001b[39m*\u001b[39m \u001b[39m10000000\u001b[39m\n\u001b[0;32m----> 9\u001b[0m gp\u001b[39m.\u001b[39;49mevolve(dt\u001b[39m=\u001b[39;49mdt, t_max\u001b[39m=\u001b[39;49mt_max,  time_prop\u001b[39m=\u001b[39;49m\u001b[39m\"\u001b[39;49m\u001b[39mreal\u001b[39;49m\u001b[39m\"\u001b[39;49m, verbose\u001b[39m=\u001b[39;49m\u001b[39mFalse\u001b[39;49;00m, output_root_dir\u001b[39m=\u001b[39;49m\u001b[39m\"\u001b[39;49m\u001b[39m2-real-time\u001b[39;49m\u001b[39m\"\u001b[39;49m, save_x2\u001b[39m=\u001b[39;49m\u001b[39mTrue\u001b[39;49;00m, print_each_percent\u001b[39m=\u001b[39;49m\u001b[39m0.0001\u001b[39;49m)\n",
      "File \u001b[0;32m/media/viktor/T7/dipolar-droplets/axial-frequencies/reproduce-mflhy-theory/eps-dd=1.38/3-estimate-freqs/small-box-small-dx-2/../../../../../3D-egpe-code/egpe/egpe.py:528\u001b[0m, in \u001b[0;36meGPE.evolve\u001b[0;34m(self, dt, t_max, time_prop, verbose, print_each_percent, output_root_dir, save_density_slices, save_x2)\u001b[0m\n\u001b[1;32m    525\u001b[0m             \u001b[39m# save x2 to x2_file\u001b[39;00m\n\u001b[1;32m    526\u001b[0m             x2_file\u001b[39m.\u001b[39mwrite(\u001b[39mf\u001b[39m\u001b[39m'\u001b[39m\u001b[39m{\u001b[39;00mi \u001b[39m*\u001b[39m dt\u001b[39m}\u001b[39;00m\u001b[39m \u001b[39m\u001b[39m{\u001b[39;00mx2\u001b[39m}\u001b[39;00m\u001b[39m\\n\u001b[39;00m\u001b[39m'\u001b[39m)\n\u001b[0;32m--> 528\u001b[0m \u001b[39mself\u001b[39;49m\u001b[39m.\u001b[39;49mT2_operator()\n",
      "File \u001b[0;32m/media/viktor/T7/dipolar-droplets/axial-frequencies/reproduce-mflhy-theory/eps-dd=1.38/3-estimate-freqs/small-box-small-dx-2/../../../../../3D-egpe-code/egpe/egpe.py:414\u001b[0m, in \u001b[0;36meGPE.T2_operator\u001b[0;34m(self)\u001b[0m\n\u001b[1;32m    412\u001b[0m \u001b[39m# Third part of the T2 operator, propagator exp(-i*V*dt/2)\u001b[39;00m\n\u001b[1;32m    413\u001b[0m \u001b[39mself\u001b[39m\u001b[39m.\u001b[39mden \u001b[39m=\u001b[39m np\u001b[39m.\u001b[39mabsolute(\u001b[39mself\u001b[39m\u001b[39m.\u001b[39mpsi) \u001b[39m*\u001b[39m\u001b[39m*\u001b[39m \u001b[39m2\u001b[39m\n\u001b[0;32m--> 414\u001b[0m \u001b[39mself\u001b[39m\u001b[39m.\u001b[39mphi_dd \u001b[39m=\u001b[39m \u001b[39mself\u001b[39;49m\u001b[39m.\u001b[39;49mget_phi_dd()\n\u001b[1;32m    415\u001b[0m pot \u001b[39m=\u001b[39m \u001b[39mself\u001b[39m\u001b[39m.\u001b[39mVExt \u001b[39m+\u001b[39m \u001b[39mself\u001b[39m\u001b[39m.\u001b[39mdEps_dPsi()\n\u001b[1;32m    416\u001b[0m \u001b[39mself\u001b[39m\u001b[39m.\u001b[39mpsi \u001b[39m*\u001b[39m\u001b[39m=\u001b[39m np\u001b[39m.\u001b[39mexp(\u001b[39m-\u001b[39m\u001b[39m0.5\u001b[39mj \u001b[39m*\u001b[39m pot \u001b[39m*\u001b[39m \u001b[39mself\u001b[39m\u001b[39m.\u001b[39mdt)\n",
      "File \u001b[0;32m/media/viktor/T7/dipolar-droplets/axial-frequencies/reproduce-mflhy-theory/eps-dd=1.38/3-estimate-freqs/small-box-small-dx-2/../../../../../3D-egpe-code/egpe/egpe.py:341\u001b[0m, in \u001b[0;36meGPE.get_phi_dd\u001b[0;34m(self)\u001b[0m\n\u001b[1;32m    337\u001b[0m \u001b[39mdef\u001b[39;00m \u001b[39mget_phi_dd\u001b[39m(\u001b[39mself\u001b[39m):\n\u001b[1;32m    338\u001b[0m     \u001b[39m\"\"\"\u001b[39;00m\n\u001b[1;32m    339\u001b[0m \u001b[39m    Returns the dipolar interaction potential.\u001b[39;00m\n\u001b[1;32m    340\u001b[0m \u001b[39m    \"\"\"\u001b[39;00m\n\u001b[0;32m--> 341\u001b[0m     \u001b[39mreturn\u001b[39;00m np\u001b[39m.\u001b[39mfft\u001b[39m.\u001b[39mifftn(np\u001b[39m.\u001b[39;49mfft\u001b[39m.\u001b[39;49mfftn(\u001b[39mself\u001b[39;49m\u001b[39m.\u001b[39;49mden) \u001b[39m*\u001b[39m \u001b[39mself\u001b[39m\u001b[39m.\u001b[39mft_dip)\n",
      "File \u001b[0;32m<__array_function__ internals>:180\u001b[0m, in \u001b[0;36mfftn\u001b[0;34m(*args, **kwargs)\u001b[0m\n",
      "File \u001b[0;32m~/.local/lib/python3.10/site-packages/numpy/fft/_pocketfft.py:815\u001b[0m, in \u001b[0;36mfftn\u001b[0;34m(a, s, axes, norm)\u001b[0m\n\u001b[1;32m    715\u001b[0m \u001b[39m@array_function_dispatch\u001b[39m(_fftn_dispatcher)\n\u001b[1;32m    716\u001b[0m \u001b[39mdef\u001b[39;00m \u001b[39mfftn\u001b[39m(a, s\u001b[39m=\u001b[39m\u001b[39mNone\u001b[39;00m, axes\u001b[39m=\u001b[39m\u001b[39mNone\u001b[39;00m, norm\u001b[39m=\u001b[39m\u001b[39mNone\u001b[39;00m):\n\u001b[1;32m    717\u001b[0m     \u001b[39m\"\"\"\u001b[39;00m\n\u001b[1;32m    718\u001b[0m \u001b[39m    Compute the N-dimensional discrete Fourier Transform.\u001b[39;00m\n\u001b[1;32m    719\u001b[0m \n\u001b[0;32m   (...)\u001b[0m\n\u001b[1;32m    813\u001b[0m \n\u001b[1;32m    814\u001b[0m \u001b[39m    \"\"\"\u001b[39;00m\n\u001b[0;32m--> 815\u001b[0m     \u001b[39mreturn\u001b[39;00m _raw_fftnd(a, s, axes, fft, norm)\n",
      "File \u001b[0;32m~/.local/lib/python3.10/site-packages/numpy/fft/_pocketfft.py:707\u001b[0m, in \u001b[0;36m_raw_fftnd\u001b[0;34m(a, s, axes, function, norm)\u001b[0m\n\u001b[1;32m    705\u001b[0m itl\u001b[39m.\u001b[39mreverse()\n\u001b[1;32m    706\u001b[0m \u001b[39mfor\u001b[39;00m ii \u001b[39min\u001b[39;00m itl:\n\u001b[0;32m--> 707\u001b[0m     a \u001b[39m=\u001b[39m function(a, n\u001b[39m=\u001b[39;49ms[ii], axis\u001b[39m=\u001b[39;49maxes[ii], norm\u001b[39m=\u001b[39;49mnorm)\n\u001b[1;32m    708\u001b[0m \u001b[39mreturn\u001b[39;00m a\n",
      "File \u001b[0;32m<__array_function__ internals>:180\u001b[0m, in \u001b[0;36mfft\u001b[0;34m(*args, **kwargs)\u001b[0m\n",
      "File \u001b[0;32m~/.local/lib/python3.10/site-packages/numpy/fft/_pocketfft.py:215\u001b[0m, in \u001b[0;36mfft\u001b[0;34m(a, n, axis, norm)\u001b[0m\n\u001b[1;32m    213\u001b[0m     n \u001b[39m=\u001b[39m a\u001b[39m.\u001b[39mshape[axis]\n\u001b[1;32m    214\u001b[0m inv_norm \u001b[39m=\u001b[39m _get_forward_norm(n, norm)\n\u001b[0;32m--> 215\u001b[0m output \u001b[39m=\u001b[39m _raw_fft(a, n, axis, \u001b[39mFalse\u001b[39;49;00m, \u001b[39mTrue\u001b[39;49;00m, inv_norm)\n\u001b[1;32m    216\u001b[0m \u001b[39mreturn\u001b[39;00m output\n",
      "File \u001b[0;32m~/.local/lib/python3.10/site-packages/numpy/fft/_pocketfft.py:70\u001b[0m, in \u001b[0;36m_raw_fft\u001b[0;34m(a, n, axis, is_real, is_forward, inv_norm)\u001b[0m\n\u001b[1;32m     67\u001b[0m         a \u001b[39m=\u001b[39m z\n\u001b[1;32m     69\u001b[0m \u001b[39mif\u001b[39;00m axis \u001b[39m==\u001b[39m a\u001b[39m.\u001b[39mndim\u001b[39m-\u001b[39m\u001b[39m1\u001b[39m:\n\u001b[0;32m---> 70\u001b[0m     r \u001b[39m=\u001b[39m pfi\u001b[39m.\u001b[39;49mexecute(a, is_real, is_forward, fct)\n\u001b[1;32m     71\u001b[0m \u001b[39melse\u001b[39;00m:\n\u001b[1;32m     72\u001b[0m     a \u001b[39m=\u001b[39m swapaxes(a, axis, \u001b[39m-\u001b[39m\u001b[39m1\u001b[39m)\n",
      "\u001b[0;31mKeyboardInterrupt\u001b[0m: "
     ]
    }
   ],
   "source": [
    "\n",
    "# set lambda to 0 and update the external potential\n",
    "gp.lambda_pot_external = 0.\n",
    "gp.set_external_potential()\n",
    "\n",
    "\n",
    "# Set dt, t_max and evolve the system\n",
    "dt = 10\n",
    "t_max = 1E+07\n",
    "gp.evolve(dt=dt, t_max=t_max,  time_prop=\"real\", verbose=False, output_root_dir=\"2-real-time\", save_x2=True, print_each_percent=1.E-04)\n"
   ]
  }
 ],
 "metadata": {
  "kernelspec": {
   "display_name": "mlp",
   "language": "python",
   "name": "python3"
  },
  "language_info": {
   "codemirror_mode": {
    "name": "ipython",
    "version": 3
   },
   "file_extension": ".py",
   "mimetype": "text/x-python",
   "name": "python",
   "nbconvert_exporter": "python",
   "pygments_lexer": "ipython3",
   "version": "3.6.13 |Anaconda, Inc.| (default, Jun  4 2021, 14:25:59) \n[GCC 7.5.0]"
  },
  "orig_nbformat": 4,
  "vscode": {
   "interpreter": {
    "hash": "b16ebcd04219b0bd06912ea12ee86568d7bfa8562d31d8fca79d575eb9e6eb7c"
   }
  }
 },
 "nbformat": 4,
 "nbformat_minor": 2
}
