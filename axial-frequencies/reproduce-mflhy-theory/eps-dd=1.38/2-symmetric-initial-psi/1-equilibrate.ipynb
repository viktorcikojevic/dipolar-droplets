{
 "cells": [
  {
   "attachments": {},
   "cell_type": "markdown",
   "metadata": {},
   "source": [
    "From the \"Supersolid symmetry breaking from compressional oscillations in a dipolar quantum gas\" paper (link here [https://arxiv.org/abs/1906.02791](https://arxiv.org/abs/1906.02791)), the authors say:\n",
    "\n",
    "\"The equilibrium density configuration is found by fixing the equation parameters to the values available in the experiments, and then evolving the eGPE in imaginary time. We consider $\\mathrm{N}=35000$ atoms of ${ }^{162} \\mathrm{Dy}$, for which $a_{d d}=130 a_0\\left(a_0\\right.$ is the Bohr radius). The trapping frequencies are $\\omega_{x, y, z}=2 \\pi(18.5,53,81) \\mathrm{Hz}$, and $a_s$ is changed to tune the value of $\\epsilon_{d d}$.\"\n",
    "\n"
   ]
  },
  {
   "attachments": {},
   "cell_type": "markdown",
   "metadata": {},
   "source": [
    "# import modules"
   ]
  },
  {
   "cell_type": "code",
   "execution_count": 35,
   "metadata": {},
   "outputs": [],
   "source": [
    "import matplotlib.pyplot as plt\n",
    "\n",
    "# Import dependencies\n",
    "import numpy as np\n",
    "import sys\n",
    "sys.path.append('../../../../3D-egpe-code/egpe')\n",
    "from egpe import eGPE\n"
   ]
  },
  {
   "cell_type": "code",
   "execution_count": 36,
   "metadata": {},
   "outputs": [
    {
     "name": "stdout",
     "output_type": "stream",
     "text": [
      "[INFO] Initializing random psi\n"
     ]
    }
   ],
   "source": [
    "\n",
    "\n",
    "# Define the parameters\n",
    "nparticles = 35_000\n",
    "fx, fy, fz = 18.5, 53, 81\n",
    "# Harmonic oscillator length is given by a_ho = sqrt(hbar/(m*omega)), where m is the mass of the atom, and omega is the 2*pi*f0, where f0 is the frequency of the trap.\n",
    "# We want to calculate a_h0 / r_0 = sqrt(hbar/(m*omega)/r_0, where r_0 = 390 a_0.\n",
    "# a_h0/r_0 = sqrt(1.05457182e-34 m^2 kg / s / ( 162 * (1.66053907e-27 kilograms) * (2*pi*20 Hertz)) / (390 * 5.291772109E-11 m)= 1.7662456 microns / ((390 * 5.291772109E-11 m)) = 85.5825757\n",
    "# a_h0_y = a_h0 * sqrt(18.5/53) = = 85.5825757 * sqrt(18.5/53) = 50.563052245\n",
    "# a_h0_z = a_h0 * sqrt(18.5/81) = = 85.5825757 * sqrt(18.5/81) = 40.9005085201\n",
    "\n",
    "\n",
    "\n",
    "# Get the optimal sr and sz\n",
    "gp = eGPE(eps_dd=1.38,\n",
    "          nparticles=nparticles,\n",
    "          fx=fx, fy=fy, fz=fz,\n",
    "          nxyz=np.array([256, 128, 64]) / 2,\n",
    "          box_size=np.array([90, 50, 41]) * np.array([0.9, 0.75, 1]) * 50,\n",
    "          # rho_cutoff=0.8,\n",
    "          # z_cutoff=0.8,\n",
    "          )\n",
    "\n",
    "r0 = gp.box_size / 20\n",
    "gp.psi = np.exp(-0.5 * (gp.x / r0[0])**2 - 0.5 * (gp.y / r0[1])**2 - 0.5 * (gp.z / r0[2])**2) + 0j\n",
    "gp.normalize_psi()\n",
    "\n",
    "\n"
   ]
  },
  {
   "cell_type": "code",
   "execution_count": 37,
   "metadata": {},
   "outputs": [
    {
     "name": "stdout",
     "output_type": "stream",
     "text": [
      "[INFO] Created output directory:  1-equilibrate-output/snapshots_time_evolution_0\n"
     ]
    },
    {
     "name": "stderr",
     "output_type": "stream",
     "text": [
      "  0%|          | 1/10000 [00:00<19:36,  8.50it/s]"
     ]
    },
    {
     "name": "stdout",
     "output_type": "stream",
     "text": [
      "Kinetic energy:  1.9934932435794799\n",
      "Potential energy (external):  45.58630959530209\n",
      "Potential energy (interaction):  73.64790787765651\n",
      "Total energy:  121.22771071653807\n"
     ]
    },
    {
     "name": "stderr",
     "output_type": "stream",
     "text": [
      "  1%|          | 103/10000 [00:08<14:50, 11.11it/s]"
     ]
    },
    {
     "name": "stdout",
     "output_type": "stream",
     "text": [
      "Kinetic energy:  2.318483046862658\n",
      "Potential energy (external):  58.771844238846384\n",
      "Potential energy (interaction):  38.79536987632772\n",
      "Total energy:  99.88569716203676\n"
     ]
    },
    {
     "name": "stderr",
     "output_type": "stream",
     "text": [
      "  2%|▏         | 203/10000 [00:16<13:31, 12.07it/s]"
     ]
    },
    {
     "name": "stdout",
     "output_type": "stream",
     "text": [
      "Kinetic energy:  2.5064462504078375\n",
      "Potential energy (external):  58.726439253258654\n",
      "Potential energy (interaction):  37.90944398004722\n",
      "Total energy:  99.14232948371372\n"
     ]
    },
    {
     "name": "stderr",
     "output_type": "stream",
     "text": [
      "  3%|▎         | 303/10000 [00:25<13:54, 11.61it/s]"
     ]
    },
    {
     "name": "stdout",
     "output_type": "stream",
     "text": [
      "Kinetic energy:  2.6055353862745023\n",
      "Potential energy (external):  58.863015715388954\n",
      "Potential energy (interaction):  37.499130889357254\n",
      "Total energy:  98.96768199102071\n"
     ]
    },
    {
     "name": "stderr",
     "output_type": "stream",
     "text": [
      "  4%|▍         | 403/10000 [00:33<13:17, 12.03it/s]"
     ]
    },
    {
     "name": "stdout",
     "output_type": "stream",
     "text": [
      "Kinetic energy:  2.6716177402691965\n",
      "Potential energy (external):  58.967011642791924\n",
      "Potential energy (interaction):  37.27427403864546\n",
      "Total energy:  98.91290342170657\n"
     ]
    },
    {
     "name": "stderr",
     "output_type": "stream",
     "text": [
      "  5%|▌         | 503/10000 [00:41<13:11, 12.00it/s]"
     ]
    },
    {
     "name": "stdout",
     "output_type": "stream",
     "text": [
      "Kinetic energy:  2.7203561504894433\n",
      "Potential energy (external):  59.030063280010054\n",
      "Potential energy (interaction):  37.14143256078114\n",
      "Total energy:  98.89185199128065\n"
     ]
    },
    {
     "name": "stderr",
     "output_type": "stream",
     "text": [
      "  6%|▌         | 603/10000 [00:49<12:55, 12.11it/s]"
     ]
    },
    {
     "name": "stdout",
     "output_type": "stream",
     "text": [
      "Kinetic energy:  2.7575952501851804\n",
      "Potential energy (external):  59.06745751785175\n",
      "Potential energy (interaction):  37.05735970307062\n",
      "Total energy:  98.88241247110756\n"
     ]
    },
    {
     "name": "stderr",
     "output_type": "stream",
     "text": [
      "  7%|▋         | 703/10000 [00:57<12:45, 12.15it/s]"
     ]
    },
    {
     "name": "stdout",
     "output_type": "stream",
     "text": [
      "Kinetic energy:  2.7864985872041426\n",
      "Potential energy (external):  59.09025417481222\n",
      "Potential energy (interaction):  37.000880838474004\n",
      "Total energy:  98.87763360049037\n"
     ]
    },
    {
     "name": "stderr",
     "output_type": "stream",
     "text": [
      "  8%|▊         | 803/10000 [01:06<12:50, 11.93it/s]"
     ]
    },
    {
     "name": "stdout",
     "output_type": "stream",
     "text": [
      "Kinetic energy:  2.8091564789029033\n",
      "Potential energy (external):  59.10472014691224\n",
      "Potential energy (interaction):  36.96109343778353\n",
      "Total energy:  98.87497006359868\n"
     ]
    },
    {
     "name": "stderr",
     "output_type": "stream",
     "text": [
      "  9%|▉         | 903/10000 [01:14<12:36, 12.03it/s]"
     ]
    },
    {
     "name": "stdout",
     "output_type": "stream",
     "text": [
      "Kinetic energy:  2.827066853800879\n",
      "Potential energy (external):  59.11428066895178\n",
      "Potential energy (interaction):  36.932017215299524\n",
      "Total energy:  98.87336473805217\n"
     ]
    },
    {
     "name": "stderr",
     "output_type": "stream",
     "text": [
      " 10%|█         | 1003/10000 [01:22<12:28, 12.01it/s]"
     ]
    },
    {
     "name": "stdout",
     "output_type": "stream",
     "text": [
      "Kinetic energy:  2.8413473424655638\n",
      "Potential energy (external):  59.120849738404694\n",
      "Potential energy (interaction):  36.91012962209542\n",
      "Total energy:  98.87232670296567\n"
     ]
    },
    {
     "name": "stderr",
     "output_type": "stream",
     "text": [
      " 11%|█         | 1103/10000 [01:30<12:17, 12.07it/s]"
     ]
    },
    {
     "name": "stdout",
     "output_type": "stream",
     "text": [
      "Kinetic energy:  2.8528558936202444\n",
      "Potential energy (external):  59.12554401351922\n",
      "Potential energy (interaction):  36.89320430922851\n",
      "Total energy:  98.87160421636797\n"
     ]
    },
    {
     "name": "stderr",
     "output_type": "stream",
     "text": [
      " 12%|█▏        | 1203/10000 [01:38<12:25, 11.80it/s]"
     ]
    },
    {
     "name": "stdout",
     "output_type": "stream",
     "text": [
      "Kinetic energy:  2.862267857624994\n",
      "Potential energy (external):  59.12904784900408\n",
      "Potential energy (interaction):  36.879740592468\n",
      "Total energy:  98.87105629909708\n"
     ]
    },
    {
     "name": "stderr",
     "output_type": "stream",
     "text": [
      " 13%|█▎        | 1303/10000 [01:46<12:11, 11.89it/s]"
     ]
    },
    {
     "name": "stdout",
     "output_type": "stream",
     "text": [
      "Kinetic energy:  2.8701287313712482\n",
      "Potential energy (external):  59.131802307582845\n",
      "Potential energy (interaction):  36.868665990357925\n",
      "Total energy:  98.87059702931202\n"
     ]
    },
    {
     "name": "stderr",
     "output_type": "stream",
     "text": [
      " 14%|█▍        | 1403/10000 [01:55<11:50, 12.10it/s]"
     ]
    },
    {
     "name": "stdout",
     "output_type": "stream",
     "text": [
      "Kinetic energy:  2.8768925196998207\n",
      "Potential energy (external):  59.134106880552594\n",
      "Potential energy (interaction):  36.85916952279905\n",
      "Total energy:  98.87016892305147\n"
     ]
    },
    {
     "name": "stderr",
     "output_type": "stream",
     "text": [
      " 15%|█▌        | 1503/10000 [02:03<11:57, 11.84it/s]"
     ]
    },
    {
     "name": "stdout",
     "output_type": "stream",
     "text": [
      "Kinetic energy:  2.8829514242990015\n",
      "Potential energy (external):  59.136177008710256\n",
      "Potential energy (interaction):  36.85060055062309\n",
      "Total energy:  98.86972898363234\n"
     ]
    },
    {
     "name": "stderr",
     "output_type": "stream",
     "text": [
      " 16%|█▌        | 1603/10000 [02:11<11:30, 12.16it/s]"
     ]
    },
    {
     "name": "stdout",
     "output_type": "stream",
     "text": [
      "Kinetic energy:  2.8886603325005145\n",
      "Potential energy (external):  59.1381784513429\n",
      "Potential energy (interaction):  36.842401892208855\n",
      "Total energy:  98.86924067605227\n"
     ]
    },
    {
     "name": "stderr",
     "output_type": "stream",
     "text": [
      " 17%|█▋        | 1703/10000 [02:19<11:27, 12.07it/s]"
     ]
    },
    {
     "name": "stdout",
     "output_type": "stream",
     "text": [
      "Kinetic energy:  2.894358393411342\n",
      "Potential energy (external):  59.14024914685607\n",
      "Potential energy (interaction):  36.8340612488643\n",
      "Total energy:  98.86866878913172\n"
     ]
    },
    {
     "name": "stderr",
     "output_type": "stream",
     "text": [
      " 18%|█▊        | 1803/10000 [02:27<11:19, 12.06it/s]"
     ]
    },
    {
     "name": "stdout",
     "output_type": "stream",
     "text": [
      "Kinetic energy:  2.900389380585061\n",
      "Potential energy (external):  59.14251421852579\n",
      "Potential energy (interaction):  36.825072079047374\n",
      "Total energy:  98.86797567815822\n"
     ]
    },
    {
     "name": "stderr",
     "output_type": "stream",
     "text": [
      " 19%|█▉        | 1903/10000 [02:36<11:08, 12.10it/s]"
     ]
    },
    {
     "name": "stdout",
     "output_type": "stream",
     "text": [
      "Kinetic energy:  2.9071223109953497\n",
      "Potential energy (external):  59.14509731624868\n",
      "Potential energy (interaction):  36.81489842178749\n",
      "Total energy:  98.86711804903152\n"
     ]
    },
    {
     "name": "stderr",
     "output_type": "stream",
     "text": [
      " 20%|██        | 2003/10000 [02:44<10:54, 12.21it/s]"
     ]
    },
    {
     "name": "stdout",
     "output_type": "stream",
     "text": [
      "Kinetic energy:  2.9149738130703033\n",
      "Potential energy (external):  59.14813024844747\n",
      "Potential energy (interaction):  36.802939673158654\n",
      "Total energy:  98.86604373467642\n"
     ]
    },
    {
     "name": "stderr",
     "output_type": "stream",
     "text": [
      " 21%|██        | 2103/10000 [02:52<10:58, 11.99it/s]"
     ]
    },
    {
     "name": "stdout",
     "output_type": "stream",
     "text": [
      "Kinetic energy:  2.9244339935564003\n",
      "Potential energy (external):  59.151762256915084\n",
      "Potential energy (interaction):  36.78849176030272\n",
      "Total energy:  98.8646880107742\n"
     ]
    },
    {
     "name": "stderr",
     "output_type": "stream",
     "text": [
      " 22%|██▏       | 2203/10000 [03:00<10:49, 12.00it/s]"
     ]
    },
    {
     "name": "stdout",
     "output_type": "stream",
     "text": [
      "Kinetic energy:  2.936098096179555\n",
      "Potential energy (external):  59.1561700534961\n",
      "Potential energy (interaction):  36.77070081733194\n",
      "Total energy:  98.86296896700759\n"
     ]
    },
    {
     "name": "stderr",
     "output_type": "stream",
     "text": [
      " 23%|██▎       | 2303/10000 [03:08<10:38, 12.05it/s]"
     ]
    },
    {
     "name": "stdout",
     "output_type": "stream",
     "text": [
      "Kinetic energy:  2.950707202890455\n",
      "Potential energy (external):  59.161569760588826\n",
      "Potential energy (interaction):  36.748504337793705\n",
      "Total energy:  98.860781301273\n"
     ]
    },
    {
     "name": "stderr",
     "output_type": "stream",
     "text": [
      " 24%|██▍       | 2403/10000 [03:16<10:31, 12.02it/s]"
     ]
    },
    {
     "name": "stdout",
     "output_type": "stream",
     "text": [
      "Kinetic energy:  2.969202835438661\n",
      "Potential energy (external):  59.16823215697714\n",
      "Potential energy (interaction):  36.72055261491516\n",
      "Total energy:  98.85798760733095\n"
     ]
    },
    {
     "name": "stderr",
     "output_type": "stream",
     "text": [
      " 25%|██▌       | 2503/10000 [03:25<10:29, 11.91it/s]"
     ]
    },
    {
     "name": "stdout",
     "output_type": "stream",
     "text": [
      "Kinetic energy:  2.9928029730537085\n",
      "Potential energy (external):  59.176503174567095\n",
      "Potential energy (interaction):  36.68509956063401\n",
      "Total energy:  98.8544057082548\n"
     ]
    },
    {
     "name": "stderr",
     "output_type": "stream",
     "text": [
      " 26%|██▌       | 2603/10000 [03:33<10:28, 11.78it/s]"
     ]
    },
    {
     "name": "stdout",
     "output_type": "stream",
     "text": [
      "Kinetic energy:  3.023111387262797\n",
      "Potential energy (external):  59.186832541137754\n",
      "Potential energy (interaction):  36.639845787552304\n",
      "Total energy:  98.84978971595285\n"
     ]
    },
    {
     "name": "stderr",
     "output_type": "stream",
     "text": [
      " 27%|██▋       | 2703/10000 [03:41<10:06, 12.04it/s]"
     ]
    },
    {
     "name": "stdout",
     "output_type": "stream",
     "text": [
      "Kinetic energy:  3.062279422601264\n",
      "Potential energy (external):  59.19981503390172\n",
      "Potential energy (interaction):  36.581706592743934\n",
      "Total energy:  98.84380104924692\n"
     ]
    },
    {
     "name": "stderr",
     "output_type": "stream",
     "text": [
      " 28%|██▊       | 2803/10000 [03:49<09:58, 12.02it/s]"
     ]
    },
    {
     "name": "stdout",
     "output_type": "stream",
     "text": [
      "Kinetic energy:  3.113251166509309\n",
      "Potential energy (external):  59.21625132847523\n",
      "Potential energy (interaction):  36.50646079057666\n",
      "Total energy:  98.8359632855612\n"
     ]
    },
    {
     "name": "stderr",
     "output_type": "stream",
     "text": [
      " 29%|██▉       | 2903/10000 [03:57<09:40, 12.22it/s]"
     ]
    },
    {
     "name": "stdout",
     "output_type": "stream",
     "text": [
      "Kinetic energy:  3.180141669660096\n",
      "Potential energy (external):  59.237239295284546\n",
      "Potential energy (interaction):  36.40821011777376\n",
      "Total energy:  98.8255910827184\n"
     ]
    },
    {
     "name": "stderr",
     "output_type": "stream",
     "text": [
      " 30%|███       | 3003/10000 [04:05<09:25, 12.37it/s]"
     ]
    },
    {
     "name": "stdout",
     "output_type": "stream",
     "text": [
      "Kinetic energy:  3.2688248188273996\n",
      "Potential energy (external):  59.264311868160796\n",
      "Potential energy (interaction):  36.27854195356004\n",
      "Total energy:  98.81167864054822\n"
     ]
    },
    {
     "name": "stderr",
     "output_type": "stream",
     "text": [
      " 31%|███       | 3103/10000 [04:13<09:20, 12.32it/s]"
     ]
    },
    {
     "name": "stdout",
     "output_type": "stream",
     "text": [
      "Kinetic energy:  3.3878348446657465\n",
      "Potential energy (external):  59.29964212877102\n",
      "Potential energy (interaction):  36.10525350453608\n",
      "Total energy:  98.79273047797284\n"
     ]
    },
    {
     "name": "stderr",
     "output_type": "stream",
     "text": [
      " 32%|███▏      | 3203/10000 [04:21<09:10, 12.35it/s]"
     ]
    },
    {
     "name": "stdout",
     "output_type": "stream",
     "text": [
      "Kinetic energy:  3.5496638004119374\n",
      "Potential energy (external):  59.346328350140666\n",
      "Potential energy (interaction):  35.87054025749389\n",
      "Total energy:  98.76653240804649\n"
     ]
    },
    {
     "name": "stderr",
     "output_type": "stream",
     "text": [
      " 33%|███▎      | 3303/10000 [04:29<09:03, 12.32it/s]"
     ]
    },
    {
     "name": "stdout",
     "output_type": "stream",
     "text": [
      "Kinetic energy:  3.7722644871887288\n",
      "Potential energy (external):  59.40870537913233\n",
      "Potential energy (interaction):  35.548981704409606\n",
      "Total energy:  98.72995157073066\n"
     ]
    },
    {
     "name": "stderr",
     "output_type": "stream",
     "text": [
      " 34%|███▍      | 3403/10000 [04:37<09:00, 12.21it/s]"
     ]
    },
    {
     "name": "stdout",
     "output_type": "stream",
     "text": [
      "Kinetic energy:  4.079407116899016\n",
      "Potential energy (external):  59.492357986496\n",
      "Potential energy (interaction):  35.10741730965366\n",
      "Total energy:  98.67918241304868\n"
     ]
    },
    {
     "name": "stderr",
     "output_type": "stream",
     "text": [
      " 35%|███▌      | 3503/10000 [04:45<08:57, 12.10it/s]"
     ]
    },
    {
     "name": "stdout",
     "output_type": "stream",
     "text": [
      "Kinetic energy:  4.495279678442861\n",
      "Potential energy (external):  59.602749292461326\n",
      "Potential energy (interaction):  34.51357867726566\n",
      "Total energy:  98.61160764816984\n"
     ]
    },
    {
     "name": "stderr",
     "output_type": "stream",
     "text": [
      " 36%|███▌      | 3603/10000 [04:53<08:51, 12.03it/s]"
     ]
    },
    {
     "name": "stdout",
     "output_type": "stream",
     "text": [
      "Kinetic energy:  5.024792170526151\n",
      "Potential energy (external):  59.74045542576492\n",
      "Potential energy (interaction):  33.76537668570238\n",
      "Total energy:  98.53062428199345\n"
     ]
    },
    {
     "name": "stderr",
     "output_type": "stream",
     "text": [
      " 37%|███▋      | 3703/10000 [05:01<08:52, 11.83it/s]"
     ]
    },
    {
     "name": "stdout",
     "output_type": "stream",
     "text": [
      "Kinetic energy:  5.622337623206705\n",
      "Potential energy (external):  59.89390682281252\n",
      "Potential energy (interaction):  32.93369916885145\n",
      "Total energy:  98.44994361487068\n"
     ]
    },
    {
     "name": "stderr",
     "output_type": "stream",
     "text": [
      " 38%|███▊      | 3803/10000 [05:09<08:25, 12.27it/s]"
     ]
    },
    {
     "name": "stdout",
     "output_type": "stream",
     "text": [
      "Kinetic energy:  6.192356378366282\n",
      "Potential energy (external):  60.040550562449546\n",
      "Potential energy (interaction):  32.15365117553931\n",
      "Total energy:  98.38655811635513\n"
     ]
    },
    {
     "name": "stderr",
     "output_type": "stream",
     "text": [
      " 39%|███▉      | 3903/10000 [05:17<08:24, 12.07it/s]"
     ]
    },
    {
     "name": "stdout",
     "output_type": "stream",
     "text": [
      "Kinetic energy:  6.65195574033047\n",
      "Potential energy (external):  60.16218285207511\n",
      "Potential energy (interaction):  31.53233324994059\n",
      "Total energy:  98.34647184234618\n"
     ]
    },
    {
     "name": "stderr",
     "output_type": "stream",
     "text": [
      " 40%|████      | 4003/10000 [05:25<08:00, 12.47it/s]"
     ]
    },
    {
     "name": "stdout",
     "output_type": "stream",
     "text": [
      "Kinetic energy:  6.979999628344314\n",
      "Potential energy (external):  60.254541734887994\n",
      "Potential energy (interaction):  31.08971579923595\n",
      "Total energy:  98.32425716246826\n"
     ]
    },
    {
     "name": "stderr",
     "output_type": "stream",
     "text": [
      " 41%|████      | 4103/10000 [05:33<07:56, 12.37it/s]"
     ]
    },
    {
     "name": "stdout",
     "output_type": "stream",
     "text": [
      "Kinetic energy:  7.199525187917367\n",
      "Potential energy (external):  60.32215032438202\n",
      "Potential energy (interaction):  30.790692682053507\n",
      "Total energy:  98.3123681943529\n"
     ]
    },
    {
     "name": "stderr",
     "output_type": "stream",
     "text": [
      " 42%|████▏     | 4203/10000 [05:41<07:50, 12.32it/s]"
     ]
    },
    {
     "name": "stdout",
     "output_type": "stream",
     "text": [
      "Kinetic energy:  7.3432014007382085\n",
      "Potential energy (external):  60.37145222936821\n",
      "Potential energy (interaction):  30.591076133598765\n",
      "Total energy:  98.30572976370517\n"
     ]
    },
    {
     "name": "stderr",
     "output_type": "stream",
     "text": [
      " 43%|████▎     | 4303/10000 [05:49<07:35, 12.50it/s]"
     ]
    },
    {
     "name": "stdout",
     "output_type": "stream",
     "text": [
      "Kinetic energy:  7.43744373661787\n",
      "Potential energy (external):  60.40799571894737\n",
      "Potential energy (interaction):  30.456215722211525\n",
      "Total energy:  98.30165517777677\n"
     ]
    },
    {
     "name": "stderr",
     "output_type": "stream",
     "text": [
      " 44%|████▍     | 4403/10000 [05:57<07:38, 12.20it/s]"
     ]
    },
    {
     "name": "stdout",
     "output_type": "stream",
     "text": [
      "Kinetic energy:  7.5002610161188565\n",
      "Potential energy (external):  60.43590767198446\n",
      "Potential energy (interaction):  30.362670756810292\n",
      "Total energy:  98.29883944491361\n"
     ]
    },
    {
     "name": "stderr",
     "output_type": "stream",
     "text": [
      " 45%|████▌     | 4503/10000 [06:05<07:26, 12.31it/s]"
     ]
    },
    {
     "name": "stdout",
     "output_type": "stream",
     "text": [
      "Kinetic energy:  7.543221566641014\n",
      "Potential energy (external):  60.45807113288019\n",
      "Potential energy (interaction):  30.295369188564507\n",
      "Total energy:  98.29666188808571\n"
     ]
    },
    {
     "name": "stderr",
     "output_type": "stream",
     "text": [
      " 46%|████▌     | 4603/10000 [06:13<07:11, 12.52it/s]"
     ]
    },
    {
     "name": "stdout",
     "output_type": "stream",
     "text": [
      "Kinetic energy:  7.573634745947603\n",
      "Potential energy (external):  60.476437348950505\n",
      "Potential energy (interaction):  30.244752223713625\n",
      "Total energy:  98.29482431861175\n"
     ]
    },
    {
     "name": "stderr",
     "output_type": "stream",
     "text": [
      " 47%|████▋     | 4703/10000 [06:21<07:03, 12.50it/s]"
     ]
    },
    {
     "name": "stdout",
     "output_type": "stream",
     "text": [
      "Kinetic energy:  7.596122896977349\n",
      "Potential energy (external):  60.49230636671443\n",
      "Potential energy (interaction):  30.204750043213885\n",
      "Total energy:  98.29317930690567\n"
     ]
    },
    {
     "name": "stderr",
     "output_type": "stream",
     "text": [
      " 48%|████▊     | 4803/10000 [06:29<07:00, 12.35it/s]"
     ]
    },
    {
     "name": "stdout",
     "output_type": "stream",
     "text": [
      "Kinetic energy:  7.613631839939406\n",
      "Potential energy (external):  60.50653943124537\n",
      "Potential energy (interaction):  30.171479433217456\n",
      "Total energy:  98.29165070440223\n"
     ]
    },
    {
     "name": "stderr",
     "output_type": "stream",
     "text": [
      " 49%|████▉     | 4903/10000 [06:37<06:52, 12.35it/s]"
     ]
    },
    {
     "name": "stdout",
     "output_type": "stream",
     "text": [
      "Kinetic energy:  7.628058312435872\n",
      "Potential energy (external):  60.51970768509133\n",
      "Potential energy (interaction):  30.142430848788067\n",
      "Total energy:  98.29019684631527\n"
     ]
    },
    {
     "name": "stderr",
     "output_type": "stream",
     "text": [
      " 50%|█████     | 5003/10000 [06:45<06:48, 12.24it/s]"
     ]
    },
    {
     "name": "stdout",
     "output_type": "stream",
     "text": [
      "Kinetic energy:  7.640637095806506\n",
      "Potential energy (external):  60.53219206933276\n",
      "Potential energy (interaction):  30.11596414698646\n",
      "Total energy:  98.28879331212572\n"
     ]
    },
    {
     "name": "stderr",
     "output_type": "stream",
     "text": [
      " 51%|█████     | 5103/10000 [06:53<06:35, 12.39it/s]"
     ]
    },
    {
     "name": "stdout",
     "output_type": "stream",
     "text": [
      "Kinetic energy:  7.652180927844523\n",
      "Potential energy (external):  60.54424894652851\n",
      "Potential energy (interaction):  30.090994834129773\n",
      "Total energy:  98.28742470850281\n"
     ]
    },
    {
     "name": "stderr",
     "output_type": "stream",
     "text": [
      " 52%|█████▏    | 5203/10000 [07:01<06:38, 12.05it/s]"
     ]
    },
    {
     "name": "stdout",
     "output_type": "stream",
     "text": [
      "Kinetic energy:  7.66323038419934\n",
      "Potential energy (external):  60.55605267948449\n",
      "Potential energy (interaction):  30.06679761242543\n",
      "Total energy:  98.28608067610926\n"
     ]
    },
    {
     "name": "stderr",
     "output_type": "stream",
     "text": [
      " 53%|█████▎    | 5303/10000 [07:09<06:26, 12.14it/s]"
     ]
    },
    {
     "name": "stdout",
     "output_type": "stream",
     "text": [
      "Kinetic energy:  7.6741483025849595\n",
      "Potential energy (external):  60.567723065078326\n",
      "Potential energy (interaction):  30.042882544663257\n",
      "Total energy:  98.28475391232654\n"
     ]
    },
    {
     "name": "stderr",
     "output_type": "stream",
     "text": [
      " 54%|█████▍    | 5403/10000 [07:17<06:18, 12.14it/s]"
     ]
    },
    {
     "name": "stdout",
     "output_type": "stream",
     "text": [
      "Kinetic energy:  7.685179682467899\n",
      "Potential energy (external):  60.57934292214053\n",
      "Potential energy (interaction):  30.018916573386377\n",
      "Total energy:  98.28343917799481\n"
     ]
    },
    {
     "name": "stderr",
     "output_type": "stream",
     "text": [
      " 55%|█████▌    | 5503/10000 [07:25<06:09, 12.18it/s]"
     ]
    },
    {
     "name": "stdout",
     "output_type": "stream",
     "text": [
      "Kinetic energy:  7.6964898409045155\n",
      "Potential energy (external):  60.59096930496074\n",
      "Potential energy (interaction):  29.994673650502534\n",
      "Total energy:  98.28213279636779\n"
     ]
    },
    {
     "name": "stderr",
     "output_type": "stream",
     "text": [
      " 56%|█████▌    | 5603/10000 [07:33<05:55, 12.37it/s]"
     ]
    },
    {
     "name": "stdout",
     "output_type": "stream",
     "text": [
      "Kinetic energy:  7.708188719055073\n",
      "Potential energy (external):  60.602640593547285\n",
      "Potential energy (interaction):  29.970003091314453\n",
      "Total energy:  98.2808324039168\n"
     ]
    },
    {
     "name": "stderr",
     "output_type": "stream",
     "text": [
      " 57%|█████▋    | 5703/10000 [07:41<05:54, 12.14it/s]"
     ]
    },
    {
     "name": "stdout",
     "output_type": "stream",
     "text": [
      "Kinetic energy:  7.720346283019824\n",
      "Potential energy (external):  60.61438091879819\n",
      "Potential energy (interaction):  29.944809629340533\n",
      "Total energy:  98.27953683115854\n"
     ]
    },
    {
     "name": "stderr",
     "output_type": "stream",
     "text": [
      " 58%|█████▊    | 5803/10000 [07:49<05:41, 12.30it/s]"
     ]
    },
    {
     "name": "stdout",
     "output_type": "stream",
     "text": [
      "Kinetic energy:  7.733002165548902\n",
      "Potential energy (external):  60.62620287360696\n",
      "Potential energy (interaction):  29.919041008940525\n",
      "Total energy:  98.27824604809638\n"
     ]
    },
    {
     "name": "stderr",
     "output_type": "stream",
     "text": [
      " 59%|█████▉    | 5903/10000 [07:57<05:30, 12.39it/s]"
     ]
    },
    {
     "name": "stdout",
     "output_type": "stream",
     "text": [
      "Kinetic energy:  7.746171592599696\n",
      "Potential energy (external):  60.63810913971872\n",
      "Potential energy (interaction):  29.892680403556646\n",
      "Total energy:  98.27696113587507\n"
     ]
    },
    {
     "name": "stderr",
     "output_type": "stream",
     "text": [
      " 60%|██████    | 6003/10000 [08:04<05:26, 12.23it/s]"
     ]
    },
    {
     "name": "stdout",
     "output_type": "stream",
     "text": [
      "Kinetic energy:  7.7598489578855725\n",
      "Potential energy (external):  60.65009345774406\n",
      "Potential energy (interaction):  29.865741843707493\n",
      "Total energy:  98.27568425933713\n"
     ]
    },
    {
     "name": "stderr",
     "output_type": "stream",
     "text": [
      " 61%|██████    | 6103/10000 [08:12<05:17, 12.29it/s]"
     ]
    },
    {
     "name": "stdout",
     "output_type": "stream",
     "text": [
      "Kinetic energy:  7.774009984656834\n",
      "Potential energy (external):  60.6621412398525\n",
      "Potential energy (interaction):  29.83826739743025\n",
      "Total energy:  98.27441862193959\n"
     ]
    },
    {
     "name": "stderr",
     "output_type": "stream",
     "text": [
      " 62%|██████▏   | 6203/10000 [08:20<05:10, 12.22it/s]"
     ]
    },
    {
     "name": "stdout",
     "output_type": "stream",
     "text": [
      "Kinetic energy:  7.78861314505874\n",
      "Potential energy (external):  60.674230042118396\n",
      "Potential energy (interaction):  29.810325201631922\n",
      "Total energy:  98.27316838880905\n"
     ]
    },
    {
     "name": "stderr",
     "output_type": "stream",
     "text": [
      " 63%|██████▎   | 6303/10000 [08:28<05:04, 12.15it/s]"
     ]
    },
    {
     "name": "stdout",
     "output_type": "stream",
     "text": [
      "Kinetic energy:  7.803600828862155\n",
      "Potential energy (external):  60.68633005690614\n",
      "Potential energy (interaction):  29.782007681884362\n",
      "Total energy:  98.27193856765265\n"
     ]
    },
    {
     "name": "stderr",
     "output_type": "stream",
     "text": [
      " 64%|██████▍   | 6403/10000 [08:36<04:53, 12.25it/s]"
     ]
    },
    {
     "name": "stdout",
     "output_type": "stream",
     "text": [
      "Kinetic energy:  7.818900623381688\n",
      "Potential energy (external):  60.698404742224824\n",
      "Potential energy (interaction):  29.75342947624747\n",
      "Total energy:  98.270734841854\n"
     ]
    },
    {
     "name": "stderr",
     "output_type": "stream",
     "text": [
      " 65%|██████▌   | 6503/10000 [08:44<04:43, 12.35it/s]"
     ]
    },
    {
     "name": "stdout",
     "output_type": "stream",
     "text": [
      "Kinetic energy:  7.834426958345721\n",
      "Potential energy (external):  60.71041166647452\n",
      "Potential energy (interaction):  29.72472473090547\n",
      "Total energy:  98.26956335572572\n"
     ]
    },
    {
     "name": "stderr",
     "output_type": "stream",
     "text": [
      " 66%|██████▌   | 6603/10000 [08:52<04:40, 12.13it/s]"
     ]
    },
    {
     "name": "stdout",
     "output_type": "stream",
     "text": [
      "Kinetic energy:  7.850083267911201\n",
      "Potential energy (external):  60.7223036089703\n",
      "Potential energy (interaction):  29.69604358146316\n",
      "Total energy:  98.26843045834465\n"
     ]
    },
    {
     "name": "stderr",
     "output_type": "stream",
     "text": [
      " 67%|██████▋   | 6703/10000 [09:00<04:29, 12.25it/s]"
     ]
    },
    {
     "name": "stdout",
     "output_type": "stream",
     "text": [
      "Kinetic energy:  7.86576472062342\n",
      "Potential energy (external):  60.73402991774419\n",
      "Potential energy (interaction):  29.66754778061363\n",
      "Total energy:  98.26734241898124\n"
     ]
    },
    {
     "name": "stderr",
     "output_type": "stream",
     "text": [
      " 68%|██████▊   | 6803/10000 [09:08<04:17, 12.43it/s]"
     ]
    },
    {
     "name": "stdout",
     "output_type": "stream",
     "text": [
      "Kinetic energy:  7.881361468276014\n",
      "Potential energy (external):  60.74553808772333\n",
      "Potential energy (interaction):  29.639405576794086\n",
      "Total energy:  98.26630513279343\n"
     ]
    },
    {
     "name": "stderr",
     "output_type": "stream",
     "text": [
      " 69%|██████▉   | 6903/10000 [09:16<04:07, 12.51it/s]"
     ]
    },
    {
     "name": "stdout",
     "output_type": "stream",
     "text": [
      "Kinetic energy:  7.896762273517252\n",
      "Potential energy (external):  60.75677548779725\n",
      "Potential energy (interaction):  29.611786077790146\n",
      "Total energy:  98.26532383910464\n"
     ]
    },
    {
     "name": "stderr",
     "output_type": "stream",
     "text": [
      " 70%|███████   | 7003/10000 [09:24<04:01, 12.41it/s]"
     ]
    },
    {
     "name": "stdout",
     "output_type": "stream",
     "text": [
      "Kinetic energy:  7.911858304015311\n",
      "Potential energy (external):  60.76769113875269\n",
      "Potential energy (interaction):  29.584853432504687\n",
      "Total energy:  98.2644028752727\n"
     ]
    },
    {
     "name": "stderr",
     "output_type": "stream",
     "text": [
      " 71%|███████   | 7103/10000 [09:32<03:51, 12.52it/s]"
     ]
    },
    {
     "name": "stdout",
     "output_type": "stream",
     "text": [
      "Kinetic energy:  7.926546838211294\n",
      "Potential energy (external):  60.778237429537775\n",
      "Potential energy (interaction):  29.558761218788757\n",
      "Total energy:  98.26354548653782\n"
     ]
    },
    {
     "name": "stderr",
     "output_type": "stream",
     "text": [
      " 72%|███████▏  | 7203/10000 [09:40<03:41, 12.62it/s]"
     ]
    },
    {
     "name": "stdout",
     "output_type": "stream",
     "text": [
      "Kinetic energy:  7.940734620828147\n",
      "Potential energy (external):  60.78837165921895\n",
      "Potential energy (interaction):  29.5336474265049\n",
      "Total energy:  98.262753706552\n"
     ]
    },
    {
     "name": "stderr",
     "output_type": "stream",
     "text": [
      " 73%|███████▎  | 7303/10000 [09:48<03:37, 12.43it/s]"
     ]
    },
    {
     "name": "stdout",
     "output_type": "stream",
     "text": [
      "Kinetic energy:  7.954340636135857\n",
      "Potential energy (external):  60.79805730638381\n",
      "Potential energy (interaction):  29.50963037300104\n",
      "Total energy:  98.26202831552071\n"
     ]
    },
    {
     "name": "stderr",
     "output_type": "stream",
     "text": [
      " 74%|███████▍  | 7403/10000 [09:56<03:29, 12.38it/s]"
     ]
    },
    {
     "name": "stdout",
     "output_type": "stream",
     "text": [
      "Kinetic energy:  7.967298127627505\n",
      "Potential energy (external):  60.80726495411328\n",
      "Potential energy (interaction):  29.48680579264852\n",
      "Total energy:  98.2613688743893\n"
     ]
    },
    {
     "name": "stderr",
     "output_type": "stream",
     "text": [
      " 75%|███████▌  | 7503/10000 [10:04<03:26, 12.12it/s]"
     ]
    },
    {
     "name": "stdout",
     "output_type": "stream",
     "text": [
      "Kinetic energy:  7.979555772921856\n",
      "Potential energy (external):  60.81597283247369\n",
      "Potential energy (interaction):  29.465245220380247\n",
      "Total energy:  98.2607738257758\n"
     ]
    },
    {
     "name": "stderr",
     "output_type": "stream",
     "text": [
      " 76%|███████▌  | 7603/10000 [10:12<03:11, 12.51it/s]"
     ]
    },
    {
     "name": "stdout",
     "output_type": "stream",
     "text": [
      "Kinetic energy:  7.991078008298749\n",
      "Potential energy (external):  60.82416697622984\n",
      "Potential energy (interaction):  29.444995662047543\n",
      "Total energy:  98.26024064657614\n"
     ]
    },
    {
     "name": "stderr",
     "output_type": "stream",
     "text": [
      " 77%|███████▋  | 7703/10000 [10:20<03:08, 12.17it/s]"
     ]
    },
    {
     "name": "stdout",
     "output_type": "stream",
     "text": [
      "Kinetic energy:  8.001844574717452\n",
      "Potential energy (external):  60.83184102787567\n",
      "Potential energy (interaction):  29.42608043145681\n",
      "Total energy:  98.25976603404993\n"
     ]
    },
    {
     "name": "stderr",
     "output_type": "stream",
     "text": [
      " 78%|███████▊  | 7803/10000 [10:28<02:59, 12.21it/s]"
     ]
    },
    {
     "name": "stdout",
     "output_type": "stream",
     "text": [
      "Kinetic energy:  8.011849416180889\n",
      "Potential energy (external):  60.83899574110009\n",
      "Potential energy (interaction):  29.408500949513133\n",
      "Total energy:  98.25934610679411\n"
     ]
    },
    {
     "name": "stderr",
     "output_type": "stream",
     "text": [
      " 79%|███████▉  | 7903/10000 [10:36<02:54, 12.05it/s]"
     ]
    },
    {
     "name": "stdout",
     "output_type": "stream",
     "text": [
      "Kinetic energy:  8.021099096487276\n",
      "Potential energy (external):  60.84563825529613\n",
      "Potential energy (interaction):  29.3922392521218\n",
      "Total energy:  98.2589766039052\n"
     ]
    },
    {
     "name": "stderr",
     "output_type": "stream",
     "text": [
      " 80%|████████  | 8003/10000 [10:44<02:40, 12.45it/s]"
     ]
    },
    {
     "name": "stdout",
     "output_type": "stream",
     "text": [
      "Kinetic energy:  8.029610911372972\n",
      "Potential energy (external):  60.85178121744297\n",
      "Potential energy (interaction):  29.377260940258044\n",
      "Total energy:  98.25865306907399\n"
     ]
    },
    {
     "name": "stderr",
     "output_type": "stream",
     "text": [
      " 81%|████████  | 8103/10000 [10:52<02:43, 11.59it/s]"
     ]
    },
    {
     "name": "stdout",
     "output_type": "stream",
     "text": [
      "Kinetic energy:  8.037410863408795\n",
      "Potential energy (external):  60.85744182492668\n",
      "Potential energy (interaction):  29.36351832216162\n",
      "Total energy:  98.2583710104971\n"
     ]
    },
    {
     "name": "stderr",
     "output_type": "stream",
     "text": [
      " 82%|████████▏ | 8201/10000 [11:00<02:27, 12.19it/s]"
     ]
    },
    {
     "name": "stdout",
     "output_type": "stream",
     "text": [
      "Kinetic energy:  8.044531642719475\n",
      "Potential energy (external):  60.86264085385943\n",
      "Potential energy (interaction):  29.35095353504167\n",
      "Total energy:  98.25812603162058\n"
     ]
    },
    {
     "name": "stderr",
     "output_type": "stream",
     "text": [
      " 83%|████████▎ | 8303/10000 [11:08<02:18, 12.30it/s]"
     ]
    },
    {
     "name": "stdout",
     "output_type": "stream",
     "text": [
      "Kinetic energy:  8.051010724247828\n",
      "Potential energy (external):  60.867401724735835\n",
      "Potential energy (interaction):  29.339501482317623\n",
      "Total energy:  98.25791393130129\n"
     ]
    },
    {
     "name": "stderr",
     "output_type": "stream",
     "text": [
      " 84%|████████▍ | 8403/10000 [11:16<02:10, 12.20it/s]"
     ]
    },
    {
     "name": "stdout",
     "output_type": "stream",
     "text": [
      "Kinetic energy:  8.056888657798758\n",
      "Potential energy (external):  60.87174964317973\n",
      "Potential energy (interaction):  29.32909247373434\n",
      "Total energy:  98.25773077471283\n"
     ]
    },
    {
     "name": "stderr",
     "output_type": "stream",
     "text": [
      " 85%|████████▌ | 8503/10000 [11:24<02:01, 12.33it/s]"
     ]
    },
    {
     "name": "stdout",
     "output_type": "stream",
     "text": [
      "Kinetic energy:  8.062207594939611\n",
      "Potential energy (external):  60.87571083992918\n",
      "Potential energy (interaction):  29.3196545032937\n",
      "Total energy:  98.2575729381625\n"
     ]
    },
    {
     "name": "stderr",
     "output_type": "stream",
     "text": [
      " 86%|████████▌ | 8603/10000 [11:32<01:52, 12.36it/s]"
     ]
    },
    {
     "name": "stdout",
     "output_type": "stream",
     "text": [
      "Kinetic energy:  8.067010069779354\n",
      "Potential energy (external):  60.87931192230017\n",
      "Potential energy (interaction):  29.31111513990046\n",
      "Total energy:  98.25743713197997\n"
     ]
    },
    {
     "name": "stderr",
     "output_type": "stream",
     "text": [
      " 87%|████████▋ | 8703/10000 [11:40<01:47, 12.12it/s]"
     ]
    },
    {
     "name": "stdout",
     "output_type": "stream",
     "text": [
      "Kinetic energy:  8.07133802993562\n",
      "Potential energy (external):  60.882579339810505\n",
      "Potential energy (interaction):  29.30340303623003\n",
      "Total energy:  98.25732040597615\n"
     ]
    },
    {
     "name": "stderr",
     "output_type": "stream",
     "text": [
      " 88%|████████▊ | 8803/10000 [11:48<01:37, 12.27it/s]"
     ]
    },
    {
     "name": "stdout",
     "output_type": "stream",
     "text": [
      "Kinetic energy:  8.075232099681847\n",
      "Potential energy (external):  60.88553895958943\n",
      "Potential energy (interaction):  29.296449082545955\n",
      "Total energy:  98.25722014181724\n"
     ]
    },
    {
     "name": "stderr",
     "output_type": "stream",
     "text": [
      " 89%|████████▉ | 8903/10000 [11:56<01:23, 13.14it/s]"
     ]
    },
    {
     "name": "stdout",
     "output_type": "stream",
     "text": [
      "Kinetic energy:  8.078731048638545\n",
      "Potential energy (external):  60.8882157424869\n",
      "Potential energy (interaction):  29.290187245076858\n",
      "Total energy:  98.2571340362023\n"
     ]
    },
    {
     "name": "stderr",
     "output_type": "stream",
     "text": [
      " 90%|█████████ | 9003/10000 [12:03<01:17, 12.82it/s]"
     ]
    },
    {
     "name": "stdout",
     "output_type": "stream",
     "text": [
      "Kinetic energy:  8.081871435341933\n",
      "Potential energy (external):  60.890633508084306\n",
      "Potential energy (interaction):  29.284555134704537\n",
      "Total energy:  98.25706007813078\n"
     ]
    },
    {
     "name": "stderr",
     "output_type": "stream",
     "text": [
      " 91%|█████████ | 9103/10000 [12:11<01:08, 13.06it/s]"
     ]
    },
    {
     "name": "stdout",
     "output_type": "stream",
     "text": [
      "Kinetic energy:  8.08468739439657\n",
      "Potential energy (external):  60.892814775656205\n",
      "Potential energy (interaction):  29.279494352835297\n",
      "Total energy:  98.25699652288807\n"
     ]
    },
    {
     "name": "stderr",
     "output_type": "stream",
     "text": [
      " 92%|█████████▏| 9203/10000 [12:18<01:01, 12.92it/s]"
     ]
    },
    {
     "name": "stdout",
     "output_type": "stream",
     "text": [
      "Kinetic energy:  8.087210537588689\n",
      "Potential energy (external):  60.89478066812796\n",
      "Potential energy (interaction):  29.274950659042695\n",
      "Total energy:  98.25694186475934\n"
     ]
    },
    {
     "name": "stderr",
     "output_type": "stream",
     "text": [
      " 93%|█████████▎| 9303/10000 [12:26<00:56, 12.27it/s]"
     ]
    },
    {
     "name": "stdout",
     "output_type": "stream",
     "text": [
      "Kinetic energy:  8.0894699423778\n",
      "Potential energy (external):  60.89655086682697\n",
      "Potential energy (interaction):  29.27087400072252\n",
      "Total energy:  98.2568948099273\n"
     ]
    },
    {
     "name": "stderr",
     "output_type": "stream",
     "text": [
      " 94%|█████████▍| 9403/10000 [12:34<00:44, 13.31it/s]"
     ]
    },
    {
     "name": "stdout",
     "output_type": "stream",
     "text": [
      "Kinetic energy:  8.09149220488393\n",
      "Potential energy (external):  60.8981436060355\n",
      "Potential energy (interaction):  29.26721843962985\n",
      "Total energy:  98.25685425054928\n"
     ]
    },
    {
     "name": "stderr",
     "output_type": "stream",
     "text": [
      " 95%|█████████▌| 9503/10000 [12:41<00:37, 13.32it/s]"
     ]
    },
    {
     "name": "stdout",
     "output_type": "stream",
     "text": [
      "Kinetic energy:  8.093301538342704\n",
      "Potential energy (external):  60.89957569777835\n",
      "Potential energy (interaction):  29.263942004519237\n",
      "Total energy:  98.2568192406403\n"
     ]
    },
    {
     "name": "stderr",
     "output_type": "stream",
     "text": [
      " 96%|█████████▌| 9603/10000 [12:49<00:30, 13.08it/s]"
     ]
    },
    {
     "name": "stdout",
     "output_type": "stream",
     "text": [
      "Kinetic energy:  8.09491990168037\n",
      "Potential energy (external):  60.900862578759615\n",
      "Potential energy (interaction):  29.26100649366861\n",
      "Total energy:  98.25678897410859\n"
     ]
    },
    {
     "name": "stderr",
     "output_type": "stream",
     "text": [
      " 97%|█████████▋| 9703/10000 [12:56<00:22, 13.14it/s]"
     ]
    },
    {
     "name": "stdout",
     "output_type": "stream",
     "text": [
      "Kinetic energy:  8.096367146176947\n",
      "Potential energy (external):  60.902018372779125\n",
      "Potential energy (interaction):  29.258377246124958\n",
      "Total energy:  98.25676276508102\n"
     ]
    },
    {
     "name": "stderr",
     "output_type": "stream",
     "text": [
      " 98%|█████████▊| 9803/10000 [13:04<00:15, 13.02it/s]"
     ]
    },
    {
     "name": "stdout",
     "output_type": "stream",
     "text": [
      "Kinetic energy:  8.09766117104802\n",
      "Potential energy (external):  60.903055963258474\n",
      "Potential energy (interaction):  29.256022896209362\n",
      "Total energy:  98.25674003051586\n"
     ]
    },
    {
     "name": "stderr",
     "output_type": "stream",
     "text": [
      " 99%|█████████▉| 9903/10000 [13:11<00:07, 13.07it/s]"
     ]
    },
    {
     "name": "stdout",
     "output_type": "stream",
     "text": [
      "Kinetic energy:  8.098818081164229\n",
      "Potential energy (external):  60.903987071641275\n",
      "Potential energy (interaction):  29.253915122194396\n",
      "Total energy:  98.2567202749999\n"
     ]
    },
    {
     "name": "stderr",
     "output_type": "stream",
     "text": [
      "100%|██████████| 10000/10000 [13:18<00:00, 12.52it/s]\n"
     ]
    }
   ],
   "source": [
    "\n",
    "gp.evolve(dt=10, \n",
    "          t_max=10*1E+04, \n",
    "          verbose=True, \n",
    "          print_each_percent=1, \n",
    "          output_root_dir=\"1-equilibrate-output\")"
   ]
  },
  {
   "cell_type": "code",
   "execution_count": 38,
   "metadata": {},
   "outputs": [
    {
     "data": {
      "text/plain": [
       "({'kinetic': 8.099842562800468,\n",
       "  'pot_ext': 60.90481442771204,\n",
       "  'pot_int': 29.25204624759706},\n",
       " 98.25670323810957)"
      ]
     },
     "execution_count": 38,
     "metadata": {},
     "output_type": "execute_result"
    }
   ],
   "source": [
    "# 98.25284240534474\n",
    "gp.energy_contributions(), sum(gp.energy_contributions().values())"
   ]
  },
  {
   "cell_type": "code",
   "execution_count": 39,
   "metadata": {},
   "outputs": [],
   "source": [
    "x, den_x = gp.coordinate_slice(axis=\"x\"), gp.density_slice(axis=\"x\")\n",
    "y, den_y = gp.coordinate_slice(axis=\"y\"), gp.density_slice(axis=\"y\")\n",
    "z, den_z = gp.coordinate_slice(axis=\"z\"), gp.density_slice(axis=\"z\")"
   ]
  },
  {
   "cell_type": "code",
   "execution_count": 40,
   "metadata": {},
   "outputs": [
    {
     "data": {
      "text/plain": [
       "[<matplotlib.lines.Line2D at 0x12f5fed00>]"
      ]
     },
     "execution_count": 40,
     "metadata": {},
     "output_type": "execute_result"
    },
    {
     "data": {
      "image/png": "[encoded data removed]",
      "text/plain": [
       "<Figure size 400x400 with 1 Axes>"
      ]
     },
     "metadata": {},
     "output_type": "display_data"
    }
   ],
   "source": [
    "\n",
    "#plot the density\n",
    "plt.figure(figsize=(4, 4))\n",
    "x_lim = (x > -1000) & (x < 1000)\n",
    "plt.plot(x[x_lim], den_x[x_lim], label=\"x\", marker=\"o\")\n"
   ]
  },
  {
   "attachments": {},
   "cell_type": "markdown",
   "metadata": {},
   "source": [
    "You can see that the density is not symmetric. This is because the initial conditions are not symmetric. For more accuracy, you can try to make the initial conditions symmetric."
   ]
  },
  {
   "cell_type": "code",
   "execution_count": 41,
   "metadata": {},
   "outputs": [
    {
     "data": {
      "text/plain": [
       "[<matplotlib.lines.Line2D at 0x12f6ba820>]"
      ]
     },
     "execution_count": 41,
     "metadata": {},
     "output_type": "execute_result"
    },
    {
     "data": {
      "image/png": "[encoded data removed]",
      "text/plain": [
       "<Figure size 400x400 with 1 Axes>"
      ]
     },
     "metadata": {},
     "output_type": "display_data"
    },
    {
     "data": {
      "image/png": "[encoded data removed]",
      "text/plain": [
       "<Figure size 400x400 with 1 Axes>"
      ]
     },
     "metadata": {},
     "output_type": "display_data"
    }
   ],
   "source": [
    "\n",
    "\n",
    "# plot the density\n",
    "plt.figure(figsize=(4, 4))\n",
    "plt.plot(y, den_y, label=\"y\", marker=\"o\")\n",
    "\n",
    "# plot the density\n",
    "plt.figure(figsize=(4, 4))\n",
    "plt.plot(z, den_z, label=\"z\", marker=\"o\")"
   ]
  },
  {
   "cell_type": "code",
   "execution_count": 42,
   "metadata": {},
   "outputs": [
    {
     "name": "stdout",
     "output_type": "stream",
     "text": [
      "Saving gp object to gp.pickle\n"
     ]
    }
   ],
   "source": [
    "\n",
    "gp.save(\"1-equilibrate-output\")"
   ]
  },
  {
   "cell_type": "code",
   "execution_count": null,
   "metadata": {},
   "outputs": [],
   "source": []
  }
 ],
 "metadata": {
  "kernelspec": {
   "display_name": "mlp",
   "language": "python",
   "name": "python3"
  },
  "language_info": {
   "codemirror_mode": {
    "name": "ipython",
    "version": 3
   },
   "file_extension": ".py",
   "mimetype": "text/x-python",
   "name": "python",
   "nbconvert_exporter": "python",
   "pygments_lexer": "ipython3",
   "version": "3.8.13"
  },
  "orig_nbformat": 4,
  "vscode": {
   "interpreter": {
    "hash": "5fc8cc4423f23a87e418a855553ca5df0686e4c1b4502d1b16c3e8233d998187"
   }
  }
 },
 "nbformat": 4,
 "nbformat_minor": 2
}
