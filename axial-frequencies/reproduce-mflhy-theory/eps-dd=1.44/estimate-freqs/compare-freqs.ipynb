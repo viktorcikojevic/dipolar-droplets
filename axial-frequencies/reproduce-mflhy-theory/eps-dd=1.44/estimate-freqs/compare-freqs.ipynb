{
 "cells": [
  {
   "attachments": {},
   "cell_type": "markdown",
   "metadata": {},
   "source": [
    "In this notebook, the final figure is created. It is dependence of frequency on the $\\mathcal{E}_{\\rm dd}$ parameter"
   ]
  },
  {
   "attachments": {},
   "cell_type": "markdown",
   "metadata": {},
   "source": [
    "# import modules"
   ]
  },
  {
   "cell_type": "code",
   "execution_count": 2,
   "metadata": {},
   "outputs": [],
   "source": [
    "import numpy as np\n",
    "import matplotlib.pyplot as plt\n",
    "import pandas as pd"
   ]
  },
  {
   "cell_type": "code",
   "execution_count": 5,
   "metadata": {},
   "outputs": [
    {
     "data": {
      "text/html": [
       "<div>\n",
       "<style scoped>\n",
       "    .dataframe tbody tr th:only-of-type {\n",
       "        vertical-align: middle;\n",
       "    }\n",
       "\n",
       "    .dataframe tbody tr th {\n",
       "        vertical-align: top;\n",
       "    }\n",
       "\n",
       "    .dataframe thead th {\n",
       "        text-align: right;\n",
       "    }\n",
       "</style>\n",
       "<table border=\"1\" class=\"dataframe\">\n",
       "  <thead>\n",
       "    <tr style=\"text-align: right;\">\n",
       "      <th></th>\n",
       "      <th>eps_dd</th>\n",
       "      <th>path</th>\n",
       "      <th>theory</th>\n",
       "      <th>label</th>\n",
       "      <th>sf_freq</th>\n",
       "      <th>lattice_freq</th>\n",
       "    </tr>\n",
       "  </thead>\n",
       "  <tbody>\n",
       "    <tr>\n",
       "      <th>0</th>\n",
       "      <td>1.44</td>\n",
       "      <td>small-box-large-dx-3/3-analyze-frequency/frequ...</td>\n",
       "      <td>MFLHY</td>\n",
       "      <td>small-box-small-dx-4</td>\n",
       "      <td>0.815732</td>\n",
       "      <td>1.631464</td>\n",
       "    </tr>\n",
       "  </tbody>\n",
       "</table>\n",
       "</div>"
      ],
      "text/plain": [
       "   eps_dd                                               path theory  \\\n",
       "0    1.44  small-box-large-dx-3/3-analyze-frequency/frequ...  MFLHY   \n",
       "\n",
       "                  label   sf_freq  lattice_freq  \n",
       "0  small-box-small-dx-4  0.815732      1.631464  "
      ]
     },
     "execution_count": 5,
     "metadata": {},
     "output_type": "execute_result"
    }
   ],
   "source": [
    "fx = 18.5 # Hz\n",
    "wx = 2*np.pi*fx\n",
    "wx = 1.263E-04 # https://www.wolframalpha.com/input/?i=2*pi*18.5Hz+%2F+%28hbar+%2F+%28%28162+atomic+mass+unit%29+*+%28390+bohr+radius%29%5E2%29%29\n",
    "\n",
    "\n",
    "mf_frequencies = pd.DataFrame(\n",
    "    [\n",
    "        {\"eps_dd\": 1.44, \"path\": \"small-box-large-dx-3/3-analyze-frequency/frequencies.txt\", \"theory\": \"MFLHY\", \"label\": \"small-box-small-dx-4\"},\n",
    "        \n",
    "    ])\n",
    "\n",
    "def get_freqs(path):\n",
    "    freqs = np.loadtxt(path)\n",
    "    sf_freq = np.min(freqs)\n",
    "    lattice_freq = np.max(freqs)\n",
    "    return sf_freq/wx, lattice_freq/wx\n",
    "\n",
    "\n",
    "\n",
    "\n",
    "# Create columns sf_freq and lattice_freq\n",
    "mf_frequencies[\"sf_freq\"], mf_frequencies[\"lattice_freq\"] = zip(*mf_frequencies[\"path\"].map(get_freqs))\n",
    "mf_frequencies\n"
   ]
  },
  {
   "cell_type": "code",
   "execution_count": null,
   "metadata": {},
   "outputs": [],
   "source": []
  }
 ],
 "metadata": {
  "kernelspec": {
   "display_name": "Python 3",
   "language": "python",
   "name": "python3"
  },
  "language_info": {
   "codemirror_mode": {
    "name": "ipython",
    "version": 3
   },
   "file_extension": ".py",
   "mimetype": "text/x-python",
   "name": "python",
   "nbconvert_exporter": "python",
   "pygments_lexer": "ipython3",
   "version": "3.9.2"
  },
  "orig_nbformat": 4,
  "vscode": {
   "interpreter": {
    "hash": "31f2aee4e71d21fbe5cf8b01ff0e069b9275f58929596ceb00d14d90e3e16cd6"
   }
  }
 },
 "nbformat": 4,
 "nbformat_minor": 2
}
