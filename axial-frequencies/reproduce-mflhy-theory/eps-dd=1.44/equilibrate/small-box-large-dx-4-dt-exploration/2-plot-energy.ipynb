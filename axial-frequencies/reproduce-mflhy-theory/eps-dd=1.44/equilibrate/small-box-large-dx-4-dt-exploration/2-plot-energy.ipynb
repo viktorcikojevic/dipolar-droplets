{
 "cells": [
  {
   "attachments": {},
   "cell_type": "markdown",
   "metadata": {},
   "source": [
    "# import modules"
   ]
  },
  {
   "cell_type": "code",
   "execution_count": 1,
   "metadata": {},
   "outputs": [],
   "source": [
    "import matplotlib.pyplot as plt\n",
    "import numpy as np\n"
   ]
  },
  {
   "cell_type": "code",
   "execution_count": 2,
   "metadata": {},
   "outputs": [
    {
     "data": {
      "image/png": "[encoded data removed]",
      "text/plain": [
       "<Figure size 432x288 with 1 Axes>"
      ]
     },
     "metadata": {
      "needs_background": "light"
     },
     "output_type": "display_data"
    }
   ],
   "source": [
    "path = \"1-equilibrate-output/snapshots_time_evolution_0\"\n",
    "# loadtxt from energy.txt in path\n",
    "energy = np.loadtxt(f\"{path}/energy.txt\")\n",
    "step = energy[:,0]\n",
    "en = energy[:,1]\n",
    "plt.plot(step, en, label=\"dt=100\")\n",
    "\n",
    "\n",
    "\n",
    "\n",
    "# plt.ylim(98, 100)\n",
    "plt.xscale('log')\n",
    "# plt.yscale('log')"
   ]
  },
  {
   "cell_type": "code",
   "execution_count": 3,
   "metadata": {},
   "outputs": [
    {
     "data": {
      "text/plain": [
       "[<matplotlib.lines.Line2D at 0x7fc01b7bccf8>]"
      ]
     },
     "execution_count": 3,
     "metadata": {},
     "output_type": "execute_result"
    },
    {
     "data": {
      "image/png": "[encoded data removed]",
      "text/plain": [
       "<Figure size 432x288 with 1 Axes>"
      ]
     },
     "metadata": {
      "needs_background": "light"
     },
     "output_type": "display_data"
    }
   ],
   "source": [
    "path = \"1-equilibrate-output/snapshots_time_evolution_0\"\n",
    "# loadtxt from energy.txt in path\n",
    "energy = np.loadtxt(f\"{path}/energy.txt\")\n",
    "step = energy[:,0]\n",
    "en = energy[:,2]\n",
    "plt.plot(step, en, label=\"dt=100\")\n",
    "\n"
   ]
  },
  {
   "cell_type": "code",
   "execution_count": null,
   "metadata": {},
   "outputs": [],
   "source": []
  }
 ],
 "metadata": {
  "kernelspec": {
   "display_name": "mlp",
   "language": "python",
   "name": "python3"
  },
  "language_info": {
   "codemirror_mode": {
    "name": "ipython",
    "version": 3
   },
   "file_extension": ".py",
   "mimetype": "text/x-python",
   "name": "python",
   "nbconvert_exporter": "python",
   "pygments_lexer": "ipython3",
   "version": "3.6.13"
  },
  "orig_nbformat": 4,
  "vscode": {
   "interpreter": {
    "hash": "b16ebcd04219b0bd06912ea12ee86568d7bfa8562d31d8fca79d575eb9e6eb7c"
   }
  }
 },
 "nbformat": 4,
 "nbformat_minor": 2
}
