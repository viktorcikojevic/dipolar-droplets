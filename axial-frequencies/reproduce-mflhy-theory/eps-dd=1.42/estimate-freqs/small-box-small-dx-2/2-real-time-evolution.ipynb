{
 "cells": [
  {
   "attachments": {},
   "cell_type": "markdown",
   "metadata": {},
   "source": [
    "From the \"Supersolid symmetry breaking from compressional oscillations in a dipolar quantum gas\" paper (link here [https://arxiv.org/abs/1906.02791](https://arxiv.org/abs/1906.02791)), the authors say:\n",
    "\n",
    "\"The equilibrium density configuration is found by fixing the equation parameters to the values available in the experiments, and then evolving the eGPE in imaginary time. We consider $\\mathrm{N}=35000$ atoms of ${ }^{162} \\mathrm{Dy}$, for which $a_{d d}=130 a_0\\left(a_0\\right.$ is the Bohr radius). The trapping frequencies are $\\omega_{x, y, z}=2 \\pi(18.5,53,81) \\mathrm{Hz}$, and $a_s$ is changed to tune the value of $\\epsilon_{d d}$.\"\n",
    "\n"
   ]
  },
  {
   "attachments": {},
   "cell_type": "markdown",
   "metadata": {},
   "source": [
    "# import modules"
   ]
  },
  {
   "cell_type": "code",
   "execution_count": 1,
   "metadata": {},
   "outputs": [],
   "source": [
    "import matplotlib.pyplot as plt\n",
    "\n",
    "# Import dependencies\n",
    "import numpy as np\n",
    "import sys\n",
    "sys.path.append('../../../../../3D-egpe-code/egpe')\n",
    "from egpe import eGPE\n"
   ]
  },
  {
   "cell_type": "code",
   "execution_count": 2,
   "metadata": {},
   "outputs": [
    {
     "name": "stdout",
     "output_type": "stream",
     "text": [
      "[INFO] Initializing random psi\n",
      "[INFO] Created output directory:  1-equilibrium/snapshots_time_evolution_0\n"
     ]
    },
    {
     "name": "stderr",
     "output_type": "stream",
     "text": [
      "100%|██████████| 100000/100000 [57:05<00:00, 29.19it/s] \n"
     ]
    }
   ],
   "source": [
    "\n",
    "\n",
    "# Define the parameters\n",
    "nparticles = 35_000\n",
    "fx, fy, fz = 18.5, 53, 81\n",
    "# Harmonic oscillator length is given by a_ho = sqrt(hbar/(m*omega)), where m is the mass of the atom, and omega is the 2*pi*f0, where f0 is the frequency of the trap.\n",
    "# We want to calculate a_h0 / r_0 = sqrt(hbar/(m*omega)/r_0, where r_0 = 390 a_0.\n",
    "# a_h0/r_0 = sqrt(1.05457182e-34 m^2 kg / s / ( 162 * (1.66053907e-27 kilograms) * (2*pi*20 Hertz)) / (390 * 5.291772109E-11 m)= 1.7662456 microns / ((390 * 5.291772109E-11 m)) = 85.5825757\n",
    "# a_h0_y = a_h0 * sqrt(18.5/53) = = 85.5825757 * sqrt(18.5/53) = 50.563052245\n",
    "# a_h0_z = a_h0 * sqrt(18.5/81) = = 85.5825757 * sqrt(18.5/81) = 40.9005085201\n",
    "\n",
    "# Get the optimal sr and sz\n",
    "gp = eGPE(eps_dd=1.42,\n",
    "          nparticles=nparticles,\n",
    "          fx=fx, fy=fy, fz=fz,\n",
    "          nxyz=np.array([256, 64, 32]) /2 ,\n",
    "          box_size=np.array([90, 50, 41]) * np.array([0.9, 0.75, 1]) * 50 /2,\n",
    "          lambda_pot_external=0.01\n",
    "          )\n",
    "\n",
    "r0 = gp.box_size / 20\n",
    "gp.psi = np.exp(-0.5 * (gp.x / r0[0])**2 - 0.5 * (gp.y / r0[1])**2 - 0.5 * (gp.z / r0[2])**2) + 0j\n",
    "gp.psi *= np.random.normal(0.9, 1, gp.psi.shape)\n",
    "gp.normalize_psi()\n",
    "\n",
    "dt = 10\n",
    "t_max = dt * 100000\n",
    "gp.evolve(dt=dt, t_max=t_max, verbose=False, output_root_dir=\"1-equilibrium\", print_each_percent=1)\n"
   ]
  },
  {
   "attachments": {},
   "cell_type": "markdown",
   "metadata": {},
   "source": [
    "OK, now the system is equilibrated. Let's change $\\lambda$ to 0 and evolve the system in real-time."
   ]
  },
  {
   "cell_type": "code",
   "execution_count": 3,
   "metadata": {},
   "outputs": [
    {
     "name": "stdout",
     "output_type": "stream",
     "text": [
      "[INFO] Created output directory:  2-real-time/snapshots_time_evolution_0\n"
     ]
    },
    {
     "name": "stderr",
     "output_type": "stream",
     "text": [
      "100%|██████████| 1000000/1000000 [11:23:53<00:00, 24.37it/s] \n"
     ]
    }
   ],
   "source": [
    "\n",
    "# set lambda to 0 and update the external potential\n",
    "gp.lambda_pot_external = 0.\n",
    "gp.set_external_potential()\n",
    "\n",
    "\n",
    "# Set dt, t_max and evolve the system\n",
    "dt = 10\n",
    "t_max = dt * 1000000\n",
    "gp.evolve(dt=dt, t_max=t_max,  time_prop=\"real\", verbose=False, output_root_dir=\"2-real-time\", save_x2=True, print_each_percent=0.0001)\n"
   ]
  }
 ],
 "metadata": {
  "kernelspec": {
   "display_name": "Python 3.10.6 ('mlp')",
   "language": "python",
   "name": "python3"
  },
  "language_info": {
   "codemirror_mode": {
    "name": "ipython",
    "version": 3
   },
   "file_extension": ".py",
   "mimetype": "text/x-python",
   "name": "python",
   "nbconvert_exporter": "python",
   "pygments_lexer": "ipython3",
   "version": "3.10.6"
  },
  "orig_nbformat": 4,
  "vscode": {
   "interpreter": {
    "hash": "02e568930d87ca2b8b9cf5a6033d5857823a62aae5a168045c9638053701f372"
   }
  }
 },
 "nbformat": 4,
 "nbformat_minor": 2
}
