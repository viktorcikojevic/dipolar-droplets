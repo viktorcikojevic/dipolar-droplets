{
  "nbformat": 4,
  "nbformat_minor": 0,
  "metadata": {
    "colab": {
      "provenance": [],
      "toc_visible": true,
      "collapsed_sections": [],
      "authorship_tag": "ABX9TyMBeFX9mbSRi3qsNYnucJwr",
      "include_colab_link": true
    },
    "kernelspec": {
      "name": "python3",
      "display_name": "Python 3"
    },
    "language_info": {
      "name": "python"
    }
  },
  "cells": [
    {
      "cell_type": "markdown",
      "metadata": {
        "id": "view-in-github",
        "colab_type": "text"
      },
      "source": [
        "<a href=\"https://colab.research.google.com/github/viktorcikojevic/dipolar-droplets/blob/main/derivation_of_variational_energy.ipynb\" target=\"_parent\"><img src=\"https://colab.research.google.com/assets/colab-badge.svg\" alt=\"Open In Colab\"/></a>"
      ]
    },
    {
      "cell_type": "markdown",
      "source": [
        "Here I will derive the variational energy for single-component dipolar system. \n",
        "\n",
        "\n",
        "Let's first import the dependencies"
      ],
      "metadata": {
        "id": "xggEVl3P4_Y-"
      }
    },
    {
      "cell_type": "code",
      "source": [
        "from sympy import *\n",
        "from sympy.physics.quantum.constants import hbar"
      ],
      "metadata": {
        "id": "62dBjrX-rKwT"
      },
      "execution_count": 2,
      "outputs": []
    },
    {
      "cell_type": "markdown",
      "source": [],
      "metadata": {
        "id": "Jya7sovK6Hch"
      }
    },
    {
      "cell_type": "markdown",
      "source": [
        "# Derivation of alpha and beta of the MF+LHY theory."
      ],
      "metadata": {
        "id": "xsMgF0flqP-p"
      }
    },
    {
      "cell_type": "code",
      "source": [
        "m, a_dd, a_s, rho, r_0 = symbols('m a_dd a_s rho r_0', real=True)\n",
        "frac = Rational\n",
        "\n",
        "\n",
        "# Mean-field contribution\n",
        "g = 4 * pi * a_s * hbar**2 / m\n",
        "eps_mf = g * rho**2 / 2\n",
        "# LHY contribution\n",
        "a_dd = r_0 / 3\n",
        "eps_dd = a_dd / a_s\n",
        "g_qf = 32 * g * a_s**frac('3/2') * (1 + 3*eps_dd**2 / 2) / (3*sqrt(pi)) \n",
        "eps_lhy = g_qf * rho**(frac('5/2')) * 2 / 5\n",
        "\n",
        "# Total MF+LHY energy density\n",
        "eps_mflhy = eps_mf + eps_lhy\n",
        "eps_mflhy"
      ],
      "metadata": {
        "colab": {
          "base_uri": "https://localhost:8080/",
          "height": 66
        },
        "id": "1p0vVuCWqPnf",
        "outputId": "3065c353-a36a-4fb0-ae07-b8a2d621249a"
      },
      "execution_count": 3,
      "outputs": [
        {
          "output_type": "execute_result",
          "data": {
            "text/plain": [
              "256*hbar**2*sqrt(pi)*a_s**(5/2)*rho**(5/2)*(1 + r_0**2/(6*a_s**2))/(15*m) + 2*hbar**2*pi*a_s*rho**2/m"
            ],
            "text/latex": "$\\displaystyle \\frac{256 \\hbar^{2} \\sqrt{\\pi} a_{s}^{\\frac{5}{2}} \\rho^{\\frac{5}{2}} \\left(1 + \\frac{r_{0}^{2}}{6 a_{s}^{2}}\\right)}{15 m} + \\frac{2 \\hbar^{2} \\pi a_{s} \\rho^{2}}{m}$"
          },
          "metadata": {},
          "execution_count": 3
        }
      ]
    },
    {
      "cell_type": "code",
      "source": [
        "# Let's find the alpha and beta in this way: this is the target shape of mflhy functional. \n",
        "# Please check the cell below to conclude, since \n",
        "alpha, beta = symbols('alpha beta', real=True)\n",
        "eps_target = alpha * rho + beta*rho**frac('5/2')\n",
        "eps_target"
      ],
      "metadata": {
        "colab": {
          "base_uri": "https://localhost:8080/",
          "height": 40
        },
        "id": "raZFnCzFsM9y",
        "outputId": "155c6e0c-2559-4ab7-f8f1-e857caecb861"
      },
      "execution_count": 4,
      "outputs": [
        {
          "output_type": "execute_result",
          "data": {
            "text/plain": [
              "alpha*rho + beta*rho**(5/2)"
            ],
            "text/latex": "$\\displaystyle \\alpha \\rho + \\beta \\rho^{\\frac{5}{2}}$"
          },
          "metadata": {},
          "execution_count": 4
        }
      ]
    },
    {
      "cell_type": "code",
      "source": [
        "alpha = eps_mf / rho\n",
        "beta = eps_lhy / rho**frac('5/2')\n",
        "alpha"
      ],
      "metadata": {
        "colab": {
          "base_uri": "https://localhost:8080/",
          "height": 54
        },
        "id": "A5F_JtUasv6P",
        "outputId": "0c0849bb-b4d1-4d06-a6b8-ee3f1b20a4af"
      },
      "execution_count": 5,
      "outputs": [
        {
          "output_type": "execute_result",
          "data": {
            "text/plain": [
              "2*hbar**2*pi*a_s*rho/m"
            ],
            "text/latex": "$\\displaystyle \\frac{2 \\hbar^{2} \\pi a_{s} \\rho}{m}$"
          },
          "metadata": {},
          "execution_count": 5
        }
      ]
    },
    {
      "cell_type": "code",
      "source": [
        "beta"
      ],
      "metadata": {
        "colab": {
          "base_uri": "https://localhost:8080/",
          "height": 66
        },
        "id": "yL9eSp6stPKe",
        "outputId": "52fe94a9-ba3c-492f-dd3c-183952402c4f"
      },
      "execution_count": 6,
      "outputs": [
        {
          "output_type": "execute_result",
          "data": {
            "text/plain": [
              "256*hbar**2*sqrt(pi)*a_s**(5/2)*(1 + r_0**2/(6*a_s**2))/(15*m)"
            ],
            "text/latex": "$\\displaystyle \\frac{256 \\hbar^{2} \\sqrt{\\pi} a_{s}^{\\frac{5}{2}} \\left(1 + \\frac{r_{0}^{2}}{6 a_{s}^{2}}\\right)}{15 m}$"
          },
          "metadata": {},
          "execution_count": 6
        }
      ]
    },
    {
      "cell_type": "code",
      "source": [
        "# Now let's find it in reduced units:\n",
        "# rho is given as rho * r_0**3\n",
        "eps_mflhy = eps_mflhy.subs(rho, rho/r_0**3)\n",
        "eps_mflhy"
      ],
      "metadata": {
        "colab": {
          "base_uri": "https://localhost:8080/",
          "height": 76
        },
        "id": "hP-8quVrtcL7",
        "outputId": "09c1a13c-7cc5-46d8-8a15-1cccd584ee00"
      },
      "execution_count": 7,
      "outputs": [
        {
          "output_type": "execute_result",
          "data": {
            "text/plain": [
              "256*hbar**2*sqrt(pi)*a_s**(5/2)*(rho/r_0**3)**(5/2)*(1 + r_0**2/(6*a_s**2))/(15*m) + 2*hbar**2*pi*a_s*rho**2/(m*r_0**6)"
            ],
            "text/latex": "$\\displaystyle \\frac{256 \\hbar^{2} \\sqrt{\\pi} a_{s}^{\\frac{5}{2}} \\left(\\frac{\\rho}{r_{0}^{3}}\\right)^{\\frac{5}{2}} \\left(1 + \\frac{r_{0}^{2}}{6 a_{s}^{2}}\\right)}{15 m} + \\frac{2 \\hbar^{2} \\pi a_{s} \\rho^{2}}{m r_{0}^{6}}$"
          },
          "metadata": {},
          "execution_count": 7
        }
      ]
    },
    {
      "cell_type": "code",
      "source": [
        "# Energy is given in units \\hbar^2 / (m * r_0^2)\n",
        "eps_mflhy = (eps_mflhy / (hbar**2 / (m * r_0**2) / r_0**3)).expand()\n",
        "eps_mflhy = eps_mflhy.subs(a_s, a_s * r_0)\n",
        "eps_mflhy"
      ],
      "metadata": {
        "colab": {
          "base_uri": "https://localhost:8080/",
          "height": 72
        },
        "id": "2wMk3uivtpMY",
        "outputId": "b90524fe-59e3-4130-d4f4-f49788b5f002"
      },
      "execution_count": 8,
      "outputs": [
        {
          "output_type": "execute_result",
          "data": {
            "text/plain": [
              "2*pi*a_s*rho**2 + 128*sqrt(pi)*r_0**7*sqrt(a_s*r_0)*(rho/r_0**3)**(5/2)/45 + 256*sqrt(pi)*r_0**5*(a_s*r_0)**(5/2)*(rho/r_0**3)**(5/2)/15"
            ],
            "text/latex": "$\\displaystyle 2 \\pi a_{s} \\rho^{2} + \\frac{128 \\sqrt{\\pi} r_{0}^{7} \\sqrt{a_{s} r_{0}} \\left(\\frac{\\rho}{r_{0}^{3}}\\right)^{\\frac{5}{2}}}{45} + \\frac{256 \\sqrt{\\pi} r_{0}^{5} \\left(a_{s} r_{0}\\right)^{\\frac{5}{2}} \\left(\\frac{\\rho}{r_{0}^{3}}\\right)^{\\frac{5}{2}}}{15}$"
          },
          "metadata": {},
          "execution_count": 8
        }
      ]
    },
    {
      "cell_type": "code",
      "source": [
        "eps_mflhy"
      ],
      "metadata": {
        "colab": {
          "base_uri": "https://localhost:8080/",
          "height": 72
        },
        "id": "3kCAZc0KtyNz",
        "outputId": "2385e80f-da3d-4021-ba72-829df41948f8"
      },
      "execution_count": 9,
      "outputs": [
        {
          "output_type": "execute_result",
          "data": {
            "text/plain": [
              "2*pi*a_s*rho**2 + 128*sqrt(pi)*r_0**7*sqrt(a_s*r_0)*(rho/r_0**3)**(5/2)/45 + 256*sqrt(pi)*r_0**5*(a_s*r_0)**(5/2)*(rho/r_0**3)**(5/2)/15"
            ],
            "text/latex": "$\\displaystyle 2 \\pi a_{s} \\rho^{2} + \\frac{128 \\sqrt{\\pi} r_{0}^{7} \\sqrt{a_{s} r_{0}} \\left(\\frac{\\rho}{r_{0}^{3}}\\right)^{\\frac{5}{2}}}{45} + \\frac{256 \\sqrt{\\pi} r_{0}^{5} \\left(a_{s} r_{0}\\right)^{\\frac{5}{2}} \\left(\\frac{\\rho}{r_{0}^{3}}\\right)^{\\frac{5}{2}}}{15}$"
          },
          "metadata": {},
          "execution_count": 9
        }
      ]
    },
    {
      "cell_type": "code",
      "source": [
        "alpha = 2 * pi * a_s\n",
        "alpha"
      ],
      "metadata": {
        "colab": {
          "base_uri": "https://localhost:8080/",
          "height": 38
        },
        "id": "t8CrHUVFuwhc",
        "outputId": "b64e4bc3-f253-4ad8-d76e-d72a951bd812"
      },
      "execution_count": 10,
      "outputs": [
        {
          "output_type": "execute_result",
          "data": {
            "text/plain": [
              "2*pi*a_s"
            ],
            "text/latex": "$\\displaystyle 2 \\pi a_{s}$"
          },
          "metadata": {},
          "execution_count": 10
        }
      ]
    },
    {
      "cell_type": "code",
      "source": [
        "eps_mflhy"
      ],
      "metadata": {
        "colab": {
          "base_uri": "https://localhost:8080/",
          "height": 72
        },
        "id": "87O-ZOXaygYS",
        "outputId": "ee2c57d8-4ad7-411f-c415-e1d88d8e5b46"
      },
      "execution_count": 11,
      "outputs": [
        {
          "output_type": "execute_result",
          "data": {
            "text/plain": [
              "2*pi*a_s*rho**2 + 128*sqrt(pi)*r_0**7*sqrt(a_s*r_0)*(rho/r_0**3)**(5/2)/45 + 256*sqrt(pi)*r_0**5*(a_s*r_0)**(5/2)*(rho/r_0**3)**(5/2)/15"
            ],
            "text/latex": "$\\displaystyle 2 \\pi a_{s} \\rho^{2} + \\frac{128 \\sqrt{\\pi} r_{0}^{7} \\sqrt{a_{s} r_{0}} \\left(\\frac{\\rho}{r_{0}^{3}}\\right)^{\\frac{5}{2}}}{45} + \\frac{256 \\sqrt{\\pi} r_{0}^{5} \\left(a_{s} r_{0}\\right)^{\\frac{5}{2}} \\left(\\frac{\\rho}{r_{0}^{3}}\\right)^{\\frac{5}{2}}}{15}$"
          },
          "metadata": {},
          "execution_count": 11
        }
      ]
    },
    {
      "cell_type": "code",
      "source": [
        "beta = (simplify(((eps_mflhy - alpha * rho**2) / rho**(frac('1/2'))/rho**2).expand()).subs(rho, 1)).expand().subs(r_0, 1)\n",
        "beta"
      ],
      "metadata": {
        "colab": {
          "base_uri": "https://localhost:8080/",
          "height": 60
        },
        "id": "dEPCU4EMx9i7",
        "outputId": "7ffcff5a-b95d-45c3-c9b9-e2b81bfe1cec"
      },
      "execution_count": 12,
      "outputs": [
        {
          "output_type": "execute_result",
          "data": {
            "text/plain": [
              "256*sqrt(pi)*a_s**(5/2)/15 + 128*sqrt(pi)*sqrt(a_s)/45"
            ],
            "text/latex": "$\\displaystyle \\frac{256 \\sqrt{\\pi} a_{s}^{\\frac{5}{2}}}{15} + \\frac{128 \\sqrt{\\pi} \\sqrt{a_{s}}}{45}$"
          },
          "metadata": {},
          "execution_count": 12
        }
      ]
    },
    {
      "cell_type": "code",
      "source": [
        "simplify(beta)"
      ],
      "metadata": {
        "colab": {
          "base_uri": "https://localhost:8080/",
          "height": 56
        },
        "id": "qwIx3hg926Mn",
        "outputId": "ad760ffc-c34b-466b-b290-00e2846564c7"
      },
      "execution_count": 13,
      "outputs": [
        {
          "output_type": "execute_result",
          "data": {
            "text/plain": [
              "128*sqrt(pi)*sqrt(a_s)*(6*a_s**2 + 1)/45"
            ],
            "text/latex": "$\\displaystyle \\frac{128 \\sqrt{\\pi} \\sqrt{a_{s}} \\left(6 a_{s}^{2} + 1\\right)}{45}$"
          },
          "metadata": {},
          "execution_count": 13
        }
      ]
    },
    {
      "cell_type": "code",
      "source": [
        "print(beta)"
      ],
      "metadata": {
        "colab": {
          "base_uri": "https://localhost:8080/"
        },
        "id": "unI8OUDkwsMG",
        "outputId": "378526b0-4510-46ca-a7fa-d38ab59d81bc"
      },
      "execution_count": 14,
      "outputs": [
        {
          "output_type": "stream",
          "name": "stdout",
          "text": [
            "256*sqrt(pi)*a_s**(5/2)/15 + 128*sqrt(pi)*sqrt(a_s)/45\n"
          ]
        }
      ]
    },
    {
      "cell_type": "code",
      "source": [
        "# 256*np.sqrt(np.pi)*a_s**(5/2)/15 + 128*np.sqrt(np.pi)*np.sqrt(a_s)/45\n"
      ],
      "metadata": {
        "id": "s3PcLtQKwt_4"
      },
      "execution_count": 15,
      "outputs": []
    },
    {
      "cell_type": "markdown",
      "source": [
        "# Derivation of MF+LHY energy per particle"
      ],
      "metadata": {
        "id": "d8rJTJv0qNKj"
      }
    },
    {
      "cell_type": "markdown",
      "source": [],
      "metadata": {
        "id": "0UliEAjI0Bjs"
      }
    },
    {
      "cell_type": "code",
      "source": [
        "N, s, z = symbols('N s z', real=True)\n",
        "sigma_s, sigma_z = symbols('sigma_s, sigma_z', real=True)\n",
        "alpha, beta, gamma = symbols('alpha, beta, gamma', real=True)\n",
        "\n",
        "psi = sqrt(N) / (pi**(3/4) * sigma_s * sqrt(sigma_z)) * exp(-s**2/(sigma_s)**2/2 - z**2/(sigma_z)**2/2)\n",
        "psi"
      ],
      "metadata": {
        "colab": {
          "base_uri": "https://localhost:8080/",
          "height": 70
        },
        "id": "BZn3foFq5Lkk",
        "outputId": "83a2f7e3-39ff-4392-bea4-e50311e0d87c"
      },
      "execution_count": 16,
      "outputs": [
        {
          "output_type": "execute_result",
          "data": {
            "text/plain": [
              "pi**(-0.75)*sqrt(N)*exp(-s**2/(2*sigma_s**2) - z**2/(2*sigma_z**2))/(sigma_s*sqrt(sigma_z))"
            ],
            "text/latex": "$\\displaystyle \\frac{\\sqrt{N} e^{- \\frac{s^{2}}{2 \\sigma_{s}^{2}} - \\frac{z^{2}}{2 \\sigma_{z}^{2}}}}{\\pi^{0.75} \\sigma_{s} \\sqrt{\\sigma_{z}}}$"
          },
          "metadata": {},
          "execution_count": 16
        }
      ]
    },
    {
      "cell_type": "markdown",
      "source": [
        "Double check to see if we get the correct norm."
      ],
      "metadata": {
        "id": "qEwWYX5k7bNr"
      }
    },
    {
      "cell_type": "code",
      "source": [
        "norm = integrate(psi**2 * 2*pi*s, (s, 0, oo), conds='none')\n",
        "norm = integrate(norm, (z, -oo, oo), conds='none')\n",
        "norm"
      ],
      "metadata": {
        "colab": {
          "base_uri": "https://localhost:8080/",
          "height": 38
        },
        "id": "lTUjShoh5shG",
        "outputId": "f0bf7643-9115-442f-b4e7-3b3d473e8140"
      },
      "execution_count": 17,
      "outputs": [
        {
          "output_type": "execute_result",
          "data": {
            "text/plain": [
              "N"
            ],
            "text/latex": "$\\displaystyle N$"
          },
          "metadata": {},
          "execution_count": 17
        }
      ]
    },
    {
      "cell_type": "code",
      "source": [
        "density = psi**2"
      ],
      "metadata": {
        "id": "l9FqM7Dd-5A3"
      },
      "execution_count": 18,
      "outputs": []
    },
    {
      "cell_type": "code",
      "source": [
        "gamma_term = beta*pow(density,(gamma + 1))\n",
        "lhy_energy = exp(expand_log(log(gamma_term), force=True)).expand()\n",
        "lhy_energy"
      ],
      "metadata": {
        "colab": {
          "base_uri": "https://localhost:8080/",
          "height": 70
        },
        "id": "mntCSGwx-Cnl",
        "outputId": "c7bee024-7847-40e5-da80-1094fdd09ae4"
      },
      "execution_count": 19,
      "outputs": [
        {
          "output_type": "execute_result",
          "data": {
            "text/plain": [
              "pi**(-1.5)*N*beta*exp(-1.5*gamma*log(pi))*exp(gamma*log(N))*exp(-2*gamma*log(sigma_s))*exp(-gamma*log(sigma_z))*exp(-s**2/sigma_s**2)*exp(-z**2/sigma_z**2)*exp(-gamma*s**2/sigma_s**2)*exp(-gamma*z**2/sigma_z**2)/(sigma_s**2*sigma_z)"
            ],
            "text/latex": "$\\displaystyle \\frac{N \\beta e^{- 1.5 \\gamma \\log{\\left(\\pi \\right)}} e^{\\gamma \\log{\\left(N \\right)}} e^{- 2 \\gamma \\log{\\left(\\sigma_{s} \\right)}} e^{- \\gamma \\log{\\left(\\sigma_{z} \\right)}} e^{- \\frac{s^{2}}{\\sigma_{s}^{2}}} e^{- \\frac{z^{2}}{\\sigma_{z}^{2}}} e^{- \\frac{\\gamma s^{2}}{\\sigma_{s}^{2}}} e^{- \\frac{\\gamma z^{2}}{\\sigma_{z}^{2}}}}{\\pi^{1.5} \\sigma_{s}^{2} \\sigma_{z}}$"
          },
          "metadata": {},
          "execution_count": 19
        }
      ]
    },
    {
      "cell_type": "code",
      "source": [
        "\n",
        "energy_delta = alpha * density**2 + lhy_energy\n",
        "# energy_delta = energy_delta.expand()\n",
        "energy_delta"
      ],
      "metadata": {
        "colab": {
          "base_uri": "https://localhost:8080/",
          "height": 70
        },
        "id": "P929wKq-7m89",
        "outputId": "2bbb54b1-f6fe-4d7b-fac6-a2b9903f4378"
      },
      "execution_count": 20,
      "outputs": [
        {
          "output_type": "execute_result",
          "data": {
            "text/plain": [
              "pi**(-3.0)*N**2*alpha*exp(-2*s**2/sigma_s**2 - 2*z**2/sigma_z**2)/(sigma_s**4*sigma_z**2) + pi**(-1.5)*N*beta*exp(-1.5*gamma*log(pi))*exp(gamma*log(N))*exp(-2*gamma*log(sigma_s))*exp(-gamma*log(sigma_z))*exp(-s**2/sigma_s**2)*exp(-z**2/sigma_z**2)*exp(-gamma*s**2/sigma_s**2)*exp(-gamma*z**2/sigma_z**2)/(sigma_s**2*sigma_z)"
            ],
            "text/latex": "$\\displaystyle \\frac{N^{2} \\alpha e^{- \\frac{2 s^{2}}{\\sigma_{s}^{2}} - \\frac{2 z^{2}}{\\sigma_{z}^{2}}}}{\\pi^{3.0} \\sigma_{s}^{4} \\sigma_{z}^{2}} + \\frac{N \\beta e^{- 1.5 \\gamma \\log{\\left(\\pi \\right)}} e^{\\gamma \\log{\\left(N \\right)}} e^{- 2 \\gamma \\log{\\left(\\sigma_{s} \\right)}} e^{- \\gamma \\log{\\left(\\sigma_{z} \\right)}} e^{- \\frac{s^{2}}{\\sigma_{s}^{2}}} e^{- \\frac{z^{2}}{\\sigma_{z}^{2}}} e^{- \\frac{\\gamma s^{2}}{\\sigma_{s}^{2}}} e^{- \\frac{\\gamma z^{2}}{\\sigma_{z}^{2}}}}{\\pi^{1.5} \\sigma_{s}^{2} \\sigma_{z}}$"
          },
          "metadata": {},
          "execution_count": 20
        }
      ]
    },
    {
      "cell_type": "code",
      "source": [
        "energy_delta = expand(simplify(energy_delta / N))\n",
        "energy_delta"
      ],
      "metadata": {
        "colab": {
          "base_uri": "https://localhost:8080/",
          "height": 70
        },
        "id": "74T7qXL-AAuo",
        "outputId": "2801769b-504d-4d66-bc94-6945a559a3c7"
      },
      "execution_count": 21,
      "outputs": [
        {
          "output_type": "execute_result",
          "data": {
            "text/plain": [
              "pi**(-3.0)*N*alpha*exp(-2*s**2/sigma_s**2)*exp(-2*z**2/sigma_z**2)/(sigma_s**4*sigma_z**2) + pi**(-1.5)*pi**(-1.5*gamma)*beta*exp(gamma*log(N))*exp(-2*gamma*log(sigma_s))*exp(-gamma*log(sigma_z))*exp(-s**2/sigma_s**2)*exp(-z**2/sigma_z**2)*exp(-gamma*s**2/sigma_s**2)*exp(-gamma*z**2/sigma_z**2)/(sigma_s**2*sigma_z)"
            ],
            "text/latex": "$\\displaystyle \\frac{N \\alpha e^{- \\frac{2 s^{2}}{\\sigma_{s}^{2}}} e^{- \\frac{2 z^{2}}{\\sigma_{z}^{2}}}}{\\pi^{3.0} \\sigma_{s}^{4} \\sigma_{z}^{2}} + \\frac{\\pi^{- 1.5 \\gamma} \\beta e^{\\gamma \\log{\\left(N \\right)}} e^{- 2 \\gamma \\log{\\left(\\sigma_{s} \\right)}} e^{- \\gamma \\log{\\left(\\sigma_{z} \\right)}} e^{- \\frac{s^{2}}{\\sigma_{s}^{2}}} e^{- \\frac{z^{2}}{\\sigma_{z}^{2}}} e^{- \\frac{\\gamma s^{2}}{\\sigma_{s}^{2}}} e^{- \\frac{\\gamma z^{2}}{\\sigma_{z}^{2}}}}{\\pi^{1.5} \\sigma_{s}^{2} \\sigma_{z}}$"
          },
          "metadata": {},
          "execution_count": 21
        }
      ]
    },
    {
      "cell_type": "code",
      "source": [
        "en_mflhy = integrate(energy_delta, (z, -oo, oo), conds='none')\n",
        "en_mflhy = integrate(en_mflhy *  2*pi*s, (s, 0, oo), conds='none')\n",
        "en_mflhy"
      ],
      "metadata": {
        "colab": {
          "base_uri": "https://localhost:8080/",
          "height": 65
        },
        "id": "JNuqTi8Q5s1h",
        "outputId": "3ce2649a-72d4-4037-f35a-15660776c111"
      },
      "execution_count": 22,
      "outputs": [
        {
          "output_type": "execute_result",
          "data": {
            "text/plain": [
              "sqrt(2)*pi**(-1.5)*N*alpha/(4*sigma_s**2*sigma_z) + pi**(-1.5*gamma)*beta*exp(gamma*log(N) - 2*gamma*log(sigma_s) - gamma*log(sigma_z))/(gamma + 1)**(3/2)"
            ],
            "text/latex": "$\\displaystyle \\frac{\\sqrt{2} N \\alpha}{4 \\pi^{1.5} \\sigma_{s}^{2} \\sigma_{z}} + \\frac{\\pi^{- 1.5 \\gamma} \\beta e^{\\gamma \\log{\\left(N \\right)} - 2 \\gamma \\log{\\left(\\sigma_{s} \\right)} - \\gamma \\log{\\left(\\sigma_{z} \\right)}}}{\\left(\\gamma + 1\\right)^{\\frac{3}{2}}}$"
          },
          "metadata": {},
          "execution_count": 22
        }
      ]
    },
    {
      "cell_type": "markdown",
      "source": [
        "Great! Let's print it so we can plug it into our $n_c$ solver"
      ],
      "metadata": {
        "id": "MBYEBT28BtAb"
      }
    },
    {
      "cell_type": "code",
      "source": [
        "print(en_mflhy)"
      ],
      "metadata": {
        "colab": {
          "base_uri": "https://localhost:8080/"
        },
        "id": "AS8CjGfo9bJZ",
        "outputId": "4fc0c6d3-ba07-4bd5-eebb-a7f5503b541d"
      },
      "execution_count": 23,
      "outputs": [
        {
          "output_type": "stream",
          "name": "stdout",
          "text": [
            "sqrt(2)*pi**(-1.5)*N*alpha/(4*sigma_s**2*sigma_z) + pi**(-1.5*gamma)*beta*exp(gamma*log(N) - 2*gamma*log(sigma_s) - gamma*log(sigma_z))/(gamma + 1)**(3/2)\n"
          ]
        }
      ]
    },
    {
      "cell_type": "code",
      "source": [
        "# en_mflhy = np.sqrt(2)*np.pi**(-1.5)*N*alpha/(4*sr**2*sz) + np.pi**(-1.5*gamma)*beta*np.exp(gamma*np.log(N) - 2*gamma*np.log(sr) - gamma*np.log(sz))/(gamma + 1)**(3/2)\n",
        "\n"
      ],
      "metadata": {
        "id": "kbcSgwklAJDI"
      },
      "execution_count": 24,
      "outputs": []
    },
    {
      "cell_type": "markdown",
      "source": [
        "# Dipolar part\n",
        "\n",
        "OK, now that we've got the easy part done, let's estimate the dipolar interaction energy"
      ],
      "metadata": {
        "id": "Tm02l58ABww5"
      }
    },
    {
      "cell_type": "code",
      "source": [],
      "metadata": {
        "id": "1OHZQ4bcB2jL"
      },
      "execution_count": 24,
      "outputs": []
    }
  ]
}