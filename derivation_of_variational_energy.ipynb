{
  "cells": [
    {
      "cell_type": "markdown",
      "metadata": {
        "colab_type": "text",
        "id": "view-in-github"
      },
      "source": [
        "<a href=\"https://colab.research.google.com/github/viktorcikojevic/dipolar-droplets/blob/main/derivation_of_variational_energy.ipynb\" target=\"_parent\"><img src=\"https://colab.research.google.com/assets/colab-badge.svg\" alt=\"Open In Colab\"/></a>"
      ]
    },
    {
      "cell_type": "markdown",
      "metadata": {
        "id": "xggEVl3P4_Y-"
      },
      "source": [
        "Here I will derive the variational energy for single-component dipolar system. \n",
        "\n",
        "\n",
        "Let's first import the dependencies"
      ]
    },
    {
      "cell_type": "code",
      "execution_count": 2,
      "metadata": {
        "id": "62dBjrX-rKwT"
      },
      "outputs": [],
      "source": [
        "from sympy import *\n",
        "from sympy.physics.quantum.constants import hbar"
      ]
    },
    {
      "cell_type": "markdown",
      "metadata": {
        "id": "Jya7sovK6Hch"
      },
      "source": []
    },
    {
      "cell_type": "markdown",
      "metadata": {
        "id": "xsMgF0flqP-p"
      },
      "source": [
        "# Derivation of alpha and beta of the MF+LHY theory."
      ]
    },
    {
      "cell_type": "code",
      "execution_count": 3,
      "metadata": {
        "colab": {
          "base_uri": "https://localhost:8080/",
          "height": 66
        },
        "id": "1p0vVuCWqPnf",
        "outputId": "3065c353-a36a-4fb0-ae07-b8a2d621249a"
      },
      "outputs": [
        {
          "data": {
            "text/latex": [
              "$\\displaystyle \\frac{256 \\hbar^{2} \\sqrt{\\pi} a_{s}^{\\frac{5}{2}} \\rho^{\\frac{5}{2}} \\left(1 + \\frac{r_{0}^{2}}{6 a_{s}^{2}}\\right)}{15 m} + \\frac{2 \\hbar^{2} \\pi a_{s} \\rho^{2}}{m}$"
            ],
            "text/plain": [
              "256*hbar**2*sqrt(pi)*a_s**(5/2)*rho**(5/2)*(1 + r_0**2/(6*a_s**2))/(15*m) + 2*hbar**2*pi*a_s*rho**2/m"
            ]
          },
          "execution_count": 3,
          "metadata": {},
          "output_type": "execute_result"
        }
      ],
      "source": [
        "m, a_dd, a_s, rho, r_0 = symbols('m a_dd a_s rho r_0', real=True)\n",
        "frac = Rational\n",
        "\n",
        "\n",
        "# Mean-field contribution\n",
        "g = 4 * pi * a_s * hbar**2 / m\n",
        "eps_mf = g * rho**2 / 2\n",
        "# LHY contribution\n",
        "a_dd = r_0 / 3\n",
        "eps_dd = a_dd / a_s\n",
        "g_qf = 32 * g * a_s**frac('3/2') * (1 + 3*eps_dd**2 / 2) / (3*sqrt(pi)) \n",
        "eps_lhy = g_qf * rho**(frac('5/2')) * 2 / 5\n",
        "\n",
        "# Total MF+LHY energy density\n",
        "eps_mflhy = eps_mf + eps_lhy\n",
        "eps_mflhy"
      ]
    },
    {
      "cell_type": "code",
      "execution_count": 4,
      "metadata": {
        "colab": {
          "base_uri": "https://localhost:8080/",
          "height": 40
        },
        "id": "raZFnCzFsM9y",
        "outputId": "155c6e0c-2559-4ab7-f8f1-e857caecb861"
      },
      "outputs": [
        {
          "data": {
            "text/latex": [
              "$\\displaystyle \\alpha \\rho + \\beta \\rho^{\\frac{5}{2}}$"
            ],
            "text/plain": [
              "alpha*rho + beta*rho**(5/2)"
            ]
          },
          "execution_count": 4,
          "metadata": {},
          "output_type": "execute_result"
        }
      ],
      "source": [
        "# Let's find the alpha and beta in this way: this is the target shape of mflhy functional. \n",
        "# Please check the cell below to conclude, since \n",
        "alpha, beta = symbols('alpha beta', real=True)\n",
        "eps_target = alpha * rho + beta*rho**frac('5/2')\n",
        "eps_target"
      ]
    },
    {
      "cell_type": "code",
      "execution_count": 5,
      "metadata": {
        "colab": {
          "base_uri": "https://localhost:8080/",
          "height": 54
        },
        "id": "A5F_JtUasv6P",
        "outputId": "0c0849bb-b4d1-4d06-a6b8-ee3f1b20a4af"
      },
      "outputs": [
        {
          "data": {
            "text/latex": [
              "$\\displaystyle \\frac{2 \\hbar^{2} \\pi a_{s} \\rho}{m}$"
            ],
            "text/plain": [
              "2*hbar**2*pi*a_s*rho/m"
            ]
          },
          "execution_count": 5,
          "metadata": {},
          "output_type": "execute_result"
        }
      ],
      "source": [
        "alpha = eps_mf / rho\n",
        "beta = eps_lhy / rho**frac('5/2')\n",
        "alpha"
      ]
    },
    {
      "cell_type": "code",
      "execution_count": 6,
      "metadata": {
        "colab": {
          "base_uri": "https://localhost:8080/",
          "height": 66
        },
        "id": "yL9eSp6stPKe",
        "outputId": "52fe94a9-ba3c-492f-dd3c-183952402c4f"
      },
      "outputs": [
        {
          "data": {
            "text/latex": [
              "$\\displaystyle \\frac{256 \\hbar^{2} \\sqrt{\\pi} a_{s}^{\\frac{5}{2}} \\left(1 + \\frac{r_{0}^{2}}{6 a_{s}^{2}}\\right)}{15 m}$"
            ],
            "text/plain": [
              "256*hbar**2*sqrt(pi)*a_s**(5/2)*(1 + r_0**2/(6*a_s**2))/(15*m)"
            ]
          },
          "execution_count": 6,
          "metadata": {},
          "output_type": "execute_result"
        }
      ],
      "source": [
        "beta"
      ]
    },
    {
      "cell_type": "code",
      "execution_count": 7,
      "metadata": {
        "colab": {
          "base_uri": "https://localhost:8080/",
          "height": 76
        },
        "id": "hP-8quVrtcL7",
        "outputId": "09c1a13c-7cc5-46d8-8a15-1cccd584ee00"
      },
      "outputs": [
        {
          "data": {
            "text/latex": [
              "$\\displaystyle \\frac{256 \\hbar^{2} \\sqrt{\\pi} a_{s}^{\\frac{5}{2}} \\left(\\frac{\\rho}{r_{0}^{3}}\\right)^{\\frac{5}{2}} \\left(1 + \\frac{r_{0}^{2}}{6 a_{s}^{2}}\\right)}{15 m} + \\frac{2 \\hbar^{2} \\pi a_{s} \\rho^{2}}{m r_{0}^{6}}$"
            ],
            "text/plain": [
              "256*hbar**2*sqrt(pi)*a_s**(5/2)*(rho/r_0**3)**(5/2)*(1 + r_0**2/(6*a_s**2))/(15*m) + 2*hbar**2*pi*a_s*rho**2/(m*r_0**6)"
            ]
          },
          "execution_count": 7,
          "metadata": {},
          "output_type": "execute_result"
        }
      ],
      "source": [
        "# Now let's find it in reduced units:\n",
        "# rho is given as rho * r_0**3\n",
        "eps_mflhy = eps_mflhy.subs(rho, rho/r_0**3)\n",
        "eps_mflhy"
      ]
    },
    {
      "cell_type": "code",
      "execution_count": 8,
      "metadata": {
        "colab": {
          "base_uri": "https://localhost:8080/",
          "height": 72
        },
        "id": "2wMk3uivtpMY",
        "outputId": "b90524fe-59e3-4130-d4f4-f49788b5f002"
      },
      "outputs": [
        {
          "data": {
            "text/latex": [
              "$\\displaystyle 2 \\pi a_{s} \\rho^{2} + \\frac{128 \\sqrt{\\pi} r_{0}^{7} \\sqrt{a_{s} r_{0}} \\left(\\frac{\\rho}{r_{0}^{3}}\\right)^{\\frac{5}{2}}}{45} + \\frac{256 \\sqrt{\\pi} r_{0}^{5} \\left(a_{s} r_{0}\\right)^{\\frac{5}{2}} \\left(\\frac{\\rho}{r_{0}^{3}}\\right)^{\\frac{5}{2}}}{15}$"
            ],
            "text/plain": [
              "2*pi*a_s*rho**2 + 128*sqrt(pi)*r_0**7*sqrt(a_s*r_0)*(rho/r_0**3)**(5/2)/45 + 256*sqrt(pi)*r_0**5*(a_s*r_0)**(5/2)*(rho/r_0**3)**(5/2)/15"
            ]
          },
          "execution_count": 8,
          "metadata": {},
          "output_type": "execute_result"
        }
      ],
      "source": [
        "# Energy is given in units \\hbar^2 / (m * r_0^2)\n",
        "eps_mflhy = (eps_mflhy / (hbar**2 / (m * r_0**2) / r_0**3)).expand()\n",
        "eps_mflhy = eps_mflhy.subs(a_s, a_s * r_0)\n",
        "eps_mflhy"
      ]
    },
    {
      "cell_type": "code",
      "execution_count": 9,
      "metadata": {
        "colab": {
          "base_uri": "https://localhost:8080/",
          "height": 72
        },
        "id": "3kCAZc0KtyNz",
        "outputId": "2385e80f-da3d-4021-ba72-829df41948f8"
      },
      "outputs": [
        {
          "data": {
            "text/latex": [
              "$\\displaystyle 2 \\pi a_{s} \\rho^{2} + \\frac{128 \\sqrt{\\pi} r_{0}^{7} \\sqrt{a_{s} r_{0}} \\left(\\frac{\\rho}{r_{0}^{3}}\\right)^{\\frac{5}{2}}}{45} + \\frac{256 \\sqrt{\\pi} r_{0}^{5} \\left(a_{s} r_{0}\\right)^{\\frac{5}{2}} \\left(\\frac{\\rho}{r_{0}^{3}}\\right)^{\\frac{5}{2}}}{15}$"
            ],
            "text/plain": [
              "2*pi*a_s*rho**2 + 128*sqrt(pi)*r_0**7*sqrt(a_s*r_0)*(rho/r_0**3)**(5/2)/45 + 256*sqrt(pi)*r_0**5*(a_s*r_0)**(5/2)*(rho/r_0**3)**(5/2)/15"
            ]
          },
          "execution_count": 9,
          "metadata": {},
          "output_type": "execute_result"
        }
      ],
      "source": [
        "eps_mflhy"
      ]
    },
    {
      "cell_type": "code",
      "execution_count": 10,
      "metadata": {
        "colab": {
          "base_uri": "https://localhost:8080/",
          "height": 38
        },
        "id": "t8CrHUVFuwhc",
        "outputId": "b64e4bc3-f253-4ad8-d76e-d72a951bd812"
      },
      "outputs": [
        {
          "data": {
            "text/latex": [
              "$\\displaystyle 2 \\pi a_{s}$"
            ],
            "text/plain": [
              "2*pi*a_s"
            ]
          },
          "execution_count": 10,
          "metadata": {},
          "output_type": "execute_result"
        }
      ],
      "source": [
        "alpha = 2 * pi * a_s\n",
        "alpha"
      ]
    },
    {
      "cell_type": "code",
      "execution_count": 11,
      "metadata": {
        "colab": {
          "base_uri": "https://localhost:8080/",
          "height": 72
        },
        "id": "87O-ZOXaygYS",
        "outputId": "ee2c57d8-4ad7-411f-c415-e1d88d8e5b46"
      },
      "outputs": [
        {
          "data": {
            "text/latex": [
              "$\\displaystyle 2 \\pi a_{s} \\rho^{2} + \\frac{128 \\sqrt{\\pi} r_{0}^{7} \\sqrt{a_{s} r_{0}} \\left(\\frac{\\rho}{r_{0}^{3}}\\right)^{\\frac{5}{2}}}{45} + \\frac{256 \\sqrt{\\pi} r_{0}^{5} \\left(a_{s} r_{0}\\right)^{\\frac{5}{2}} \\left(\\frac{\\rho}{r_{0}^{3}}\\right)^{\\frac{5}{2}}}{15}$"
            ],
            "text/plain": [
              "2*pi*a_s*rho**2 + 128*sqrt(pi)*r_0**7*sqrt(a_s*r_0)*(rho/r_0**3)**(5/2)/45 + 256*sqrt(pi)*r_0**5*(a_s*r_0)**(5/2)*(rho/r_0**3)**(5/2)/15"
            ]
          },
          "execution_count": 11,
          "metadata": {},
          "output_type": "execute_result"
        }
      ],
      "source": [
        "eps_mflhy"
      ]
    },
    {
      "cell_type": "code",
      "execution_count": 12,
      "metadata": {
        "colab": {
          "base_uri": "https://localhost:8080/",
          "height": 60
        },
        "id": "dEPCU4EMx9i7",
        "outputId": "7ffcff5a-b95d-45c3-c9b9-e2b81bfe1cec"
      },
      "outputs": [
        {
          "data": {
            "text/latex": [
              "$\\displaystyle \\frac{256 \\sqrt{\\pi} a_{s}^{\\frac{5}{2}}}{15} + \\frac{128 \\sqrt{\\pi} \\sqrt{a_{s}}}{45}$"
            ],
            "text/plain": [
              "256*sqrt(pi)*a_s**(5/2)/15 + 128*sqrt(pi)*sqrt(a_s)/45"
            ]
          },
          "execution_count": 12,
          "metadata": {},
          "output_type": "execute_result"
        }
      ],
      "source": [
        "beta = (simplify(((eps_mflhy - alpha * rho**2) / rho**(frac('1/2'))/rho**2).expand()).subs(rho, 1)).expand().subs(r_0, 1)\n",
        "beta"
      ]
    },
    {
      "cell_type": "code",
      "execution_count": 13,
      "metadata": {
        "colab": {
          "base_uri": "https://localhost:8080/",
          "height": 56
        },
        "id": "qwIx3hg926Mn",
        "outputId": "ad760ffc-c34b-466b-b290-00e2846564c7"
      },
      "outputs": [
        {
          "data": {
            "text/latex": [
              "$\\displaystyle \\frac{128 \\sqrt{\\pi} \\sqrt{a_{s}} \\left(6 a_{s}^{2} + 1\\right)}{45}$"
            ],
            "text/plain": [
              "128*sqrt(pi)*sqrt(a_s)*(6*a_s**2 + 1)/45"
            ]
          },
          "execution_count": 13,
          "metadata": {},
          "output_type": "execute_result"
        }
      ],
      "source": [
        "simplify(beta)"
      ]
    },
    {
      "cell_type": "code",
      "execution_count": 14,
      "metadata": {
        "colab": {
          "base_uri": "https://localhost:8080/"
        },
        "id": "unI8OUDkwsMG",
        "outputId": "378526b0-4510-46ca-a7fa-d38ab59d81bc"
      },
      "outputs": [
        {
          "name": "stdout",
          "output_type": "stream",
          "text": [
            "256*sqrt(pi)*a_s**(5/2)/15 + 128*sqrt(pi)*sqrt(a_s)/45\n"
          ]
        }
      ],
      "source": [
        "print(beta)"
      ]
    },
    {
      "cell_type": "code",
      "execution_count": 15,
      "metadata": {
        "id": "s3PcLtQKwt_4"
      },
      "outputs": [],
      "source": [
        "# 256*np.sqrt(np.pi)*a_s**(5/2)/15 + 128*np.sqrt(np.pi)*np.sqrt(a_s)/45\n"
      ]
    },
    {
      "cell_type": "markdown",
      "metadata": {
        "id": "d8rJTJv0qNKj"
      },
      "source": [
        "# Derivation of MF+LHY energy per particle"
      ]
    },
    {
      "cell_type": "markdown",
      "metadata": {
        "id": "0UliEAjI0Bjs"
      },
      "source": []
    },
    {
      "cell_type": "code",
      "execution_count": 16,
      "metadata": {
        "colab": {
          "base_uri": "https://localhost:8080/",
          "height": 70
        },
        "id": "BZn3foFq5Lkk",
        "outputId": "83a2f7e3-39ff-4392-bea4-e50311e0d87c"
      },
      "outputs": [
        {
          "data": {
            "text/latex": [
              "$\\displaystyle \\frac{\\sqrt{N} e^{- \\frac{s^{2}}{2 \\sigma_{s}^{2}} - \\frac{z^{2}}{2 \\sigma_{z}^{2}}}}{\\pi^{0.75} \\sigma_{s} \\sqrt{\\sigma_{z}}}$"
            ],
            "text/plain": [
              "pi**(-0.75)*sqrt(N)*exp(-s**2/(2*sigma_s**2) - z**2/(2*sigma_z**2))/(sigma_s*sqrt(sigma_z))"
            ]
          },
          "execution_count": 16,
          "metadata": {},
          "output_type": "execute_result"
        }
      ],
      "source": [
        "N, s, z = symbols('N s z', real=True)\n",
        "sigma_s, sigma_z = symbols('sigma_s, sigma_z', real=True)\n",
        "alpha, beta, gamma = symbols('alpha, beta, gamma', real=True)\n",
        "\n",
        "psi = sqrt(N) / (pi**(3/4) * sigma_s * sqrt(sigma_z)) * exp(-s**2/(sigma_s)**2/2 - z**2/(sigma_z)**2/2)\n",
        "psi"
      ]
    },
    {
      "cell_type": "markdown",
      "metadata": {
        "id": "qEwWYX5k7bNr"
      },
      "source": [
        "Double check to see if we get the correct norm."
      ]
    },
    {
      "cell_type": "code",
      "execution_count": 17,
      "metadata": {
        "colab": {
          "base_uri": "https://localhost:8080/",
          "height": 38
        },
        "id": "lTUjShoh5shG",
        "outputId": "f0bf7643-9115-442f-b4e7-3b3d473e8140"
      },
      "outputs": [
        {
          "data": {
            "text/latex": [
              "$\\displaystyle N$"
            ],
            "text/plain": [
              "N"
            ]
          },
          "execution_count": 17,
          "metadata": {},
          "output_type": "execute_result"
        }
      ],
      "source": [
        "norm = integrate(psi**2 * 2*pi*s, (s, 0, oo), conds='none')\n",
        "norm = integrate(norm, (z, -oo, oo), conds='none')\n",
        "norm"
      ]
    },
    {
      "cell_type": "code",
      "execution_count": 18,
      "metadata": {
        "id": "l9FqM7Dd-5A3"
      },
      "outputs": [],
      "source": [
        "density = psi**2"
      ]
    },
    {
      "cell_type": "code",
      "execution_count": 19,
      "metadata": {
        "colab": {
          "base_uri": "https://localhost:8080/",
          "height": 70
        },
        "id": "mntCSGwx-Cnl",
        "outputId": "c7bee024-7847-40e5-da80-1094fdd09ae4"
      },
      "outputs": [
        {
          "data": {
            "text/latex": [
              "$\\displaystyle \\frac{N \\beta e^{- 1.5 \\gamma \\log{\\left(\\pi \\right)}} e^{\\gamma \\log{\\left(N \\right)}} e^{- 2 \\gamma \\log{\\left(\\sigma_{s} \\right)}} e^{- \\gamma \\log{\\left(\\sigma_{z} \\right)}} e^{- \\frac{s^{2}}{\\sigma_{s}^{2}}} e^{- \\frac{z^{2}}{\\sigma_{z}^{2}}} e^{- \\frac{\\gamma s^{2}}{\\sigma_{s}^{2}}} e^{- \\frac{\\gamma z^{2}}{\\sigma_{z}^{2}}}}{\\pi^{1.5} \\sigma_{s}^{2} \\sigma_{z}}$"
            ],
            "text/plain": [
              "pi**(-1.5)*N*beta*exp(-1.5*gamma*log(pi))*exp(gamma*log(N))*exp(-2*gamma*log(sigma_s))*exp(-gamma*log(sigma_z))*exp(-s**2/sigma_s**2)*exp(-z**2/sigma_z**2)*exp(-gamma*s**2/sigma_s**2)*exp(-gamma*z**2/sigma_z**2)/(sigma_s**2*sigma_z)"
            ]
          },
          "execution_count": 19,
          "metadata": {},
          "output_type": "execute_result"
        }
      ],
      "source": [
        "gamma_term = beta*pow(density,(gamma + 1))\n",
        "lhy_energy = exp(expand_log(log(gamma_term), force=True)).expand()\n",
        "lhy_energy"
      ]
    },
    {
      "cell_type": "code",
      "execution_count": 20,
      "metadata": {
        "colab": {
          "base_uri": "https://localhost:8080/",
          "height": 70
        },
        "id": "P929wKq-7m89",
        "outputId": "2bbb54b1-f6fe-4d7b-fac6-a2b9903f4378"
      },
      "outputs": [
        {
          "data": {
            "text/latex": [
              "$\\displaystyle \\frac{N^{2} \\alpha e^{- \\frac{2 s^{2}}{\\sigma_{s}^{2}} - \\frac{2 z^{2}}{\\sigma_{z}^{2}}}}{\\pi^{3.0} \\sigma_{s}^{4} \\sigma_{z}^{2}} + \\frac{N \\beta e^{- 1.5 \\gamma \\log{\\left(\\pi \\right)}} e^{\\gamma \\log{\\left(N \\right)}} e^{- 2 \\gamma \\log{\\left(\\sigma_{s} \\right)}} e^{- \\gamma \\log{\\left(\\sigma_{z} \\right)}} e^{- \\frac{s^{2}}{\\sigma_{s}^{2}}} e^{- \\frac{z^{2}}{\\sigma_{z}^{2}}} e^{- \\frac{\\gamma s^{2}}{\\sigma_{s}^{2}}} e^{- \\frac{\\gamma z^{2}}{\\sigma_{z}^{2}}}}{\\pi^{1.5} \\sigma_{s}^{2} \\sigma_{z}}$"
            ],
            "text/plain": [
              "pi**(-3.0)*N**2*alpha*exp(-2*s**2/sigma_s**2 - 2*z**2/sigma_z**2)/(sigma_s**4*sigma_z**2) + pi**(-1.5)*N*beta*exp(-1.5*gamma*log(pi))*exp(gamma*log(N))*exp(-2*gamma*log(sigma_s))*exp(-gamma*log(sigma_z))*exp(-s**2/sigma_s**2)*exp(-z**2/sigma_z**2)*exp(-gamma*s**2/sigma_s**2)*exp(-gamma*z**2/sigma_z**2)/(sigma_s**2*sigma_z)"
            ]
          },
          "execution_count": 20,
          "metadata": {},
          "output_type": "execute_result"
        }
      ],
      "source": [
        "\n",
        "energy_delta = alpha * density**2 + lhy_energy\n",
        "# energy_delta = energy_delta.expand()\n",
        "energy_delta"
      ]
    },
    {
      "cell_type": "code",
      "execution_count": 21,
      "metadata": {
        "colab": {
          "base_uri": "https://localhost:8080/",
          "height": 70
        },
        "id": "74T7qXL-AAuo",
        "outputId": "2801769b-504d-4d66-bc94-6945a559a3c7"
      },
      "outputs": [
        {
          "data": {
            "text/latex": [
              "$\\displaystyle \\frac{N \\alpha e^{- \\frac{2 s^{2}}{\\sigma_{s}^{2}}} e^{- \\frac{2 z^{2}}{\\sigma_{z}^{2}}}}{\\pi^{3.0} \\sigma_{s}^{4} \\sigma_{z}^{2}} + \\frac{\\pi^{- 1.5 \\gamma} \\beta e^{\\gamma \\log{\\left(N \\right)}} e^{- 2 \\gamma \\log{\\left(\\sigma_{s} \\right)}} e^{- \\gamma \\log{\\left(\\sigma_{z} \\right)}} e^{- \\frac{s^{2}}{\\sigma_{s}^{2}}} e^{- \\frac{z^{2}}{\\sigma_{z}^{2}}} e^{- \\frac{\\gamma s^{2}}{\\sigma_{s}^{2}}} e^{- \\frac{\\gamma z^{2}}{\\sigma_{z}^{2}}}}{\\pi^{1.5} \\sigma_{s}^{2} \\sigma_{z}}$"
            ],
            "text/plain": [
              "pi**(-3.0)*N*alpha*exp(-2*s**2/sigma_s**2)*exp(-2*z**2/sigma_z**2)/(sigma_s**4*sigma_z**2) + pi**(-1.5)*pi**(-1.5*gamma)*beta*exp(gamma*log(N))*exp(-2*gamma*log(sigma_s))*exp(-gamma*log(sigma_z))*exp(-s**2/sigma_s**2)*exp(-z**2/sigma_z**2)*exp(-gamma*s**2/sigma_s**2)*exp(-gamma*z**2/sigma_z**2)/(sigma_s**2*sigma_z)"
            ]
          },
          "execution_count": 21,
          "metadata": {},
          "output_type": "execute_result"
        }
      ],
      "source": [
        "energy_delta = expand(simplify(energy_delta / N))\n",
        "energy_delta"
      ]
    },
    {
      "cell_type": "code",
      "execution_count": 22,
      "metadata": {
        "colab": {
          "base_uri": "https://localhost:8080/",
          "height": 65
        },
        "id": "JNuqTi8Q5s1h",
        "outputId": "3ce2649a-72d4-4037-f35a-15660776c111"
      },
      "outputs": [
        {
          "data": {
            "text/latex": [
              "$\\displaystyle \\frac{\\sqrt{2} N \\alpha}{4 \\pi^{1.5} \\sigma_{s}^{2} \\sigma_{z}} + \\frac{\\pi^{- 1.5 \\gamma} \\beta e^{\\gamma \\log{\\left(N \\right)} - 2 \\gamma \\log{\\left(\\sigma_{s} \\right)} - \\gamma \\log{\\left(\\sigma_{z} \\right)}}}{\\left(\\gamma + 1\\right)^{\\frac{3}{2}}}$"
            ],
            "text/plain": [
              "sqrt(2)*pi**(-1.5)*N*alpha/(4*sigma_s**2*sigma_z) + pi**(-1.5*gamma)*beta*exp(gamma*log(N) - 2*gamma*log(sigma_s) - gamma*log(sigma_z))/(gamma + 1)**(3/2)"
            ]
          },
          "execution_count": 22,
          "metadata": {},
          "output_type": "execute_result"
        }
      ],
      "source": [
        "en_mflhy = integrate(energy_delta, (z, -oo, oo), conds='none')\n",
        "en_mflhy = integrate(en_mflhy *  2*pi*s, (s, 0, oo), conds='none')\n",
        "en_mflhy"
      ]
    },
    {
      "cell_type": "markdown",
      "metadata": {
        "id": "MBYEBT28BtAb"
      },
      "source": [
        "Great! Let's print it so we can plug it into our $n_c$ solver"
      ]
    },
    {
      "cell_type": "code",
      "execution_count": 23,
      "metadata": {
        "colab": {
          "base_uri": "https://localhost:8080/"
        },
        "id": "AS8CjGfo9bJZ",
        "outputId": "4fc0c6d3-ba07-4bd5-eebb-a7f5503b541d"
      },
      "outputs": [
        {
          "name": "stdout",
          "output_type": "stream",
          "text": [
            "sqrt(2)*pi**(-1.5)*N*alpha/(4*sigma_s**2*sigma_z) + pi**(-1.5*gamma)*beta*exp(gamma*log(N) - 2*gamma*log(sigma_s) - gamma*log(sigma_z))/(gamma + 1)**(3/2)\n"
          ]
        }
      ],
      "source": [
        "print(en_mflhy)"
      ]
    },
    {
      "cell_type": "code",
      "execution_count": 24,
      "metadata": {
        "id": "kbcSgwklAJDI"
      },
      "outputs": [],
      "source": [
        "# en_mflhy = np.sqrt(2)*np.pi**(-1.5)*N*alpha/(4*sr**2*sz) + np.pi**(-1.5*gamma)*beta*np.exp(gamma*np.log(N) - 2*gamma*np.log(sr) - gamma*np.log(sz))/(gamma + 1)**(3/2)\n",
        "\n"
      ]
    },
    {
      "cell_type": "markdown",
      "metadata": {
        "id": "Tm02l58ABww5"
      },
      "source": [
        "# Dipolar part\n",
        "\n",
        "OK, now that we've got the easy part done, let's estimate the dipolar interaction energy"
      ]
    },
    {
      "cell_type": "code",
      "execution_count": 24,
      "metadata": {
        "id": "1OHZQ4bcB2jL"
      },
      "outputs": [],
      "source": []
    }
  ],
  "metadata": {
    "colab": {
      "authorship_tag": "ABX9TyMBeFX9mbSRi3qsNYnucJwr",
      "collapsed_sections": [],
      "include_colab_link": true,
      "provenance": [],
      "toc_visible": true
    },
    "kernelspec": {
      "display_name": "Python 3.8.13 ('mlp')",
      "language": "python",
      "name": "python3"
    },
    "language_info": {
      "name": "python",
      "version": "3.8.13"
    },
    "vscode": {
      "interpreter": {
        "hash": "5fc8cc4423f23a87e418a855553ca5df0686e4c1b4502d1b16c3e8233d998187"
      }
    }
  },
  "nbformat": 4,
  "nbformat_minor": 0
}
