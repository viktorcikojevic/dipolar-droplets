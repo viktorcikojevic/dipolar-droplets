{
 "cells": [
  {
   "cell_type": "code",
   "execution_count": 2,
   "metadata": {},
   "outputs": [],
   "source": [
    "\n",
    "import numpy as np\n",
    "import random\n",
    "from numpy import loadtxt\n",
    "from scipy.optimize import curve_fit\n",
    "import os\n",
    "import matplotlib.pyplot as plt\n",
    "\n",
    "import scipy.special\n",
    "from scipy.optimize import fmin\n"
   ]
  },
  {
   "cell_type": "markdown",
   "metadata": {},
   "source": [
    "# Analyze recipe-7"
   ]
  },
  {
   "cell_type": "code",
   "execution_count": 3,
   "metadata": {},
   "outputs": [
    {
     "name": "stdout",
     "output_type": "stream",
     "text": [
      "a_s = 60.0, average = 211.76075000000003, std = 7.674663115570607\n",
      "a_s = 70.0, average = 666.5452499999999, std = 116.22577005848358\n",
      "a_s = 80.0, average = 821.678, std = 0.0\n",
      "a_s = 90.0, average = 2468.0125, std = 622.7011076100234\n",
      "a_s = 101.57, average = 7707.866250000001, std = 1220.5816930867177\n",
      "a_s = 110.0, average = 18411.9625, std = 3274.1146077747117\n"
     ]
    }
   ],
   "source": [
    "data = np.loadtxt(\"./results/critical-atom-numbers/recipe-7-nc/functionals_E_N.dat\")\n",
    "# the header is: a_s  n_c_best_possible_fit  rho_min_x  rho_max_x  alpha  alpha_opt  beta  gamma  min_energy  \n",
    "# read all data\n",
    "a_s = data[:,0]\n",
    "n_c_best_possible_fit = data[:,1]\n",
    "rho_min_x = data[:,2]\n",
    "rho_max_x = data[:,3]\n",
    "alpha = data[:,4]\n",
    "alpha_opt = data[:,5]\n",
    "beta = data[:,6]\n",
    "gamma = data[:,7]\n",
    "\n",
    "# Take only the data where rho_min_x is smaller than 0.8, and rho_max_x is larger than 2.0\n",
    "indices = np.where((rho_min_x < 0.7) & (rho_min_x > 0.4) & (rho_max_x > 1.5) & (rho_max_x < 2.5))\n",
    "a_s = a_s[indices]\n",
    "n_c_best_possible_fit = n_c_best_possible_fit[indices]\n",
    "rho_min_x = rho_min_x[indices]\n",
    "rho_max_x = rho_max_x[indices]\n",
    "alpha = alpha[indices]\n",
    "alpha_opt = alpha_opt[indices]\n",
    "beta = beta[indices]\n",
    "gamma = gamma[indices]\n",
    "\n",
    "\n",
    "# get unique values of a_s_unique\n",
    "a_s_unique = np.unique(a_s)\n",
    "\n",
    "# For each unique value in a_s, find the average and standard deviation of n_c_best_possible_fit. Print the results and save them to a file in folder ./results/critical-atom-numbers/recipe-7-nc/.\n",
    "# Let each row in the file be a_s, average, standard deviation\n",
    "# Let the file be named: functionals_E_N_average_std.dat\n",
    "average = np.zeros(len(a_s_unique))\n",
    "std = np.zeros(len(a_s_unique))\n",
    "for i in range(len(a_s_unique)):\n",
    "    average[i] = np.average(n_c_best_possible_fit[a_s==a_s_unique[i]])\n",
    "    std[i] = np.std(n_c_best_possible_fit[a_s==a_s_unique[i]])\n",
    "    print(\"a_s = {}, average = {}, std = {}\".format(a_s_unique[i], average[i], std[i]))\n",
    "np.savetxt(\"./results/critical-atom-numbers/recipe-7-nc/functionals_E_N_average_std.dat\", np.transpose([a_s_unique, average, std]))\n",
    "    "
   ]
  },
  {
   "cell_type": "markdown",
   "metadata": {},
   "source": [
    "# Analyze recipe-7-freeze-beta"
   ]
  },
  {
   "cell_type": "code",
   "execution_count": 4,
   "metadata": {},
   "outputs": [
    {
     "name": "stdout",
     "output_type": "stream",
     "text": [
      "a_s = 60.0, average = 10650.199999999999, std = 4679.793854746703\n",
      "a_s = 70.0, average = 270000.0, std = 0.0\n",
      "a_s = 80.0, average = 270000.0, std = 0.0\n",
      "a_s = 90.0, average = 270000.0, std = 0.0\n",
      "a_s = 101.57, average = 270000.0, std = 0.0\n",
      "a_s = 110.0, average = 270000.0, std = 0.0\n"
     ]
    }
   ],
   "source": [
    "data = np.loadtxt(\"./results/critical-atom-numbers/recipe-7-freeze-beta/functionals_E_N.dat\")\n",
    "# the header is: a_s  n_c_best_possible_fit  rho_min_x  rho_max_x  alpha  alpha_opt  beta  gamma  min_energy  \n",
    "# read all data\n",
    "a_s = data[:,0]\n",
    "n_c_best_possible_fit = data[:,1]\n",
    "rho_min_x = data[:,2]\n",
    "rho_max_x = data[:,3]\n",
    "\n",
    "\n",
    "# Take only the data where rho_min_x is smaller than 0.8, and rho_max_x is larger than 2.0\n",
    "indices = np.where((rho_min_x < 0.7) & (rho_min_x > 0.4) & (rho_max_x > 1.5) & (rho_max_x < 2.5))\n",
    "a_s = a_s[indices]\n",
    "n_c_best_possible_fit = n_c_best_possible_fit[indices]\n",
    "rho_min_x = rho_min_x[indices]\n",
    "rho_max_x = rho_max_x[indices]\n",
    "\n",
    "\n",
    "\n",
    "# get unique values of a_s_unique\n",
    "a_s_unique = np.unique(a_s)\n",
    "\n",
    "# For each unique value in a_s, find the average and standard deviation of n_c_best_possible_fit. Print the results and save them to a file in folder ./results/critical-atom-numbers/recipe-7-freeze-beta/.\n",
    "# Let each row in the file be a_s, average, standard deviation\n",
    "# Let the file be named: functionals_E_N_average_std.dat\n",
    "average = np.zeros(len(a_s_unique))\n",
    "std = np.zeros(len(a_s_unique))\n",
    "for i in range(len(a_s_unique)):\n",
    "    average[i] = np.average(n_c_best_possible_fit[a_s==a_s_unique[i]])\n",
    "    std[i] = np.std(n_c_best_possible_fit[a_s==a_s_unique[i]])\n",
    "    print(\"a_s = {}, average = {}, std = {}\".format(a_s_unique[i], average[i], std[i]))\n",
    "np.savetxt(\"./results/critical-atom-numbers/recipe-7-freeze-beta/functionals_E_N_average_std.dat\", np.transpose([a_s_unique, average, std]))\n",
    "    "
   ]
  },
  {
   "cell_type": "markdown",
   "metadata": {},
   "source": [
    "# Analyze recipe-7-freeze-gamma"
   ]
  },
  {
   "cell_type": "code",
   "execution_count": 5,
   "metadata": {},
   "outputs": [
    {
     "name": "stdout",
     "output_type": "stream",
     "text": [
      "a_s = 60.0, average = 409.38149999999996, std = 21.140679595273188\n",
      "a_s = 70.0, average = 702.5345, std = 36.97550000000001\n",
      "a_s = 80.0, average = 1488.15125, std = 74.85024439464115\n",
      "a_s = 90.0, average = 3546.85375, std = 118.78431229938366\n",
      "a_s = 101.57, average = 11445.6, std = 0.0\n",
      "a_s = 110.0, average = 40525.6, std = 0.0\n"
     ]
    }
   ],
   "source": [
    "data = np.loadtxt(\"./results/critical-atom-numbers/recipe-7-freeze-gamma/functionals_E_N.dat\")\n",
    "# the header is: a_s  n_c_best_possible_fit  rho_min_x  rho_max_x  alpha  alpha_opt  beta  gamma  min_energy  \n",
    "# read all data\n",
    "a_s = data[:,0]\n",
    "n_c_best_possible_fit = data[:,1]\n",
    "rho_min_x = data[:,2]\n",
    "rho_max_x = data[:,3]\n",
    "\n",
    "\n",
    "# Take only the data where rho_min_x is smaller than 0.8, and rho_max_x is larger than 2.0\n",
    "indices = np.where((rho_min_x < 0.7) & (rho_min_x > 0.4) & (rho_max_x > 1.5) & (rho_max_x < 2.5))\n",
    "a_s = a_s[indices]\n",
    "n_c_best_possible_fit = n_c_best_possible_fit[indices]\n",
    "rho_min_x = rho_min_x[indices]\n",
    "rho_max_x = rho_max_x[indices]\n",
    "\n",
    "\n",
    "\n",
    "# get unique values of a_s_unique\n",
    "a_s_unique = np.unique(a_s)\n",
    "\n",
    "# For each unique value in a_s, find the average and standard deviation of n_c_best_possible_fit. Print the results and save them to a file in folder ./results/critical-atom-numbers/recipe-7-freeze-gamma/.\n",
    "# Let each row in the file be a_s, average, standard deviation\n",
    "# Let the file be named: functionals_E_N_average_std.dat\n",
    "average = np.zeros(len(a_s_unique))\n",
    "std = np.zeros(len(a_s_unique))\n",
    "for i in range(len(a_s_unique)):\n",
    "    average[i] = np.average(n_c_best_possible_fit[a_s==a_s_unique[i]])\n",
    "    std[i] = np.std(n_c_best_possible_fit[a_s==a_s_unique[i]])\n",
    "    print(\"a_s = {}, average = {}, std = {}\".format(a_s_unique[i], average[i], std[i]))\n",
    "np.savetxt(\"./results/critical-atom-numbers/recipe-7-freeze-gamma/functionals_E_N_average_std.dat\", np.transpose([a_s_unique, average, std]))\n",
    "    "
   ]
  },
  {
   "cell_type": "markdown",
   "metadata": {},
   "source": [
    "# Analyze recipe-8"
   ]
  },
  {
   "cell_type": "code",
   "execution_count": 6,
   "metadata": {},
   "outputs": [
    {
     "name": "stdout",
     "output_type": "stream",
     "text": [
      "a_s = 60.0, average = 332.483375, std = 28.898384894045133\n",
      "a_s = 70.0, average = 1251.7540000000001, std = 380.6250049300493\n",
      "a_s = 80.0, average = 1472.69, std = 127.20181130785845\n",
      "a_s = 90.0, average = 3290.32875, std = 1148.705179892098\n",
      "a_s = 101.57, average = 14480.3875, std = 4489.187679772227\n",
      "a_s = 110.0, average = 58678.95, std = 3088.350000000002\n"
     ]
    }
   ],
   "source": [
    "data = np.loadtxt(\"./results/critical-atom-numbers/recipe-8-nc/functionals_E_N.dat\")\n",
    "# the header is: a_s  n_c_best_possible_fit  rho_min_x  rho_max_x  alpha  alpha_opt  beta  gamma  min_energy  \n",
    "# read all data\n",
    "a_s = data[:,0]\n",
    "n_c_best_possible_fit = data[:,1]\n",
    "rho_min_x = data[:,2]\n",
    "rho_max_x = data[:,3]\n",
    "alpha = data[:,4]\n",
    "alpha_opt = data[:,5]\n",
    "beta = data[:,6]\n",
    "gamma = data[:,7]\n",
    "\n",
    "# Take only the data where rho_min_x is smaller than 0.8, and rho_max_x is larger than 2.0\n",
    "indices = np.where((rho_min_x < 0.7) & (rho_min_x > 0.4) & (rho_max_x > 1.5) & (rho_max_x < 2.5))\n",
    "a_s = a_s[indices]\n",
    "n_c_best_possible_fit = n_c_best_possible_fit[indices]\n",
    "rho_min_x = rho_min_x[indices]\n",
    "rho_max_x = rho_max_x[indices]\n",
    "alpha = alpha[indices]\n",
    "alpha_opt = alpha_opt[indices]\n",
    "beta = beta[indices]\n",
    "gamma = gamma[indices]\n",
    "\n",
    "\n",
    "# get unique values of a_s_unique\n",
    "a_s_unique = np.unique(a_s)\n",
    "\n",
    "# For each unique value in a_s, find the average and standard deviation of n_c_best_possible_fit. Print the results and save them to a file in folder ./results/critical-atom-numbers/recipe-8-nc/.\n",
    "# Let each row in the file be a_s, average, standard deviation\n",
    "# Let the file be named: functionals_E_N_average_std.dat\n",
    "average = np.zeros(len(a_s_unique))\n",
    "std = np.zeros(len(a_s_unique))\n",
    "for i in range(len(a_s_unique)):\n",
    "    average[i] = np.average(n_c_best_possible_fit[a_s==a_s_unique[i]])\n",
    "    std[i] = np.std(n_c_best_possible_fit[a_s==a_s_unique[i]])\n",
    "    print(\"a_s = {}, average = {}, std = {}\".format(a_s_unique[i], average[i], std[i]))\n",
    "np.savetxt(\"./results/critical-atom-numbers/recipe-8-nc/functionals_E_N_average_std.dat\", np.transpose([a_s_unique, average, std]))\n",
    "    "
   ]
  },
  {
   "cell_type": "markdown",
   "metadata": {},
   "source": [
    "# Analyze recipe-8: (2nd approach, take beta=beta_mflhy, fit gamma)"
   ]
  },
  {
   "cell_type": "code",
   "execution_count": 7,
   "metadata": {},
   "outputs": [
    {
     "name": "stdout",
     "output_type": "stream",
     "text": [
      "a_s = 60.0, average = 665.559, std = 0.0\n",
      "a_s = 70.0, average = 5129.72875, std = 2717.990936525716\n",
      "a_s = 80.0, average = 53252.75, std = 82373.9461619085\n",
      "a_s = 90.0, average = 270000.0, std = 0.0\n",
      "a_s = 101.57, average = 270000.0, std = 0.0\n",
      "a_s = 110.0, average = 270000.0, std = 0.0\n"
     ]
    }
   ],
   "source": [
    "data = np.loadtxt(\"./results/critical-atom-numbers/recipe-8-nc-approach-2/functionals_E_N.dat\")\n",
    "# the header is: a_s  n_c_best_possible_fit  rho_min_x  rho_max_x  alpha  alpha_opt  beta  gamma  min_energy  \n",
    "# read all data\n",
    "a_s = data[:,0]\n",
    "n_c_best_possible_fit = data[:,1]\n",
    "rho_min_x = data[:,2]\n",
    "rho_max_x = data[:,3]\n",
    "alpha = data[:,4]\n",
    "alpha_opt = data[:,5]\n",
    "gamma = data[:,6]\n",
    "\n",
    "# Take only the data where rho_min_x is smaller than 0.8, and rho_max_x is larger than 2.0\n",
    "indices = np.where((rho_min_x < 0.7) & (rho_min_x > 0.4) & (rho_max_x > 1.5) & (rho_max_x < 2.5))\n",
    "a_s = a_s[indices]\n",
    "n_c_best_possible_fit = n_c_best_possible_fit[indices]\n",
    "rho_min_x = rho_min_x[indices]\n",
    "rho_max_x = rho_max_x[indices]\n",
    "alpha = alpha[indices]\n",
    "alpha_opt = alpha_opt[indices]\n",
    "gamma = gamma[indices]\n",
    "\n",
    "\n",
    "# get unique values of a_s_unique\n",
    "a_s_unique = np.unique(a_s)\n",
    "\n",
    "# For each unique value in a_s, find the average and standard deviation of n_c_best_possible_fit. Print the results and save them to a file in folder ./results/critical-atom-numbers/recipe-8-nc/.\n",
    "# Let each row in the file be a_s, average, standard deviation\n",
    "# Let the file be named: functionals_E_N_average_std.dat\n",
    "average = np.zeros(len(a_s_unique))\n",
    "std = np.zeros(len(a_s_unique))\n",
    "for i in range(len(a_s_unique)):\n",
    "    average[i] = np.average(n_c_best_possible_fit[a_s==a_s_unique[i]])\n",
    "    std[i] = np.std(n_c_best_possible_fit[a_s==a_s_unique[i]])\n",
    "    print(\"a_s = {}, average = {}, std = {}\".format(a_s_unique[i], average[i], std[i]))\n",
    "np.savetxt(\"./results/critical-atom-numbers/recipe-8-nc-approach-2/functionals_E_N_average_std.dat\", np.transpose([a_s_unique, average, std]))\n",
    "    "
   ]
  },
  {
   "attachments": {},
   "cell_type": "markdown",
   "metadata": {},
   "source": [
    "# Analyze recipe-8: (3nd approach, take beta=beta_mflhy, fit gamma)"
   ]
  },
  {
   "cell_type": "code",
   "execution_count": 18,
   "metadata": {},
   "outputs": [
    {
     "name": "stdout",
     "output_type": "stream",
     "text": [
      "a_s = 60.0, average = 143.546, std = 17.082234389856612\n",
      "a_s = 70.0, average = 988.663375, std = 763.4486646598999\n",
      "a_s = 80.0, average = 614.402625, std = 89.43184524812385\n",
      "a_s = 90.0, average = 1346.29025, std = 866.3338154927277\n",
      "a_s = 101.57, average = 6057.67125, std = 3460.8171468687765\n",
      "a_s = 110.0, average = 23893.7125, std = 3631.53971079675\n"
     ]
    }
   ],
   "source": [
    "data = np.loadtxt(\"./results/critical-atom-numbers/recipe-8-nc-approach-3/functionals_E_N.dat\")\n",
    "# the header is: a_s  n_c_best_possible_fit  rho_min_x  rho_max_x  alpha  alpha_opt  beta  gamma  min_energy  \n",
    "# read all data\n",
    "a_s = data[:,0]\n",
    "n_c_best_possible_fit = data[:,1]\n",
    "rho_min_x = data[:,2]\n",
    "rho_max_x = data[:,3]\n",
    "alpha = data[:,4]\n",
    "alpha_opt = data[:,5]\n",
    "beta = data[:,6]\n",
    "gamma = data[:,7]\n",
    "\n",
    "# Take only the data where rho_min_x is smaller than 0.8, and rho_max_x is larger than 2.0\n",
    "indices = np.where((rho_min_x < 0.7) & (rho_min_x > 0.4) & (rho_max_x > 1.5) & (rho_max_x < 2.5))\n",
    "a_s = a_s[indices]\n",
    "n_c_best_possible_fit = n_c_best_possible_fit[indices]\n",
    "rho_min_x = rho_min_x[indices]\n",
    "rho_max_x = rho_max_x[indices]\n",
    "alpha = alpha[indices]\n",
    "alpha_opt = alpha_opt[indices]\n",
    "gamma = gamma[indices]\n",
    "\n",
    "\n",
    "# get unique values of a_s_unique\n",
    "a_s_unique = np.unique(a_s)\n",
    "\n",
    "# For each unique value in a_s, find the average and standard deviation of n_c_best_possible_fit. Print the results and save them to a file in folder ./results/critical-atom-numbers/recipe-8-nc/.\n",
    "# Let each row in the file be a_s, average, standard deviation\n",
    "# Let the file be named: functionals_E_N_average_std.dat\n",
    "average = np.zeros(len(a_s_unique))\n",
    "std = np.zeros(len(a_s_unique))\n",
    "for i in range(len(a_s_unique)):\n",
    "    average[i] = np.average(n_c_best_possible_fit[a_s==a_s_unique[i]])\n",
    "    std[i] = np.std(n_c_best_possible_fit[a_s==a_s_unique[i]])\n",
    "    print(\"a_s = {}, average = {}, std = {}\".format(a_s_unique[i], average[i], std[i]))\n",
    "np.savetxt(\"./results/critical-atom-numbers/recipe-8-nc-approach-3/functionals_E_N_average_std.dat\", np.transpose([a_s_unique, average, std]))\n",
    "    "
   ]
  },
  {
   "attachments": {},
   "cell_type": "markdown",
   "metadata": {},
   "source": [
    "# Analyze recipe-9"
   ]
  },
  {
   "cell_type": "code",
   "execution_count": 12,
   "metadata": {},
   "outputs": [
    {
     "name": "stdout",
     "output_type": "stream",
     "text": [
      "a_s = 60.0, average = 73114.64375, std = 113700.6015870026\n",
      "a_s = 70.0, average = 270000.0, std = 0.0\n",
      "a_s = 80.0, average = 270000.0, std = 0.0\n",
      "a_s = 90.0, average = 207103.5125, std = 108940.9896799345\n",
      "a_s = 101.57, average = 270000.0, std = 0.0\n",
      "a_s = 110.0, average = 270000.0, std = 0.0\n"
     ]
    }
   ],
   "source": [
    "data = np.loadtxt(\"./results/critical-atom-numbers/recipe-9-nc/functionals_E_N.dat\")\n",
    "# the header is: a_s  n_c_best_possible_fit  rho_min_x  rho_max_x  alpha  alpha_opt  beta  gamma  min_energy  \n",
    "# read all data\n",
    "a_s = data[:,0]\n",
    "n_c_best_possible_fit = data[:,1]\n",
    "rho_min_x = data[:,2]\n",
    "rho_max_x = data[:,3]\n",
    "alpha = data[:,4]\n",
    "alpha_opt = data[:,5]\n",
    "beta = data[:,6]\n",
    "gamma = data[:,7]\n",
    "\n",
    "# Take only the data where rho_min_x is smaller than 0.8, and rho_max_x is larger than 2.0\n",
    "indices = np.where((rho_min_x < 0.7) & (rho_min_x > 0.4) & (rho_max_x > 1.5) & (rho_max_x < 2.5))\n",
    "a_s = a_s[indices]\n",
    "n_c_best_possible_fit = n_c_best_possible_fit[indices]\n",
    "rho_min_x = rho_min_x[indices]\n",
    "rho_max_x = rho_max_x[indices]\n",
    "alpha = alpha[indices]\n",
    "alpha_opt = alpha_opt[indices]\n",
    "beta = beta[indices]\n",
    "gamma = gamma[indices]\n",
    "\n",
    "\n",
    "# get unique values of a_s_unique\n",
    "a_s_unique = np.unique(a_s)\n",
    "\n",
    "# For each unique value in a_s, find the average and standard deviation of n_c_best_possible_fit. Print the results and save them to a file in folder ./results/critical-atom-numbers/recipe-9-nc/.\n",
    "# Let each row in the file be a_s, average, standard deviation\n",
    "# Let the file be named: functionals_E_N_average_std.dat\n",
    "average = np.zeros(len(a_s_unique))\n",
    "std = np.zeros(len(a_s_unique))\n",
    "for i in range(len(a_s_unique)):\n",
    "    average[i] = np.average(n_c_best_possible_fit[a_s==a_s_unique[i]])\n",
    "    std[i] = np.std(n_c_best_possible_fit[a_s==a_s_unique[i]])\n",
    "    print(\"a_s = {}, average = {}, std = {}\".format(a_s_unique[i], average[i], std[i]))\n",
    "np.savetxt(\"./results/critical-atom-numbers/recipe-9-nc/functionals_E_N_average_std.dat\", np.transpose([a_s_unique, average, std]))\n",
    "    "
   ]
  },
  {
   "cell_type": "markdown",
   "metadata": {},
   "source": [
    "# plot critical atom number"
   ]
  },
  {
   "cell_type": "code",
   "execution_count": 7,
   "metadata": {},
   "outputs": [],
   "source": [
    "\n",
    "\n",
    "# plt.figure(figsize=(16, 9))\n",
    "\n",
    "# def log_func_fit(x, a, b, c):\n",
    "#     return a*x**2 + b*x + c\n",
    "# def func_fit(x, a, b, c):\n",
    "#     return np.exp(log_func_fit(x, a, b, c))\n",
    "# data = np.loadtxt(\"./experimental-data/combined-critical-atom-number.dat\")\n",
    "# sclen_expt = data[:,0]\n",
    "# nc_expt = data[:,1]\n",
    "# popt, pcov = curve_fit(f=log_func_fit, xdata=sclen_expt, ydata=np.log(nc_expt))\n",
    "\n",
    "# plt.plot(sclen_expt, nc_expt, label=\"EXPT.\", ls='', marker='o', color='blue', markersize=10)\n",
    "\n",
    "\n",
    "# mf_data = np.loadtxt(\"./experimental-data/mean_field_IGOR.dat\")\n",
    "# sclen_mf = mf_data[:,0]\n",
    "# nc_mf = mf_data[:,1]\n",
    "# plt.plot(sclen_mf, nc_mf, label=\"MF+LHY IGOR\", color='black', markersize=10)\n",
    "\n",
    "# # load data from file ./results/critical-atom-numbers/recipe-7-nc/functionals_E_N_average_std.dat and plot it\n",
    "# data = np.loadtxt(\"./results/critical-atom-numbers/recipe-7-nc/functionals_E_N_average_std.dat\")\n",
    "# sclen = data[:,0]\n",
    "# nc = data[:,1]\n",
    "# nc_std = data[:,2]\n",
    "# plt.errorbar(sclen, nc, yerr=nc_std, label=\"RECIPE-7-NC\", color='red', ls='-', marker='D', markersize=10)\n",
    "\n",
    "# # same, but for recipe 8\n",
    "# data = np.loadtxt(\"./results/critical-atom-numbers/recipe-8-nc/functionals_E_N_average_std.dat\")\n",
    "# sclen = data[:,0]\n",
    "# nc = data[:,1]\n",
    "# nc_std = data[:,2]\n",
    "# # plot the green error bars, but with the line, with non filled markers\n",
    "# plt.errorbar(sclen, nc, yerr=nc_std, label=\"RECIPE-8-NC\", color='green', ls='-', marker='s', markersize=10, markerfacecolor='none')\n",
    "\n",
    "\n",
    "# # same, but for recipe 8\n",
    "# # data = np.loadtxt(\"./results/critical-atom-numbers/recipe-8-nc-approach-2/functionals_E_N_average_std.dat\")\n",
    "# # sclen = data[:,0]\n",
    "# # nc = data[:,1]\n",
    "# # nc_std = data[:,2]\n",
    "# # # plot the green error bars, but with the line, with non filled markers\n",
    "# # plt.errorbar(sclen, nc, yerr=nc_std, label=\"recipe-8-nc-approach-2\", color='purple', ls='-', marker='^', markersize=10, markerfacecolor='none')\n",
    "\n",
    "\n",
    "\n",
    "# data = np.loadtxt(\"./results/critical-atom-numbers/recipe-7-freeze-beta/functionals_E_N_average_std.dat\")\n",
    "# sclen = data[:,0]\n",
    "# nc = data[:,1]\n",
    "# nc_std = data[:,2]\n",
    "# # plot the green error bars, but with the line, with non filled markers\n",
    "# plt.errorbar(sclen, nc, yerr=nc_std, label=\"recipe-7-freeze-beta\", color='purple', ls='-', marker='^', markersize=10, markerfacecolor='none')\n",
    "\n",
    "\n",
    "# data = np.loadtxt(\"./results/critical-atom-numbers/recipe-7-freeze-gamma/functionals_E_N_average_std.dat\")\n",
    "# sclen = data[:,0]\n",
    "# nc = data[:,1]\n",
    "# nc_std = data[:,2]\n",
    "# # plot the green error bars, but with the line, with non filled markers\n",
    "# plt.errorbar(sclen, nc, yerr=nc_std, label=\"recipe-7-freeze-gamma\", color='brown', ls='-', marker='x', markersize=10, markerfacecolor='none')\n",
    "\n",
    "\n",
    "# data = np.loadtxt(\"results/critical-atom-numbers/recipe-7-freeze-beta-freeze-gamma/functionals_E_N.dat\")\n",
    "# sclen = data[:,0]\n",
    "# nc = data[:,1]\n",
    "# # sort the data by sclen\n",
    "# sclen, nc = zip(*sorted(zip(sclen, nc)))\n",
    "# # plot the green error bars, but with the line, with non filled markers\n",
    "# plt.plot(sclen, nc, label=\"recipe-7-freeze-beta-freeze-beta\", color='green', ls='-', marker='', markersize=10, markerfacecolor='none')\n",
    "\n",
    "\n",
    "\n",
    "\n",
    "# # Open the output file for writing\n",
    "# # data = np.loadtxt(\"results/critical-atom-numbers/recipe-7-nc/functionals_E_N_2nd_approach.dat\")\n",
    "# # # the header is as follows: a_s <n_c>  err(n_c)  <beta>  err(beta) <gamma>  \\n\"). Read the data and plot\n",
    "# # sclen = data[:,0]\n",
    "# # nc = data[:,1]\n",
    "# # nc_std = data[:,2]\n",
    "# # plt.errorbar(sclen, nc, yerr=nc_std, label=\"RECIPE-7-NC-2ND-APPROACH\", color='green', ls='-', marker='o', markersize=10)\n",
    "\n",
    "# data = np.loadtxt(\"./results/critical-atom-numbers/recipe-42-nc/functionals_E_N.dat\")\n",
    "# sclen = data[:,0]\n",
    "# nc = data[:,1]\n",
    "# plt.plot(sclen, nc, label=\"Recipe 42: MFLHY\", color='black', marker='D', ls='-', markersize=10)\n",
    "\n",
    "\n",
    "\n",
    "# plt.xlabel(r'$a_s$', fontsize=20)\n",
    "# plt.ylabel(r'$N$', fontsize=20)\n",
    "# plt.legend(loc = \"best\", bbox_to_anchor=(1.04, 1), fontsize=20)\n",
    "\n",
    "\n",
    "# plt.yscale('log')\n",
    "# plt.ylim(100, 400000)\n",
    "# plt.xticks(fontsize=20)\n",
    "# plt.yticks(fontsize=20)\n",
    "\n",
    "# # Save the figure into plots folder\n",
    "# plt.savefig(f\"plots/critical-atom-number.pdf\", bbox_inches='tight', dpi=300)\n",
    "# plt.savefig(f\"plots/critical-atom-number.png\", bbox_inches='tight', dpi=300)\n"
   ]
  },
  {
   "cell_type": "markdown",
   "metadata": {},
   "source": [
    "# plot the values of $\\beta$ and $\\gamma$ "
   ]
  },
  {
   "cell_type": "code",
   "execution_count": 8,
   "metadata": {},
   "outputs": [],
   "source": [
    "\n",
    "# # Find unique values in a_s\n",
    "# a_s_unique = np.unique(a_s)\n",
    "# # For each unique value in a_s, plot the beta vs. rho_min_x and rho_max_x, each on a separate subplot. Let rho_min_x on left column and rho_max_x on right column of the subplots.\n",
    "# fig, ax = plt.subplots(len(a_s_unique),1, figsize=(15, 30))\n",
    "# for i in range(len(a_s_unique)):\n",
    "#     ax[i].plot(rho_min_x[a_s==a_s_unique[i]], beta[a_s==a_s_unique[i]], 'o', color='blue')\n",
    "#     ax[i].plot(rho_max_x[a_s==a_s_unique[i]], beta[a_s==a_s_unique[i]], 'o', color='red')\n",
    "#     ax[i].set_title(\"a_s = {}\".format(a_s_unique[i]))\n",
    "#     ax[i].set_xlabel(\"rho\")\n",
    "#     ax[i].set_ylabel(\"beta\")\n",
    "#     # set y lim to be between 0.5 and 1.5 times the median value of beta\n",
    "#     ax[i].set_ylim(0.5*np.median(beta[a_s==a_s_unique[i]]), 3*np.median(beta[a_s==a_s_unique[i]]))\n",
    "#     # set the log scale for y axis\n",
    "#     ax[i].set_yscale('log')\n",
    "#     # set the log scale for x axis\n",
    "#     # ax[i].set_xscale('log')\n",
    "# plt.tight_layout()\n"
   ]
  },
  {
   "cell_type": "code",
   "execution_count": null,
   "metadata": {},
   "outputs": [],
   "source": []
  }
 ],
 "metadata": {
  "kernelspec": {
   "display_name": "Python 3.8.13 ('mlp')",
   "language": "python",
   "name": "python3"
  },
  "language_info": {
   "codemirror_mode": {
    "name": "ipython",
    "version": 3
   },
   "file_extension": ".py",
   "mimetype": "text/x-python",
   "name": "python",
   "nbconvert_exporter": "python",
   "pygments_lexer": "ipython3",
   "version": "3.8.13"
  },
  "orig_nbformat": 4,
  "vscode": {
   "interpreter": {
    "hash": "5fc8cc4423f23a87e418a855553ca5df0686e4c1b4502d1b16c3e8233d998187"
   }
  }
 },
 "nbformat": 4,
 "nbformat_minor": 2
}
