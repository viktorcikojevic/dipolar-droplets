{
 "cells": [
  {
   "cell_type": "code",
   "execution_count": 1,
   "metadata": {},
   "outputs": [],
   "source": [
    "\n",
    "import numpy as np\n",
    "import random\n",
    "from numpy import loadtxt\n",
    "from scipy.optimize import curve_fit\n",
    "import os\n",
    "import matplotlib.pyplot as plt\n",
    "\n",
    "import scipy.special\n",
    "from scipy.optimize import fmin\n"
   ]
  },
  {
   "cell_type": "code",
   "execution_count": 2,
   "metadata": {},
   "outputs": [
    {
     "name": "stdout",
     "output_type": "stream",
     "text": [
      "a_s = 60.0, average = 211.76075000000003, std = 7.674663115570607\n",
      "a_s = 70.0, average = 666.5452499999999, std = 116.22577005848358\n",
      "a_s = 80.0, average = 821.678, std = 0.0\n",
      "a_s = 90.0, average = 2468.0125, std = 622.7011076100234\n",
      "a_s = 101.57, average = 7707.866250000001, std = 1220.5816930867177\n",
      "a_s = 110.0, average = 18411.9625, std = 3274.1146077747117\n"
     ]
    }
   ],
   "source": [
    "data = np.loadtxt(\"./results/dy-df/functionals_E_N.dat\")\n",
    "# the header is: a_s  n_c_best_possible_fit  rho_min_x  rho_max_x  alpha  alpha_opt  beta  gamma  min_energy  \n",
    "# read all data\n",
    "a_s = data[:,0]\n",
    "n_c_best_possible_fit = data[:,1]\n",
    "rho_min_x = data[:,2]\n",
    "rho_max_x = data[:,3]\n",
    "alpha = data[:,4]\n",
    "alpha_opt = data[:,5]\n",
    "beta = data[:,6]\n",
    "gamma = data[:,7]\n",
    "\n",
    "# Take only the data where rho_min_x is smaller than 0.8, and rho_max_x is larger than 2.0\n",
    "indices = np.where((rho_min_x < 0.7) & (rho_min_x > 0.4) & (rho_max_x > 1.5) & (rho_max_x < 2.5))\n",
    "a_s = a_s[indices]\n",
    "n_c_best_possible_fit = n_c_best_possible_fit[indices]\n",
    "rho_min_x = rho_min_x[indices]\n",
    "rho_max_x = rho_max_x[indices]\n",
    "alpha = alpha[indices]\n",
    "alpha_opt = alpha_opt[indices]\n",
    "beta = beta[indices]\n",
    "gamma = gamma[indices]\n",
    "\n",
    "\n",
    "# get unique values of a_s_unique\n",
    "a_s_unique = np.unique(a_s)\n",
    "\n",
    "# For each unique value in a_s, find the average and standard deviation of n_c_best_possible_fit. Print the results and save them to a file in folder ./results/critical-atom-numbers/dy-df/.\n",
    "# Let each row in the file be a_s, average, standard deviation\n",
    "# Let the file be named: functionals_E_N_average_std.dat\n",
    "average = np.zeros(len(a_s_unique))\n",
    "std = np.zeros(len(a_s_unique))\n",
    "for i in range(len(a_s_unique)):\n",
    "    average[i] = np.average(n_c_best_possible_fit[a_s==a_s_unique[i]])\n",
    "    std[i] = np.std(n_c_best_possible_fit[a_s==a_s_unique[i]])\n",
    "    print(\"a_s = {}, average = {}, std = {}\".format(a_s_unique[i], average[i], std[i]))\n",
    "np.savetxt(\"./results/dy-df/functionals_E_N_average_std.dat\", np.transpose([a_s_unique, average, std]))\n",
    "    "
   ]
  }
 ],
 "metadata": {
  "kernelspec": {
   "display_name": "Python 3.8.13 ('mlp')",
   "language": "python",
   "name": "python3"
  },
  "language_info": {
   "codemirror_mode": {
    "name": "ipython",
    "version": 3
   },
   "file_extension": ".py",
   "mimetype": "text/x-python",
   "name": "python",
   "nbconvert_exporter": "python",
   "pygments_lexer": "ipython3",
   "version": "3.6.13"
  },
  "orig_nbformat": 4,
  "vscode": {
   "interpreter": {
    "hash": "5fc8cc4423f23a87e418a855553ca5df0686e4c1b4502d1b16c3e8233d998187"
   }
  }
 },
 "nbformat": 4,
 "nbformat_minor": 2
}
