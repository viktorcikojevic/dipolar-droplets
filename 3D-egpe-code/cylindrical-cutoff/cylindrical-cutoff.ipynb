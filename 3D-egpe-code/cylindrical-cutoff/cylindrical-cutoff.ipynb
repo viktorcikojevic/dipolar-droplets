{
 "cells": [
  {
   "attachments": {},
   "cell_type": "markdown",
   "metadata": {},
   "source": [
    "Copied from the PhD Thesis of Russel Bisset (link here: [https://ourarchive.otago.ac.nz/handle/10523/4253](https://ourarchive.otago.ac.nz/handle/10523/4253)):\n",
    "\n",
    "For highly oblate or prolate geometries a spherical cutoff becomes inappropriate since, even for the tight trapping direction, the grid must extend far beyond where the density vanishes to ensure the aliased copies remain outside $R_c$. The number of grid points required in the tight direction is hence large to maintain adequate resolution across the sample.\n",
    "Following Ref. [109] we therefore implement a cylindrical cutoff of the DDI,\n",
    "$$\n",
    "U_{\\mathrm{dd}}^{\\rho_c, Z_c}(\\mathbf{r})=\\left\\{\\begin{array}{cc}\n",
    "\\frac{C_{\\mathrm{dd}}}{4 \\pi} \\frac{1-3 \\cos ^2 \\theta}{r^3}, & |z|<Z_c \\text { and } \\rho<\\rho_{\\mathrm{c}} \\\\\n",
    "0, & \\text { otherwise }\n",
    "\\end{array}\\right.\n",
    "$$\n",
    "the Fourier transform of which is semi-analytic,\n",
    "$$\n",
    "\\begin{aligned}\n",
    "\\tilde{U}_{\\mathrm{dd}}^{\\rho_c, Z_c}(\\mathbf{k})= & \\frac{C_{\\mathrm{dd}}}{3}\\left(3 \\cos ^2 \\alpha-1\\right) \\\\\n",
    "& +C_{\\mathrm{dd}} e^{-Z_c k_\\rho}\\left[\\sin ^2 \\alpha \\cos \\left(Z_c k_z\\right)-\\sin \\alpha \\cos \\alpha \\sin \\left(Z_c k_z\\right)\\right] \\\\\n",
    "& -C_{\\mathrm{dd}} \\int_{R_c}^{\\infty} \\rho d \\rho \\int_0^{Z_c} d z \\cos \\left(k_z z\\right) \\frac{\\rho^2-2 z^2}{\\left(\\rho^2+z^2\\right)^{5 / 2}} J_0\\left(k_\\rho \\rho\\right),\n",
    "\\end{aligned}\n",
    "$$\n",
    "where $J_0$ is the zeroth order Bessel function.\n",
    "\n",
    "\n",
    "The first two lines of Eq. (3.26) limit the DDI range beyond two infinite planes at $\\pm Z_c$, while the third line completes the radial wall of the cylinder and must be calculated numerically.\n",
    "\n",
    "While construction of $\\tilde{U}_{\\mathrm{dd}}^{\\rho_c, Z_c}(\\mathbf{k})$ is numerically expensive it only needs to be calculated once and the advantages, for highly oblate or prolate traps, far outweigh this cost. We make use of the cylindrically cutoff DDI extensively in our work.\n",
    "\n",
    "\n"
   ]
  },
  {
   "cell_type": "code",
   "execution_count": 7,
   "metadata": {},
   "outputs": [
    {
     "name": "stderr",
     "output_type": "stream",
     "text": [
      "  3%|▎         | 2/64 [00:03<01:58,  1.92s/it]\n"
     ]
    },
    {
     "ename": "KeyboardInterrupt",
     "evalue": "",
     "output_type": "error",
     "traceback": [
      "\u001b[0;31m---------------------------------------------------------------------------\u001b[0m",
      "\u001b[0;31mKeyboardInterrupt\u001b[0m                         Traceback (most recent call last)",
      "File \u001b[0;32m<timed eval>:1\u001b[0m\n",
      "Cell \u001b[0;32mIn [7], line 11\u001b[0m, in \u001b[0;36mcalc_sum\u001b[0;34m()\u001b[0m\n\u001b[1;32m      9\u001b[0m \u001b[39mfor\u001b[39;00m j \u001b[39min\u001b[39;00m \u001b[39mrange\u001b[39m(ny):\n\u001b[1;32m     10\u001b[0m     \u001b[39mfor\u001b[39;00m k \u001b[39min\u001b[39;00m \u001b[39mrange\u001b[39m(nz):\n\u001b[0;32m---> 11\u001b[0m         s \u001b[39m=\u001b[39m np\u001b[39m.\u001b[39msum(x \u001b[39m*\u001b[39;49m x \u001b[39m*\u001b[39;49m x)\n",
      "\u001b[0;31mKeyboardInterrupt\u001b[0m: "
     ]
    }
   ],
   "source": [
    "import numpy as np\n",
    "from tqdm import tqdm\n",
    "\n",
    "def calc_sum():\n",
    "    x = np.ones([64]*3)\n",
    "    nx, ny, nz = x.shape\n",
    "\n",
    "    for i in tqdm(range(nx)):\n",
    "        for j in range(ny):\n",
    "            for k in range(nz):\n",
    "                s = np.sum(x * x * x)\n",
    "\n",
    "%time calc_sum()"
   ]
  }
 ],
 "metadata": {
  "kernelspec": {
   "display_name": "mlp",
   "language": "python",
   "name": "python3"
  },
  "language_info": {
   "codemirror_mode": {
    "name": "ipython",
    "version": 3
   },
   "file_extension": ".py",
   "mimetype": "text/x-python",
   "name": "python",
   "nbconvert_exporter": "python",
   "pygments_lexer": "ipython3",
   "version": "3.8.13"
  },
  "orig_nbformat": 4,
  "vscode": {
   "interpreter": {
    "hash": "5fc8cc4423f23a87e418a855553ca5df0686e4c1b4502d1b16c3e8233d998187"
   }
  }
 },
 "nbformat": 4,
 "nbformat_minor": 2
}
