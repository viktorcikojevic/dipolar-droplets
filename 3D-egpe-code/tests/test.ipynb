{
 "cells": [
  {
   "attachments": {},
   "cell_type": "markdown",
   "metadata": {},
   "source": [
    "# Non-interacting gas in a trap"
   ]
  },
  {
   "cell_type": "code",
   "execution_count": 2,
   "metadata": {},
   "outputs": [
    {
     "name": "stdout",
     "output_type": "stream",
     "text": [
      "[INFO] Initializing psi\n",
      "Initial energy\n",
      "{'kinetic': 0.002770321512395962, 'pot_ext': 50.097318239071086, 'pot_int': 0.0} 50.10008856058348\n"
     ]
    },
    {
     "name": "stderr",
     "output_type": "stream",
     "text": [
      "100%|██████████| 999/999 [00:04<00:00, 216.91it/s]"
     ]
    },
    {
     "name": "stdout",
     "output_type": "stream",
     "text": [
      "Final energy\n",
      "{'kinetic': 0.7500093710645526, 'pot_ext': 0.7499906231489808, 'pot_int': 0.0} 1.4999999942135334\n"
     ]
    },
    {
     "name": "stderr",
     "output_type": "stream",
     "text": [
      "\n"
     ]
    }
   ],
   "source": [
    "import numpy as np\n",
    "import sys\n",
    "sys.path.append('../egpe')\n",
    "from egpe import eGPE\n",
    "\n",
    "# Let's set a system which is practically non-interacting, inside a harmonic trap of frequency f0.\n",
    "# Let's set f0 to be such that the harmonic oscillator length is equal to 1 (in units of the r_0=387.654009 a_0).\n",
    "# Harmonic oscillator length is given by a_ho = sqrt(hbar/(m*omega)), where m is the mass of the atom, and omega is the 2*pi*f0, where f0 is the frequency of the trap.\n",
    "# This means that a_h0^2 = hbar / (m*omega), or omega = hbar / (m*a_ho^2), or f0 = omega / (2*pi) = hbar / (2*pi*m*a_ho^2). \n",
    "# Since we want a_ho = 387.654009 a_0, f0 is (1.05457182e-34 m^2 kg / s) / (2*pi*(162 (1.66053907e-27 kilograms)) * (387.654009 *(5.291772109E-11 m))^2) = 148.265926 kilohertz\n",
    "f0 = 148.265926 * 1000\n",
    "gp = eGPE(eps_dd=1E+20, \n",
    "          nparticles=1,\n",
    "          fx=f0,\n",
    "          fy=f0,\n",
    "          fz=f0,\n",
    "          nxyz=np.array([1,1,1])*32,\n",
    "          box_size=np.array([1,1,1])*20,\n",
    "          contact_interaction=False,\n",
    "          dipolar_interaction=False,\n",
    "          beta=0.,\n",
    "          gamma=0.\n",
    "          )\n",
    "\n",
    "print(\"Initial energy\")\n",
    "print(gp.energy(), \"total E=\",sum(gp.energy().values()))\n",
    "\n",
    "gp.evolve(0.01, 10, verbose=False)\n",
    "\n",
    "print(\"Final energy\")\n",
    "print(gp.energy(), \"total E=\",sum(gp.energy().values()))"
   ]
  },
  {
   "attachments": {},
   "cell_type": "markdown",
   "metadata": {},
   "source": [
    "# N=2 non-interacting particles in a trap"
   ]
  },
  {
   "cell_type": "code",
   "execution_count": 3,
   "metadata": {},
   "outputs": [
    {
     "name": "stdout",
     "output_type": "stream",
     "text": [
      "[INFO] Initializing psi\n",
      "Initial energy\n",
      "{'kinetic': 0.005547582950283271, 'pot_ext': 100.18954573217528, 'pot_int': 0.0} total E= 100.19509331512556\n"
     ]
    },
    {
     "name": "stderr",
     "output_type": "stream",
     "text": [
      "100%|██████████| 999/999 [00:04<00:00, 223.46it/s]"
     ]
    },
    {
     "name": "stdout",
     "output_type": "stream",
     "text": [
      "Final energy\n",
      "{'kinetic': 1.500018742135877, 'pot_ext': 1.4999812462911981, 'pot_int': 0.0} total E= 2.999999988427075\n"
     ]
    },
    {
     "name": "stderr",
     "output_type": "stream",
     "text": [
      "\n"
     ]
    }
   ],
   "source": [
    "from egpe import eGPE\n",
    "import numpy as np\n",
    "import sys\n",
    "sys.path.append('../egpe')\n",
    "\n",
    "# Let's set a system which is practically non-interacting, inside a harmonic trap of frequency f0.\n",
    "# Let's set f0 to be such that the harmonic oscillator length is equal to 1 (in units of the r_0=387.654009 a_0).\n",
    "# Harmonic oscillator length is given by a_ho = sqrt(hbar/(m*omega)), where m is the mass of the atom, and omega is the 2*pi*f0, where f0 is the frequency of the trap.\n",
    "# This means that a_h0^2 = hbar / (m*omega), or omega = hbar / (m*a_ho^2), or f0 = omega / (2*pi) = hbar / (2*pi*m*a_ho^2).\n",
    "# Since we want a_ho = 387.654009 a_0, f0 is (1.05457182e-34 m^2 kg / s) / (2*pi*(162 (1.66053907e-27 kilograms)) * (387.654009 *(5.291772109E-11 m))^2) = 148.265926 kilohertz\n",
    "f0 = 148.265926 * 1000\n",
    "gp = eGPE(eps_dd=1E+20,\n",
    "          nparticles=2,\n",
    "          fx=f0,\n",
    "          fy=f0,\n",
    "          fz=f0,\n",
    "          nxyz=np.array([1, 1, 1])*32,\n",
    "          box_size=np.array([1, 1, 1])*20,\n",
    "          contact_interaction=False,\n",
    "          dipolar_interaction=False,\n",
    "          beta=0.,\n",
    "          gamma=0.\n",
    "          )\n",
    "\n",
    "print(\"Initial energy\")\n",
    "print(gp.energy(), \"total E=\",sum(gp.energy().values()))\n",
    "\n",
    "gp.evolve(0.01, 10, verbose=False)\n",
    "\n",
    "print(\"Final energy\")\n",
    "print(gp.energy(), \"total E=\",sum(gp.energy().values()))\n"
   ]
  },
  {
   "attachments": {},
   "cell_type": "markdown",
   "metadata": {},
   "source": [
    "# Mean-field gas in a trap, params=1"
   ]
  },
  {
   "cell_type": "code",
   "execution_count": 1,
   "metadata": {},
   "outputs": [
    {
     "name": "stdout",
     "output_type": "stream",
     "text": [
      "[INFO] Initializing psi\n",
      "Initial energy\n",
      "{'kinetic': 0.750000000627405, 'pot_ext': 3.4117606111405566e-31, 'pot_int': 0.06349487872665438}\n",
      "Analytical value of  potential =  0.06349363593\n"
     ]
    }
   ],
   "source": [
    "import numpy as np\n",
    "import sys\n",
    "sys.path.append('../egpe')\n",
    "from egpe import eGPE\n",
    "\n",
    "gp = eGPE(eps_dd=1.E+20,\n",
    "          nparticles=1,\n",
    "          fx=0.,\n",
    "          fy=0.,\n",
    "          fz=0.,\n",
    "          nxyz=np.array([1, 1, 1])*32,\n",
    "          box_size=np.array([1, 1, 1])*20,\n",
    "          contact_interaction=False,\n",
    "          dipolar_interaction=False,\n",
    "          beta=0.,\n",
    "          gamma=0.,\n",
    "          )\n",
    "\n",
    "gp.alpha = 1.\n",
    "gp.psi = np.exp(-0.5 * gp.x**2) * np.exp(-0.5 * gp.y**2) * np.exp(-0.5 * gp.z**2)\n",
    "gp.normalize_psi()\n",
    "gp.den = np.abs(gp.psi)**2\n",
    "gp.phi_dd = gp.get_phi_dd()\n",
    "\n",
    "# analytical energy is sqrt(2) * n * alpha / (4 pi^(3/2) * sigma_r^2 * sigma_z)\n",
    "# For n=1, alpha=1, sigma_r=1, sigma_z=1, the energy is sqrt(2) / (4 pi^(3/2)) = 0.06349363593\n",
    "\n",
    "\n",
    "print(\"Initial energy\")\n",
    "print(gp.energy())\n",
    "# print(\"total E = \", sum(gp.energy().values()))\n",
    "print(\"Analytical value of  potential = \", 0.06349363593)\n",
    "\n"
   ]
  },
  {
   "attachments": {},
   "cell_type": "markdown",
   "metadata": {},
   "source": [
    "# Mean-field gas in a trap, params different than 1"
   ]
  },
  {
   "cell_type": "code",
   "execution_count": 2,
   "metadata": {},
   "outputs": [
    {
     "name": "stdout",
     "output_type": "stream",
     "text": [
      "[INFO] Initializing psi\n",
      "Initial energy\n",
      "{'kinetic': 1.6834564037438342, 'pot_ext': 1.402233612681621e-30, 'pot_int': 0.5085953903459537}\n",
      "Analytical value of  potential =  0.50859492229\n"
     ]
    }
   ],
   "source": [
    "import numpy as np\n",
    "import sys\n",
    "sys.path.append('../egpe')\n",
    "from egpe import eGPE\n",
    "\n",
    "gp = eGPE(eps_dd=1.E+20,\n",
    "          nparticles=3,\n",
    "          fx=0.,\n",
    "          fy=0.,\n",
    "          fz=0.,\n",
    "          nxyz=np.array([1, 1, 1])*32,\n",
    "          box_size=np.array([1, 1, 1])*20,\n",
    "          contact_interaction=True,\n",
    "          dipolar_interaction=False,\n",
    "          beta=0.,\n",
    "          gamma=0.,\n",
    "          )\n",
    "\n",
    "gp.alpha = 1.4\n",
    "gp.psi = np.exp(-0.5 * gp.x**2 / 1.1**2) * np.exp(-0.5 * gp.y ** 2 / 1.1**2) * np.exp(-0.5 * gp.z**2 / 1.3**2)\n",
    "gp.normalize_psi()\n",
    "gp.den = np.abs(gp.psi)**2\n",
    "gp.phi_dd = gp.get_phi_dd()\n",
    "\n",
    "# analytical energy is sqrt(2) * n * alpha / (4 pi^(3/2) * sigma_r^2 * sigma_z)\n",
    "# For n=3, alpha=1.4, sigma_r=1.1, sigma_z=1.3, the energy is 3**2 * 1.4 * sqrt(2) / (4 pi^(3/2) * 1.1**2 * 1.3) =   0.50859492229\n",
    "\n",
    "print(\"Initial energy\")\n",
    "print(gp.energy())\n",
    "# print(\"total E = \", sum(gp.energy().values()))\n",
    "print(\"Analytical value of  potential = \", 0.50859492229)\n"
   ]
  },
  {
   "attachments": {},
   "cell_type": "markdown",
   "metadata": {},
   "source": [
    "# Comparison with variational energy, N=1"
   ]
  },
  {
   "cell_type": "code",
   "execution_count": 17,
   "metadata": {},
   "outputs": [
    {
     "name": "stdout",
     "output_type": "stream",
     "text": [
      "\n",
      "\n",
      "----------------------------------------\n",
      "nbins = 16^3\n",
      "1.4357555888888887\n",
      "[INFO] Initializing psi\n",
      "{'kinetic': 0.005333262031433946, 'pot_ext': 3.2804582416504094e-30, 'pot_int': 1.1526136213935357e-05}\n",
      "total E= 0.005344788167647881\n",
      "Analytic energy  0.005640133029472228\n",
      "Relative difference in analytic and total E (in percentage) 5.236487513344757\n",
      "1.4587406927762814 3.2148781552730856 1.5\n",
      "CPU times: user 2.23 ms, sys: 1.41 ms, total: 3.64 ms\n",
      "Wall time: 2.97 ms\n",
      "\n",
      "\n",
      "----------------------------------------\n",
      "nbins = 32^3\n",
      "1.4357555888888887\n",
      "[INFO] Initializing psi\n",
      "{'kinetic': 0.0057593721854735675, 'pot_ext': 6.513250470365563e-29, 'pot_int': 1.908057613178985e-05}\n",
      "total E= 0.005778452761605358\n",
      "Analytic energy  0.005640133029472228\n",
      "Relative difference in analytic and total E (in percentage) -2.452419675393241\n",
      "1.4587406927762814 3.2148781552730856 1.5\n",
      "CPU times: user 9.5 ms, sys: 1.06 ms, total: 10.6 ms\n",
      "Wall time: 10.5 ms\n",
      "\n",
      "\n",
      "----------------------------------------\n",
      "nbins = 64^3\n",
      "1.4357555888888887\n",
      "[INFO] Initializing psi\n",
      "{'kinetic': 0.005625000004711824, 'pot_ext': 6.823521222281109e-29, 'pot_int': 1.5171303335155548e-05}\n",
      "total E= 0.005640171308046979\n",
      "Analytic energy  0.005640133029472228\n",
      "Relative difference in analytic and total E (in percentage) -0.0006786821259510322\n",
      "1.4587406927762814 3.2148781552730856 1.5\n",
      "CPU times: user 62.9 ms, sys: 21.3 ms, total: 84.1 ms\n",
      "Wall time: 85 ms\n",
      "\n",
      "\n",
      "----------------------------------------\n",
      "nbins = 128^3\n",
      "1.4357555888888887\n",
      "[INFO] Initializing psi\n",
      "{'kinetic': 0.005625000000034808, 'pot_ext': 6.823521229620212e-29, 'pot_int': 1.5170538545613322e-05}\n",
      "total E= 0.0056401705385804215\n",
      "Analytic energy  0.005640133029472228\n",
      "Relative difference in analytic and total E (in percentage) -0.000665039423672726\n",
      "1.4587406927762814 3.2148781552730856 1.5\n",
      "CPU times: user 873 ms, sys: 178 ms, total: 1.05 s\n",
      "Wall time: 1.09 s\n"
     ]
    }
   ],
   "source": [
    "import numpy as np\n",
    "import sys\n",
    "sys.path.append('../egpe')\n",
    "from egpe import eGPE\n",
    "\n",
    "sys.path.append('../../../estimate_nc')\n",
    "from estimate_nc import en_per_particle\n",
    "def calculate_differences(nbins=32):\n",
    "    \n",
    "    # print ----------------------------------------\n",
    "    print(\"\\n\\n----------------------------------------\")\n",
    "    print(f\"nbins = {nbins}^3\")\n",
    "    \n",
    "    r_0 = 387.654009\n",
    "    a_s = 90. / r_0\n",
    "    eps_dd = 1. / 3. / a_s # * r_0\n",
    "    print(eps_dd)\n",
    "\n",
    "\n",
    "    sr_0 = 10.\n",
    "    sz_0 = sr_0 * 2\n",
    "\n",
    "    gp = eGPE(eps_dd=eps_dd,\n",
    "            nparticles=1,\n",
    "            fx=0.,\n",
    "            fy=0.,\n",
    "            fz=0.,\n",
    "            nxyz=np.array([1, 1, 1])*nbins,\n",
    "            box_size=np.array([sr_0, sr_0, sz_0])*40,\n",
    "            contact_interaction=True,\n",
    "            dipolar_interaction=True,\n",
    "            )\n",
    "\n",
    "    sr = np.sqrt(gp.x**2 + gp.y**2)\n",
    "    gp.psi = np.exp(-0.5 * sr**2 / sr_0**2) * np.exp(-0.5 * gp.z**2 / sz_0**2) + 0.j \n",
    "    gp.normalize_psi()\n",
    "    gp.den = np.abs(gp.psi)**2\n",
    "    gp.phi_dd = gp.get_phi_dd()\n",
    "\n",
    "    print(gp.energy())\n",
    "    print(\"total E=\",sum(gp.energy().values()))\n",
    "    en_analytic = en_per_particle(sr_0, sz_0, gp.nparticles, gp.alpha, gp.beta, gp.gamma, include_ho=False)\n",
    "    print(\"Analytic energy \",en_analytic)\n",
    "    print(\"Relative difference in analytic and total E (in percentage)\", 100 * (en_analytic - sum(gp.energy().values())) / en_analytic)\n",
    "\n",
    "\n",
    "    print(gp.alpha, gp.beta, gp.gamma)\n",
    "\n",
    "%time calculate_differences(16)\n",
    "%time calculate_differences(32)\n",
    "%time calculate_differences(64)\n",
    "%time calculate_differences(128)"
   ]
  },
  {
   "attachments": {},
   "cell_type": "markdown",
   "metadata": {},
   "source": [
    "# Smaller box size"
   ]
  },
  {
   "cell_type": "code",
   "execution_count": 18,
   "metadata": {},
   "outputs": [
    {
     "name": "stdout",
     "output_type": "stream",
     "text": [
      "\n",
      "\n",
      "----------------------------------------\n",
      "nbins = 16^3\n",
      "1.4357555888888887\n",
      "[INFO] Initializing psi\n",
      "{'kinetic': 0.005762032483903836, 'pot_ext': 6.513250470365563e-29, 'pot_int': 1.9356745804375074e-05}\n",
      "total E= 0.00578138922970821\n",
      "Analytic energy  0.005640133029472228\n",
      "Relative difference in analytic and total E (in percentage) -2.5044834846599437\n",
      "1.4587406927762814 3.2148781552730856 1.5\n",
      "CPU times: user 2.52 ms, sys: 2.87 ms, total: 5.39 ms\n",
      "Wall time: 4.54 ms\n",
      "\n",
      "\n",
      "----------------------------------------\n",
      "nbins = 32^3\n",
      "1.4357555888888887\n",
      "[INFO] Initializing psi\n",
      "{'kinetic': 0.005625000004981867, 'pot_ext': 6.823521222281116e-29, 'pot_int': 1.5426192706788306e-05}\n",
      "total E= 0.005640426197688656\n",
      "Analytic energy  0.005640133029472228\n",
      "Relative difference in analytic and total E (in percentage) -0.005197895420125712\n",
      "1.4587406927762814 3.2148781552730856 1.5\n",
      "CPU times: user 10.1 ms, sys: 2.51 ms, total: 12.6 ms\n",
      "Wall time: 13.7 ms\n",
      "\n",
      "\n",
      "----------------------------------------\n",
      "nbins = 64^3\n",
      "1.4357555888888887\n",
      "[INFO] Initializing psi\n",
      "{'kinetic': 0.005625000000278416, 'pot_ext': 6.823521229620207e-29, 'pot_int': 1.54254273250949e-05}\n",
      "total E= 0.005640425427603511\n",
      "Analytic energy  0.005640133029472228\n",
      "Relative difference in analytic and total E (in percentage) -0.0051842417502400255\n",
      "1.4587406927762814 3.2148781552730856 1.5\n",
      "CPU times: user 65.1 ms, sys: 25.2 ms, total: 90.3 ms\n",
      "Wall time: 100 ms\n",
      "\n",
      "\n",
      "----------------------------------------\n",
      "nbins = 128^3\n",
      "1.4357555888888887\n",
      "[INFO] Initializing psi\n",
      "{'kinetic': 0.005625000000278417, 'pot_ext': 6.823521229620211e-29, 'pot_int': 1.542542732509493e-05}\n",
      "total E= 0.005640425427603512\n",
      "Analytic energy  0.005640133029472228\n",
      "Relative difference in analytic and total E (in percentage) -0.005184241750255404\n",
      "1.4587406927762814 3.2148781552730856 1.5\n",
      "CPU times: user 932 ms, sys: 183 ms, total: 1.12 s\n",
      "Wall time: 1.15 s\n"
     ]
    }
   ],
   "source": [
    "import numpy as np\n",
    "import sys\n",
    "sys.path.append('../egpe')\n",
    "from egpe import eGPE\n",
    "\n",
    "sys.path.append('../../../estimate_nc')\n",
    "from estimate_nc import en_per_particle\n",
    "def calculate_differences(nbins=32):\n",
    "    \n",
    "    # print ----------------------------------------\n",
    "    print(\"\\n\\n----------------------------------------\")\n",
    "    print(f\"nbins = {nbins}^3\")\n",
    "    \n",
    "    r_0 = 387.654009\n",
    "    a_s = 90. / r_0\n",
    "    eps_dd = 1. / 3. / a_s # * r_0\n",
    "    print(eps_dd)\n",
    "\n",
    "\n",
    "    sr_0 = 10.\n",
    "    sz_0 = sr_0 * 2\n",
    "\n",
    "    gp = eGPE(eps_dd=eps_dd,\n",
    "            nparticles=1,\n",
    "            fx=0.,\n",
    "            fy=0.,\n",
    "            fz=0.,\n",
    "            nxyz=np.array([1, 1, 1])*nbins,\n",
    "            box_size=np.array([sr_0, sr_0, sz_0])*20,\n",
    "            contact_interaction=True,\n",
    "            dipolar_interaction=True,\n",
    "            )\n",
    "\n",
    "    sr = np.sqrt(gp.x**2 + gp.y**2)\n",
    "    gp.psi = np.exp(-0.5 * sr**2 / sr_0**2) * np.exp(-0.5 * gp.z**2 / sz_0**2) + 0.j \n",
    "    gp.normalize_psi()\n",
    "    gp.den = np.abs(gp.psi)**2\n",
    "    gp.phi_dd = gp.get_phi_dd()\n",
    "\n",
    "    print(gp.energy())\n",
    "    print(\"total E=\",sum(gp.energy().values()))\n",
    "    en_analytic = en_per_particle(sr_0, sz_0, gp.nparticles, gp.alpha, gp.beta, gp.gamma, include_ho=False)\n",
    "    print(\"Analytic energy \",en_analytic)\n",
    "    print(\"Relative difference in analytic and total E (in percentage)\", 100 * (en_analytic - sum(gp.energy().values())) / en_analytic)\n",
    "\n",
    "\n",
    "    print(gp.alpha, gp.beta, gp.gamma)\n",
    "\n",
    "%time calculate_differences(16)\n",
    "%time calculate_differences(32)\n",
    "%time calculate_differences(64)\n",
    "%time calculate_differences(128)"
   ]
  },
  {
   "attachments": {},
   "cell_type": "markdown",
   "metadata": {},
   "source": [
    "# Test saving and loading the egpe state"
   ]
  },
  {
   "cell_type": "code",
   "execution_count": 21,
   "metadata": {},
   "outputs": [
    {
     "name": "stdout",
     "output_type": "stream",
     "text": [
      "[INFO] Initializing psi\n",
      "Initial energy\n",
      "{'kinetic': 0.0027710427759087006, 'pot_ext': 50.10677140627935, 'pot_int': 0.0} total E= 50.10954244905526\n"
     ]
    },
    {
     "name": "stderr",
     "output_type": "stream",
     "text": [
      "100%|██████████| 999/999 [00:04<00:00, 223.53it/s]"
     ]
    },
    {
     "name": "stdout",
     "output_type": "stream",
     "text": [
      "Final energy\n",
      "{'kinetic': 0.7500093710673021, 'pot_ext': 0.7499906231462291, 'pot_int': 0.0} total E= 1.4999999942135314\n",
      "----------------------------------------\n",
      "Saving gp object to gp.pickle\n",
      "Deleting gp object\n",
      "Loading gp object from gp.pickle\n",
      "Final energy\n",
      "{'kinetic': 0.7500093710673021, 'pot_ext': 0.7499906231462291, 'pot_int': 0.0} total E= 1.4999999942135314\n"
     ]
    },
    {
     "name": "stderr",
     "output_type": "stream",
     "text": [
      "\n"
     ]
    }
   ],
   "source": [
    "import numpy as np\n",
    "import sys\n",
    "sys.path.append('../egpe')\n",
    "from egpe import eGPE\n",
    "\n",
    "# Initialize the system\n",
    "\n",
    "f0 = 148.265926 * 1000\n",
    "gp = eGPE(eps_dd=1E+20, \n",
    "          nparticles=1,\n",
    "          fx=f0,\n",
    "          fy=f0,\n",
    "          fz=f0,\n",
    "          nxyz=np.array([1,1,1])*32,\n",
    "          box_size=np.array([1,1,1])*20,\n",
    "          contact_interaction=False,\n",
    "          dipolar_interaction=False,\n",
    "          beta=0.,\n",
    "          gamma=0.\n",
    "          )\n",
    "\n",
    "print(\"Initial energy\")\n",
    "print(gp.energy(), \"total E=\",sum(gp.energy().values()))\n",
    "\n",
    "gp.evolve(0.01, 10, verbose=False)\n",
    "\n",
    "print(\"Final energy\")\n",
    "print(gp.energy(), \"total E=\",sum(gp.energy().values()))\n",
    "\n",
    "print(\"----------------------------------------\")\n",
    "\n",
    "# Save the gp object\n",
    "import pickle\n",
    "print(\"Saving gp object to gp.pickle\")\n",
    "with open('gp.pickle', 'wb') as f:\n",
    "    pickle.dump(gp, f)\n",
    "\n",
    "# delete the gp object\n",
    "print(\"Deleting gp object\")\n",
    "del gp\n",
    "\n",
    "# load the gp object\n",
    "print(\"Loading gp object from gp.pickle\")\n",
    "with open('gp.pickle', 'rb') as f:\n",
    "    gp = pickle.load(f)\n",
    "    \n",
    "# Print final energy\n",
    "print(\"Final energy\")\n",
    "print(gp.energy(), \"total E=\",sum(gp.energy().values()))\n"
   ]
  },
  {
   "cell_type": "code",
   "execution_count": null,
   "metadata": {},
   "outputs": [],
   "source": []
  },
  {
   "cell_type": "code",
   "execution_count": null,
   "metadata": {},
   "outputs": [],
   "source": []
  }
 ],
 "metadata": {
  "kernelspec": {
   "display_name": "mlp",
   "language": "python",
   "name": "python3"
  },
  "language_info": {
   "codemirror_mode": {
    "name": "ipython",
    "version": 3
   },
   "file_extension": ".py",
   "mimetype": "text/x-python",
   "name": "python",
   "nbconvert_exporter": "python",
   "pygments_lexer": "ipython3",
   "version": "3.8.13"
  },
  "orig_nbformat": 4,
  "vscode": {
   "interpreter": {
    "hash": "5fc8cc4423f23a87e418a855553ca5df0686e4c1b4502d1b16c3e8233d998187"
   }
  }
 },
 "nbformat": 4,
 "nbformat_minor": 2
}
