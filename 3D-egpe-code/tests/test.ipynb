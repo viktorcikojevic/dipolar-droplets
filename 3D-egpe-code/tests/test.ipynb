{
 "cells": [
  {
   "attachments": {},
   "cell_type": "markdown",
   "metadata": {},
   "source": [
    "# Non-interacting gas in a trap"
   ]
  },
  {
   "cell_type": "code",
   "execution_count": 1,
   "metadata": {},
   "outputs": [
    {
     "name": "stdout",
     "output_type": "stream",
     "text": [
      "[INFO] Initializing psi\n",
      "Initial energy\n",
      "{'kinetic': 0.002774076978423517, 'pot_ext': 50.092959346294776, 'pot_int': 0.0} total E= 50.0957334232732\n"
     ]
    },
    {
     "name": "stderr",
     "output_type": "stream",
     "text": [
      "100%|██████████| 999/999 [00:05<00:00, 176.67it/s]"
     ]
    },
    {
     "name": "stdout",
     "output_type": "stream",
     "text": [
      "Final energy\n",
      "{'kinetic': 0.7500093710753356, 'pot_ext': 0.749990623138199, 'pot_int': 0.0} total E= 1.4999999942135345\n"
     ]
    },
    {
     "name": "stderr",
     "output_type": "stream",
     "text": [
      "\n"
     ]
    }
   ],
   "source": [
    "import numpy as np\n",
    "import sys\n",
    "sys.path.append('../egpe')\n",
    "from egpe import eGPE\n",
    "\n",
    "# Let's set a system which is practically non-interacting, inside a harmonic trap of frequency f0.\n",
    "# Let's set f0 to be such that the harmonic oscillator length is equal to 1 (in units of the r_0=387.654009 a_0).\n",
    "# Harmonic oscillator length is given by a_ho = sqrt(hbar/(m*omega)), where m is the mass of the atom, and omega is the 2*pi*f0, where f0 is the frequency of the trap.\n",
    "# This means that a_h0^2 = hbar / (m*omega), or omega = hbar / (m*a_ho^2), or f0 = omega / (2*pi) = hbar / (2*pi*m*a_ho^2). \n",
    "# Since we want a_ho = 387.654009 a_0, f0 is (1.05457182e-34 m^2 kg / s) / (2*pi*(162 (1.66053907e-27 kilograms)) * (387.654009 *(5.291772109E-11 m))^2) = 148.265926 kilohertz\n",
    "f0 = 148.265926 * 1000\n",
    "gp = eGPE(eps_dd=1E+20, \n",
    "          nparticles=1,\n",
    "          fx=f0,\n",
    "          fy=f0,\n",
    "          fz=f0,\n",
    "          nxyz=np.array([1,1,1])*32,\n",
    "          box_size=np.array([1,1,1])*20,\n",
    "          contact_interaction=False,\n",
    "          dipolar_interaction=False,\n",
    "          beta=0.,\n",
    "          gamma=0.\n",
    "          )\n",
    "\n",
    "print(\"Initial energy\")\n",
    "print(gp.energy_contributions(), \"total E=\",sum(gp.energy_contributions().values()))\n",
    "\n",
    "gp.evolve(0.01, 10, verbose=False)\n",
    "\n",
    "print(\"Final energy\")\n",
    "print(gp.energy_contributions(), \"total E=\",sum(gp.energy_contributions().values()))"
   ]
  },
  {
   "attachments": {},
   "cell_type": "markdown",
   "metadata": {},
   "source": [
    "# N=2 non-interacting particles in a trap"
   ]
  },
  {
   "cell_type": "code",
   "execution_count": 2,
   "metadata": {},
   "outputs": [
    {
     "name": "stdout",
     "output_type": "stream",
     "text": [
      "[INFO] Initializing psi\n",
      "Initial energy\n",
      "{'kinetic': 0.0055395511822724335, 'pot_ext': 100.20292514178131, 'pot_int': 0.0} total E= 100.20846469296357\n"
     ]
    },
    {
     "name": "stderr",
     "output_type": "stream",
     "text": [
      "100%|██████████| 999/999 [00:05<00:00, 181.50it/s]"
     ]
    },
    {
     "name": "stdout",
     "output_type": "stream",
     "text": [
      "Final energy\n",
      "{'kinetic': 1.500018742126953, 'pot_ext': 1.4999812463001285, 'pot_int': 0.0} total E= 2.9999999884270814\n"
     ]
    },
    {
     "name": "stderr",
     "output_type": "stream",
     "text": [
      "\n"
     ]
    }
   ],
   "source": [
    "from egpe import eGPE\n",
    "import numpy as np\n",
    "import sys\n",
    "sys.path.append('../egpe')\n",
    "\n",
    "# Let's set a system which is practically non-interacting, inside a harmonic trap of frequency f0.\n",
    "# Let's set f0 to be such that the harmonic oscillator length is equal to 1 (in units of the r_0=387.654009 a_0).\n",
    "# Harmonic oscillator length is given by a_ho = sqrt(hbar/(m*omega)), where m is the mass of the atom, and omega is the 2*pi*f0, where f0 is the frequency of the trap.\n",
    "# This means that a_h0^2 = hbar / (m*omega), or omega = hbar / (m*a_ho^2), or f0 = omega / (2*pi) = hbar / (2*pi*m*a_ho^2).\n",
    "# Since we want a_ho = 387.654009 a_0, f0 is (1.05457182e-34 m^2 kg / s) / (2*pi*(162 (1.66053907e-27 kilograms)) * (387.654009 *(5.291772109E-11 m))^2) = 148.265926 kilohertz\n",
    "f0 = 148.265926 * 1000\n",
    "gp = eGPE(eps_dd=1E+20,\n",
    "          nparticles=2,\n",
    "          fx=f0,\n",
    "          fy=f0,\n",
    "          fz=f0,\n",
    "          nxyz=np.array([1, 1, 1])*32,\n",
    "          box_size=np.array([1, 1, 1])*20,\n",
    "          contact_interaction=False,\n",
    "          dipolar_interaction=False,\n",
    "          beta=0.,\n",
    "          gamma=0.\n",
    "          )\n",
    "\n",
    "print(\"Initial energy\")\n",
    "print(gp.energy_contributions(), \"total E=\",sum(gp.energy_contributions().values()))\n",
    "\n",
    "gp.evolve(0.01, 10, verbose=False)\n",
    "\n",
    "print(\"Final energy\")\n",
    "print(gp.energy_contributions(), \"total E=\",sum(gp.energy_contributions().values()))\n"
   ]
  },
  {
   "attachments": {},
   "cell_type": "markdown",
   "metadata": {},
   "source": [
    "# Mean-field gas in a trap, params=1"
   ]
  },
  {
   "cell_type": "code",
   "execution_count": 3,
   "metadata": {},
   "outputs": [
    {
     "name": "stdout",
     "output_type": "stream",
     "text": [
      "[INFO] Initializing psi\n",
      "Initial energy\n",
      "{'kinetic': 0.750000000627405, 'pot_ext': 3.4117606111405566e-31, 'pot_int': 0.06349487872665438}\n",
      "Analytical value of  potential =  0.06349363593\n"
     ]
    }
   ],
   "source": [
    "import numpy as np\n",
    "import sys\n",
    "sys.path.append('../egpe')\n",
    "from egpe import eGPE\n",
    "\n",
    "gp = eGPE(eps_dd=1.E+20,\n",
    "          nparticles=1,\n",
    "          fx=0.,\n",
    "          fy=0.,\n",
    "          fz=0.,\n",
    "          nxyz=np.array([1, 1, 1])*32,\n",
    "          box_size=np.array([1, 1, 1])*20,\n",
    "          contact_interaction=False,\n",
    "          dipolar_interaction=False,\n",
    "          beta=0.,\n",
    "          gamma=0.,\n",
    "          )\n",
    "\n",
    "gp.alpha = 1.\n",
    "gp.psi = np.exp(-0.5 * gp.x**2) * np.exp(-0.5 * gp.y**2) * np.exp(-0.5 * gp.z**2)\n",
    "gp.normalize_psi()\n",
    "gp.den = np.abs(gp.psi)**2\n",
    "gp.phi_dd = gp.get_phi_dd()\n",
    "\n",
    "# analytical energy is sqrt(2) * n * alpha / (4 pi^(3/2) * sigma_r^2 * sigma_z)\n",
    "# For n=1, alpha=1, sigma_r=1, sigma_z=1, the energy is sqrt(2) / (4 pi^(3/2)) = 0.06349363593\n",
    "\n",
    "\n",
    "print(\"Initial energy\")\n",
    "print(gp.energy_contributions())\n",
    "# print(\"total E = \", sum(gp.energy_contributions().values()))\n",
    "print(\"Analytical value of  potential = \", 0.06349363593)\n",
    "\n"
   ]
  },
  {
   "attachments": {},
   "cell_type": "markdown",
   "metadata": {},
   "source": [
    "# Mean-field gas in a trap, params different than 1"
   ]
  },
  {
   "cell_type": "code",
   "execution_count": 4,
   "metadata": {},
   "outputs": [
    {
     "name": "stdout",
     "output_type": "stream",
     "text": [
      "[INFO] Initializing psi\n",
      "Initial energy\n",
      "{'kinetic': 1.6834564037438342, 'pot_ext': 1.402233612681621e-30, 'pot_int': 0.5085953903459537}\n",
      "Analytical value of  potential =  0.50859492229\n"
     ]
    }
   ],
   "source": [
    "import numpy as np\n",
    "import sys\n",
    "sys.path.append('../egpe')\n",
    "from egpe import eGPE\n",
    "\n",
    "gp = eGPE(eps_dd=1.E+20,\n",
    "          nparticles=3,\n",
    "          fx=0.,\n",
    "          fy=0.,\n",
    "          fz=0.,\n",
    "          nxyz=np.array([1, 1, 1])*32,\n",
    "          box_size=np.array([1, 1, 1])*20,\n",
    "          contact_interaction=True,\n",
    "          dipolar_interaction=False,\n",
    "          beta=0.,\n",
    "          gamma=0.,\n",
    "          )\n",
    "\n",
    "gp.alpha = 1.4\n",
    "gp.psi = np.exp(-0.5 * gp.x**2 / 1.1**2) * np.exp(-0.5 * gp.y ** 2 / 1.1**2) * np.exp(-0.5 * gp.z**2 / 1.3**2)\n",
    "gp.normalize_psi()\n",
    "gp.den = np.abs(gp.psi)**2\n",
    "gp.phi_dd = gp.get_phi_dd()\n",
    "\n",
    "# analytical energy is sqrt(2) * n * alpha / (4 pi^(3/2) * sigma_r^2 * sigma_z)\n",
    "# For n=3, alpha=1.4, sigma_r=1.1, sigma_z=1.3, the energy is 3**2 * 1.4 * sqrt(2) / (4 pi^(3/2) * 1.1**2 * 1.3) =   0.50859492229\n",
    "\n",
    "print(\"Initial energy\")\n",
    "print(gp.energy_contributions())\n",
    "# print(\"total E = \", sum(gp.energy_contributions().values()))\n",
    "print(\"Analytical value of  potential = \", 0.50859492229)\n"
   ]
  },
  {
   "attachments": {},
   "cell_type": "markdown",
   "metadata": {},
   "source": [
    "# Comparison with variational energy, N=1"
   ]
  },
  {
   "cell_type": "code",
   "execution_count": 5,
   "metadata": {},
   "outputs": [
    {
     "name": "stdout",
     "output_type": "stream",
     "text": [
      "\n",
      "\n",
      "----------------------------------------\n",
      "nbins = 16^3\n",
      "1.4357555888888887\n",
      "[INFO] Initializing psi\n",
      "{'kinetic': 0.005333262031433946, 'pot_ext': 3.2804582416504094e-30, 'pot_int': 1.1526136213935357e-05}\n",
      "total E= 0.005344788167647881\n",
      "Analytic energy  0.005640133029472228\n",
      "Relative difference in analytic and total E (in percentage) 5.236487513344757\n",
      "1.4587406927762814 3.2148781552730856 1.5\n",
      "CPU times: user 2.3 ms, sys: 188 µs, total: 2.49 ms\n",
      "Wall time: 2.48 ms\n",
      "\n",
      "\n",
      "----------------------------------------\n",
      "nbins = 32^3\n",
      "1.4357555888888887\n",
      "[INFO] Initializing psi\n",
      "{'kinetic': 0.0057593721854735675, 'pot_ext': 6.513250470365563e-29, 'pot_int': 1.908057613178985e-05}\n",
      "total E= 0.005778452761605358\n",
      "Analytic energy  0.005640133029472228\n",
      "Relative difference in analytic and total E (in percentage) -2.452419675393241\n",
      "1.4587406927762814 3.2148781552730856 1.5\n",
      "CPU times: user 11.8 ms, sys: 961 µs, total: 12.7 ms\n",
      "Wall time: 12.7 ms\n",
      "\n",
      "\n",
      "----------------------------------------\n",
      "nbins = 64^3\n",
      "1.4357555888888887\n",
      "[INFO] Initializing psi\n",
      "{'kinetic': 0.005625000004711824, 'pot_ext': 6.823521222281109e-29, 'pot_int': 1.5171303335155548e-05}\n",
      "total E= 0.005640171308046979\n",
      "Analytic energy  0.005640133029472228\n",
      "Relative difference in analytic and total E (in percentage) -0.0006786821259510322\n",
      "1.4587406927762814 3.2148781552730856 1.5\n",
      "CPU times: user 88.1 ms, sys: 31.8 ms, total: 120 ms\n",
      "Wall time: 121 ms\n",
      "\n",
      "\n",
      "----------------------------------------\n",
      "nbins = 128^3\n",
      "1.4357555888888887\n",
      "[INFO] Initializing psi\n",
      "{'kinetic': 0.005625000000034808, 'pot_ext': 6.823521229620212e-29, 'pot_int': 1.5170538545613322e-05}\n",
      "total E= 0.0056401705385804215\n",
      "Analytic energy  0.005640133029472228\n",
      "Relative difference in analytic and total E (in percentage) -0.000665039423672726\n",
      "1.4587406927762814 3.2148781552730856 1.5\n",
      "CPU times: user 1.05 s, sys: 207 ms, total: 1.26 s\n",
      "Wall time: 1.28 s\n"
     ]
    }
   ],
   "source": [
    "import numpy as np\n",
    "import sys\n",
    "sys.path.append('../egpe')\n",
    "from egpe import eGPE\n",
    "\n",
    "sys.path.append('../../estimate_nc')\n",
    "from estimate_nc import en_per_particle\n",
    "def calculate_differences(nbins=32):\n",
    "    \n",
    "    # print ----------------------------------------\n",
    "    print(\"\\n\\n----------------------------------------\")\n",
    "    print(f\"nbins = {nbins}^3\")\n",
    "    \n",
    "    r_0 = 387.654009\n",
    "    a_s = 90. / r_0\n",
    "    eps_dd = 1. / 3. / a_s # * r_0\n",
    "    print(eps_dd)\n",
    "\n",
    "\n",
    "    sr_0 = 10.\n",
    "    sz_0 = sr_0 * 2\n",
    "\n",
    "    gp = eGPE(eps_dd=eps_dd,\n",
    "            nparticles=1,\n",
    "            fx=0.,\n",
    "            fy=0.,\n",
    "            fz=0.,\n",
    "            nxyz=np.array([1, 1, 1])*nbins,\n",
    "            box_size=np.array([sr_0, sr_0, sz_0])*40,\n",
    "            contact_interaction=True,\n",
    "            dipolar_interaction=True,\n",
    "            )\n",
    "\n",
    "    sr = np.sqrt(gp.x**2 + gp.y**2)\n",
    "    gp.psi = np.exp(-0.5 * sr**2 / sr_0**2) * np.exp(-0.5 * gp.z**2 / sz_0**2) + 0.j \n",
    "    gp.normalize_psi()\n",
    "    gp.den = np.abs(gp.psi)**2\n",
    "    gp.phi_dd = gp.get_phi_dd()\n",
    "\n",
    "    print(gp.energy_contributions())\n",
    "    print(\"total E=\",sum(gp.energy_contributions().values()))\n",
    "    en_analytic = en_per_particle(sr_0, sz_0, gp.nparticles, gp.alpha, gp.beta, gp.gamma, include_ho=False)\n",
    "    print(\"Analytic energy \",en_analytic)\n",
    "    print(\"Relative difference in analytic and total E (in percentage)\", 100 * (en_analytic - sum(gp.energy_contributions().values())) / en_analytic)\n",
    "\n",
    "\n",
    "    print(gp.alpha, gp.beta, gp.gamma)\n",
    "\n",
    "%time calculate_differences(16)\n",
    "%time calculate_differences(32)\n",
    "%time calculate_differences(64)\n",
    "%time calculate_differences(128)"
   ]
  },
  {
   "attachments": {},
   "cell_type": "markdown",
   "metadata": {},
   "source": [
    "## Smaller box size"
   ]
  },
  {
   "cell_type": "code",
   "execution_count": 6,
   "metadata": {},
   "outputs": [
    {
     "name": "stdout",
     "output_type": "stream",
     "text": [
      "\n",
      "\n",
      "----------------------------------------\n",
      "nbins = 16^3\n",
      "1.4357555888888887\n",
      "[INFO] Initializing psi\n",
      "{'kinetic': 0.005762032483903836, 'pot_ext': 6.513250470365563e-29, 'pot_int': 1.9356745804375074e-05}\n",
      "total E= 0.00578138922970821\n",
      "Analytic energy  0.005640133029472228\n",
      "Relative difference in analytic and total E (in percentage) -2.5044834846599437\n",
      "1.4587406927762814 3.2148781552730856 1.5\n",
      "CPU times: user 2.79 ms, sys: 1.29 ms, total: 4.08 ms\n",
      "Wall time: 3.64 ms\n",
      "\n",
      "\n",
      "----------------------------------------\n",
      "nbins = 32^3\n",
      "1.4357555888888887\n",
      "[INFO] Initializing psi\n",
      "{'kinetic': 0.005625000004981867, 'pot_ext': 6.823521222281116e-29, 'pot_int': 1.5426192706788306e-05}\n",
      "total E= 0.005640426197688656\n",
      "Analytic energy  0.005640133029472228\n",
      "Relative difference in analytic and total E (in percentage) -0.005197895420125712\n",
      "1.4587406927762814 3.2148781552730856 1.5\n",
      "CPU times: user 12 ms, sys: 1.32 ms, total: 13.4 ms\n",
      "Wall time: 13.5 ms\n",
      "\n",
      "\n",
      "----------------------------------------\n",
      "nbins = 64^3\n",
      "1.4357555888888887\n",
      "[INFO] Initializing psi\n",
      "{'kinetic': 0.005625000000278416, 'pot_ext': 6.823521229620207e-29, 'pot_int': 1.54254273250949e-05}\n",
      "total E= 0.005640425427603511\n",
      "Analytic energy  0.005640133029472228\n",
      "Relative difference in analytic and total E (in percentage) -0.0051842417502400255\n",
      "1.4587406927762814 3.2148781552730856 1.5\n",
      "CPU times: user 81.3 ms, sys: 22 ms, total: 103 ms\n",
      "Wall time: 103 ms\n",
      "\n",
      "\n",
      "----------------------------------------\n",
      "nbins = 128^3\n",
      "1.4357555888888887\n",
      "[INFO] Initializing psi\n",
      "{'kinetic': 0.005625000000278417, 'pot_ext': 6.823521229620211e-29, 'pot_int': 1.542542732509493e-05}\n",
      "total E= 0.005640425427603512\n",
      "Analytic energy  0.005640133029472228\n",
      "Relative difference in analytic and total E (in percentage) -0.005184241750255404\n",
      "1.4587406927762814 3.2148781552730856 1.5\n",
      "CPU times: user 1.06 s, sys: 184 ms, total: 1.24 s\n",
      "Wall time: 1.25 s\n"
     ]
    }
   ],
   "source": [
    "import numpy as np\n",
    "import sys\n",
    "sys.path.append('../egpe')\n",
    "from egpe import eGPE\n",
    "\n",
    "sys.path.append('../../estimate_nc')\n",
    "from estimate_nc import en_per_particle\n",
    "def calculate_differences(nbins=32):\n",
    "    \n",
    "    # print ----------------------------------------\n",
    "    print(\"\\n\\n----------------------------------------\")\n",
    "    print(f\"nbins = {nbins}^3\")\n",
    "    \n",
    "    r_0 = 387.654009\n",
    "    a_s = 90. / r_0\n",
    "    eps_dd = 1. / 3. / a_s # * r_0\n",
    "    print(eps_dd)\n",
    "\n",
    "\n",
    "    sr_0 = 10.\n",
    "    sz_0 = sr_0 * 2\n",
    "\n",
    "    gp = eGPE(eps_dd=eps_dd,\n",
    "            nparticles=1,\n",
    "            fx=0.,\n",
    "            fy=0.,\n",
    "            fz=0.,\n",
    "            nxyz=np.array([1, 1, 1])*nbins,\n",
    "            box_size=np.array([sr_0, sr_0, sz_0])*20,\n",
    "            contact_interaction=True,\n",
    "            dipolar_interaction=True,\n",
    "            )\n",
    "\n",
    "    sr = np.sqrt(gp.x**2 + gp.y**2)\n",
    "    gp.psi = np.exp(-0.5 * sr**2 / sr_0**2) * np.exp(-0.5 * gp.z**2 / sz_0**2) + 0.j \n",
    "    gp.normalize_psi()\n",
    "    gp.den = np.abs(gp.psi)**2\n",
    "    gp.phi_dd = gp.get_phi_dd()\n",
    "\n",
    "    print(gp.energy_contributions())\n",
    "    print(\"total E=\",sum(gp.energy_contributions().values()))\n",
    "    en_analytic = en_per_particle(sr_0, sz_0, gp.nparticles, gp.alpha, gp.beta, gp.gamma, include_ho=False)\n",
    "    print(\"Analytic energy \",en_analytic)\n",
    "    print(\"Relative difference in analytic and total E (in percentage)\", 100 * (en_analytic - sum(gp.energy_contributions().values())) / en_analytic)\n",
    "\n",
    "\n",
    "    print(gp.alpha, gp.beta, gp.gamma)\n",
    "\n",
    "%time calculate_differences(16)\n",
    "%time calculate_differences(32)\n",
    "%time calculate_differences(64)\n",
    "%time calculate_differences(128)"
   ]
  },
  {
   "attachments": {},
   "cell_type": "markdown",
   "metadata": {},
   "source": [
    "# Test when you put a_s"
   ]
  },
  {
   "cell_type": "code",
   "execution_count": 7,
   "metadata": {},
   "outputs": [
    {
     "name": "stdout",
     "output_type": "stream",
     "text": [
      "\n",
      "\n",
      "----------------------------------------\n",
      "nbins = 16^3\n",
      "[INFO] Initializing psi\n",
      "{'kinetic': 0.005333262031433946, 'pot_ext': 3.2804582416504094e-30, 'pot_int': 1.1526136213935357e-05}\n",
      "total E= 0.005344788167647881\n",
      "Analytic energy  0.005640133029472228\n",
      "Relative difference in analytic and total E (in percentage) 5.236487513344757\n",
      "1.4587406927762814 3.2148781552730856 1.5\n",
      "CPU times: user 3.08 ms, sys: 1.97 ms, total: 5.05 ms\n",
      "Wall time: 4.58 ms\n",
      "\n",
      "\n",
      "----------------------------------------\n",
      "nbins = 32^3\n",
      "[INFO] Initializing psi\n",
      "{'kinetic': 0.0057593721854735675, 'pot_ext': 6.513250470365563e-29, 'pot_int': 1.908057613178985e-05}\n",
      "total E= 0.005778452761605358\n",
      "Analytic energy  0.005640133029472228\n",
      "Relative difference in analytic and total E (in percentage) -2.452419675393241\n",
      "1.4587406927762814 3.2148781552730856 1.5\n",
      "CPU times: user 12.9 ms, sys: 2.15 ms, total: 15 ms\n",
      "Wall time: 15.2 ms\n",
      "\n",
      "\n",
      "----------------------------------------\n",
      "nbins = 64^3\n",
      "[INFO] Initializing psi\n",
      "{'kinetic': 0.005625000004711824, 'pot_ext': 6.823521222281109e-29, 'pot_int': 1.5171303335155548e-05}\n",
      "total E= 0.005640171308046979\n",
      "Analytic energy  0.005640133029472228\n",
      "Relative difference in analytic and total E (in percentage) -0.0006786821259510322\n",
      "1.4587406927762814 3.2148781552730856 1.5\n",
      "CPU times: user 91.8 ms, sys: 38.1 ms, total: 130 ms\n",
      "Wall time: 149 ms\n",
      "\n",
      "\n",
      "----------------------------------------\n",
      "nbins = 128^3\n",
      "[INFO] Initializing psi\n",
      "{'kinetic': 0.005625000000034808, 'pot_ext': 6.823521229620212e-29, 'pot_int': 1.5170538545613322e-05}\n",
      "total E= 0.0056401705385804215\n",
      "Analytic energy  0.005640133029472228\n",
      "Relative difference in analytic and total E (in percentage) -0.000665039423672726\n",
      "1.4587406927762814 3.2148781552730856 1.5\n",
      "CPU times: user 1.03 s, sys: 198 ms, total: 1.23 s\n",
      "Wall time: 1.28 s\n"
     ]
    }
   ],
   "source": [
    "import numpy as np\n",
    "import sys\n",
    "sys.path.append('../egpe')\n",
    "from egpe import eGPE\n",
    "\n",
    "sys.path.append('../../estimate_nc')\n",
    "from estimate_nc import en_per_particle\n",
    "def calculate_differences(nbins=32):\n",
    "    \n",
    "    # print ----------------------------------------\n",
    "    print(\"\\n\\n----------------------------------------\")\n",
    "    print(f\"nbins = {nbins}^3\")\n",
    "    \n",
    "    sr_0 = 10.\n",
    "    sz_0 = sr_0 * 2\n",
    "\n",
    "    gp = eGPE(a_s=90.,\n",
    "            nparticles=1,\n",
    "            fx=0.,\n",
    "            fy=0.,\n",
    "            fz=0.,\n",
    "            nxyz=np.array([1, 1, 1])*nbins,\n",
    "            box_size=np.array([sr_0, sr_0, sz_0])*40,\n",
    "            contact_interaction=True,\n",
    "            dipolar_interaction=True,\n",
    "            )\n",
    "\n",
    "    sr = np.sqrt(gp.x**2 + gp.y**2)\n",
    "    gp.psi = np.exp(-0.5 * sr**2 / sr_0**2) * np.exp(-0.5 * gp.z**2 / sz_0**2) + 0.j \n",
    "    gp.normalize_psi()\n",
    "    gp.den = np.abs(gp.psi)**2\n",
    "    gp.phi_dd = gp.get_phi_dd()\n",
    "\n",
    "    print(gp.energy_contributions())\n",
    "    print(\"total E=\",sum(gp.energy_contributions().values()))\n",
    "    en_analytic = en_per_particle(sr_0, sz_0, gp.nparticles, gp.alpha, gp.beta, gp.gamma, include_ho=False)\n",
    "    print(\"Analytic energy \",en_analytic)\n",
    "    print(\"Relative difference in analytic and total E (in percentage)\", 100 * (en_analytic - sum(gp.energy_contributions().values())) / en_analytic)\n",
    "\n",
    "\n",
    "    print(gp.alpha, gp.beta, gp.gamma)\n",
    "\n",
    "%time calculate_differences(16)\n",
    "%time calculate_differences(32)\n",
    "%time calculate_differences(64)\n",
    "%time calculate_differences(128)"
   ]
  },
  {
   "attachments": {},
   "cell_type": "markdown",
   "metadata": {},
   "source": [
    "## Test with nparticles>1"
   ]
  },
  {
   "cell_type": "code",
   "execution_count": 14,
   "metadata": {},
   "outputs": [
    {
     "name": "stdout",
     "output_type": "stream",
     "text": [
      "\n",
      "\n",
      "----------------------------------------\n",
      "nbins = 16^3\n",
      "[INFO] Initializing psi\n",
      "{'kinetic': 592.9574059168574, 'pot_ext': 3.6472462776493427e-25, 'pot_int': 2465804.1099384245}\n",
      "total E= 2466397.0673443414\n",
      "Analytic energy  27.265962355435207\n",
      "Relative difference in analytic and total E (in percentage) 18.639878468737088\n",
      "1.4587406927762814 3.2148781552730856 1.5\n",
      "CPU times: user 2.68 ms, sys: 3.27 ms, total: 5.95 ms\n",
      "Wall time: 9.48 ms\n",
      "\n",
      "\n",
      "----------------------------------------\n",
      "nbins = 32^3\n",
      "[INFO] Initializing psi\n",
      "{'kinetic': 640.3327589531367, 'pot_ext': 7.241497005457137e-24, 'pot_int': 4555574.446532555}\n",
      "total E= 4556214.779291508\n",
      "Analytic energy  27.265962355435207\n",
      "Relative difference in analytic and total E (in percentage) -50.297854742761714\n",
      "1.4587406927762814 3.2148781552730856 1.5\n",
      "CPU times: user 12.6 ms, sys: 1.85 ms, total: 14.5 ms\n",
      "Wall time: 14.5 ms\n",
      "\n",
      "\n",
      "----------------------------------------\n",
      "nbins = 64^3\n",
      "[INFO] Initializing psi\n",
      "{'kinetic': 625.3931255238653, 'pot_ext': 7.586459130144362e-24, 'pot_int': 3032001.136167256}\n",
      "total E= 3032626.52929278\n",
      "Analytic energy  27.265962355435207\n",
      "Relative difference in analytic and total E (in percentage) -0.03858107399590651\n",
      "1.4587406927762814 3.2148781552730856 1.5\n",
      "CPU times: user 83.9 ms, sys: 29 ms, total: 113 ms\n",
      "Wall time: 118 ms\n",
      "\n",
      "\n",
      "----------------------------------------\n",
      "nbins = 128^3\n",
      "[INFO] Initializing psi\n",
      "{'kinetic': 625.3931250038695, 'pot_ext': 7.586459138304043e-24, 'pot_int': 3031295.225226239}\n",
      "total E= 3031920.6183512425\n",
      "Analytic energy  27.265962355435207\n",
      "Relative difference in analytic and total E (in percentage) -0.015294880238144733\n",
      "1.4587406927762814 3.2148781552730856 1.5\n",
      "CPU times: user 1.06 s, sys: 253 ms, total: 1.31 s\n",
      "Wall time: 1.47 s\n"
     ]
    }
   ],
   "source": [
    "import numpy as np\n",
    "import sys\n",
    "sys.path.append('../egpe')\n",
    "from egpe import eGPE\n",
    "\n",
    "sys.path.append('../../estimate_nc')\n",
    "from estimate_nc import en_per_particle\n",
    "def calculate_differences(nbins=32):\n",
    "    \n",
    "    # print ----------------------------------------\n",
    "    print(\"\\n\\n----------------------------------------\")\n",
    "    print(f\"nbins = {nbins}^3\")\n",
    "    \n",
    "    sr_0 = 10.\n",
    "    sz_0 = sr_0 * 2\n",
    "\n",
    "    gp = eGPE(a_s=90.,\n",
    "            nparticles=111181,\n",
    "            fx=0.,\n",
    "            fy=0.,\n",
    "            fz=0.,\n",
    "            nxyz=np.array([1, 1, 1])*nbins,\n",
    "            box_size=np.array([sr_0, sr_0, sz_0])*40,\n",
    "            contact_interaction=True,\n",
    "            dipolar_interaction=True,\n",
    "            )\n",
    "\n",
    "    sr = np.sqrt(gp.x**2 + gp.y**2)\n",
    "    gp.psi = np.exp(-0.5 * sr**2 / sr_0**2) * np.exp(-0.5 * gp.z**2 / sz_0**2) + 0.j \n",
    "    gp.normalize_psi()\n",
    "    gp.den = np.abs(gp.psi)**2\n",
    "    gp.phi_dd = gp.get_phi_dd()\n",
    "\n",
    "    print(gp.energy_contributions())\n",
    "    print(\"total E=\",sum(gp.energy_contributions().values()))\n",
    "    en_analytic = en_per_particle(sr_0, sz_0, gp.nparticles, gp.alpha, gp.beta, gp.gamma, include_ho=False)\n",
    "    print(\"Analytic energy \",en_analytic)\n",
    "    print(\"Relative difference in analytic and total E (in percentage)\", 100 * (en_analytic - sum(gp.energy_contributions().values()) / gp.nparticles ) / en_analytic)\n",
    "\n",
    "\n",
    "    print(gp.alpha, gp.beta, gp.gamma)\n",
    "\n",
    "%time calculate_differences(16)\n",
    "%time calculate_differences(32)\n",
    "%time calculate_differences(64)\n",
    "%time calculate_differences(128)"
   ]
  },
  {
   "attachments": {},
   "cell_type": "markdown",
   "metadata": {},
   "source": [
    "## Test with nparticles>1 and and sz/sr=20\n",
    "\n",
    "This one is interesting because usually you'll have sz/sr large (around 20) in your simulations. This tells you that the energy is indeed very sensitive to the size of the box.\n",
    "\n",
    "Some results: \n",
    "- box/gaussian width = 20, 4% error rate and 32^3\n",
    "- box/gaussian width = 40, 0.87% error rate and 64^3\n",
    "- box/gaussian width = 80, 0.1% error rate and 128^3\n",
    "\n"
   ]
  },
  {
   "cell_type": "code",
   "execution_count": 21,
   "metadata": {},
   "outputs": [
    {
     "name": "stdout",
     "output_type": "stream",
     "text": [
      "\n",
      "\n",
      "----------------------------------------\n",
      "nbins = 16^3\n",
      "[INFO] Initializing psi\n",
      "{'kinetic': 527.7320912662474, 'pot_ext': 2.4436550060250578e-23, 'pot_int': 50852.81536672331}\n",
      "total E= 51380.54745798956\n",
      "Analytic energy  0.6068857153109459\n",
      "Relative difference in analytic and total E (in percentage) 23.85152047198533\n",
      "1.4587406927762814 3.2148781552730856 1.5\n",
      "CPU times: user 3.21 ms, sys: 3.82 ms, total: 7.02 ms\n",
      "Wall time: 6.35 ms\n",
      "\n",
      "\n",
      "----------------------------------------\n",
      "nbins = 32^3\n",
      "[INFO] Initializing psi\n",
      "{'kinetic': 569.8961554687129, 'pot_ext': 4.85180299365628e-22, 'pot_int': 108480.04339826142}\n",
      "total E= 109049.93955373013\n",
      "Analytic energy  0.6068857153109459\n",
      "Relative difference in analytic and total E (in percentage) -61.617333805718424\n",
      "1.4587406927762814 3.2148781552730856 1.5\n",
      "CPU times: user 12 ms, sys: 1.47 ms, total: 13.4 ms\n",
      "Wall time: 13.5 ms\n",
      "\n",
      "\n",
      "----------------------------------------\n",
      "nbins = 64^3\n",
      "[INFO] Initializing psi\n",
      "{'kinetic': 556.5998817166655, 'pot_ext': 5.082927617196721e-22, 'pot_int': 67505.33377259283}\n",
      "total E= 68061.9336543095\n",
      "Analytic energy  0.6068857153109459\n",
      "Relative difference in analytic and total E (in percentage) -0.8711081903111185\n",
      "1.4587406927762814 3.2148781552730856 1.5\n",
      "CPU times: user 82.1 ms, sys: 26.7 ms, total: 109 ms\n",
      "Wall time: 110 ms\n",
      "\n",
      "\n",
      "----------------------------------------\n",
      "nbins = 128^3\n",
      "[INFO] Initializing psi\n",
      "{'kinetic': 556.5998812538697, 'pot_ext': 5.08292762266371e-22, 'pot_int': 67483.61253451133}\n",
      "total E= 68040.2124157652\n",
      "Analytic energy  0.6068857153109459\n",
      "Relative difference in analytic and total E (in percentage) -0.8389162544434391\n",
      "1.4587406927762814 3.2148781552730856 1.5\n",
      "CPU times: user 1.06 s, sys: 231 ms, total: 1.3 s\n",
      "Wall time: 1.34 s\n"
     ]
    }
   ],
   "source": [
    "import numpy as np\n",
    "import sys\n",
    "sys.path.append('../egpe')\n",
    "from egpe import eGPE\n",
    "\n",
    "sys.path.append('../../estimate_nc')\n",
    "from estimate_nc import en_per_particle\n",
    "def calculate_differences(nbins=32):\n",
    "    \n",
    "    # print ----------------------------------------\n",
    "    print(\"\\n\\n----------------------------------------\")\n",
    "    print(f\"nbins = {nbins}^3\")\n",
    "    \n",
    "    sr_0 = 10.\n",
    "    sz_0 = sr_0 * 20\n",
    "\n",
    "    gp = eGPE(a_s=90.,\n",
    "            nparticles=111181,\n",
    "            fx=0.,\n",
    "            fy=0.,\n",
    "            fz=0.,\n",
    "            nxyz=np.array([1, 1, 1])*nbins,\n",
    "            box_size=np.array([sr_0, sr_0, sz_0])*40,\n",
    "            contact_interaction=True,\n",
    "            dipolar_interaction=True,\n",
    "            )\n",
    "\n",
    "    sr = np.sqrt(gp.x**2 + gp.y**2)\n",
    "    gp.psi = np.exp(-0.5 * sr**2 / sr_0**2) * np.exp(-0.5 * gp.z**2 / sz_0**2) + 0.j \n",
    "    gp.normalize_psi()\n",
    "    gp.den = np.abs(gp.psi)**2\n",
    "    gp.phi_dd = gp.get_phi_dd()\n",
    "\n",
    "    print(gp.energy_contributions())\n",
    "    print(\"total E=\",sum(gp.energy_contributions().values()))\n",
    "    en_analytic = en_per_particle(sr_0, sz_0, gp.nparticles, gp.alpha, gp.beta, gp.gamma, include_ho=False)\n",
    "    print(\"Analytic energy \",en_analytic)\n",
    "    print(\"Relative difference in analytic and total E (in percentage)\", 100 * (en_analytic - sum(gp.energy_contributions().values()) / gp.nparticles ) / en_analytic)\n",
    "\n",
    "\n",
    "    print(gp.alpha, gp.beta, gp.gamma)\n",
    "\n",
    "%time calculate_differences(16)\n",
    "%time calculate_differences(32)\n",
    "%time calculate_differences(64)\n",
    "%time calculate_differences(128)"
   ]
  },
  {
   "attachments": {},
   "cell_type": "markdown",
   "metadata": {},
   "source": [
    "## Test with nparticles>1 and and sz/sr=20 AND two different values of a_s\n",
    "\n",
    "This one is interesting because usually you'll have sz/sr large (around 20) in your simulations. This tells you that the energy is indeed very sensitive to the size of the box.\n",
    "\n",
    "Some results for $a_s$=60: \n",
    "- box/gaussian width = 20, 13% error rate and 32^3\n",
    "- box/gaussian width = 40, 2.6% error rate and 64^3\n",
    "- box/gaussian width = 80, 0.48% error rate and 128^3\n",
    "\n",
    "Some results for $a_s$=110: \n",
    "- box/gaussian width = 20, 2.8% error rate and 32^3\n",
    "- box/gaussian width = 40, 0.55% error rate and 64^3\n",
    "- box/gaussian width = 80, 0.1% error rate and 128^3\n",
    "\n",
    "\n",
    "\n",
    "Interesting! So, the error rate is very sensitive to the size of the box. This means that you should implement the cilindrical cutoff for the dipolar potential"
   ]
  },
  {
   "cell_type": "code",
   "execution_count": 4,
   "metadata": {},
   "outputs": [
    {
     "name": "stdout",
     "output_type": "stream",
     "text": [
      "\n",
      "\n",
      "----------------------------------------\n",
      "nbins = 16^3\n",
      "[INFO] Initializing psi\n",
      "{'kinetic': 36.90891990908203, 'pot_ext': 7.563550774769585e-63, 'pot_int': 18.442397322190526}\n",
      "total E= 55.35131723127256\n",
      "Analytic energy  0.9151638131293811\n",
      "Relative difference in analytic and total E (in percentage) 99.94560004437439\n",
      "1.7829052911710106 3.9830945961978603 1.5\n",
      "Memory usage of all objects in gp (in GB):\n",
      "0.000429236\n",
      "CPU times: user 2.78 ms, sys: 1.92 ms, total: 4.7 ms\n",
      "Wall time: 3.85 ms\n",
      "\n",
      "\n",
      "----------------------------------------\n",
      "nbins = 32^3\n",
      "[INFO] Initializing psi\n",
      "{'kinetic': 146.776000866059, 'pot_ext': 7.059141349126784e-31, 'pot_int': 2765.650554486616}\n",
      "total E= 2912.4265553526748\n",
      "Analytic energy  0.9151638131293811\n",
      "Relative difference in analytic and total E (in percentage) 97.13763134647675\n",
      "1.7829052911710106 3.9830945961978603 1.5\n",
      "Memory usage of all objects in gp (in GB):\n",
      "0.003411124\n",
      "CPU times: user 11.5 ms, sys: 1.36 ms, total: 12.9 ms\n",
      "Wall time: 12.9 ms\n",
      "\n",
      "\n",
      "----------------------------------------\n",
      "nbins = 64^3\n",
      "[INFO] Initializing psi\n",
      "{'kinetic': 524.1807909199188, 'pot_ext': 2.4436550060250578e-23, 'pot_int': 80373.73545503672}\n",
      "total E= 80897.91624595663\n",
      "Analytic energy  0.9151638131293811\n",
      "Relative difference in analytic and total E (in percentage) 20.492532533671007\n",
      "1.7829052911710106 3.9830945961978603 1.5\n",
      "Memory usage of all objects in gp (in GB):\n",
      "0.027266228\n",
      "CPU times: user 81.6 ms, sys: 30.3 ms, total: 112 ms\n",
      "Wall time: 115 ms\n",
      "\n",
      "\n",
      "----------------------------------------\n",
      "nbins = 128^3\n",
      "[INFO] Initializing psi\n",
      "{'kinetic': 569.8097410515769, 'pot_ext': 4.85180299365628e-22, 'pot_int': 156549.61561461198}\n",
      "total E= 157119.42535566355\n",
      "Analytic energy  0.9151638131293811\n",
      "Relative difference in analytic and total E (in percentage) -54.418904459953865\n",
      "1.7829052911710106 3.9830945961978603 1.5\n",
      "Memory usage of all objects in gp (in GB):\n",
      "0.21810706\n",
      "CPU times: user 1.24 s, sys: 206 ms, total: 1.44 s\n",
      "Wall time: 1.48 s\n",
      "\n",
      "\n",
      "----------------------------------------\n",
      "nbins = 256^3\n",
      "[INFO] Initializing psi\n",
      "{'kinetic': 556.5998817118208, 'pot_ext': 5.082927617196724e-22, 'pot_int': 101231.97788511594}\n",
      "total E= 101788.57776682776\n",
      "Analytic energy  0.9151638131293811\n",
      "Relative difference in analytic and total E (in percentage) -0.03906665079833563\n",
      "1.7829052911710106 3.9830945961978603 1.5\n",
      "Memory usage of all objects in gp (in GB):\n",
      "1.744833716\n",
      "CPU times: user 13.6 s, sys: 3.35 s, total: 17 s\n",
      "Wall time: 17.9 s\n"
     ]
    }
   ],
   "source": [
    "import numpy as np\n",
    "import sys\n",
    "sys.path.append('../egpe')\n",
    "from egpe import eGPE\n",
    "\n",
    "sys.path.append('../../estimate_nc')\n",
    "from estimate_nc import en_per_particle\n",
    "def calculate_differences(nbins=32):\n",
    "    \n",
    "    # print ----------------------------------------\n",
    "    print(\"\\n\\n----------------------------------------\")\n",
    "    print(f\"nbins = {nbins}^3\")\n",
    "    \n",
    "    sr_0 = 10.\n",
    "    sz_0 = sr_0 * 20\n",
    "\n",
    "    gp = eGPE(a_s=110.,\n",
    "            nparticles=111181,\n",
    "            fx=0.,\n",
    "            fy=0.,\n",
    "            fz=0.,\n",
    "            nxyz=np.array([1, 1, 1])*nbins,\n",
    "            box_size=np.array([sr_0, sr_0, sz_0])*160,\n",
    "            contact_interaction=True,\n",
    "            dipolar_interaction=True,\n",
    "            )\n",
    "\n",
    "    sr = np.sqrt(gp.x**2 + gp.y**2)\n",
    "    gp.psi = np.exp(-0.5 * sr**2 / sr_0**2) * np.exp(-0.5 * gp.z**2 / sz_0**2) + 0.j \n",
    "    gp.normalize_psi()\n",
    "    gp.den = np.abs(gp.psi)**2\n",
    "    gp.phi_dd = gp.get_phi_dd()\n",
    "\n",
    "    print(gp.energy_contributions())\n",
    "    print(\"total E=\",sum(gp.energy_contributions().values()))\n",
    "    en_analytic = en_per_particle(sr_0, sz_0, gp.nparticles, gp.alpha, gp.beta, gp.gamma, include_ho=False)\n",
    "    print(\"Analytic energy \",en_analytic)\n",
    "    print(\"Relative difference in analytic and total E (in percentage)\", 100 * (en_analytic - sum(gp.energy_contributions().values()) / gp.nparticles ) / en_analytic)\n",
    "\n",
    "\n",
    "    print(gp.alpha, gp.beta, gp.gamma)\n",
    "    \n",
    "    # Print the memory usage of all objects in gp using sys, in gigabytes\n",
    "    print(\"Memory usage of all objects in gp (in GB):\")\n",
    "    print(sum([sys.getsizeof(v) for v in gp.__dict__.values()]) / 1e9)\n",
    "    \n",
    "\n",
    "%time calculate_differences(16)\n",
    "%time calculate_differences(32)\n",
    "%time calculate_differences(64)\n",
    "%time calculate_differences(128)\n",
    "%time calculate_differences(256)"
   ]
  },
  {
   "attachments": {},
   "cell_type": "markdown",
   "metadata": {},
   "source": [
    "# Test of the dipolar potential\n",
    "\n",
    "## Test with nparticles>1 and and sz/sr=20 AND two different values of a_s\n",
    "\n",
    "This one is interesting because usually you'll have sz/sr large (around 20) in your simulations. This tells you that the energy is indeed very sensitive to the size of the box.\n",
    "\n",
    "### Results without the cutoff:\n",
    "\n",
    "Some results for $a_s$=60: \n",
    "- box/gaussian width = 20, 13% error rate, converged at 32^3\n",
    "- box/gaussian width = 40, 2.6% error rate, converged at 64^3\n",
    "- box/gaussian width = 80, 0.48% error rate, converged at 128^3\n",
    "\n",
    "Some results for $a_s$=110: \n",
    "- box/gaussian width = 20, 2.8% error rate, converged at 32^3\n",
    "- box/gaussian width = 40, 0.55% error rate, converged at 64^3\n",
    "- box/gaussian width = 80, 0.1% error rate, converged at 128^3\n",
    "\n",
    "\n",
    "### Results with the cutoff:\n",
    "\n",
    "\n",
    "Some results for $a_s$=60: \n",
    "- box/gaussian width = 20, 0.8% error rate, converged at 32^3\n",
    "- box/gaussian width = 40, 0.3% error rate, converged at 64^3\n",
    "- box/gaussian width = 80, 0.06% error rate, converged at 128^3\n",
    "\n",
    "Some results for $a_s$=110: \n",
    "- box/gaussian width = 20, 0.7% error rate, converged at 32^3\n",
    "- box/gaussian width = 40, 0.08% error rate, converged at 64^3\n",
    "- box/gaussian width = 80, 0.001% error rate, converged at 128^3\n",
    "\n",
    "\n"
   ]
  },
  {
   "cell_type": "code",
   "execution_count": null,
   "metadata": {},
   "outputs": [],
   "source": [
    "import numpy as np\n",
    "import sys\n",
    "sys.path.append('../egpe')\n",
    "from egpe import eGPE\n",
    "\n",
    "sys.path.append('../../estimate_nc')\n",
    "from estimate_nc import en_per_particle\n",
    "def calculate_differences(nbins=32):\n",
    "    \n",
    "    # print ----------------------------------------\n",
    "    print(\"\\n\\n----------------------------------------\")\n",
    "    print(f\"nbins = {nbins}^3\")\n",
    "    \n",
    "    sr_0 = 10.\n",
    "    sz_0 = sr_0 * 20\n",
    "\n",
    "    gp = eGPE(a_s=60.,\n",
    "            nparticles=111181,\n",
    "            fx=0.,\n",
    "            fy=0.,\n",
    "            fz=0.,\n",
    "            nxyz=np.array([1, 1, 1])*nbins,\n",
    "            box_size=np.array([sr_0, sr_0, sz_0])*20,\n",
    "            rho_cutoff=0.8,\n",
    "            z_cutoff=0.8,\n",
    "            contact_interaction=True,\n",
    "            dipolar_interaction=True,\n",
    "            )\n",
    "\n",
    "    sr = np.sqrt(gp.x**2 + gp.y**2)\n",
    "    gp.psi = np.exp(-0.5 * sr**2 / sr_0**2) * np.exp(-0.5 * gp.z**2 / sz_0**2) + 0.j \n",
    "    gp.normalize_psi()\n",
    "    gp.den = np.abs(gp.psi)**2\n",
    "    gp.phi_dd = gp.get_phi_dd()\n",
    "\n",
    "    print(gp.energy_contributions())\n",
    "    print(\"total E=\",sum(gp.energy_contributions().values()))\n",
    "    en_analytic = en_per_particle(sr_0, sz_0, gp.nparticles, gp.alpha, gp.beta, gp.gamma, include_ho=False)\n",
    "    print(\"Analytic energy \",en_analytic)\n",
    "    print(\"Relative difference in analytic and total E (in percentage)\", 100 * (en_analytic - sum(gp.energy_contributions().values()) / gp.nparticles ) / en_analytic)\n",
    "\n",
    "\n",
    "    print(gp.alpha, gp.beta, gp.gamma)\n",
    "\n",
    "\n",
    "%time calculate_differences(32)\n",
    "%time calculate_differences(64)\n",
    "# %time calculate_differences(128)"
   ]
  },
  {
   "attachments": {},
   "cell_type": "markdown",
   "metadata": {},
   "source": [
    "# Test of the dipolar potential\n",
    "\n",
    "## Test with nparticles~n_critical for two different values of a_s\n",
    "\n",
    "\n",
    "### Results without the cutoff:\n",
    "\n",
    "Some results for $a_s$=60: \n",
    "- box/gaussian width = 20, 22% error rate, converged at 32^3\n",
    "- box/gaussian width = 40, 3% error rate, converged at 64^3\n",
    "- box/gaussian width = 80, 0.44% error rate, converged at 128^3\n",
    "\n",
    "\n",
    "I haven't repeated the test with the cylindrical cutoff because the result show similar behaviour to the previous test.\n"
   ]
  },
  {
   "cell_type": "code",
   "execution_count": 19,
   "metadata": {},
   "outputs": [
    {
     "name": "stdout",
     "output_type": "stream",
     "text": [
      "\n",
      "\n",
      "----------------------------------------\n",
      "nbins = 32^3\n",
      "[INFO] Initializing random psi\n",
      "sz_0 / sr_0 =  7.709026128266033\n",
      "{'kinetic': 11.93348462330331, 'pot_ext': 3.515260083004669e-25, 'pot_int': -14.828905081397822}\n",
      "total E= -0.0026854056257287692\n",
      "Analytic energy  -0.002714867595085598\n",
      "Relative difference in analytic and total E (in percentage) 1.0852083324490815\n",
      "0.9666438934122441 2.258324355363632 1.5\n",
      "CPU times: user 760 ms, sys: 178 ms, total: 939 ms\n",
      "Wall time: 976 ms\n",
      "\n",
      "\n",
      "----------------------------------------\n",
      "nbins = 64^3\n",
      "[INFO] Initializing random psi\n",
      "sz_0 / sr_0 =  7.709026128266033\n",
      "{'kinetic': 11.93348462330331, 'pot_ext': 3.515260083004669e-25, 'pot_int': -14.828905081397822}\n",
      "total E= -0.0026854056257287692\n",
      "Analytic energy  -0.002714867595085598\n",
      "Relative difference in analytic and total E (in percentage) 1.0852083324490815\n",
      "0.9666438934122441 2.258324355363632 1.5\n",
      "CPU times: user 758 ms, sys: 126 ms, total: 884 ms\n",
      "Wall time: 894 ms\n",
      "\n",
      "\n",
      "----------------------------------------\n",
      "nbins = 128^3\n",
      "[INFO] Initializing random psi\n",
      "sz_0 / sr_0 =  7.709026128266033\n",
      "{'kinetic': 11.93348462330331, 'pot_ext': 3.515260083004669e-25, 'pot_int': -14.828905081397822}\n",
      "total E= -0.0026854056257287692\n",
      "Analytic energy  -0.002714867595085598\n",
      "Relative difference in analytic and total E (in percentage) 1.0852083324490815\n",
      "0.9666438934122441 2.258324355363632 1.5\n",
      "CPU times: user 726 ms, sys: 122 ms, total: 848 ms\n",
      "Wall time: 851 ms\n"
     ]
    }
   ],
   "source": [
    "import numpy as np\n",
    "import sys\n",
    "sys.path.append('../egpe')\n",
    "from egpe import eGPE\n",
    "\n",
    "sys.path.append('../../estimate_nc')\n",
    "from estimate_nc import en_per_particle, get_optimal_sr_sz\n",
    "def calculate_differences(nbins=32):\n",
    "    \n",
    "    # print ----------------------------------------\n",
    "    print(\"\\n\\n----------------------------------------\")\n",
    "    print(f\"nbins = {nbins}^3\")\n",
    "\n",
    "    gp = eGPE(a_s=60.,\n",
    "            nparticles=2 * 539.103\n",
    "            )\n",
    "    \n",
    "    opt_params = get_optimal_sr_sz(gp.alpha, gp.beta, gp.gamma, gp.nparticles)\n",
    "    sr_0, sz_0, en_0 = opt_params[\"sr\"], opt_params[\"sz\"], opt_params[\"en_0\"]\n",
    "    \n",
    "    # Print ratio of sz_0 / sr_0\n",
    "    print(\"sz_0 / sr_0 = \", sz_0 / sr_0)\n",
    "\n",
    "    gp.set_nxyz(np.array([1, 1, 1])*128)\n",
    "    gp.set_box_size(np.array([sr_0, sr_0, sz_0])*80)\n",
    "    gp.update_grid_params()\n",
    "    \n",
    "    sr = np.sqrt(gp.x**2 + gp.y**2)\n",
    "    gp.psi = np.exp(-0.5 * sr**2 / sr_0**2) * np.exp(-0.5 * gp.z**2 / sz_0**2) + 0.j \n",
    "    gp.normalize_psi()\n",
    "\n",
    "    print(gp.energy_contributions())\n",
    "    print(\"total E=\",sum(gp.energy_contributions().values()) / gp.nparticles )\n",
    "    en_analytic = en_per_particle(sr_0, sz_0, gp.nparticles, gp.alpha, gp.beta, gp.gamma, include_ho=False)\n",
    "    print(\"Analytic energy \",en_analytic)\n",
    "    print(\"Relative difference in analytic and total E (in percentage)\", 100 * (en_analytic - sum(gp.energy_contributions().values()) / gp.nparticles ) / en_analytic)\n",
    "\n",
    "\n",
    "    print(gp.alpha, gp.beta, gp.gamma)\n",
    "\n",
    "\n",
    "%time calculate_differences(32)\n",
    "%time calculate_differences(64)\n",
    "%time calculate_differences(128)"
   ]
  },
  {
   "attachments": {},
   "cell_type": "markdown",
   "metadata": {},
   "source": [
    "# Test saving and loading the egpe state"
   ]
  },
  {
   "cell_type": "code",
   "execution_count": 9,
   "metadata": {},
   "outputs": [
    {
     "name": "stdout",
     "output_type": "stream",
     "text": [
      "[INFO] Initializing psi\n",
      "Initial energy\n",
      "{'kinetic': 0.0027941680396411095, 'pot_ext': 50.08847233189838, 'pot_int': 0.0} total E= 50.09126649993802\n"
     ]
    },
    {
     "name": "stderr",
     "output_type": "stream",
     "text": [
      "100%|██████████| 999/999 [00:05<00:00, 177.32it/s]"
     ]
    },
    {
     "name": "stdout",
     "output_type": "stream",
     "text": [
      "Final energy\n",
      "{'kinetic': 0.7500093710672717, 'pot_ext': 0.7499906231462585, 'pot_int': 0.0} total E= 1.4999999942135303\n",
      "----------------------------------------\n",
      "Saving gp object to gp.pickle\n",
      "Deleting gp object\n",
      "Loading gp object from gp.pickle\n",
      "Final energy\n",
      "{'kinetic': 0.7500093710672717, 'pot_ext': 0.7499906231462585, 'pot_int': 0.0} total E= 1.4999999942135303\n"
     ]
    },
    {
     "name": "stderr",
     "output_type": "stream",
     "text": [
      "\n"
     ]
    }
   ],
   "source": [
    "import numpy as np\n",
    "import sys\n",
    "sys.path.append('../egpe')\n",
    "from egpe import eGPE\n",
    "\n",
    "# Initialize the system\n",
    "\n",
    "f0 = 148.265926 * 1000\n",
    "gp = eGPE(eps_dd=1E+20, \n",
    "          nparticles=1,\n",
    "          fx=f0,\n",
    "          fy=f0,\n",
    "          fz=f0,\n",
    "          nxyz=np.array([1,1,1])*32,\n",
    "          box_size=np.array([1,1,1])*20,\n",
    "          contact_interaction=False,\n",
    "          dipolar_interaction=False,\n",
    "          beta=0.,\n",
    "          gamma=0.\n",
    "          )\n",
    "\n",
    "print(\"Initial energy\")\n",
    "print(gp.energy_contributions(), \"total E=\",sum(gp.energy_contributions().values()))\n",
    "\n",
    "gp.evolve(0.01, 10, verbose=False)\n",
    "\n",
    "print(\"Final energy\")\n",
    "print(gp.energy_contributions(), \"total E=\",sum(gp.energy_contributions().values()))\n",
    "\n",
    "print(\"----------------------------------------\")\n",
    "\n",
    "# Save the gp object\n",
    "import pickle\n",
    "print(\"Saving gp object to gp.pickle\")\n",
    "with open('gp.pickle', 'wb') as f:\n",
    "    pickle.dump(gp, f)\n",
    "\n",
    "# delete the gp object\n",
    "print(\"Deleting gp object\")\n",
    "del gp\n",
    "\n",
    "# load the gp object\n",
    "print(\"Loading gp object from gp.pickle\")\n",
    "with open('gp.pickle', 'rb') as f:\n",
    "    gp = pickle.load(f)\n",
    "    \n",
    "# Print final energy\n",
    "print(\"Final energy\")\n",
    "print(gp.energy_contributions(), \"total E=\",sum(gp.energy_contributions().values()))\n"
   ]
  },
  {
   "attachments": {},
   "cell_type": "markdown",
   "metadata": {},
   "source": [
    "# Equilibration of complete system"
   ]
  },
  {
   "cell_type": "code",
   "execution_count": 10,
   "metadata": {},
   "outputs": [
    {
     "name": "stdout",
     "output_type": "stream",
     "text": [
      "[INFO] Initializing psi\n"
     ]
    },
    {
     "name": "stderr",
     "output_type": "stream",
     "text": [
      "  0%|          | 15/4999 [00:00<00:34, 144.14it/s]"
     ]
    },
    {
     "name": "stdout",
     "output_type": "stream",
     "text": [
      "Kinetic energy:  12.113739502706748\n",
      "Potential energy:  -18.553983740620577\n",
      "Total energy:  -6.440244237913829\n"
     ]
    },
    {
     "name": "stderr",
     "output_type": "stream",
     "text": [
      " 10%|█         | 519/4999 [00:03<00:28, 158.61it/s]"
     ]
    },
    {
     "name": "stdout",
     "output_type": "stream",
     "text": [
      "Kinetic energy:  17.678610690867046\n",
      "Potential energy:  -28.04362064582423\n",
      "Total energy:  -10.365009954957184\n"
     ]
    },
    {
     "name": "stderr",
     "output_type": "stream",
     "text": [
      " 20%|██        | 1023/4999 [00:06<00:25, 157.74it/s]"
     ]
    },
    {
     "name": "stdout",
     "output_type": "stream",
     "text": [
      "Kinetic energy:  22.602324167609453\n",
      "Potential energy:  -34.33075368619403\n",
      "Total energy:  -11.728429518584576\n"
     ]
    },
    {
     "name": "stderr",
     "output_type": "stream",
     "text": [
      " 30%|███       | 1518/4999 [00:09<00:21, 160.33it/s]"
     ]
    },
    {
     "name": "stdout",
     "output_type": "stream",
     "text": [
      "Kinetic energy:  24.734319294968497\n",
      "Potential energy:  -36.67815957520831\n",
      "Total energy:  -11.943840280239815\n"
     ]
    },
    {
     "name": "stderr",
     "output_type": "stream",
     "text": [
      " 40%|████      | 2013/4999 [00:12<00:19, 149.95it/s]"
     ]
    },
    {
     "name": "stdout",
     "output_type": "stream",
     "text": [
      "Kinetic energy:  25.413274053910165\n",
      "Potential energy:  -37.38027380161023\n",
      "Total energy:  -11.966999747700065\n"
     ]
    },
    {
     "name": "stderr",
     "output_type": "stream",
     "text": [
      " 50%|█████     | 2513/4999 [00:16<00:15, 158.88it/s]"
     ]
    },
    {
     "name": "stdout",
     "output_type": "stream",
     "text": [
      "Kinetic energy:  25.618084339122326\n",
      "Potential energy:  -37.587474995132105\n",
      "Total energy:  -11.969390656009779\n"
     ]
    },
    {
     "name": "stderr",
     "output_type": "stream",
     "text": [
      " 57%|█████▋    | 2838/4999 [00:18<00:13, 156.05it/s]\n"
     ]
    },
    {
     "ename": "KeyboardInterrupt",
     "evalue": "",
     "output_type": "error",
     "traceback": [
      "\u001b[0;31m---------------------------------------------------------------------------\u001b[0m",
      "\u001b[0;31mKeyboardInterrupt\u001b[0m                         Traceback (most recent call last)",
      "Cell \u001b[0;32mIn [10], line 13\u001b[0m\n\u001b[1;32m     10\u001b[0m gp\u001b[39m.\u001b[39mset_gaussian_psi(sr, sz)\n\u001b[1;32m     11\u001b[0m gp\u001b[39m.\u001b[39mnormalize_psi()\n\u001b[0;32m---> 13\u001b[0m gp\u001b[39m.\u001b[39;49mevolve(\u001b[39m0.1\u001b[39;49m, \u001b[39m500\u001b[39;49m, verbose\u001b[39m=\u001b[39;49m\u001b[39mTrue\u001b[39;49;00m, print_each_percent\u001b[39m=\u001b[39;49m\u001b[39m10\u001b[39;49m)\n",
      "File \u001b[0;32m~/Documents/dipolar-droplets/3D-egpe-code/tests/../egpe/egpe.py:356\u001b[0m, in \u001b[0;36meGPE.evolve\u001b[0;34m(self, dt, t_max, time_prop, verbose, print_each_percent, output_dir)\u001b[0m\n\u001b[1;32m    354\u001b[0m \u001b[39m# Loop over time steps and apply the T2 operator\u001b[39;00m\n\u001b[1;32m    355\u001b[0m \u001b[39mfor\u001b[39;00m i \u001b[39min\u001b[39;00m tqdm(\u001b[39mrange\u001b[39m(n_sim_steps)):\n\u001b[0;32m--> 356\u001b[0m     \u001b[39mself\u001b[39;49m\u001b[39m.\u001b[39;49mT2_operator()\n\u001b[1;32m    358\u001b[0m     \u001b[39mif\u001b[39;00m verbose \u001b[39mand\u001b[39;00m i \u001b[39m%\u001b[39m print_each \u001b[39m==\u001b[39m \u001b[39m0\u001b[39m:\n\u001b[1;32m    359\u001b[0m         en \u001b[39m=\u001b[39m \u001b[39mself\u001b[39m\u001b[39m.\u001b[39menergy_contributions()\n",
      "File \u001b[0;32m~/Documents/dipolar-droplets/3D-egpe-code/tests/../egpe/egpe.py:306\u001b[0m, in \u001b[0;36meGPE.T2_operator\u001b[0;34m(self)\u001b[0m\n\u001b[1;32m    304\u001b[0m \u001b[39m# Third part of the T2 operator, propagator exp(-i*V*dt/2)\u001b[39;00m\n\u001b[1;32m    305\u001b[0m \u001b[39mself\u001b[39m\u001b[39m.\u001b[39mden \u001b[39m=\u001b[39m np\u001b[39m.\u001b[39mabsolute(\u001b[39mself\u001b[39m\u001b[39m.\u001b[39mpsi) \u001b[39m*\u001b[39m\u001b[39m*\u001b[39m \u001b[39m2\u001b[39m\n\u001b[0;32m--> 306\u001b[0m \u001b[39mself\u001b[39m\u001b[39m.\u001b[39mphi_dd \u001b[39m=\u001b[39m \u001b[39mself\u001b[39;49m\u001b[39m.\u001b[39;49mget_phi_dd()\n\u001b[1;32m    307\u001b[0m pot \u001b[39m=\u001b[39m \u001b[39mself\u001b[39m\u001b[39m.\u001b[39mVExt \u001b[39m+\u001b[39m \u001b[39mself\u001b[39m\u001b[39m.\u001b[39mdEps_dPsi()\n\u001b[1;32m    308\u001b[0m \u001b[39mself\u001b[39m\u001b[39m.\u001b[39mpsi \u001b[39m*\u001b[39m\u001b[39m=\u001b[39m np\u001b[39m.\u001b[39mexp(\u001b[39m-\u001b[39m\u001b[39m0.5\u001b[39mj \u001b[39m*\u001b[39m pot \u001b[39m*\u001b[39m \u001b[39mself\u001b[39m\u001b[39m.\u001b[39mdt)\n",
      "File \u001b[0;32m~/Documents/dipolar-droplets/3D-egpe-code/tests/../egpe/egpe.py:233\u001b[0m, in \u001b[0;36meGPE.get_phi_dd\u001b[0;34m(self)\u001b[0m\n\u001b[1;32m    229\u001b[0m \u001b[39mdef\u001b[39;00m \u001b[39mget_phi_dd\u001b[39m(\u001b[39mself\u001b[39m):\n\u001b[1;32m    230\u001b[0m     \u001b[39m\"\"\"\u001b[39;00m\n\u001b[1;32m    231\u001b[0m \u001b[39m    Returns the dipolar interaction potential.\u001b[39;00m\n\u001b[1;32m    232\u001b[0m \u001b[39m    \"\"\"\u001b[39;00m\n\u001b[0;32m--> 233\u001b[0m     \u001b[39mreturn\u001b[39;00m np\u001b[39m.\u001b[39mfft\u001b[39m.\u001b[39mifftn(np\u001b[39m.\u001b[39;49mfft\u001b[39m.\u001b[39;49mfftn(\u001b[39mself\u001b[39;49m\u001b[39m.\u001b[39;49mden) \u001b[39m*\u001b[39m \u001b[39mself\u001b[39m\u001b[39m.\u001b[39mft_dip)\n",
      "File \u001b[0;32m<__array_function__ internals>:180\u001b[0m, in \u001b[0;36mfftn\u001b[0;34m(*args, **kwargs)\u001b[0m\n",
      "File \u001b[0;32m~/miniforge3/envs/mlp/lib/python3.8/site-packages/numpy/fft/_pocketfft.py:815\u001b[0m, in \u001b[0;36mfftn\u001b[0;34m(a, s, axes, norm)\u001b[0m\n\u001b[1;32m    715\u001b[0m \u001b[39m@array_function_dispatch\u001b[39m(_fftn_dispatcher)\n\u001b[1;32m    716\u001b[0m \u001b[39mdef\u001b[39;00m \u001b[39mfftn\u001b[39m(a, s\u001b[39m=\u001b[39m\u001b[39mNone\u001b[39;00m, axes\u001b[39m=\u001b[39m\u001b[39mNone\u001b[39;00m, norm\u001b[39m=\u001b[39m\u001b[39mNone\u001b[39;00m):\n\u001b[1;32m    717\u001b[0m     \u001b[39m\"\"\"\u001b[39;00m\n\u001b[1;32m    718\u001b[0m \u001b[39m    Compute the N-dimensional discrete Fourier Transform.\u001b[39;00m\n\u001b[1;32m    719\u001b[0m \n\u001b[0;32m   (...)\u001b[0m\n\u001b[1;32m    813\u001b[0m \n\u001b[1;32m    814\u001b[0m \u001b[39m    \"\"\"\u001b[39;00m\n\u001b[0;32m--> 815\u001b[0m     \u001b[39mreturn\u001b[39;00m _raw_fftnd(a, s, axes, fft, norm)\n",
      "File \u001b[0;32m~/miniforge3/envs/mlp/lib/python3.8/site-packages/numpy/fft/_pocketfft.py:707\u001b[0m, in \u001b[0;36m_raw_fftnd\u001b[0;34m(a, s, axes, function, norm)\u001b[0m\n\u001b[1;32m    705\u001b[0m itl\u001b[39m.\u001b[39mreverse()\n\u001b[1;32m    706\u001b[0m \u001b[39mfor\u001b[39;00m ii \u001b[39min\u001b[39;00m itl:\n\u001b[0;32m--> 707\u001b[0m     a \u001b[39m=\u001b[39m function(a, n\u001b[39m=\u001b[39;49ms[ii], axis\u001b[39m=\u001b[39;49maxes[ii], norm\u001b[39m=\u001b[39;49mnorm)\n\u001b[1;32m    708\u001b[0m \u001b[39mreturn\u001b[39;00m a\n",
      "File \u001b[0;32m<__array_function__ internals>:180\u001b[0m, in \u001b[0;36mfft\u001b[0;34m(*args, **kwargs)\u001b[0m\n",
      "File \u001b[0;32m~/miniforge3/envs/mlp/lib/python3.8/site-packages/numpy/fft/_pocketfft.py:215\u001b[0m, in \u001b[0;36mfft\u001b[0;34m(a, n, axis, norm)\u001b[0m\n\u001b[1;32m    213\u001b[0m     n \u001b[39m=\u001b[39m a\u001b[39m.\u001b[39mshape[axis]\n\u001b[1;32m    214\u001b[0m inv_norm \u001b[39m=\u001b[39m _get_forward_norm(n, norm)\n\u001b[0;32m--> 215\u001b[0m output \u001b[39m=\u001b[39m _raw_fft(a, n, axis, \u001b[39mFalse\u001b[39;49;00m, \u001b[39mTrue\u001b[39;49;00m, inv_norm)\n\u001b[1;32m    216\u001b[0m \u001b[39mreturn\u001b[39;00m output\n",
      "File \u001b[0;32m~/miniforge3/envs/mlp/lib/python3.8/site-packages/numpy/fft/_pocketfft.py:73\u001b[0m, in \u001b[0;36m_raw_fft\u001b[0;34m(a, n, axis, is_real, is_forward, inv_norm)\u001b[0m\n\u001b[1;32m     71\u001b[0m \u001b[39melse\u001b[39;00m:\n\u001b[1;32m     72\u001b[0m     a \u001b[39m=\u001b[39m swapaxes(a, axis, \u001b[39m-\u001b[39m\u001b[39m1\u001b[39m)\n\u001b[0;32m---> 73\u001b[0m     r \u001b[39m=\u001b[39m pfi\u001b[39m.\u001b[39;49mexecute(a, is_real, is_forward, fct)\n\u001b[1;32m     74\u001b[0m     r \u001b[39m=\u001b[39m swapaxes(r, axis, \u001b[39m-\u001b[39m\u001b[39m1\u001b[39m)\n\u001b[1;32m     75\u001b[0m \u001b[39mreturn\u001b[39;00m r\n",
      "\u001b[0;31mKeyboardInterrupt\u001b[0m: "
     ]
    }
   ],
   "source": [
    "sr = 8\n",
    "sz = 60\n",
    "gp = eGPE(a_s=60., \n",
    "          nparticles=1500,\n",
    "          nxyz=np.array([1,1,1])*32,\n",
    "          box_size=np.array([sr,sr,sz])*40,\n",
    "          contact_interaction=True,\n",
    "          dipolar_interaction=True,\n",
    "          )\n",
    "gp.set_gaussian_psi(sr, sz)\n",
    "gp.normalize_psi()\n",
    "\n",
    "gp.evolve(0.1, 500, verbose=True, print_each_percent=10)\n"
   ]
  },
  {
   "attachments": {},
   "cell_type": "markdown",
   "metadata": {},
   "source": [
    "## slightly smaller dt"
   ]
  },
  {
   "cell_type": "code",
   "execution_count": null,
   "metadata": {},
   "outputs": [
    {
     "name": "stdout",
     "output_type": "stream",
     "text": [
      "[INFO] Initializing psi\n"
     ]
    },
    {
     "name": "stderr",
     "output_type": "stream",
     "text": [
      "  0%|          | 0/500 [00:00<?, ?it/s]"
     ]
    },
    {
     "name": "stdout",
     "output_type": "stream",
     "text": [
      "Kinetic energy:  12.189667692228808\n",
      "Potential energy:  -18.739465081778082\n",
      "Total energy:  -6.5497973895492745\n"
     ]
    },
    {
     "name": "stderr",
     "output_type": "stream",
     "text": [
      " 16%|█▌        | 80/500 [00:00<00:02, 157.67it/s]"
     ]
    },
    {
     "name": "stdout",
     "output_type": "stream",
     "text": [
      "Kinetic energy:  17.70811507404046\n",
      "Potential energy:  -28.087772950986277\n",
      "Total energy:  -10.379657876945817\n"
     ]
    },
    {
     "name": "stderr",
     "output_type": "stream",
     "text": [
      " 26%|██▌       | 128/500 [00:00<00:02, 158.20it/s]"
     ]
    },
    {
     "name": "stdout",
     "output_type": "stream",
     "text": [
      "Kinetic energy:  22.557188526515954\n",
      "Potential energy:  -34.27987485603114\n",
      "Total energy:  -11.722686329515188\n"
     ]
    },
    {
     "name": "stderr",
     "output_type": "stream",
     "text": [
      " 35%|███▌      | 177/500 [00:01<00:02, 158.33it/s]"
     ]
    },
    {
     "name": "stdout",
     "output_type": "stream",
     "text": [
      "Kinetic energy:  24.676615270076443\n",
      "Potential energy:  -36.61790700133721\n",
      "Total energy:  -11.941291731260765\n"
     ]
    },
    {
     "name": "stderr",
     "output_type": "stream",
     "text": [
      " 45%|████▌     | 226/500 [00:01<00:01, 159.13it/s]"
     ]
    },
    {
     "name": "stdout",
     "output_type": "stream",
     "text": [
      "Kinetic energy:  25.357790393147067\n",
      "Potential energy:  -37.32396890728204\n",
      "Total energy:  -11.96617851413497\n"
     ]
    },
    {
     "name": "stderr",
     "output_type": "stream",
     "text": [
      " 55%|█████▌    | 276/500 [00:01<00:01, 160.15it/s]"
     ]
    },
    {
     "name": "stdout",
     "output_type": "stream",
     "text": [
      "Kinetic energy:  25.564651669390734\n",
      "Potential energy:  -37.533733103745995\n",
      "Total energy:  -11.96908143435526\n"
     ]
    },
    {
     "name": "stderr",
     "output_type": "stream",
     "text": [
      " 65%|██████▌   | 326/500 [00:02<00:01, 160.96it/s]"
     ]
    },
    {
     "name": "stdout",
     "output_type": "stream",
     "text": [
      "Kinetic energy:  25.62790164673789\n",
      "Potential energy:  -37.59739122944472\n",
      "Total energy:  -11.969489582706828\n"
     ]
    },
    {
     "name": "stderr",
     "output_type": "stream",
     "text": [
      " 75%|███████▌  | 377/500 [00:02<00:00, 160.17it/s]"
     ]
    },
    {
     "name": "stdout",
     "output_type": "stream",
     "text": [
      "Kinetic energy:  25.647565153025152\n",
      "Potential energy:  -37.61713053819086\n",
      "Total energy:  -11.969565385165705\n"
     ]
    },
    {
     "name": "stderr",
     "output_type": "stream",
     "text": [
      " 85%|████████▌ | 427/500 [00:02<00:00, 158.18it/s]"
     ]
    },
    {
     "name": "stdout",
     "output_type": "stream",
     "text": [
      "Kinetic energy:  25.653772930234606\n",
      "Potential energy:  -37.62335658917584\n",
      "Total energy:  -11.969583658941236\n"
     ]
    },
    {
     "name": "stderr",
     "output_type": "stream",
     "text": [
      " 95%|█████████▌| 477/500 [00:03<00:00, 160.07it/s]"
     ]
    },
    {
     "name": "stdout",
     "output_type": "stream",
     "text": [
      "Kinetic energy:  25.655757727901037\n",
      "Potential energy:  -37.625346571780796\n",
      "Total energy:  -11.969588843879759\n"
     ]
    },
    {
     "name": "stderr",
     "output_type": "stream",
     "text": [
      "100%|██████████| 500/500 [00:03<00:00, 158.59it/s]\n"
     ]
    }
   ],
   "source": [
    "sr = 8\n",
    "sz = 60\n",
    "gp = eGPE(a_s=60., \n",
    "          nparticles=1500,\n",
    "          nxyz=np.array([1,1,1])*32,\n",
    "          box_size=np.array([sr,sr,sz])*40,\n",
    "          contact_interaction=True,\n",
    "          dipolar_interaction=True,\n",
    "          )\n",
    "gp.set_gaussian_psi(sr, sz)\n",
    "gp.normalize_psi()\n",
    "\n",
    "gp.evolve(1, 500, verbose=True, print_each_percent=10)"
   ]
  },
  {
   "attachments": {},
   "cell_type": "markdown",
   "metadata": {},
   "source": [
    "# Another example"
   ]
  },
  {
   "cell_type": "code",
   "execution_count": null,
   "metadata": {},
   "outputs": [
    {
     "name": "stdout",
     "output_type": "stream",
     "text": [
      "[INFO] Initializing psi\n"
     ]
    },
    {
     "name": "stderr",
     "output_type": "stream",
     "text": [
      "  0%|          | 16/5000 [00:00<00:32, 154.69it/s]"
     ]
    },
    {
     "name": "stdout",
     "output_type": "stream",
     "text": [
      "Kinetic energy:  8.906437995670682\n",
      "Potential energy:  -9.907041580016447\n",
      "Total energy:  -1.0006035843457646\n"
     ]
    },
    {
     "name": "stderr",
     "output_type": "stream",
     "text": [
      " 11%|█         | 526/5000 [00:03<00:27, 160.94it/s]"
     ]
    },
    {
     "name": "stdout",
     "output_type": "stream",
     "text": [
      "Kinetic energy:  12.092908222441999\n",
      "Potential energy:  -14.426655777025767\n",
      "Total energy:  -2.333747554583768\n"
     ]
    },
    {
     "name": "stderr",
     "output_type": "stream",
     "text": [
      " 20%|██        | 1019/5000 [00:06<00:24, 161.91it/s]"
     ]
    },
    {
     "name": "stdout",
     "output_type": "stream",
     "text": [
      "Kinetic energy:  12.182196248877679\n",
      "Potential energy:  -14.516573482202162\n",
      "Total energy:  -2.334377233324483\n"
     ]
    },
    {
     "name": "stderr",
     "output_type": "stream",
     "text": [
      " 30%|███       | 1500/5000 [00:09<00:21, 161.00it/s]"
     ]
    },
    {
     "name": "stdout",
     "output_type": "stream",
     "text": [
      "Kinetic energy:  12.183490627151544\n",
      "Potential energy:  -14.517873952323411\n",
      "Total energy:  -2.334383325171867\n",
      "Total energy converged\n"
     ]
    },
    {
     "name": "stderr",
     "output_type": "stream",
     "text": [
      "\n"
     ]
    }
   ],
   "source": [
    "# a_s: 110.0, nparticles: 111181.2, sr_start: 79.41482965931864, sz_start: 1540.0, en_0: -2.0673571111089393e-05\n",
    "sr = 80\n",
    "sz = 1540\n",
    "gp = eGPE(a_s=110, \n",
    "          nparticles=111181.2,\n",
    "          nxyz=np.array([1,1,1])*32,\n",
    "          box_size=np.array([sr,sr,sz])*40,\n",
    "          contact_interaction=True,\n",
    "          dipolar_interaction=True,\n",
    "          )\n",
    "gp.set_gaussian_psi(sr, sz)\n",
    "gp.normalize_psi()\n",
    "\n",
    "gp.evolve(100, 500000, verbose=True, print_each_percent=10)"
   ]
  },
  {
   "cell_type": "code",
   "execution_count": null,
   "metadata": {},
   "outputs": [],
   "source": []
  },
  {
   "cell_type": "code",
   "execution_count": null,
   "metadata": {},
   "outputs": [],
   "source": []
  }
 ],
 "metadata": {
  "kernelspec": {
   "display_name": "mlp",
   "language": "python",
   "name": "python3"
  },
  "language_info": {
   "codemirror_mode": {
    "name": "ipython",
    "version": 3
   },
   "file_extension": ".py",
   "mimetype": "text/x-python",
   "name": "python",
   "nbconvert_exporter": "python",
   "pygments_lexer": "ipython3",
   "version": "3.8.13"
  },
  "orig_nbformat": 4,
  "vscode": {
   "interpreter": {
    "hash": "5fc8cc4423f23a87e418a855553ca5df0686e4c1b4502d1b16c3e8233d998187"
   }
  }
 },
 "nbformat": 4,
 "nbformat_minor": 2
}
