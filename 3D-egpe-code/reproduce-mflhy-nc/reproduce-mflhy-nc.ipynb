{
 "cells": [
  {
   "attachments": {},
   "cell_type": "markdown",
   "metadata": {},
   "source": [
    "The idea here is to reproduce the MF+LHY critical atom number."
   ]
  },
  {
   "attachments": {},
   "cell_type": "markdown",
   "metadata": {},
   "source": [
    "# import dependencies"
   ]
  },
  {
   "cell_type": "code",
   "execution_count": 1,
   "metadata": {},
   "outputs": [],
   "source": [
    "import numpy as np\n",
    "import matplotlib.pyplot as plt\n",
    "from tqdm import tqdm\n",
    "\n",
    "# estimate_nc folder is ../../estimate_nc. Add it to the sys.path\n",
    "import sys\n",
    "sys.path.append('../../estimate_nc')\n",
    "from estimate_nc import get_optimal_sr_sz, en_per_particle\n",
    "sys.path.append('../egpe')\n",
    "from egpe import eGPE\n"
   ]
  },
  {
   "cell_type": "code",
   "execution_count": 2,
   "metadata": {},
   "outputs": [
    {
     "data": {
      "text/plain": [
       "<matplotlib.legend.Legend at 0x1260d8c10>"
      ]
     },
     "execution_count": 2,
     "metadata": {},
     "output_type": "execute_result"
    },
    {
     "data": {
      "image/png": "[encoded data removed]",
      "text/plain": [
       "<Figure size 640x480 with 1 Axes>"
      ]
     },
     "metadata": {},
     "output_type": "display_data"
    }
   ],
   "source": [
    "#   load data from ../../results/critical-atom-numbers/recipe-42-nc/functionals_E_N.dat\n",
    "data = np.loadtxt('../../results/critical-atom-numbers/recipe-42-nc/functionals_E_N.dat')\n",
    "a_s_arr = data[:,0]\n",
    "n_c_arr = data[:,1]\n",
    "\n",
    "# plot data\n",
    "plt.plot(a_s_arr, n_c_arr, 'o', label='data recipe 42')\n",
    "\n",
    "# set log scale\n",
    "plt.yscale('log')\n",
    "\n",
    "# set axis labels\n",
    "plt.xlabel(r'$a_s$')\n",
    "plt.ylabel(r'$N_c$')\n",
    "\n",
    "# set legend\n",
    "plt.legend()"
   ]
  },
  {
   "attachments": {},
   "cell_type": "markdown",
   "metadata": {},
   "source": [
    "# Example\n",
    "\n",
    "Explore how much the values of sr and sz change when the number of atoms is changed."
   ]
  },
  {
   "cell_type": "code",
   "execution_count": 3,
   "metadata": {},
   "outputs": [],
   "source": [
    "# # set an eGPE object with a_s = 90, nparticles = 3*10**5, and include_ho = False.\n",
    "\n",
    "# for a_s, n_c in zip(a_s_arr, n_c_arr):\n",
    "    \n",
    "#     print(\"------------------\")\n",
    "#     print(a_s)\n",
    "    \n",
    "#     # set nparticles\n",
    "#     nparticles = 2 * n_c\n",
    "\n",
    "#     # Initialize the eGPE object\n",
    "#     gp = eGPE(a_s=a_s, nparticles=nparticles)\n",
    "\n",
    "#     # get alpha, beta, gamma\n",
    "#     alpha, beta, gamma = gp.alpha_mflhy, gp.beta_mflhy, gp.gamma_mflhy\n",
    "#     print(f\"alpha: {alpha}, beta: {beta}, gamma: {gamma}\")\n",
    "    \n",
    "#     # Get the optimal sr and sz\n",
    "#     opt_params = get_optimal_sr_sz(alpha, beta, gamma, nparticles)\n",
    "#     sr_start, sz_start, en_0 = opt_params[\"sr\"], opt_params[\"sz\"], opt_params[\"en_0\"]\n",
    "\n",
    "#     # print the sr and sz values for the local minima\n",
    "#     print(f\"a_s: {a_s}, nparticles: {nparticles}, sr_start: {sr_start}, sz_start: {sz_start}, en_0: {en_0}\")\n",
    "    \n",
    "#     # Set the box size and the number of grid points, and update the grid parameters\n",
    "#     gp.set_box_size(np.array([sr_start, sr_start, sz_start]) * 40)\n",
    "#     gp.set_nxyz([64]*3)\n",
    "#     gp.update_grid_params()\n",
    "    \n",
    "#     # Setting the gaussian wavefunction and normalizing it\n",
    "#     gp.set_gaussian_psi(sr_start, sz_start)\n",
    "#     gp.normalize_psi()\n",
    "\n",
    "#     # Calculate the energy and print it\n",
    "#     energy_contributions = gp.energy_contributions()\n",
    "#     print(energy_contributions, sum(energy_contributions.values()) / gp.nparticles )\n",
    "    \n"
   ]
  },
  {
   "attachments": {},
   "cell_type": "markdown",
   "metadata": {},
   "source": [
    "They don't change that much, so you can use the later values."
   ]
  },
  {
   "attachments": {},
   "cell_type": "markdown",
   "metadata": {},
   "source": [
    "# Get critical atom number from 3D eGPE"
   ]
  },
  {
   "cell_type": "code",
   "execution_count": 4,
   "metadata": {},
   "outputs": [],
   "source": [
    "# # set an eGPE object with a_s = 90, nparticles = 3*10**5, and include_ho = False.\n",
    "\n",
    "# for a_s, n_c in zip(a_s_arr, n_c_arr):\n",
    "    \n",
    "#     print(a_s)\n",
    "#     print(\"------------------\")\n",
    "    \n",
    "#     # set nparticles\n",
    "#     nparticles = 2 * n_c\n",
    "    \n",
    "#     # Initialize the eGPE object\n",
    "#     gp = eGPE(a_s=a_s, \n",
    "#               nparticles=nparticles, \n",
    "#               nxyz=[32]*3,\n",
    "#               contact_interaction=True,\n",
    "#               dipolar_interaction=True)\n",
    "\n",
    "#     # get alpha, beta, gamma\n",
    "#     alpha, beta, gamma = gp.alpha_mflhy, gp.beta_mflhy, gp.gamma_mflhy\n",
    "\n",
    "#     # Get the optimal sr and sz\n",
    "#     opt_params = get_optimal_sr_sz(alpha, beta, gamma, nparticles)\n",
    "#     sr_start, sz_start, en_0 = opt_params[\"sr\"], opt_params[\"sz\"], opt_params[\"en_0\"]\n",
    "    \n",
    "#     # Print the initial parameters\n",
    "#     print(f\"a_s: {a_s}, nparticles: {nparticles}, sr_start: {sr_start}, sz_start: {sz_start}, en_0: {en_0}\")\n",
    "    \n",
    "#     # Set box_size\n",
    "#     gp.set_box_size(np.array([sr_start, sr_start, sz_start]) * 40)\n",
    "    \n",
    "#     gp.set_gaussian_psi(sr_start, sz_start)\n",
    "#     # normalize the wavefunction\n",
    "#     gp.normalize_psi()\n",
    "    \n",
    "#     nparticles_start = nparticles\n",
    "#     while nparticles_start > 0.5*n_c:\n",
    "#         print(f\"a_s={a_s}, nparticles_start={nparticles_start}\")\n",
    "#         gp.nparticles = nparticles_start\n",
    "        \n",
    "#         # Starting the 3D minimization\n",
    "#         print(\"Starting the 3D minimization\")\n",
    "        \n",
    "#         gp.set_gaussian_psi(sr_start, sz_start)\n",
    "#         # normalize the wavefunction\n",
    "#         gp.normalize_psi()\n",
    "        \n",
    "#         energy_contributions = gp.energy_contributions()\n",
    "#         # print initial energy contributions\n",
    "#         print(\"Initial energy contributions:\", energy_contributions, sum(energy_contributions.values()))\n",
    "        \n",
    "#         # Initialize the evolution\n",
    "#         dt = 100\n",
    "#         t_max = 1E+10\n",
    "#         gp.evolve(dt=dt, t_max=t_max, time_prop=\"imag\", verbose=False) \n",
    "        \n",
    "        \n",
    "#         # calculate <x>, <y>, <z> using get_avg_abs_x, get_avg_abs_y, get_avg_abs_z\n",
    "#         avg_abs_x = gp.get_avg_abs_x()\n",
    "#         avg_abs_y = gp.get_avg_abs_y()\n",
    "#         avg_abs_z = gp.get_avg_abs_z()\n",
    "        \n",
    "#         # Calculate the energy contributions\n",
    "#         energy_contributions = gp.energy_contributions()\n",
    "#         # get the total energy\n",
    "#         energy = sum(energy_contributions.values())\n",
    "        \n",
    "#         # Print avg_abs_x/sr_start, avg_abs_y/sr_start, avg_abs_z/sz_start, energy\n",
    "#         print(\"avg_abs_x/sr_start: \", avg_abs_x/sr_start)\n",
    "#         print(\"avg_abs_y/sr_start: \", avg_abs_y/sr_start)\n",
    "#         print(\"avg_abs_z/sz_start: \", avg_abs_z/sz_start)\n",
    "#         print(\"energy: \", energy)\n",
    "        \n",
    "        \n",
    "#         # The while loop breaks when avg_abs_x / sr_start > 100 or avg_abs_y / sr_start > 100 or avg_abs_z / sz_start > 100\n",
    "#         if avg_abs_x / sr_start > 100 or avg_abs_y / sr_start > 100 or avg_abs_z / sz_start > 100:\n",
    "#             print(\"The while loop breaks when avg_abs_x / sr_start > 100 or avg_abs_y / sr_start > 100 or avg_abs_z / sz_start > 100\")\n",
    "#             print(\"avg_abs_x / sr_start: \", avg_abs_x / sr_start)\n",
    "#             print(\"avg_abs_y / sr_start: \", avg_abs_y / sr_start)\n",
    "#             print(\"avg_abs_z / sz_start: \", avg_abs_z / sz_start)\n",
    "#             break\n",
    "        \n",
    "#         nparticles_start = nparticles_start * 0.9\n",
    "        \n",
    "        \n",
    "        \n",
    "\n",
    "        "
   ]
  },
  {
   "cell_type": "code",
   "execution_count": 33,
   "metadata": {},
   "outputs": [
    {
     "name": "stdout",
     "output_type": "stream",
     "text": [
      "[INFO] Initializing psi\n",
      "{'kinetic': 43.48867838662989, 'pot_ext': 1.5074294211810328e-19, 'pot_int': 69.15422376697582} 0.0002026297697513167\n",
      "Analytic energy  0.00015161134928635766\n",
      "Relative difference in analytic and total E (in percentage) -33.65079244074098\n"
     ]
    }
   ],
   "source": [
    "gp = eGPE(a_s=110.0, \n",
    "              nparticles=5*111181., \n",
    "              nxyz=[64]*3,\n",
    "              box_size=np.array([80,80,1600])*40)\n",
    "\n",
    "sr = 80\n",
    "sz = 1540\n",
    "\n",
    "gp.set_gaussian_psi(sr, sz)\n",
    "gp.normalize_psi()\n",
    "\n",
    "print(gp.energy_contributions(), sum(gp.energy_contributions().values()) / gp.nparticles)\n",
    "\n",
    "# Calculate the analytical variational energy and print it\n",
    "en_analytic = en_per_particle(sr, sz, gp.nparticles, gp.alpha, gp.beta, gp.gamma, include_ho=False)\n",
    "\n",
    "print(\"Analytic energy \",en_analytic)\n",
    "print(\"Relative difference in analytic and total E (in percentage)\", 100 * (en_analytic - sum(gp.energy_contributions().values()) / gp.nparticles ) / en_analytic)"
   ]
  }
 ],
 "metadata": {
  "kernelspec": {
   "display_name": "mlp",
   "language": "python",
   "name": "python3"
  },
  "language_info": {
   "codemirror_mode": {
    "name": "ipython",
    "version": 3
   },
   "file_extension": ".py",
   "mimetype": "text/x-python",
   "name": "python",
   "nbconvert_exporter": "python",
   "pygments_lexer": "ipython3",
   "version": "3.8.13"
  },
  "orig_nbformat": 4,
  "vscode": {
   "interpreter": {
    "hash": "5fc8cc4423f23a87e418a855553ca5df0686e4c1b4502d1b16c3e8233d998187"
   }
  }
 },
 "nbformat": 4,
 "nbformat_minor": 2
}
