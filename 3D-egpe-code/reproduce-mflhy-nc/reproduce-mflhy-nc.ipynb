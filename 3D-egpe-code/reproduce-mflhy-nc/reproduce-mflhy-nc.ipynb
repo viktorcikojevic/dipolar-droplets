{
 "cells": [
  {
   "attachments": {},
   "cell_type": "markdown",
   "metadata": {},
   "source": [
    "The idea here is to reproduce the MF+LHY critical atom number."
   ]
  },
  {
   "attachments": {},
   "cell_type": "markdown",
   "metadata": {},
   "source": [
    "# import dependencies"
   ]
  },
  {
   "cell_type": "code",
   "execution_count": 1,
   "metadata": {},
   "outputs": [],
   "source": [
    "import numpy as np\n",
    "import matplotlib.pyplot as plt\n",
    "from tqdm import tqdm\n",
    "\n",
    "# estimate_nc folder is ../../estimate_nc. Add it to the sys.path\n",
    "import sys\n",
    "sys.path.append('../../estimate_nc')\n",
    "from estimate_nc import get_optimal_sr_sz, en_per_particle\n",
    "sys.path.append('../egpe')\n",
    "from egpe import eGPE\n"
   ]
  },
  {
   "cell_type": "code",
   "execution_count": 2,
   "metadata": {},
   "outputs": [
    {
     "data": {
      "text/plain": [
       "<matplotlib.legend.Legend at 0x12ff39040>"
      ]
     },
     "execution_count": 2,
     "metadata": {},
     "output_type": "execute_result"
    },
    {
     "data": {
      "image/png": "[encoded data removed]",
      "text/plain": [
       "<Figure size 640x480 with 1 Axes>"
      ]
     },
     "metadata": {},
     "output_type": "display_data"
    }
   ],
   "source": [
    "#   load data from ../../results/critical-atom-numbers/recipe-42-nc/functionals_E_N.dat\n",
    "data = np.loadtxt('../../results/critical-atom-numbers/recipe-42-nc/functionals_E_N.dat')\n",
    "a_s_arr = data[:,0]\n",
    "n_c_arr = data[:,1]\n",
    "\n",
    "# plot data\n",
    "plt.plot(a_s_arr, n_c_arr, 'o', label='data recipe 42')\n",
    "\n",
    "# set log scale\n",
    "plt.yscale('log')\n",
    "\n",
    "# set axis labels\n",
    "plt.xlabel(r'$a_s$')\n",
    "plt.ylabel(r'$N_c$')\n",
    "\n",
    "# set legend\n",
    "plt.legend()"
   ]
  },
  {
   "attachments": {},
   "cell_type": "markdown",
   "metadata": {},
   "source": [
    "# Example\n",
    "\n",
    "Explore how much the values of sr and sz change when the number of atoms is changed."
   ]
  },
  {
   "cell_type": "code",
   "execution_count": 3,
   "metadata": {},
   "outputs": [],
   "source": [
    "# # set an eGPE object with a_s = 90, nparticles = 3*10**5, and include_ho = False.\n",
    "\n",
    "# for a_s, n_c in zip(a_s_arr, n_c_arr):\n",
    "    \n",
    "#     print(\"------------------\")\n",
    "#     print(a_s)\n",
    "    \n",
    "#     # set nparticles\n",
    "#     nparticles = 2 * n_c\n",
    "\n",
    "#     # Initialize the eGPE object\n",
    "#     gp = eGPE(a_s=a_s, nparticles=nparticles)\n",
    "\n",
    "#     # get alpha, beta, gamma\n",
    "#     alpha, beta, gamma = gp.alpha_mflhy, gp.beta_mflhy, gp.gamma_mflhy\n",
    "#     print(f\"alpha: {alpha}, beta: {beta}, gamma: {gamma}\")\n",
    "    \n",
    "#     # Get the optimal sr and sz\n",
    "#     opt_params = get_optimal_sr_sz(alpha, beta, gamma, nparticles)\n",
    "#     sr_start, sz_start, en_0 = opt_params[\"sr\"], opt_params[\"sz\"], opt_params[\"en_0\"]\n",
    "\n",
    "#     # print the sr and sz values for the local minima\n",
    "#     print(f\"a_s: {a_s}, nparticles: {nparticles}, sr_start: {sr_start}, sz_start: {sz_start}, en_0: {en_0}\")\n",
    "    \n",
    "#     # Set the box size and the number of grid points, and update the grid parameters\n",
    "#     gp.set_box_size(np.array([sr_start, sr_start, sz_start]) * 40)\n",
    "#     gp.set_nxyz([64]*3)\n",
    "#     gp.update_grid_params()\n",
    "    \n",
    "#     # Setting the gaussian wavefunction and normalizing it\n",
    "#     gp.set_gaussian_psi(sr_start, sz_start)\n",
    "#     gp.normalize_psi()\n",
    "\n",
    "#     # Calculate the energy and print it\n",
    "#     energy_contributions = gp.energy_contributions()\n",
    "#     print(energy_contributions, sum(energy_contributions.values()) / gp.nparticles )\n",
    "    \n"
   ]
  },
  {
   "attachments": {},
   "cell_type": "markdown",
   "metadata": {},
   "source": [
    "They don't change that much, so you can use the later values."
   ]
  },
  {
   "attachments": {},
   "cell_type": "markdown",
   "metadata": {},
   "source": [
    "# Get critical atom number from 3D eGPE"
   ]
  },
  {
   "cell_type": "code",
   "execution_count": 4,
   "metadata": {},
   "outputs": [
    {
     "name": "stdout",
     "output_type": "stream",
     "text": [
      "110.0\n",
      "------------------\n",
      "Calculating integral part of dipolar potential...\n"
     ]
    },
    {
     "name": "stderr",
     "output_type": "stream",
     "text": [
      "100%|██████████| 32/32 [00:20<00:00,  1.54it/s]\n"
     ]
    },
    {
     "name": "stdout",
     "output_type": "stream",
     "text": [
      "[INFO] Initializing psi\n",
      "a_s: 110.0, nparticles: 111181.2, sr_start: 74.30861723446894, sz_start: 1484.0, en_0: -2.9937830630518843e-05\n",
      "Calculating integral part of dipolar potential...\n"
     ]
    },
    {
     "name": "stderr",
     "output_type": "stream",
     "text": [
      "100%|██████████| 32/32 [00:22<00:00,  1.41it/s]\n"
     ]
    },
    {
     "name": "stdout",
     "output_type": "stream",
     "text": [
      "a_s=110.0, nparticles_start=111181.2\n",
      "Starting the 3D minimization\n",
      "Initial energy contributions: {'kinetic': 10.080152901094086, 'pot_ext': 2.866884237262992e-20, 'pot_int': -7.333934337594424} 2.7462185634996628\n"
     ]
    },
    {
     "name": "stderr",
     "output_type": "stream",
     "text": [
      "  0%|          | 4000/100000000 [00:33<230:32:00, 120.49it/s]\n"
     ]
    },
    {
     "name": "stdout",
     "output_type": "stream",
     "text": [
      "Total energy converged\n",
      "avg_abs_x/sr_start:  0.5963380509292545\n",
      "avg_abs_y/sr_start:  0.5963380509292546\n",
      "avg_abs_z/sz_start:  0.7102569457910575\n",
      "energy:  1.4730316363067129\n",
      "a_s=110.0, nparticles_start=100063.08\n",
      "Starting the 3D minimization\n",
      "Initial energy contributions: {'kinetic': 9.072137610984681, 'pot_ext': 2.580195813536693e-20, 'pot_int': -6.496868939212164} 2.575268671772517\n"
     ]
    },
    {
     "name": "stderr",
     "output_type": "stream",
     "text": [
      "  0%|          | 12566/100000000 [01:43<228:29:35, 121.55it/s]\n"
     ]
    },
    {
     "ename": "KeyboardInterrupt",
     "evalue": "",
     "output_type": "error",
     "traceback": [
      "\u001b[0;31m---------------------------------------------------------------------------\u001b[0m",
      "\u001b[0;31mKeyboardInterrupt\u001b[0m                         Traceback (most recent call last)",
      "Cell \u001b[0;32mIn [4], line 57\u001b[0m\n\u001b[1;32m     55\u001b[0m dt \u001b[39m=\u001b[39m \u001b[39m100\u001b[39m\n\u001b[1;32m     56\u001b[0m t_max \u001b[39m=\u001b[39m \u001b[39m1E+10\u001b[39m\n\u001b[0;32m---> 57\u001b[0m gp\u001b[39m.\u001b[39;49mevolve(dt\u001b[39m=\u001b[39;49mdt, t_max\u001b[39m=\u001b[39;49mt_max, time_prop\u001b[39m=\u001b[39;49m\u001b[39m\"\u001b[39;49m\u001b[39mimag\u001b[39;49m\u001b[39m\"\u001b[39;49m, verbose\u001b[39m=\u001b[39;49m\u001b[39mFalse\u001b[39;49;00m) \n\u001b[1;32m     60\u001b[0m \u001b[39m# calculate <x>, <y>, <z> using get_avg_abs_x, get_avg_abs_y, get_avg_abs_z\u001b[39;00m\n\u001b[1;32m     61\u001b[0m avg_abs_x \u001b[39m=\u001b[39m gp\u001b[39m.\u001b[39mget_avg_abs_x()\n",
      "File \u001b[0;32m~/Documents/dipolar-droplets/3D-egpe-code/reproduce-mflhy-nc/../egpe/egpe.py:435\u001b[0m, in \u001b[0;36meGPE.evolve\u001b[0;34m(self, dt, t_max, time_prop, verbose, print_each_percent, output_dir)\u001b[0m\n\u001b[1;32m    433\u001b[0m \u001b[39m# Loop over time steps and apply the T2 operator\u001b[39;00m\n\u001b[1;32m    434\u001b[0m \u001b[39mfor\u001b[39;00m i \u001b[39min\u001b[39;00m tqdm(\u001b[39mrange\u001b[39m(n_sim_steps)):\n\u001b[0;32m--> 435\u001b[0m     \u001b[39mself\u001b[39;49m\u001b[39m.\u001b[39;49mT2_operator()\n\u001b[1;32m    437\u001b[0m     \u001b[39mif\u001b[39;00m verbose \u001b[39mand\u001b[39;00m i \u001b[39m%\u001b[39m print_each \u001b[39m==\u001b[39m \u001b[39m0\u001b[39m:\n\u001b[1;32m    438\u001b[0m         en \u001b[39m=\u001b[39m \u001b[39mself\u001b[39m\u001b[39m.\u001b[39menergy_contributions()\n",
      "File \u001b[0;32m~/Documents/dipolar-droplets/3D-egpe-code/reproduce-mflhy-nc/../egpe/egpe.py:385\u001b[0m, in \u001b[0;36meGPE.T2_operator\u001b[0;34m(self)\u001b[0m\n\u001b[1;32m    383\u001b[0m \u001b[39m# Third part of the T2 operator, propagator exp(-i*V*dt/2)\u001b[39;00m\n\u001b[1;32m    384\u001b[0m \u001b[39mself\u001b[39m\u001b[39m.\u001b[39mden \u001b[39m=\u001b[39m np\u001b[39m.\u001b[39mabsolute(\u001b[39mself\u001b[39m\u001b[39m.\u001b[39mpsi) \u001b[39m*\u001b[39m\u001b[39m*\u001b[39m \u001b[39m2\u001b[39m\n\u001b[0;32m--> 385\u001b[0m \u001b[39mself\u001b[39m\u001b[39m.\u001b[39mphi_dd \u001b[39m=\u001b[39m \u001b[39mself\u001b[39;49m\u001b[39m.\u001b[39;49mget_phi_dd()\n\u001b[1;32m    386\u001b[0m pot \u001b[39m=\u001b[39m \u001b[39mself\u001b[39m\u001b[39m.\u001b[39mVExt \u001b[39m+\u001b[39m \u001b[39mself\u001b[39m\u001b[39m.\u001b[39mdEps_dPsi()\n\u001b[1;32m    387\u001b[0m \u001b[39mself\u001b[39m\u001b[39m.\u001b[39mpsi \u001b[39m*\u001b[39m\u001b[39m=\u001b[39m np\u001b[39m.\u001b[39mexp(\u001b[39m-\u001b[39m\u001b[39m0.5\u001b[39mj \u001b[39m*\u001b[39m pot \u001b[39m*\u001b[39m \u001b[39mself\u001b[39m\u001b[39m.\u001b[39mdt)\n",
      "File \u001b[0;32m~/Documents/dipolar-droplets/3D-egpe-code/reproduce-mflhy-nc/../egpe/egpe.py:312\u001b[0m, in \u001b[0;36meGPE.get_phi_dd\u001b[0;34m(self)\u001b[0m\n\u001b[1;32m    308\u001b[0m \u001b[39mdef\u001b[39;00m \u001b[39mget_phi_dd\u001b[39m(\u001b[39mself\u001b[39m):\n\u001b[1;32m    309\u001b[0m     \u001b[39m\"\"\"\u001b[39;00m\n\u001b[1;32m    310\u001b[0m \u001b[39m    Returns the dipolar interaction potential.\u001b[39;00m\n\u001b[1;32m    311\u001b[0m \u001b[39m    \"\"\"\u001b[39;00m\n\u001b[0;32m--> 312\u001b[0m     \u001b[39mreturn\u001b[39;00m np\u001b[39m.\u001b[39mfft\u001b[39m.\u001b[39mifftn(np\u001b[39m.\u001b[39;49mfft\u001b[39m.\u001b[39;49mfftn(\u001b[39mself\u001b[39;49m\u001b[39m.\u001b[39;49mden) \u001b[39m*\u001b[39m \u001b[39mself\u001b[39m\u001b[39m.\u001b[39mft_dip)\n",
      "File \u001b[0;32m<__array_function__ internals>:180\u001b[0m, in \u001b[0;36mfftn\u001b[0;34m(*args, **kwargs)\u001b[0m\n",
      "File \u001b[0;32m~/miniforge3/envs/mlp/lib/python3.8/site-packages/numpy/fft/_pocketfft.py:815\u001b[0m, in \u001b[0;36mfftn\u001b[0;34m(a, s, axes, norm)\u001b[0m\n\u001b[1;32m    715\u001b[0m \u001b[39m@array_function_dispatch\u001b[39m(_fftn_dispatcher)\n\u001b[1;32m    716\u001b[0m \u001b[39mdef\u001b[39;00m \u001b[39mfftn\u001b[39m(a, s\u001b[39m=\u001b[39m\u001b[39mNone\u001b[39;00m, axes\u001b[39m=\u001b[39m\u001b[39mNone\u001b[39;00m, norm\u001b[39m=\u001b[39m\u001b[39mNone\u001b[39;00m):\n\u001b[1;32m    717\u001b[0m     \u001b[39m\"\"\"\u001b[39;00m\n\u001b[1;32m    718\u001b[0m \u001b[39m    Compute the N-dimensional discrete Fourier Transform.\u001b[39;00m\n\u001b[1;32m    719\u001b[0m \n\u001b[0;32m   (...)\u001b[0m\n\u001b[1;32m    813\u001b[0m \n\u001b[1;32m    814\u001b[0m \u001b[39m    \"\"\"\u001b[39;00m\n\u001b[0;32m--> 815\u001b[0m     \u001b[39mreturn\u001b[39;00m _raw_fftnd(a, s, axes, fft, norm)\n",
      "File \u001b[0;32m~/miniforge3/envs/mlp/lib/python3.8/site-packages/numpy/fft/_pocketfft.py:707\u001b[0m, in \u001b[0;36m_raw_fftnd\u001b[0;34m(a, s, axes, function, norm)\u001b[0m\n\u001b[1;32m    705\u001b[0m itl\u001b[39m.\u001b[39mreverse()\n\u001b[1;32m    706\u001b[0m \u001b[39mfor\u001b[39;00m ii \u001b[39min\u001b[39;00m itl:\n\u001b[0;32m--> 707\u001b[0m     a \u001b[39m=\u001b[39m function(a, n\u001b[39m=\u001b[39;49ms[ii], axis\u001b[39m=\u001b[39;49maxes[ii], norm\u001b[39m=\u001b[39;49mnorm)\n\u001b[1;32m    708\u001b[0m \u001b[39mreturn\u001b[39;00m a\n",
      "File \u001b[0;32m<__array_function__ internals>:180\u001b[0m, in \u001b[0;36mfft\u001b[0;34m(*args, **kwargs)\u001b[0m\n",
      "File \u001b[0;32m~/miniforge3/envs/mlp/lib/python3.8/site-packages/numpy/fft/_pocketfft.py:215\u001b[0m, in \u001b[0;36mfft\u001b[0;34m(a, n, axis, norm)\u001b[0m\n\u001b[1;32m    213\u001b[0m     n \u001b[39m=\u001b[39m a\u001b[39m.\u001b[39mshape[axis]\n\u001b[1;32m    214\u001b[0m inv_norm \u001b[39m=\u001b[39m _get_forward_norm(n, norm)\n\u001b[0;32m--> 215\u001b[0m output \u001b[39m=\u001b[39m _raw_fft(a, n, axis, \u001b[39mFalse\u001b[39;49;00m, \u001b[39mTrue\u001b[39;49;00m, inv_norm)\n\u001b[1;32m    216\u001b[0m \u001b[39mreturn\u001b[39;00m output\n",
      "File \u001b[0;32m~/miniforge3/envs/mlp/lib/python3.8/site-packages/numpy/fft/_pocketfft.py:70\u001b[0m, in \u001b[0;36m_raw_fft\u001b[0;34m(a, n, axis, is_real, is_forward, inv_norm)\u001b[0m\n\u001b[1;32m     67\u001b[0m         a \u001b[39m=\u001b[39m z\n\u001b[1;32m     69\u001b[0m \u001b[39mif\u001b[39;00m axis \u001b[39m==\u001b[39m a\u001b[39m.\u001b[39mndim\u001b[39m-\u001b[39m\u001b[39m1\u001b[39m:\n\u001b[0;32m---> 70\u001b[0m     r \u001b[39m=\u001b[39m pfi\u001b[39m.\u001b[39;49mexecute(a, is_real, is_forward, fct)\n\u001b[1;32m     71\u001b[0m \u001b[39melse\u001b[39;00m:\n\u001b[1;32m     72\u001b[0m     a \u001b[39m=\u001b[39m swapaxes(a, axis, \u001b[39m-\u001b[39m\u001b[39m1\u001b[39m)\n",
      "\u001b[0;31mKeyboardInterrupt\u001b[0m: "
     ]
    }
   ],
   "source": [
    "# set an eGPE object with a_s = 90, nparticles = 3*10**5, and include_ho = False.\n",
    "\n",
    "for a_s, n_c in zip(a_s_arr, n_c_arr):\n",
    "    \n",
    "    print(a_s)\n",
    "    print(\"------------------\")\n",
    "    \n",
    "    # set nparticles\n",
    "    nparticles = 2 * n_c\n",
    "    \n",
    "    # Initialize the eGPE object\n",
    "    gp = eGPE(a_s=a_s, \n",
    "              nparticles=nparticles, \n",
    "              nxyz=[32]*3,\n",
    "              contact_interaction=True,\n",
    "              dipolar_interaction=True)\n",
    "\n",
    "    # get alpha, beta, gamma\n",
    "    alpha, beta, gamma = gp.alpha_mflhy, gp.beta_mflhy, gp.gamma_mflhy\n",
    "\n",
    "    # Get the optimal sr and sz\n",
    "    opt_params = get_optimal_sr_sz(alpha, beta, gamma, nparticles)\n",
    "    sr_start, sz_start, en_0 = opt_params[\"sr\"], opt_params[\"sz\"], opt_params[\"en_0\"]\n",
    "    \n",
    "    # Print the initial parameters\n",
    "    print(f\"a_s: {a_s}, nparticles: {nparticles}, sr_start: {sr_start}, sz_start: {sz_start}, en_0: {en_0}\")\n",
    "    \n",
    "    # Set box_size\n",
    "    gp.set_box_size(np.array([sr_start, sr_start, sz_start]) * 20)\n",
    "    gp.rho_cutoff=0.8,\n",
    "    gp.z_cutoff=0.8\n",
    "    gp.update_grid_params()\n",
    "    \n",
    "    gp.set_gaussian_psi(sr_start, sz_start)\n",
    "    # normalize the wavefunction\n",
    "    gp.normalize_psi()\n",
    "    \n",
    "    nparticles_start = nparticles\n",
    "    while nparticles_start > 0.5*n_c:\n",
    "        print(f\"a_s={a_s}, nparticles_start={nparticles_start}\")\n",
    "        gp.nparticles = nparticles_start\n",
    "        \n",
    "        # Starting the 3D minimization\n",
    "        print(\"Starting the 3D minimization\")\n",
    "        \n",
    "        gp.set_gaussian_psi(sr_start, sz_start)\n",
    "        # normalize the wavefunction\n",
    "        gp.normalize_psi()\n",
    "        \n",
    "        energy_contributions = gp.energy_contributions()\n",
    "        # print initial energy contributions\n",
    "        print(\"Initial energy contributions:\", energy_contributions, sum(energy_contributions.values()))\n",
    "        \n",
    "        # Initialize the evolution\n",
    "        dt = 100\n",
    "        t_max = 1E+10\n",
    "        gp.evolve(dt=dt, t_max=t_max, time_prop=\"imag\", verbose=False) \n",
    "        \n",
    "        \n",
    "        # calculate <x>, <y>, <z> using get_avg_abs_x, get_avg_abs_y, get_avg_abs_z\n",
    "        avg_abs_x = gp.get_avg_abs_x()\n",
    "        avg_abs_y = gp.get_avg_abs_y()\n",
    "        avg_abs_z = gp.get_avg_abs_z()\n",
    "        \n",
    "        # Calculate the energy contributions\n",
    "        energy_contributions = gp.energy_contributions()\n",
    "        # get the total energy\n",
    "        energy = sum(energy_contributions.values())\n",
    "        \n",
    "        # Print avg_abs_x/sr_start, avg_abs_y/sr_start, avg_abs_z/sz_start, energy\n",
    "        print(\"avg_abs_x/sr_start: \", avg_abs_x/sr_start)\n",
    "        print(\"avg_abs_y/sr_start: \", avg_abs_y/sr_start)\n",
    "        print(\"avg_abs_z/sz_start: \", avg_abs_z/sz_start)\n",
    "        print(\"energy: \", energy)\n",
    "        \n",
    "        \n",
    "        # The while loop breaks when avg_abs_x / sr_start > 100 or avg_abs_y / sr_start > 100 or avg_abs_z / sz_start > 100\n",
    "        if avg_abs_x / sr_start > 100 or avg_abs_y / sr_start > 100 or avg_abs_z / sz_start > 100:\n",
    "            print(\"The while loop breaks when avg_abs_x / sr_start > 100 or avg_abs_y / sr_start > 100 or avg_abs_z / sz_start > 100\")\n",
    "            print(\"avg_abs_x / sr_start: \", avg_abs_x / sr_start)\n",
    "            print(\"avg_abs_y / sr_start: \", avg_abs_y / sr_start)\n",
    "            print(\"avg_abs_z / sz_start: \", avg_abs_z / sz_start)\n",
    "            break\n",
    "        \n",
    "        nparticles_start = nparticles_start * 0.9\n",
    "        \n",
    "        \n",
    "        \n",
    "\n",
    "        "
   ]
  }
 ],
 "metadata": {
  "kernelspec": {
   "display_name": "mlp",
   "language": "python",
   "name": "python3"
  },
  "language_info": {
   "codemirror_mode": {
    "name": "ipython",
    "version": 3
   },
   "file_extension": ".py",
   "mimetype": "text/x-python",
   "name": "python",
   "nbconvert_exporter": "python",
   "pygments_lexer": "ipython3",
   "version": "3.8.13"
  },
  "orig_nbformat": 4,
  "vscode": {
   "interpreter": {
    "hash": "5fc8cc4423f23a87e418a855553ca5df0686e4c1b4502d1b16c3e8233d998187"
   }
  }
 },
 "nbformat": 4,
 "nbformat_minor": 2
}
