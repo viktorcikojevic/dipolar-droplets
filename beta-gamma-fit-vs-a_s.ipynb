{
 "cells": [
  {
   "cell_type": "code",
   "execution_count": 22,
   "metadata": {},
   "outputs": [],
   "source": [
    "\n",
    "import numpy as np\n",
    "import random\n",
    "from numpy import loadtxt\n",
    "from scipy.optimize import curve_fit\n",
    "import os\n",
    "import matplotlib.pyplot as plt\n",
    "\n",
    "import scipy.special\n",
    "from scipy.optimize import fmin\n",
    "from tqdm import tqdm\n",
    "\n",
    "from estimate_nc.estimate_nc import estimate_nc, en_per_particle"
   ]
  },
  {
   "cell_type": "code",
   "execution_count": 23,
   "metadata": {},
   "outputs": [],
   "source": [
    "results = {}\n",
    "r_0 = 387.6   # https://www.wolframalpha.com/input?i=%28162Dy+mass%29+*+%28mu_0%29+*+%289.93+bohr+magneton%29%5E2+%2F+%284+pi+hbar%5E2%29+%2F+%28bohr+radius%29"
   ]
  },
  {
   "cell_type": "markdown",
   "metadata": {},
   "source": [
    "# Dy-DF"
   ]
  },
  {
   "cell_type": "code",
   "execution_count": 24,
   "metadata": {},
   "outputs": [
    {
     "data": {
      "text/plain": [
       "({0.5, 0.6}, {1.7, 1.9, 2.1, 2.3})"
      ]
     },
     "execution_count": 24,
     "metadata": {},
     "output_type": "execute_result"
    }
   ],
   "source": [
    "data = np.loadtxt(\"./results/dy-df/functionals_E_N.dat\")\n",
    "# the header is: a_s  n_c_best_possible_fit  rho_min_x  rho_max_x  alpha  alpha_opt  beta  gamma  min_energy  \n",
    "# read all data\n",
    "a_s = data[:,0]\n",
    "n_c_best_possible_fit = data[:,1]\n",
    "rho_min_x = data[:,2]\n",
    "rho_max_x = data[:,3]\n",
    "alpha = data[:,4]\n",
    "alpha_opt = data[:,5]\n",
    "beta = data[:,6]\n",
    "gamma = data[:,7]\n",
    "\n",
    "# Take only the data where rho_min_x is smaller than 0.7, and rho_max_x is larger than 2.0\n",
    "indices = np.where((rho_min_x < 0.7) & (rho_min_x > 0.4) & (rho_max_x > 1.5) & (rho_max_x < 2.5))\n",
    "a_s = a_s[indices]\n",
    "n_c_best_possible_fit = n_c_best_possible_fit[indices]\n",
    "rho_min_x = rho_min_x[indices]\n",
    "rho_max_x = rho_max_x[indices]\n",
    "alpha = alpha[indices]\n",
    "alpha_opt = alpha_opt[indices]\n",
    "beta = beta[indices]\n",
    "gamma = gamma[indices]\n",
    "set(rho_min_x), set(rho_max_x)"
   ]
  },
  {
   "cell_type": "code",
   "execution_count": 25,
   "metadata": {},
   "outputs": [
    {
     "data": {
      "text/plain": [
       "array([[1.10000e+02, 1.03011e+04, 4.00000e-01, ..., 3.35523e-01,\n",
       "        1.60807e+01, 2.12099e+00],\n",
       "       [1.01570e+02, 8.34385e+03, 4.00000e-01, ..., 2.23369e-01,\n",
       "        2.78755e+00, 1.56065e+00],\n",
       "       [9.00000e+01, 1.12713e+03, 4.00000e-01, ..., 4.54184e-01,\n",
       "        2.48778e+01, 2.47710e+00],\n",
       "       ...,\n",
       "       [8.00000e+01, 7.39510e+02, 8.00000e-01, ..., 4.26663e-01,\n",
       "        3.90459e+00, 1.88852e+00],\n",
       "       [7.00000e+01, 4.36674e+02, 8.00000e-01, ..., 4.43138e-01,\n",
       "        2.54597e+00, 1.77739e+00],\n",
       "       [6.00000e+01, 3.93006e+02, 8.00000e-01, ..., 2.81610e-01,\n",
       "        1.93940e+00, 1.53858e+00]])"
      ]
     },
     "execution_count": 25,
     "metadata": {},
     "output_type": "execute_result"
    }
   ],
   "source": [
    "data"
   ]
  },
  {
   "cell_type": "markdown",
   "metadata": {},
   "source": [
    "## Plot $\\beta$ vs $a_s$"
   ]
  },
  {
   "cell_type": "code",
   "execution_count": 26,
   "metadata": {},
   "outputs": [
    {
     "data": {
      "text/plain": [
       "<matplotlib.legend.Legend at 0x7fb361458898>"
      ]
     },
     "execution_count": 26,
     "metadata": {},
     "output_type": "execute_result"
    },
    {
     "data": {
      "image/png": "[encoded data removed]",
      "text/plain": [
       "<Figure size 432x288 with 1 Axes>"
      ]
     },
     "metadata": {
      "needs_background": "light"
     },
     "output_type": "display_data"
    }
   ],
   "source": [
    "# Plot beta vs a_s\n",
    "plt.plot(a_s, beta, 'o', label='beta', color='red')\n",
    "# On the same plot, plot the error bar for each a_s\n",
    "a_s_unique = np.unique(a_s)\n",
    "average = np.zeros(len(a_s_unique))\n",
    "std = np.zeros(len(a_s_unique))\n",
    "for i in range(len(a_s_unique)):\n",
    "    average[i] = np.average(beta[a_s==a_s_unique[i]])\n",
    "    std[i] = np.std(beta[a_s==a_s_unique[i]])\n",
    "# plot the error bar for each a_s, with larger error bars for a_s with less data points\n",
    "plt.errorbar(a_s_unique, average, yerr=std, fmt='o', label='average beta', capsize=5, color='black')\n",
    "# Make a linear fit of the average beta vs a_s\n",
    "def func_beta(x, a, b):\n",
    "    return a*x + b\n",
    "popt_beta, pcov = curve_fit(func_beta, a_s_unique, average)\n",
    "plt.plot(a_s_unique, func_beta(a_s_unique, *popt_beta), label='linear fit', color='blue')\n",
    "\n",
    "\n",
    "beta_mflhy = 256*np.sqrt(np.pi)*(a_s_unique/r_0)**(5/2)/15 + 128*np.sqrt(np.pi)*np.sqrt((a_s_unique/r_0))/45\n",
    "plt.plot(a_s_unique,beta_mflhy, label='beta(MFLHY)', color='black')\n",
    "\n",
    "\n",
    "plt.title(\"beta vs a_s\")\n",
    "plt.legend(loc='best')"
   ]
  },
  {
   "cell_type": "markdown",
   "metadata": {},
   "source": [
    "## Plot $\\gamma$ vs $a_s$"
   ]
  },
  {
   "cell_type": "code",
   "execution_count": 27,
   "metadata": {},
   "outputs": [
    {
     "name": "stdout",
     "output_type": "stream",
     "text": [
      "<f_gamma(a_s)> 1.7253964583333339\n"
     ]
    },
    {
     "data": {
      "text/plain": [
       "<matplotlib.legend.Legend at 0x7fb361409160>"
      ]
     },
     "execution_count": 27,
     "metadata": {},
     "output_type": "execute_result"
    },
    {
     "data": {
      "image/png": "[encoded data removed]",
      "text/plain": [
       "<Figure size 432x288 with 1 Axes>"
      ]
     },
     "metadata": {
      "needs_background": "light"
     },
     "output_type": "display_data"
    }
   ],
   "source": [
    "# Plot gamma vs a_s\n",
    "plt.plot(a_s, gamma, 'o', label='gamma', color='red')\n",
    "# On the same plot, plot the error bar for each a_s\n",
    "a_s_unique = np.unique(a_s)\n",
    "average = np.zeros(len(a_s_unique))\n",
    "std = np.zeros(len(a_s_unique))\n",
    "for i in range(len(a_s_unique)):\n",
    "    average[i] = np.average(gamma[a_s==a_s_unique[i]])\n",
    "    std[i] = np.std(gamma[a_s==a_s_unique[i]])\n",
    "# plot the error bar for each a_s, with larger error bars for a_s with less data points\n",
    "plt.errorbar(a_s_unique, average, yerr=std, fmt='o', label='average gamma', capsize=5, color='black')\n",
    "# Make a linear fit of the average gamma vs a_s\n",
    "def func_gamma(x, a, b):\n",
    "    return a*x + b\n",
    "popt_gamma, pcov = curve_fit(func_gamma, a_s_unique, average)\n",
    "plt.plot(a_s_unique, func_gamma(a_s_unique, *popt_gamma), label='linear fit', color='blue')\n",
    "\n",
    "print(\"<f_gamma(a_s)>\", np.average(func_gamma(a_s_unique, *popt_gamma)))\n",
    "plt.plot(a_s_unique,[1.5]*len(a_s_unique), label='gamma(MFLHY)', color='black')\n",
    "\n",
    "\n",
    "plt.title(\"gamma vs a_s\")\n",
    "plt.legend(loc='best')"
   ]
  },
  {
   "cell_type": "markdown",
   "metadata": {},
   "source": [
    "## Estimate $n_c$ for each $a_s$ value, using fits\n"
   ]
  },
  {
   "cell_type": "code",
   "execution_count": 28,
   "metadata": {},
   "outputs": [
    {
     "data": {
      "text/plain": [
       "array([ 60,  61,  62,  63,  64,  65,  66,  67,  68,  69,  70,  71,  72,\n",
       "        73,  74,  75,  76,  77,  78,  79,  80,  81,  82,  83,  84,  85,\n",
       "        86,  87,  88,  89,  90,  91,  92,  93,  94,  95,  96,  97,  98,\n",
       "        99, 100, 101, 102, 103, 104, 105, 106, 107, 108, 109])"
      ]
     },
     "execution_count": 28,
     "metadata": {},
     "output_type": "execute_result"
    }
   ],
   "source": [
    "a_s = np.arange(60, 110, 1)\n",
    "a_s"
   ]
  },
  {
   "cell_type": "code",
   "execution_count": 29,
   "metadata": {},
   "outputs": [
    {
     "name": "stderr",
     "output_type": "stream",
     "text": [
      "100%|██████████| 50/50 [14:37<00:00, 17.56s/it]\n"
     ]
    }
   ],
   "source": [
    "r_0 = 387.6   # https://www.wolframalpha.com/input?i=%28162Dy+mass%29+*+%28mu_0%29+*+%289.93+bohr+magneton%29%5E2+%2F+%284+pi+hbar%5E2%29+%2F+%28bohr+radius%29\n",
    "# for each a_s, find the best possible fit for n_c, using the fits func_beta and func_gamma\n",
    "n_c_best_possible_fit = np.zeros(len(a_s))\n",
    "for i in tqdm(range(len(a_s))):\n",
    "    alpha = 2*np.pi*(a_s[i]/r_0) # * (1 - 1 / (3*(a_s / r_0)))\n",
    "    n_c_best_possible_fit[i] = estimate_nc(alpha,func_beta(a_s[i], *popt_beta), func_gamma(a_s[i], *popt_gamma), based_on=\"size\", verbose=False)[0]"
   ]
  },
  {
   "cell_type": "code",
   "execution_count": 30,
   "metadata": {},
   "outputs": [],
   "source": [
    "results[\"dy-df\"] = {\"a_s\": a_s, \"n_c_best_possible_fit\": n_c_best_possible_fit}"
   ]
  },
  {
   "cell_type": "code",
   "execution_count": 31,
   "metadata": {},
   "outputs": [
    {
     "data": {
      "text/plain": [
       "{'dy-df': {'a_s': array([ 60,  61,  62,  63,  64,  65,  66,  67,  68,  69,  70,  71,  72,\n",
       "          73,  74,  75,  76,  77,  78,  79,  80,  81,  82,  83,  84,  85,\n",
       "          86,  87,  88,  89,  90,  91,  92,  93,  94,  95,  96,  97,  98,\n",
       "          99, 100, 101, 102, 103, 104, 105, 106, 107, 108, 109]),\n",
       "  'n_c_best_possible_fit': array([  272.17729226,   292.01524643,   303.99381571,   339.52957361,\n",
       "           353.45719749,   367.95613745,   383.04982908,   423.54867447,\n",
       "           449.87531042,   477.83833861,   497.43943722,   550.03239335,\n",
       "           572.59491776,   614.32915519,   665.76286908,   700.0734331 ,\n",
       "           758.68594784,   813.98364347,   882.13310614,   946.42838951,\n",
       "          1025.66657411,  1100.42345894,  1204.60063778,  1292.39933712,\n",
       "          1386.59734537,  1517.86662943,  1661.56318735,  1800.67487506,\n",
       "          1971.14491272,  2136.17582916,  2338.40776958,  2585.64143872,\n",
       "          2830.42432515,  3129.67760349,  3460.57013952,  3865.09804876,\n",
       "          4273.74464351,  4773.32965858,  5331.31432269,  5954.52533981,\n",
       "          6717.76508131,  7578.83544233,  8550.27616577,  9743.67102516,\n",
       "         11103.63258519, 12781.22141366, 14860.8769913 , 17278.91707708,\n",
       "         20090.40082436, 23833.63550717])}}"
      ]
     },
     "execution_count": 31,
     "metadata": {},
     "output_type": "execute_result"
    }
   ],
   "source": [
    "results"
   ]
  },
  {
   "cell_type": "code",
   "execution_count": 32,
   "metadata": {},
   "outputs": [
    {
     "data": {
      "text/html": [
       "<div>\n",
       "<style scoped>\n",
       "    .dataframe tbody tr th:only-of-type {\n",
       "        vertical-align: middle;\n",
       "    }\n",
       "\n",
       "    .dataframe tbody tr th {\n",
       "        vertical-align: top;\n",
       "    }\n",
       "\n",
       "    .dataframe thead th {\n",
       "        text-align: right;\n",
       "    }\n",
       "</style>\n",
       "<table border=\"1\" class=\"dataframe\">\n",
       "  <thead>\n",
       "    <tr style=\"text-align: right;\">\n",
       "      <th></th>\n",
       "      <th>a_s</th>\n",
       "      <th>n_c_best_possible_fit</th>\n",
       "    </tr>\n",
       "  </thead>\n",
       "  <tbody>\n",
       "    <tr>\n",
       "      <th>0</th>\n",
       "      <td>60</td>\n",
       "      <td>272.177292</td>\n",
       "    </tr>\n",
       "    <tr>\n",
       "      <th>1</th>\n",
       "      <td>61</td>\n",
       "      <td>292.015246</td>\n",
       "    </tr>\n",
       "    <tr>\n",
       "      <th>2</th>\n",
       "      <td>62</td>\n",
       "      <td>303.993816</td>\n",
       "    </tr>\n",
       "    <tr>\n",
       "      <th>3</th>\n",
       "      <td>63</td>\n",
       "      <td>339.529574</td>\n",
       "    </tr>\n",
       "    <tr>\n",
       "      <th>4</th>\n",
       "      <td>64</td>\n",
       "      <td>353.457197</td>\n",
       "    </tr>\n",
       "  </tbody>\n",
       "</table>\n",
       "</div>"
      ],
      "text/plain": [
       "   a_s  n_c_best_possible_fit\n",
       "0   60             272.177292\n",
       "1   61             292.015246\n",
       "2   62             303.993816\n",
       "3   63             339.529574\n",
       "4   64             353.457197"
      ]
     },
     "execution_count": 32,
     "metadata": {},
     "output_type": "execute_result"
    }
   ],
   "source": [
    "import pandas as pd\n",
    "df = pd.DataFrame(results[\"dy-df\"])\n",
    "df.head()"
   ]
  },
  {
   "cell_type": "code",
   "execution_count": 33,
   "metadata": {},
   "outputs": [],
   "source": [
    "df.to_csv(\"results/paper/critical_n.csv\", index=False)"
   ]
  },
  {
   "cell_type": "code",
   "execution_count": null,
   "metadata": {},
   "outputs": [],
   "source": []
  }
 ],
 "metadata": {
  "kernelspec": {
   "display_name": "Python 3.8.13 ('mlp')",
   "language": "python",
   "name": "python3"
  },
  "language_info": {
   "codemirror_mode": {
    "name": "ipython",
    "version": 3
   },
   "file_extension": ".py",
   "mimetype": "text/x-python",
   "name": "python",
   "nbconvert_exporter": "python",
   "pygments_lexer": "ipython3",
   "version": "3.6.13"
  },
  "orig_nbformat": 4,
  "vscode": {
   "interpreter": {
    "hash": "5fc8cc4423f23a87e418a855553ca5df0686e4c1b4502d1b16c3e8233d998187"
   }
  }
 },
 "nbformat": 4,
 "nbformat_minor": 2
}
