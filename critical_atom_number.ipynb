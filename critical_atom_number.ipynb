{
  "cells": [
    {
      "cell_type": "markdown",
      "metadata": {
        "colab_type": "text",
        "id": "view-in-github"
      },
      "source": [
        "# Dipolar Droplets: critical atom number study\n",
        "\n",
        "<a href=\"https://colab.research.google.com/github/viktorcikojevic/dipolar-droplets/blob/main/critical_atom_number.ipynb\" target=\"_parent\"><img src=\"https://colab.research.google.com/assets/colab-badge.svg\" alt=\"Open In Colab\"/></a>"
      ]
    },
    {
      "cell_type": "code",
      "execution_count": 1,
      "metadata": {
        "id": "G1eFBYe4imzB"
      },
      "outputs": [],
      "source": [
        "\n",
        "import numpy as np\n",
        "import random\n",
        "from numpy import loadtxt\n",
        "from scipy.optimize import curve_fit\n",
        "import os\n",
        "import matplotlib.pyplot as plt\n",
        "\n",
        "import scipy.special\n",
        "from scipy.optimize import fmin\n",
        "\n",
        "from tqdm import tqdm\n"
      ]
    },
    {
      "cell_type": "code",
      "execution_count": 2,
      "metadata": {
        "colab": {
          "base_uri": "https://localhost:8080/",
          "height": 174
        },
        "id": "TNqokyNMjCID",
        "outputId": "2232f2f8-d353-4554-ef2a-ca5e10081093"
      },
      "outputs": [
        {
          "name": "stderr",
          "output_type": "stream",
          "text": [
            "Downloading...\n",
            "From: https://drive.google.com/uc?id=1RrM7HvxheAc7hO1sZUiJu0LdBrvr3u9L\n",
            "To: /Users/viktorcikojevic/Documents/dipolar-droplets/energies-qmc.zip\n",
            "100%|██████████| 94.2k/94.2k [00:00<00:00, 1.41MB/s]\n",
            "Downloading...\n",
            "From: https://drive.google.com/uc?id=1P_gBl2XgPKTweoVxLQcyi2brr9_H5gNB\n",
            "To: /Users/viktorcikojevic/Documents/dipolar-droplets/experimental-data.zip\n",
            "100%|██████████| 2.36k/2.36k [00:00<00:00, 2.38MB/s]\n"
          ]
        },
        {
          "data": {
            "text/plain": [
              "'experimental-data.zip'"
            ]
          },
          "execution_count": 2,
          "metadata": {},
          "output_type": "execute_result"
        }
      ],
      "source": [
        "# Get QMC data\n",
        "import gdown\n",
        "\n",
        "url = 'https://drive.google.com/uc?id=1RrM7HvxheAc7hO1sZUiJu0LdBrvr3u9L'\n",
        "gdown.download(url, \"energies-qmc.zip\", quiet=False)\n",
        "\n",
        "url = \"https://drive.google.com/uc?id=1P_gBl2XgPKTweoVxLQcyi2brr9_H5gNB\"\n",
        "gdown.download(url, \"experimental-data.zip\", quiet=False)\n"
      ]
    },
    {
      "cell_type": "code",
      "execution_count": 3,
      "metadata": {
        "colab": {
          "base_uri": "https://localhost:8080/"
        },
        "id": "j0kMNKMYjT7W",
        "outputId": "bead6bf4-e686-42f8-ba15-c6a7ccf9891f"
      },
      "outputs": [
        {
          "name": "stdout",
          "output_type": "stream",
          "text": [
            "Archive:  energies-qmc.zip\n",
            "Archive:  experimental-data.zip\n"
          ]
        }
      ],
      "source": [
        "!unzip -n energies-qmc.zip\n",
        "!unzip -n experimental-data.zip"
      ]
    },
    {
      "cell_type": "markdown",
      "metadata": {
        "id": "uDm9rHk0lLMR"
      },
      "source": [
        "# Functions for $n_c$ estimation"
      ]
    },
    {
      "cell_type": "code",
      "execution_count": 2,
      "metadata": {
        "id": "MVOg5QB-imzD"
      },
      "outputs": [],
      "source": [
        "from estimate_nc.estimate_nc import estimate_nc, en_per_particle"
      ]
    },
    {
      "cell_type": "markdown",
      "metadata": {
        "id": "diWrqRN7JUcX"
      },
      "source": [
        "## Physics parameters"
      ]
    },
    {
      "cell_type": "code",
      "execution_count": 3,
      "metadata": {
        "id": "rY_k2PLOJYC4"
      },
      "outputs": [],
      "source": [
        "a_s = 91.401702191\n",
        "r_0 = 387.6   # https://www.wolframalpha.com/input?i=%28162Dy+mass%29+*+%28mu_0%29+*+%289.93+bohr+magneton%29%5E2+%2F+%284+pi+hbar%5E2%29+%2F+%28bohr+radius%29\n",
        "# r_0 = 393.14   # https://www.wolframalpha.com/input?i=%28162+atomic+mass+unit%29+*+%28mu_0%29+*+%2810+bohr+magneton%29%5E2+%2F+%284+pi+hbar%5E2%29+%2F+%28bohr+radius%29\n",
        "# r_0 = 398 # https://www.wolframalpha.com/input?i=%28164+atomic+mass+unit%29+*+%28mu_0%29+*+%2810+bohr+magneton%29%5E2+%2F+%284+pi+hbar%5E2%29+%2F+%28bohr+radius%29\n",
        "# From Raul’s Thesis: m is the atomic mass, and Cdd = μ0 μ^2 sets the strength of the dipolar\n",
        "# interaction, with μ = 9.93μB the magnetic dipole moment of 162Dy. We use dipolar units,\n",
        "# obtained from the characteristic dipolar length r0 = m C_dd/ (4π \\hbar^2) = 387.672168a0 and the\n",
        "# dipolar scale of energy \u000f0 = ~2\n",
        "# "
      ]
    },
    {
      "cell_type": "markdown",
      "metadata": {
        "id": "nR_G71DcLBr8"
      },
      "source": [
        "## Test the $N_c$ function"
      ]
    },
    {
      "cell_type": "code",
      "execution_count": 4,
      "metadata": {
        "colab": {
          "base_uri": "https://localhost:8080/"
        },
        "id": "CiNhDDz6LD-7",
        "outputId": "f7eecec0-b79b-43be-bb26-29e176f94f71"
      },
      "outputs": [
        {
          "name": "stdout",
          "output_type": "stream",
          "text": [
            "#a\tN\n",
            "60.5970075184  550.962558145\n",
            "62.7356641274  630.484693517\n",
            "64.8743207365  721.484505403\n",
            "66.7271283591  798.254461363\n",
            "68.8657849681  913.469004347\n",
            "70.8615170839  1027.84403302\n",
            "72.7158135034  1176.19595118\n",
            "74.853725714  1323.46689853\n",
            "76.9931267214  1540.22653908\n",
            "78.9896032357  1762.532214\n",
            "80.5587950671  1983.2180518\n",
            "82.6974516761  2269.46206612\n",
            "84.5532368924  2686.04636111\n",
            "87.4057715689  3288.07864054\n",
            "89.4044812784  3957.78164425\n",
            "91.401702191  4605.99379639\n",
            "93.9721098732  5930.74447925\n",
            "96.3988486638  7383.40961091\n",
            "98.2561226769  9038.277145\n",
            "99.8275477035  10697.3506182\n",
            "\n"
          ]
        }
      ],
      "source": [
        "# These are the MF+LHY estimations from IGOR. Let's try to reproduce some of these\n",
        "!cat experimental-data/mean_field_IGOR.dat  "
      ]
    },
    {
      "cell_type": "code",
      "execution_count": 7,
      "metadata": {
        "colab": {
          "base_uri": "https://localhost:8080/"
        },
        "id": "RefUx6e10h3C",
        "outputId": "22e41f9d-0a26-4202-b912-116786b5e4d4"
      },
      "outputs": [
        {
          "data": {
            "text/plain": [
              "(4926.960980478202, 1.0232953555593648e-05)"
            ]
          },
          "execution_count": 7,
          "metadata": {},
          "output_type": "execute_result"
        }
      ],
      "source": [
        "\n",
        "a_s = 91.401702191\n",
        "a_s = a_s / r_0\n",
        "alpha = 2*np.pi*a_s # * (1 - 1 / (3*(a_s / r_0)))\n",
        "beta = 256*np.sqrt(np.pi)*a_s**(5/2)/15 + 128*np.sqrt(np.pi)*np.sqrt(a_s)/45\n",
        "gamma = 1.5\n",
        "\n",
        "n_c_best_possible_fit, min_energy = estimate_nc(alpha, beta, gamma, include_ho=False, based_on='size')\n",
        "n_c_best_possible_fit, min_energy"
      ]
    },
    {
      "cell_type": "code",
      "execution_count": 8,
      "metadata": {
        "colab": {
          "base_uri": "https://localhost:8080/"
        },
        "id": "MS-0kfoG2Jof",
        "outputId": "e250d108-4de5-447e-ec49-a083c324f777"
      },
      "outputs": [
        {
          "data": {
            "text/plain": [
              "4.994387305328081e-05"
            ]
          },
          "execution_count": 8,
          "metadata": {},
          "output_type": "execute_result"
        }
      ],
      "source": [
        "ng = 400\n",
        "sr_range = np.linspace(4, 100, ng)\n",
        "sz_range = np.linspace(4, 1000, ng)\n",
        "# make meshgrid\n",
        "sr, sz = np.meshgrid(sr_range, sz_range)\n",
        "nparticles = 100\n",
        "\n",
        "np.min(en_per_particle(sr, sz, nparticles, alpha, beta, gamma, include_ho=False))"
      ]
    },
    {
      "cell_type": "code",
      "execution_count": 9,
      "metadata": {
        "id": "KdkMuIq7lYtC"
      },
      "outputs": [],
      "source": [
        "# r_0 = 360.375\n",
        "a_s = np.array([110, 101.572,  90, 80, 70, 60])\n",
        "file = [\"as110.dat\", \"as100.dat\", \"as90.dat\", \"as80.dat\", \"as70.dat\", \"as60.dat\"]"
      ]
    },
    {
      "cell_type": "markdown",
      "metadata": {
        "id": "bh_Q8WaCtpcZ"
      },
      "source": [
        "# Recipe 7: STEP 1: Fit the $E_{\\rm kin}/N$ to a function of the form $\\alpha \\rho + \\beta\\rho^\\gamma$. Step 2: Use $\\beta\\rho^\\gamma$ instead of the LHY term"
      ]
    },
    {
      "cell_type": "code",
      "execution_count": 10,
      "metadata": {
        "colab": {
          "base_uri": "https://localhost:8080/",
          "height": 595
        },
        "id": "ggpwy7Dltpcj",
        "outputId": "d999a623-cbbb-4895-99c3-cd74ebb87725"
      },
      "outputs": [
        {
          "name": "stdout",
          "output_type": "stream",
          "text": [
            "\n",
            "\n",
            "a_s = 110.0, popt[alpha,beta,gamma]=[0.11883385 3.28002703 1.52530295]\n",
            "\n",
            "\n",
            "a_s = 101.572, popt[alpha,beta,gamma]=[0.22125297 3.19806879 1.59521286]\n",
            "\n",
            "\n",
            "a_s = 90.0, popt[alpha,beta,gamma]=[-0.04210241  2.23638408  1.35239519]\n",
            "\n",
            "\n",
            "a_s = 80.0, popt[alpha,beta,gamma]=[0.27080808 2.38773351 1.56886656]\n",
            "\n",
            "\n",
            "a_s = 70.0, popt[alpha,beta,gamma]=[ 2.16761928e+03 -2.16630151e+03  9.99907699e-01]\n",
            "\n",
            "\n",
            "a_s = 60.0, popt[alpha,beta,gamma]=[0.48306191 2.22129791 1.79371164]\n"
          ]
        },
        {
          "data": {
            "text/plain": [
              "(0.0, 0.21837499999999999)"
            ]
          },
          "execution_count": 10,
          "metadata": {},
          "output_type": "execute_result"
        },
        {
          "data": {
            "image/png": "[encoded data removed]",
            "text/plain": [
              "<Figure size 640x480 with 1 Axes>"
            ]
          },
          "metadata": {},
          "output_type": "display_data"
        }
      ],
      "source": [
        " \n",
        "for i in range(len(a_s)):\n",
        "    data = loadtxt(\"energies-qmc/data_clean/\" + file[i],  float)\n",
        "    # # print(\"Reading data\", \"energies-qmc/\" + file[i])\n",
        "    rho_all = data[:, 0]\n",
        "    \n",
        "    en_all = data[:, 1] #  -  data[:,7]\n",
        "    sen_all = data[:, 2]  # - data[:,6]\n",
        "    kin_en = data[:, 3]\n",
        "    sen_kin = data[:, 4]\n",
        "    \n",
        "    alpha_mf = 2*np.pi*(a_s[i] / r_0) # * (1 - 1 / (3*(a_s[i] / r_0)))\n",
        "    \n",
        "    \n",
        "    plt.errorbar(rho_all, kin_en, sen_kin, label=f\"a_s = {a_s[i]}\", marker='o', markersize=10, linestyle='None')\n",
        "    \n",
        "    # STEP 1: Fit the energy to a function of the form a*x + b*x**c\n",
        "    def enFit(x, a, b, c):\n",
        "        return a*x + b*x**c\n",
        "    popt, pcov = curve_fit(enFit, rho_all , kin_en,sigma=sen_kin, maxfev=10000)\n",
        "    \n",
        "    print(f\"\\n\\na_s = {a_s[i]}, popt[alpha,beta,gamma]={popt}\")\n",
        "    # sort rho_all\n",
        "    idx = np.argsort(rho_all)\n",
        "    rho_all = rho_all[idx]\n",
        "    plt.plot(rho_all, enFit(rho_all, *popt))\n",
        "        \n",
        "\n",
        "    \n",
        "plt.legend()\n",
        "# plt.ylim(0, 3)\n",
        "plt.xlim(0)\n",
        "# plt.xlim(0, 0.03), plt.ylim(-0.02, 0)"
      ]
    },
    {
      "cell_type": "markdown",
      "metadata": {
        "id": "bh_Q8WaCtpcZ"
      },
      "source": [
        "# Recipe 7, freeze beta=beta_mflhy: STEP 1: Fit the $E_{\\rm kin}/N$ to a function of the form $\\alpha \\rho + \\beta\\rho^\\gamma$. Step 2: Use $\\beta\\rho^\\gamma$ instead of the LHY term"
      ]
    },
    {
      "cell_type": "code",
      "execution_count": 11,
      "metadata": {
        "colab": {
          "base_uri": "https://localhost:8080/",
          "height": 595
        },
        "id": "ggpwy7Dltpcj",
        "outputId": "d999a623-cbbb-4895-99c3-cd74ebb87725"
      },
      "outputs": [
        {
          "name": "stdout",
          "output_type": "stream",
          "text": [
            "\n",
            "\n",
            "a_s = 110.0, popt[alpha,gamma]=[-2.1598858   1.09690081]\n",
            "\n",
            "\n",
            "a_s = 101.572, popt[alpha,gamma]=[-2.09133591  1.08210033]\n",
            "\n",
            "\n",
            "a_s = 90.0, popt[alpha,gamma]=[-1.59247002  1.10610338]\n",
            "\n",
            "\n",
            "a_s = 80.0, popt[alpha,gamma]=[-1.40929343  1.10019781]\n",
            "\n",
            "\n",
            "a_s = 70.0, popt[alpha,gamma]=[-1.11833838  1.1120837 ]\n",
            "\n",
            "\n",
            "a_s = 60.0, popt[alpha,gamma]=[-0.71820217  1.15593481]\n"
          ]
        },
        {
          "data": {
            "text/plain": [
              "(0.0, 0.21837499999999999)"
            ]
          },
          "execution_count": 11,
          "metadata": {},
          "output_type": "execute_result"
        },
        {
          "data": {
            "image/png": "[encoded data removed]",
            "text/plain": [
              "<Figure size 640x480 with 1 Axes>"
            ]
          },
          "metadata": {},
          "output_type": "display_data"
        }
      ],
      "source": [
        " \n",
        "for i in range(len(a_s)):\n",
        "    data = loadtxt(\"energies-qmc/data_clean/\" + file[i],  float)\n",
        "    # # print(\"Reading data\", \"energies-qmc/\" + file[i])\n",
        "    rho_all = data[:, 0]\n",
        "    \n",
        "    en_all = data[:, 1] #  -  data[:,7]\n",
        "    sen_all = data[:, 2]  # - data[:,6]\n",
        "    kin_en = data[:, 3]\n",
        "    sen_kin = data[:, 4]\n",
        "    \n",
        "    alpha_mf = 2*np.pi*(a_s[i] / r_0) # * (1 - 1 / (3*(a_s[i] / r_0)))\n",
        "    \n",
        "    \n",
        "    plt.errorbar(rho_all, kin_en, sen_kin, label=f\"a_s = {a_s[i]}\", marker='o', markersize=10, linestyle='None')\n",
        "    \n",
        "    # STEP 1: Fit the energy to a function of the form a*x + b*x**c\n",
        "    beta = 256*np.sqrt(np.pi)*(a_s[i]/r_0)**(5/2)/15 + 128*np.sqrt(np.pi)*np.sqrt((a_s[i]/r_0))/45            \n",
        "    def enFit(x, a, c):\n",
        "        return a*x + beta*x**c\n",
        "    popt, pcov = curve_fit(enFit, rho_all , kin_en,sigma=sen_kin, maxfev=10000)\n",
        "    \n",
        "    print(f\"\\n\\na_s = {a_s[i]}, popt[alpha,gamma]={popt}\")\n",
        "    # sort rho_all\n",
        "    idx = np.argsort(rho_all)\n",
        "    rho_all = rho_all[idx]\n",
        "    plt.plot(rho_all, enFit(rho_all, *popt))\n",
        "        \n",
        "\n",
        "    \n",
        "plt.legend()\n",
        "# plt.ylim(0, 3)\n",
        "plt.xlim(0)\n",
        "# plt.xlim(0, 0.03), plt.ylim(-0.02, 0)"
      ]
    },
    {
      "cell_type": "markdown",
      "metadata": {
        "id": "bh_Q8WaCtpcZ"
      },
      "source": [
        "# Recipe 7, freeze gamma=gamma_mflhy: STEP 1: Fit the $E_{\\rm kin}/N$ to a function of the form $\\alpha \\rho + \\beta\\rho^\\gamma$. Step 2: Use $\\beta\\rho^\\gamma$ instead of the LHY term"
      ]
    },
    {
      "cell_type": "code",
      "execution_count": 12,
      "metadata": {
        "colab": {
          "base_uri": "https://localhost:8080/",
          "height": 595
        },
        "id": "ggpwy7Dltpcj",
        "outputId": "d999a623-cbbb-4895-99c3-cd74ebb87725"
      },
      "outputs": [
        {
          "name": "stdout",
          "output_type": "stream",
          "text": [
            "\n",
            "\n",
            "a_s = 110.0, popt[alpha,gamma]=[0.09221661 3.16673912]\n",
            "\n",
            "\n",
            "a_s = 101.572, popt[alpha,gamma]=[0.15094784 2.72132792]\n",
            "\n",
            "\n",
            "a_s = 90.0, popt[alpha,gamma]=[0.15887757 2.54712425]\n",
            "\n",
            "\n",
            "a_s = 80.0, popt[alpha,gamma]=[0.22027114 2.1800627 ]\n",
            "\n",
            "\n",
            "a_s = 70.0, popt[alpha,gamma]=[0.28386555 1.84343763]\n",
            "\n",
            "\n",
            "a_s = 60.0, popt[alpha,gamma]=[0.30973111 1.71583365]\n"
          ]
        },
        {
          "data": {
            "text/plain": [
              "(0.0, 0.21837499999999999)"
            ]
          },
          "execution_count": 12,
          "metadata": {},
          "output_type": "execute_result"
        },
        {
          "data": {
            "image/png": "[encoded data removed]",
            "text/plain": [
              "<Figure size 640x480 with 1 Axes>"
            ]
          },
          "metadata": {},
          "output_type": "display_data"
        }
      ],
      "source": [
        " \n",
        "for i in range(len(a_s)):\n",
        "    data = loadtxt(\"energies-qmc/data_clean/\" + file[i],  float)\n",
        "    # # print(\"Reading data\", \"energies-qmc/\" + file[i])\n",
        "    rho_all = data[:, 0]\n",
        "    \n",
        "    en_all = data[:, 1] #  -  data[:,7]\n",
        "    sen_all = data[:, 2]  # - data[:,6]\n",
        "    kin_en = data[:, 3]\n",
        "    sen_kin = data[:, 4]\n",
        "    \n",
        "    alpha_mf = 2*np.pi*(a_s[i] / r_0) # * (1 - 1 / (3*(a_s[i] / r_0)))\n",
        "    \n",
        "    \n",
        "    plt.errorbar(rho_all, kin_en, sen_kin, label=f\"a_s = {a_s[i]}\", marker='o', markersize=10, linestyle='None')\n",
        "    \n",
        "    # STEP 1: Fit the energy to a function of the form a*x + b*x**c\n",
        "             \n",
        "    def enFit(x, a, b):\n",
        "        return a*x + b*x**1.5\n",
        "    popt, pcov = curve_fit(enFit, rho_all , kin_en,sigma=sen_kin, maxfev=10000)\n",
        "    \n",
        "    print(f\"\\n\\na_s = {a_s[i]}, popt[alpha,gamma]={popt}\")\n",
        "    # sort rho_all\n",
        "    idx = np.argsort(rho_all)\n",
        "    rho_all = rho_all[idx]\n",
        "    plt.plot(rho_all, enFit(rho_all, *popt))\n",
        "        \n",
        "\n",
        "    \n",
        "plt.legend()\n",
        "# plt.ylim(0, 3)\n",
        "plt.xlim(0)\n",
        "# plt.xlim(0, 0.03), plt.ylim(-0.02, 0)"
      ]
    },
    {
      "cell_type": "markdown",
      "metadata": {
        "id": "bh_Q8WaCtpcZ"
      },
      "source": [
        "# Recipe 8: STEP 1: Fit the $E/N - E_{\\rm dip}/N$ to a function of the form $\\alpha \\rho + \\beta\\rho^\\gamma$. Step 2: Use $\\beta\\rho^\\gamma$ instead of the LHY term"
      ]
    },
    {
      "cell_type": "code",
      "execution_count": 13,
      "metadata": {
        "colab": {
          "base_uri": "https://localhost:8080/",
          "height": 595
        },
        "id": "ggpwy7Dltpcj",
        "outputId": "d999a623-cbbb-4895-99c3-cd74ebb87725"
      },
      "outputs": [
        {
          "name": "stdout",
          "output_type": "stream",
          "text": [
            "\n",
            "\n",
            "a_s = 110.0, popt[alpha,beta,gamma]=[0.07914027 4.30471128 1.48835675]\n",
            "\n",
            "\n",
            "a_s = 101.572, popt[alpha,beta,gamma]=[0.12714957 3.93590023 1.50206357]\n",
            "\n",
            "\n",
            "a_s = 90.0, popt[alpha,beta,gamma]=[-0.24504023  3.08333061  1.32326732]\n",
            "\n",
            "\n",
            "a_s = 80.0, popt[alpha,beta,gamma]=[0.02890036 2.88996398 1.41993762]\n",
            "\n",
            "\n",
            "a_s = 70.0, popt[alpha,beta,gamma]=[0.17749782 2.6606667  1.4928646 ]\n",
            "\n",
            "\n",
            "a_s = 60.0, popt[alpha,beta,gamma]=[0.26816368 2.48858619 1.56167738]\n"
          ]
        },
        {
          "data": {
            "text/plain": [
              "(0.0, 0.21837499999999999)"
            ]
          },
          "execution_count": 13,
          "metadata": {},
          "output_type": "execute_result"
        },
        {
          "data": {
            "image/png": "[encoded data removed]",
            "text/plain": [
              "<Figure size 640x480 with 1 Axes>"
            ]
          },
          "metadata": {},
          "output_type": "display_data"
        }
      ],
      "source": [
        "\n",
        "a_s = np.array([110, 101.572,  90, 80, 70, 60])\n",
        "\n",
        "for i in range(len(a_s)):\n",
        "    data = loadtxt(\"energies-qmc/data_clean/\" + file[i],  float)\n",
        "    # # print(\"Reading data\", \"energies-qmc/\" + file[i])\n",
        "    rho_all = data[:, 0]\n",
        "    \n",
        "    en_all = data[:, 1]  -  data[:,7]\n",
        "    sen_all = data[:, 2]  # - data[:,6]\n",
        "    kin_en = data[:, 3]\n",
        "    sen_kin = data[:, 4]\n",
        "    \n",
        "    alpha_mf = 2*np.pi*(a_s[i] / r_0) # * (1 - 1 / (3*(a_s[i] / r_0)))\n",
        "    \n",
        "    \n",
        "    plt.errorbar(rho_all, en_all, sen_all, label=f\"a_s = {a_s[i]}\", marker='o', markersize=10, linestyle='None')\n",
        "    \n",
        "    # STEP 1: Fit the energy to a function of the form a*x + b*x**c\n",
        "    def enFit(x, a, b, c):\n",
        "        return a*x + b*x**c\n",
        "    popt, pcov = curve_fit(enFit, rho_all , en_all,sigma=sen_all, maxfev=10000)\n",
        "    \n",
        "    print(f\"\\n\\na_s = {a_s[i]}, popt[alpha,beta,gamma]={popt}\")\n",
        "    # sort rho_all\n",
        "    idx = np.argsort(rho_all)\n",
        "    rho_all = rho_all[idx]\n",
        "    plt.plot(rho_all, enFit(rho_all, *popt))\n",
        "        \n",
        "\n",
        "    \n",
        "plt.legend()\n",
        "# plt.ylim(0, 3)\n",
        "plt.xlim(0)\n",
        "# plt.xlim(0, 0.03), plt.ylim(-0.02, 0)"
      ]
    },
    {
      "cell_type": "markdown",
      "metadata": {
        "id": "98mPV74Ft7Xa"
      },
      "source": [
        "# Estimate $n_c$ with recipe 7"
      ]
    },
    {
      "cell_type": "code",
      "execution_count": 5,
      "metadata": {
        "colab": {
          "base_uri": "https://localhost:8080/"
        },
        "id": "tPKPyGm6t7Xb",
        "outputId": "d2cea6ef-d774-4f2e-d608-1ef671f9d8b0"
      },
      "outputs": [
        {
          "name": "stdout",
          "output_type": "stream",
          "text": [
            "mkdir: results/critical-atom-numbers/recipe-7-nc: File exists\n"
          ]
        },
        {
          "name": "stderr",
          "output_type": "stream",
          "text": [
            "100%|██████████| 5/5 [01:30<00:00, 18.06s/it]\n"
          ]
        }
      ],
      "source": [
        "\n",
        "a_s = np.array([110, 101.572,  90, 80, 70, 60])\n",
        "file = [\"as110.dat\", \"as100.dat\", \"as90.dat\", \"as80.dat\", \"as70.dat\", \"as60.dat\"]\n",
        "# extension = \"_2\" #is either \"\" or \"_2\"\n",
        "enmax = np.array([0.015, 0.03, 0.05, 0.05])\n",
        "# approximate estimate of equilibrium density\n",
        "# rho_0_arr = np.array([0.018133025814418047, 0.022067711461453077,  0.03056689762975153,  0.03896986119629473]) \n",
        "rho_0_arr = np.array([0.02 , 0.025 ,  0.03 ,  0.04, 0.05, 0.069]) \n",
        "rho_max_arr = 2.0 * rho_0_arr\n",
        "\n",
        "!mkdir results/critical-atom-numbers/recipe-7-nc\n",
        "fout = open(f\"results/critical-atom-numbers/recipe-7-nc/functionals_E_N.dat\", 'w', buffering=1)\n",
        "# fout.write(\"# {rho_min_x} {a_s[i]} {popt[0]} {popt[1]} {popt[2]} {n_c}\\n\")\n",
        "# Write the first line, which is the header: string_out = f\"{a_s[i]:.2f}  {n_c_best_possible_fit:.5e}  {rho_min_x:.3e} {rho_max_x:.3e} {alpha:.5e} {popt[0]:.5e} {popt[1]:.5e} {popt[2]:.5e}    \\n\"\n",
        "string_out = f\"# a_s  n_c_best_possible_fit  rho_min_x  rho_max_x  alpha  alpha_opt  beta  gamma  min_energy  \\n\"\n",
        "fout.write(string_out)\n",
        "for rho_min_x in tqdm(np.arange(0.4, 0.81, 0.1)):\n",
        "  for rho_max_x in np.arange(1.5, 2.91, 0.2):\n",
        "    for i in range(len(a_s)):\n",
        "        rho_min = rho_min_x * rho_0_arr\n",
        "        rho_max = rho_max_x * rho_0_arr\n",
        "\n",
        "\n",
        "        # # print(f\"analyzing a_s = {a_s[i]:.3f}\")\n",
        "\n",
        "        data = loadtxt(\"energies-qmc/data_clean/\" + file[i],  float)\n",
        "        # # print(\"Reading data\", \"energies-qmc/\" + file[i])\n",
        "        rho_all = data[:, 0]\n",
        "        en_all = data[:, 1] #  -  data[:,7]\n",
        "        sen_all = data[:, 2]  # - data[:,6]\n",
        "        kin_en = data[:,3]\n",
        "        sen_kin = data[:,4]        \n",
        "\n",
        "        en_all = en_all\n",
        "\n",
        "        w = np.logical_and(rho_all > rho_min[i], rho_all < rho_max[i])\n",
        "        rho_all_w = rho_all[w]\n",
        "        en_all_w = kin_en[w]\n",
        "        sen_all_w = sen_kin[w]\n",
        "\n",
        "        try:\n",
        "            \n",
        "            alpha_mf = 2*np.pi*(a_s[i] / r_0) # * (1 - 1 / (3*(a_s[i] / r_0)))\n",
        "            alpha_cherny = 2*np.pi*(a_s[i] / r_0)  * (1 - 1 / (3*(a_s[i] / r_0)))\n",
        "            \n",
        "            def enFit(x, a, b, c):\n",
        "              return a*x + b*x**c\n",
        "            \n",
        "            \n",
        "            \n",
        "            popt, pcov = curve_fit(enFit, rho_all_w, en_all_w,sigma=sen_all_w, p0=[-1, 5, 1.5], maxfev=10000)\n",
        "            alpha, beta, gamma = popt\n",
        "            alpha = alpha_mf\n",
        "            n_c_best_possible_fit, min_energy = estimate_nc(alpha, beta, gamma, based_on='size')\n",
        "            \n",
        "            \n",
        "            \n",
        "            alpha_opt = popt[0]\n",
        "            # popt[0] = 2*np.pi*(a_s[i] / r_0)  * (1 - 1 / (3*(a_s[i] / r_0)))\n",
        "            # n_c_alpha_cherny = estimate_nc(popt)\n",
        "\n",
        "            # popt[0] = 2*np.pi*(a_s[i] / r_0)  \n",
        "            # n_c_alpha_mf = estimate_nc(popt)\n",
        "\n",
        "            # popt[0] = 2*np.pi*(a_s[i] / r_0) / 10  \n",
        "            # n_c_alpha_mf_over_10 = estimate_nc(popt)\n",
        "\n",
        "            # string_out = f\"{rho_min_x} {a_s[i]} {alpha_opt} {popt[1]} {popt[2]} {n_c_best_possible_fit} {n_c_alpha_cherny} {n_c_alpha_mf} {n_c_alpha_mf_over_10} \\n\"\n",
        "            string_out = f\"{a_s[i]:.2f}  {n_c_best_possible_fit:.5e}  {rho_min_x:.3e} {rho_max_x:.3e} {alpha:.5e} {popt[0]:.5e} {popt[1]:.5e} {popt[2]:.5e}    \\n\"\n",
        "            fout.write(string_out)\n",
        "            # # print(string_out)\n",
        "        except Exception as error:\n",
        "            print('Caught this error: ' + repr(error))\n"
      ]
    },
    {
      "cell_type": "markdown",
      "metadata": {
        "id": "98mPV74Ft7Xa"
      },
      "source": [
        "# Estimate $n_c$ with recipe 7: take beta=beta_mflhy, fit gamma"
      ]
    },
    {
      "cell_type": "code",
      "execution_count": 6,
      "metadata": {
        "colab": {
          "base_uri": "https://localhost:8080/"
        },
        "id": "tPKPyGm6t7Xb",
        "outputId": "d2cea6ef-d774-4f2e-d608-1ef671f9d8b0"
      },
      "outputs": [
        {
          "name": "stdout",
          "output_type": "stream",
          "text": [
            "mkdir: results/critical-atom-numbers/recipe-7-freeze-beta: File exists\n"
          ]
        },
        {
          "name": "stderr",
          "output_type": "stream",
          "text": [
            "100%|██████████| 4/4 [00:10<00:00,  2.67s/it]\n"
          ]
        }
      ],
      "source": [
        "\n",
        "a_s = np.array([110, 101.572,  90, 80, 70, 60])\n",
        "file = [\"as110.dat\", \"as100.dat\", \"as90.dat\", \"as80.dat\", \"as70.dat\", \"as60.dat\"]\n",
        "# extension = \"_2\" #is either \"\" or \"_2\"\n",
        "enmax = np.array([0.015, 0.03, 0.05, 0.05])\n",
        "# approximate estimate of equilibrium density\n",
        "# rho_0_arr = np.array([0.018133025814418047, 0.022067711461453077,  0.03056689762975153,  0.03896986119629473]) \n",
        "rho_0_arr = np.array([0.02 , 0.025 ,  0.03 ,  0.04, 0.05, 0.069]) \n",
        "rho_max_arr = 2.0 * rho_0_arr\n",
        "\n",
        "!mkdir results/critical-atom-numbers/recipe-7-freeze-beta\n",
        "fout = open(f\"results/critical-atom-numbers/recipe-7-freeze-beta/functionals_E_N.dat\", 'w', buffering=1)\n",
        "# fout.write(\"# {rho_min_x} {a_s[i]} {popt[0]} {popt[1]} {popt[2]} {n_c}\\n\")\n",
        "# Write the first line, which is the header: string_out = f\"{a_s[i]:.2f}  {n_c_best_possible_fit:.5e}  {rho_min_x:.3e} {rho_max_x:.3e} {alpha:.5e} {popt[0]:.5e} {popt[1]:.5e} {popt[2]:.5e}    \\n\"\n",
        "string_out = f\"# a_s  n_c_best_possible_fit  rho_min_x  rho_max_x  alpha  alpha_opt  beta  gamma  min_energy  \\n\"\n",
        "fout.write(string_out)\n",
        "for rho_min_x in tqdm(np.arange(0.4, 0.71, 0.1)):\n",
        "  for rho_max_x in np.arange(1.5, 2.91, 0.2):\n",
        "    for i in range(len(a_s)):\n",
        "        rho_min = rho_min_x * rho_0_arr\n",
        "        rho_max = rho_max_x * rho_0_arr\n",
        "\n",
        "\n",
        "        # print(f\"analyzing a_s = {a_s[i]:.3f}\")\n",
        "\n",
        "        data = loadtxt(\"energies-qmc/data_clean/\" + file[i],  float)\n",
        "        # print(\"Reading data\", \"energies-qmc/\" + file[i])\n",
        "        rho_all = data[:, 0]\n",
        "        en_all = data[:, 1] #  -  data[:,7]\n",
        "        sen_all = data[:, 2]  # - data[:,6]\n",
        "        kin_en = data[:,3]\n",
        "        sen_kin = data[:,4]        \n",
        "\n",
        "        en_all = en_all\n",
        "\n",
        "        w = np.logical_and(rho_all > rho_min[i], rho_all < rho_max[i])\n",
        "        rho_all_w = rho_all[w]\n",
        "        en_all_w = kin_en[w]\n",
        "        sen_all_w = sen_kin[w]\n",
        "\n",
        "        try:\n",
        "            \n",
        "            alpha_mf = 2*np.pi*(a_s[i] / r_0) # * (1 - 1 / (3*(a_s[i] / r_0)))\n",
        "            alpha_cherny = 2*np.pi*(a_s[i] / r_0)  * (1 - 1 / (3*(a_s[i] / r_0)))\n",
        "            \n",
        "            beta_mf = 256*np.sqrt(np.pi)*(a_s[i]/r_0)**(5/2)/15 + 128*np.sqrt(np.pi)*np.sqrt((a_s[i]/r_0))/45            \n",
        "            beta = beta_mf\n",
        "            \n",
        "            def enFit(x, a, c):\n",
        "              return a*x + beta*x**c\n",
        "          \n",
        "            popt, pcov = curve_fit(enFit, rho_all_w, en_all_w,sigma=sen_all_w, maxfev=10000)\n",
        "            alpha, gamma = popt\n",
        "            alpha = alpha_mf\n",
        "            \n",
        "            n_c_best_possible_fit, min_energy = estimate_nc(alpha, beta, gamma, based_on='size')\n",
        "            \n",
        "            \n",
        "            \n",
        "            alpha_opt = popt[0]\n",
        "            # popt[0] = 2*np.pi*(a_s[i] / r_0)  * (1 - 1 / (3*(a_s[i] / r_0)))\n",
        "            # n_c_alpha_cherny = estimate_nc(popt)\n",
        "\n",
        "            # popt[0] = 2*np.pi*(a_s[i] / r_0)  \n",
        "            # n_c_alpha_mf = estimate_nc(popt)\n",
        "\n",
        "            # popt[0] = 2*np.pi*(a_s[i] / r_0) / 10  \n",
        "            # n_c_alpha_mf_over_10 = estimate_nc(popt)\n",
        "\n",
        "            # string_out = f\"{rho_min_x} {a_s[i]} {alpha_opt} {popt[1]} {popt[2]} {n_c_best_possible_fit} {n_c_alpha_cherny} {n_c_alpha_mf} {n_c_alpha_mf_over_10} \\n\"\n",
        "            string_out = f\"{a_s[i]:.2f}  {n_c_best_possible_fit:.5e}  {rho_min_x:.3e} {rho_max_x:.3e}  \\n\"\n",
        "            fout.write(string_out)\n",
        "            # # print(string_out)\n",
        "        except Exception as error:\n",
        "            print('Caught this error: ' + repr(error))\n"
      ]
    },
    {
      "cell_type": "markdown",
      "metadata": {
        "id": "98mPV74Ft7Xa"
      },
      "source": [
        "# Estimate $n_c$ with recipe 7: take gamma=gamma_mflhy, fit beta"
      ]
    },
    {
      "cell_type": "code",
      "execution_count": 7,
      "metadata": {
        "colab": {
          "base_uri": "https://localhost:8080/"
        },
        "id": "tPKPyGm6t7Xb",
        "outputId": "d2cea6ef-d774-4f2e-d608-1ef671f9d8b0"
      },
      "outputs": [
        {
          "name": "stdout",
          "output_type": "stream",
          "text": [
            "mkdir: results/critical-atom-numbers/recipe-7-freeze-gamma: File exists\n"
          ]
        },
        {
          "name": "stderr",
          "output_type": "stream",
          "text": [
            "100%|██████████| 4/4 [01:06<00:00, 16.72s/it]\n"
          ]
        }
      ],
      "source": [
        "\n",
        "a_s = np.array([110, 101.572,  90, 80, 70, 60])\n",
        "file = [\"as110.dat\", \"as100.dat\", \"as90.dat\", \"as80.dat\", \"as70.dat\", \"as60.dat\"]\n",
        "# extension = \"_2\" #is either \"\" or \"_2\"\n",
        "enmax = np.array([0.015, 0.03, 0.05, 0.05])\n",
        "# approximate estimate of equilibrium density\n",
        "# rho_0_arr = np.array([0.018133025814418047, 0.022067711461453077,  0.03056689762975153,  0.03896986119629473]) \n",
        "rho_0_arr = np.array([0.02 , 0.025 ,  0.03 ,  0.04, 0.05, 0.069]) \n",
        "rho_max_arr = 2.0 * rho_0_arr\n",
        "\n",
        "!mkdir results/critical-atom-numbers/recipe-7-freeze-gamma\n",
        "fout = open(f\"results/critical-atom-numbers/recipe-7-freeze-gamma/functionals_E_N.dat\", 'w', buffering=1)\n",
        "# fout.write(\"# {rho_min_x} {a_s[i]} {popt[0]} {popt[1]} {popt[2]} {n_c}\\n\")\n",
        "# Write the first line, which is the header: string_out = f\"{a_s[i]:.2f}  {n_c_best_possible_fit:.5e}  {rho_min_x:.3e} {rho_max_x:.3e} {alpha:.5e} {popt[0]:.5e} {popt[1]:.5e} {popt[2]:.5e}    \\n\"\n",
        "string_out = f\"# a_s  n_c_best_possible_fit  rho_min_x  rho_max_x  alpha  alpha_opt  beta  gamma  min_energy  \\n\"\n",
        "fout.write(string_out)\n",
        "for rho_min_x in tqdm(np.arange(0.4, 0.71, 0.1)):\n",
        "  for rho_max_x in np.arange(1.5, 2.91, 0.2):\n",
        "    for i in range(len(a_s)):\n",
        "        rho_min = rho_min_x * rho_0_arr\n",
        "        rho_max = rho_max_x * rho_0_arr\n",
        "\n",
        "\n",
        "        # print(f\"analyzing a_s = {a_s[i]:.3f}\")\n",
        "\n",
        "        data = loadtxt(\"energies-qmc/data_clean/\" + file[i],  float)\n",
        "        # print(\"Reading data\", \"energies-qmc/\" + file[i])\n",
        "        rho_all = data[:, 0]\n",
        "        en_all = data[:, 1] #  -  data[:,7]\n",
        "        sen_all = data[:, 2]  # - data[:,6]\n",
        "        kin_en = data[:,3]\n",
        "        sen_kin = data[:,4]        \n",
        "\n",
        "        en_all = en_all\n",
        "\n",
        "        w = np.logical_and(rho_all > rho_min[i], rho_all < rho_max[i])\n",
        "        rho_all_w = rho_all[w]\n",
        "        en_all_w = kin_en[w]\n",
        "        sen_all_w = sen_kin[w]\n",
        "\n",
        "        try:\n",
        "            \n",
        "            alpha_mf = 2*np.pi*(a_s[i] / r_0) # * (1 - 1 / (3*(a_s[i] / r_0)))\n",
        "            alpha_cherny = 2*np.pi*(a_s[i] / r_0)  * (1 - 1 / (3*(a_s[i] / r_0)))\n",
        "            \n",
        "            def enFit(x, a, b):\n",
        "              return a*x + b*x**1.5\n",
        "          \n",
        "            popt, pcov = curve_fit(enFit, rho_all_w, en_all_w,sigma=sen_all_w, maxfev=10000)\n",
        "            alpha, beta = popt\n",
        "            alpha = alpha_mf\n",
        "            \n",
        "            n_c_best_possible_fit, min_energy = estimate_nc(alpha, beta, 1.5, based_on='size')\n",
        "            \n",
        "            \n",
        "            \n",
        "            alpha_opt = popt[0]\n",
        "            # popt[0] = 2*np.pi*(a_s[i] / r_0)  * (1 - 1 / (3*(a_s[i] / r_0)))\n",
        "            # n_c_alpha_cherny = estimate_nc(popt)\n",
        "\n",
        "            # popt[0] = 2*np.pi*(a_s[i] / r_0)  \n",
        "            # n_c_alpha_mf = estimate_nc(popt)\n",
        "\n",
        "            # popt[0] = 2*np.pi*(a_s[i] / r_0) / 10  \n",
        "            # n_c_alpha_mf_over_10 = estimate_nc(popt)\n",
        "\n",
        "            # string_out = f\"{rho_min_x} {a_s[i]} {alpha_opt} {popt[1]} {popt[2]} {n_c_best_possible_fit} {n_c_alpha_cherny} {n_c_alpha_mf} {n_c_alpha_mf_over_10} \\n\"\n",
        "            string_out = f\"{a_s[i]:.2f}  {n_c_best_possible_fit:.5e}  {rho_min_x:.3e} {rho_max_x:.3e} {beta:.3e}  \\n\"\n",
        "            fout.write(string_out)\n",
        "            # print(string_out)\n",
        "        except Exception as error:\n",
        "            print('Caught this error: ' + repr(error))\n"
      ]
    },
    {
      "cell_type": "markdown",
      "metadata": {
        "id": "98mPV74Ft7Xa"
      },
      "source": [
        "# Estimate $n_c$ with recipe 7: freeze beta AND gamma"
      ]
    },
    {
      "cell_type": "code",
      "execution_count": 8,
      "metadata": {
        "colab": {
          "base_uri": "https://localhost:8080/"
        },
        "id": "tPKPyGm6t7Xb",
        "outputId": "d2cea6ef-d774-4f2e-d608-1ef671f9d8b0"
      },
      "outputs": [
        {
          "name": "stdout",
          "output_type": "stream",
          "text": [
            "mkdir: results/critical-atom-numbers/recipe-7-freeze-beta-freeze-gamma: File exists\n"
          ]
        }
      ],
      "source": [
        "\n",
        "a_s = np.array([110, 101.572,  90, 80, 70, 60])\n",
        "file = [\"as110.dat\", \"as100.dat\", \"as90.dat\", \"as80.dat\", \"as70.dat\", \"as60.dat\"]\n",
        "# extension = \"_2\" #is either \"\" or \"_2\"\n",
        "enmax = np.array([0.015, 0.03, 0.05, 0.05])\n",
        "# approximate estimate of equilibrium density\n",
        "# rho_0_arr = np.array([0.018133025814418047, 0.022067711461453077,  0.03056689762975153,  0.03896986119629473]) \n",
        "rho_0_arr = np.array([0.02 , 0.025 ,  0.03 ,  0.04, 0.05, 0.069]) \n",
        "rho_max_arr = 2.0 * rho_0_arr\n",
        "\n",
        "!mkdir results/critical-atom-numbers/recipe-7-freeze-beta-freeze-gamma\n",
        "fout = open(f\"results/critical-atom-numbers/recipe-7-freeze-beta-freeze-gamma/functionals_E_N.dat\", 'w', buffering=1)\n",
        "# fout.write(\"# {rho_min_x} {a_s[i]} {popt[0]} {popt[1]} {popt[2]} {n_c}\\n\")\n",
        "# Write the first line, which is the header: string_out = f\"{a_s[i]:.2f}  {n_c_best_possible_fit:.5e}  {rho_min_x:.3e} {rho_max_x:.3e} {alpha:.5e} {popt[0]:.5e} {popt[1]:.5e} {popt[2]:.5e}    \\n\"\n",
        "string_out = f\"# a_s  n_c_best_possible_fit  rho_min_x  rho_max_x  alpha  alpha_opt  beta  gamma  min_energy  \\n\"\n",
        "fout.write(string_out)\n",
        "for i in range(len(a_s)):\n",
        "\n",
        "  # print(f\"analyzing a_s = {a_s[i]:.3f}\")\n",
        "  alpha = alpha_mf\n",
        "\n",
        "  beta_mf = 256*np.sqrt(np.pi)*(a_s[i]/r_0)**(5/2)/15 + 128*np.sqrt(np.pi)*np.sqrt((a_s[i]/r_0))/45            \n",
        "  beta = beta_mf\n",
        "  gamma = 1.721682499999998\n",
        "\n",
        "  n_c_best_possible_fit, min_energy = estimate_nc(alpha, beta, gamma, based_on='size')\n",
        "\n",
        "\n",
        "\n",
        "  alpha_opt = popt[0]\n",
        "\n",
        "  string_out = f\"{a_s[i]:.2f}  {n_c_best_possible_fit:.5e}   \\n\"\n",
        "  fout.write(string_out)\n",
        "  # print(string_out)\n"
      ]
    },
    {
      "cell_type": "markdown",
      "metadata": {
        "id": "98mPV74Ft7Xa"
      },
      "source": [
        "# Estimate $n_c$ with recipe 7: 2nd approach\n",
        "\n",
        "In this approach:\n",
        "- I take the average and standard deviation of beta and gamma from the \"results/critical-atom-numbers/recipe-7-nc/functionals_E_N.dat\" file, for each a_s.\n",
        "- Then, I use the average and standard deviation of beta and gamma to estimate the critical atom number.\n",
        "- I estimate the critical atom number by sampling from a normal distribution with mean and standard deviation of beta and gamma, respectively.\n",
        "- Then, I take the average of the critical atom number estimates.\n",
        "- The error on the critical atom number is the standard deviation of the critical atom number estimates."
      ]
    },
    {
      "cell_type": "code",
      "execution_count": null,
      "metadata": {
        "colab": {
          "base_uri": "https://localhost:8080/"
        },
        "id": "tPKPyGm6t7Xb",
        "outputId": "d2cea6ef-d774-4f2e-d608-1ef671f9d8b0"
      },
      "outputs": [
        {
          "name": "stdout",
          "output_type": "stream",
          "text": [
            "Too many iterations\n",
            "Too many iterations\n",
            "Too many iterations\n",
            "Too many iterations\n",
            "Too many iterations\n",
            "Too many iterations\n",
            "Too many iterations\n",
            "Too many iterations\n",
            "Too many iterations\n",
            "Too many iterations\n",
            "Too many iterations\n",
            "Too many iterations\n",
            "Too many iterations\n",
            "Too many iterations\n",
            "Too many iterations\n",
            "Too many iterations\n",
            "Too many iterations\n",
            "Too many iterations\n",
            "Too many iterations\n",
            "Too many iterations\n"
          ]
        }
      ],
      "source": [
        "\n",
        "# a_s = np.array([110, 101.572,  90, 80, 70, 60])\n",
        "# file = [\"as110.dat\", \"as100.dat\", \"as90.dat\", \"as80.dat\", \"as70.dat\", \"as60.dat\"]\n",
        "\n",
        "# # Load data from  ./results/critical-atom-numbers/recipe-7-nc/functionals_E_N.dat\". The header of the file is # a_s  n_c_best_possible_fit  rho_min_x  rho_max_x  alpha  alpha_opt  beta  gamma  min_energy   \n",
        "# data = np.loadtxt(\"results/critical-atom-numbers/recipe-7-nc/functionals_E_N.dat\",  float)\n",
        "# a_s = data[:, 0]\n",
        "# n_c_best_possible_fit = data[:, 1]\n",
        "# beta = data[:, 6]\n",
        "# gamma = data[:, 7]\n",
        "\n",
        "# # Open the output file for writing\n",
        "# fout = open(f\"results/critical-atom-numbers/recipe-7-nc/functionals_E_N_2nd_approach.dat\", 'w', buffering=1)\n",
        "# # write header for fout\n",
        "# fout.write(\"# a_s <n_c>  err(n_c)  <beta>  err(beta) <gamma>  \\n\")\n",
        "\n",
        "# # For each unique value of a_s, calculate the average and stddev of beta and gamma. Then sample beta and gamma from a normal distribution with the calculated mean and stddev. Plug these numbers to the function estimate_nc to calculate the critical atom number.\n",
        "# a_s_unique = np.unique(a_s)\n",
        "# n_samples = 10\n",
        "# n_c = np.zeros(n_samples)\n",
        "# for i in range(len(a_s_unique)):\n",
        "#   # print(f\"Analyzing a_s = {a_s_unique[i]}\")\n",
        "#   w = a_s == a_s_unique[i]\n",
        "#   beta_mean = np.mean(beta[w])\n",
        "#   beta_stddev = np.std(beta[w])\n",
        "#   gamma_mean = np.mean(gamma[w])\n",
        "#   gamma_stddev = np.std(gamma[w])\n",
        "  \n",
        "  \n",
        "#   for s in range (n_samples):\n",
        "#     beta_sample = np.random.normal(beta_mean, beta_stddev)\n",
        "#     gamma_sample = np.random.normal(gamma_mean, gamma_stddev)\n",
        "#     n_c[s] = estimate_nc(2*np.pi*(a_s_unique[i] / r_0), beta_sample, gamma_sample, based_on='size')[0]\n",
        "  \n",
        "#   # print(f\"For a_s={a_s_unique[i]:.2f}, <n_c>={np.mean(n_c):.5e} +- {np.std(n_c):.5e}. Complete n_c: {n_c}\")\n",
        "#   # write to fout the values of a_s, average of nc, stddev of nc, beta_mean, beta_stddev, gamma_mean, gamma_stddev\n",
        "#   fout.write(f\"{a_s_unique[i]:.2f}  {np.mean(n_c):.5e}  {np.std(n_c):.5e}  {beta_mean:.5e}  {beta_stddev:.5e}  {gamma_mean:.5e}  {gamma_stddev:.5e}  \\n\")\n",
        "#   # print(\"\\n\\n\")\n"
      ]
    },
    {
      "cell_type": "markdown",
      "metadata": {
        "id": "98mPV74Ft7Xa"
      },
      "source": [
        "# Estimate $n_c$ with recipe 8"
      ]
    },
    {
      "cell_type": "code",
      "execution_count": 19,
      "metadata": {
        "colab": {
          "base_uri": "https://localhost:8080/"
        },
        "id": "tPKPyGm6t7Xb",
        "outputId": "d2cea6ef-d774-4f2e-d608-1ef671f9d8b0"
      },
      "outputs": [
        {
          "name": "stdout",
          "output_type": "stream",
          "text": [
            "mkdir: results/critical-atom-numbers/recipe-8-nc: File exists\n"
          ]
        },
        {
          "name": "stderr",
          "output_type": "stream",
          "text": [
            "100%|██████████| 4/4 [01:06<00:00, 16.60s/it]\n"
          ]
        }
      ],
      "source": [
        "\n",
        "a_s = np.array([110, 101.572,  90, 80, 70, 60])\n",
        "file = [\"as110.dat\", \"as100.dat\", \"as90.dat\", \"as80.dat\", \"as70.dat\", \"as60.dat\"]\n",
        "# extension = \"_2\" #is either \"\" or \"_2\"\n",
        "enmax = np.array([0.015, 0.03, 0.05, 0.05])\n",
        "# approximate estimate of equilibrium density\n",
        "# rho_0_arr = np.array([0.018133025814418047, 0.022067711461453077,  0.03056689762975153,  0.03896986119629473]) \n",
        "rho_0_arr = np.array([0.02 , 0.025 ,  0.03 ,  0.04, 0.05, 0.069]) \n",
        "rho_max_arr = 2.0 * rho_0_arr\n",
        "\n",
        "!mkdir results/critical-atom-numbers/recipe-8-nc\n",
        "fout = open(f\"results/critical-atom-numbers/recipe-8-nc/functionals_E_N.dat\", 'w', buffering=1)\n",
        "# fout.write(\"# {rho_min_x} {a_s[i]} {popt[0]} {popt[1]} {popt[2]} {n_c}\\n\")\n",
        "# Write the first line, which is the header: string_out = f\"{a_s[i]:.2f}  {n_c_best_possible_fit:.5e}  {rho_min_x:.3e} {rho_max_x:.3e} {alpha:.5e} {popt[0]:.5e} {popt[1]:.5e} {popt[2]:.5e}    \\n\"\n",
        "string_out = f\"# a_s  n_c_best_possible_fit  rho_min_x  rho_max_x  alpha  alpha_opt  beta  gamma  min_energy  \\n\"\n",
        "fout.write(string_out)\n",
        "for rho_min_x in tqdm(np.arange(0.4, 0.71, 0.1)):\n",
        "  for rho_max_x in np.arange(1.5, 2.91, 0.2):\n",
        "    for i in range(len(a_s)):\n",
        "        rho_min = rho_min_x * rho_0_arr\n",
        "        rho_max = rho_max_x * rho_0_arr\n",
        "\n",
        "\n",
        "        # print(f\"analyzing a_s = {a_s[i]:.3f}\")\n",
        "\n",
        "        data = loadtxt(\"energies-qmc/data_clean/\" + file[i],  float)\n",
        "        # print(\"Reading data\", \"energies-qmc/\" + file[i])\n",
        "        rho_all = data[:, 0]\n",
        "        en_all = data[:, 1]  -  data[:,7]\n",
        "        sen_all = data[:, 2]  # - data[:,6]\n",
        "        kin_en = data[:,3]\n",
        "        sen_kin = data[:,4]        \n",
        "\n",
        "        en_all = en_all\n",
        "\n",
        "        w = np.logical_and(rho_all > rho_min[i], rho_all < rho_max[i])\n",
        "        rho_all_w = rho_all[w]\n",
        "        en_all_w = en_all[w]\n",
        "        sen_all_w = sen_kin[w]\n",
        "\n",
        "        try:\n",
        "            \n",
        "            alpha_mf = 2*np.pi*(a_s[i] / r_0) # * (1 - 1 / (3*(a_s[i] / r_0)))\n",
        "            alpha_cherny = 2*np.pi*(a_s[i] / r_0)  * (1 - 1 / (3*(a_s[i] / r_0)))\n",
        "            \n",
        "            def enFit(x, a, b, c):\n",
        "              return a*x + b*x**c\n",
        "            \n",
        "            \n",
        "            \n",
        "            popt, pcov = curve_fit(enFit, rho_all_w, en_all_w,sigma=sen_all_w, maxfev=10000)\n",
        "            alpha, beta, gamma = popt\n",
        "            alpha = alpha_mf\n",
        "            n_c_best_possible_fit, min_energy = estimate_nc(alpha, beta, gamma, based_on='size')\n",
        "            \n",
        "            \n",
        "            \n",
        "            alpha_opt = popt[0]\n",
        "            # popt[0] = 2*np.pi*(a_s[i] / r_0)  * (1 - 1 / (3*(a_s[i] / r_0)))\n",
        "            # n_c_alpha_cherny = estimate_nc(popt)\n",
        "\n",
        "            # popt[0] = 2*np.pi*(a_s[i] / r_0)  \n",
        "            # n_c_alpha_mf = estimate_nc(popt)\n",
        "\n",
        "            # popt[0] = 2*np.pi*(a_s[i] / r_0) / 10  \n",
        "            # n_c_alpha_mf_over_10 = estimate_nc(popt)\n",
        "\n",
        "            # string_out = f\"{rho_min_x} {a_s[i]} {alpha_opt} {popt[1]} {popt[2]} {n_c_best_possible_fit} {n_c_alpha_cherny} {n_c_alpha_mf} {n_c_alpha_mf_over_10} \\n\"\n",
        "            string_out = f\"{a_s[i]:.2f}  {n_c_best_possible_fit:.5e}  {rho_min_x:.3e} {rho_max_x:.3e} {alpha:.5e} {popt[0]:.5e} {popt[1]:.5e} {popt[2]:.5e}    \\n\"\n",
        "            fout.write(string_out)\n",
        "            # print(string_out)\n",
        "        except Exception as error:\n",
        "            print('Caught this error: ' + repr(error))\n"
      ]
    },
    {
      "cell_type": "markdown",
      "metadata": {
        "id": "98mPV74Ft7Xa"
      },
      "source": [
        "# Estimate $n_c$ with recipe 8: take beta=beta_mflhy, fit gamma"
      ]
    },
    {
      "cell_type": "code",
      "execution_count": 20,
      "metadata": {
        "colab": {
          "base_uri": "https://localhost:8080/"
        },
        "id": "tPKPyGm6t7Xb",
        "outputId": "d2cea6ef-d774-4f2e-d608-1ef671f9d8b0"
      },
      "outputs": [
        {
          "name": "stdout",
          "output_type": "stream",
          "text": [
            "mkdir: results/critical-atom-numbers/recipe-8-nc-approach-2: File exists\n"
          ]
        },
        {
          "name": "stderr",
          "output_type": "stream",
          "text": [
            "100%|██████████| 4/4 [00:20<00:00,  5.13s/it]\n"
          ]
        }
      ],
      "source": [
        "\n",
        "a_s = np.array([110, 101.572,  90, 80, 70, 60])\n",
        "file = [\"as110.dat\", \"as100.dat\", \"as90.dat\", \"as80.dat\", \"as70.dat\", \"as60.dat\"]\n",
        "# extension = \"_2\" #is either \"\" or \"_2\"\n",
        "enmax = np.array([0.015, 0.03, 0.05, 0.05])\n",
        "# approximate estimate of equilibrium density\n",
        "# rho_0_arr = np.array([0.018133025814418047, 0.022067711461453077,  0.03056689762975153,  0.03896986119629473]) \n",
        "rho_0_arr = np.array([0.02 , 0.025 ,  0.03 ,  0.04, 0.05, 0.069]) \n",
        "rho_max_arr = 2.0 * rho_0_arr\n",
        "\n",
        "!mkdir results/critical-atom-numbers/recipe-8-nc-approach-2\n",
        "fout = open(f\"results/critical-atom-numbers/recipe-8-nc-approach-2/functionals_E_N.dat\", 'w', buffering=1)\n",
        "# fout.write(\"# {rho_min_x} {a_s[i]} {popt[0]} {popt[1]} {popt[2]} {n_c}\\n\")\n",
        "# Write the first line, which is the header: string_out = f\"{a_s[i]:.2f}  {n_c_best_possible_fit:.5e}  {rho_min_x:.3e} {rho_max_x:.3e} {alpha:.5e} {popt[0]:.5e} {popt[1]:.5e} {popt[2]:.5e}    \\n\"\n",
        "string_out = f\"# a_s  n_c_best_possible_fit  rho_min_x  rho_max_x  alpha  alpha_opt  beta  gamma  min_energy  \\n\"\n",
        "fout.write(string_out)\n",
        "for rho_min_x in tqdm(np.arange(0.4, 0.71, 0.1)):\n",
        "  for rho_max_x in np.arange(1.5, 2.41, 0.2):\n",
        "    for i in range(len(a_s)):\n",
        "        rho_min = rho_min_x * rho_0_arr\n",
        "        rho_max = rho_max_x * rho_0_arr\n",
        "\n",
        "\n",
        "        # print(f\"analyzing a_s = {a_s[i]:.3f}\")\n",
        "\n",
        "        data = loadtxt(\"energies-qmc/data_clean/\" + file[i],  float)\n",
        "        # print(\"Reading data\", \"energies-qmc/\" + file[i])\n",
        "        rho_all = data[:, 0]\n",
        "        en_all = data[:, 1]  -  data[:,7]\n",
        "        sen_all = data[:, 2]  # - data[:,6]\n",
        "        kin_en = data[:,3]\n",
        "        sen_kin = data[:,4]        \n",
        "\n",
        "        en_all = en_all\n",
        "\n",
        "        w = np.logical_and(rho_all > rho_min[i], rho_all < rho_max[i])\n",
        "        rho_all_w = rho_all[w]\n",
        "        en_all_w = en_all[w]\n",
        "        sen_all_w = sen_kin[w]\n",
        "\n",
        "        try:\n",
        "            \n",
        "            alpha_mf = 2*np.pi*(a_s[i] / r_0) # * (1 - 1 / (3*(a_s[i] / r_0)))\n",
        "            alpha_cherny = 2*np.pi*(a_s[i] / r_0)  * (1 - 1 / (3*(a_s[i] / r_0)))\n",
        "            \n",
        "            \n",
        "            beta_mf = 256*np.sqrt(np.pi)*(a_s[i]/r_0)**(5/2)/15 + 128*np.sqrt(np.pi)*np.sqrt((a_s[i]/r_0))/45\n",
        "\n",
        "            \n",
        "            beta = beta_mf\n",
        "            \n",
        "            \n",
        "            def enFit(x, a, c):\n",
        "              return a*x + beta*x**c\n",
        "            \n",
        "            \n",
        "            \n",
        "            popt, pcov = curve_fit(enFit, rho_all_w, en_all_w,sigma=sen_all_w, maxfev=10000)\n",
        "            alpha, gamma = popt\n",
        "            alpha = alpha_mf\n",
        "            \n",
        "            n_c_best_possible_fit, min_energy = estimate_nc(alpha, beta, gamma, based_on='size')\n",
        "            \n",
        "            \n",
        "            \n",
        "            alpha_opt = popt[0]\n",
        "            # popt[0] = 2*np.pi*(a_s[i] / r_0)  * (1 - 1 / (3*(a_s[i] / r_0)))\n",
        "            # n_c_alpha_cherny = estimate_nc(popt)\n",
        "\n",
        "            # popt[0] = 2*np.pi*(a_s[i] / r_0)  \n",
        "            # n_c_alpha_mf = estimate_nc(popt)\n",
        "\n",
        "            # popt[0] = 2*np.pi*(a_s[i] / r_0) / 10  \n",
        "            # n_c_alpha_mf_over_10 = estimate_nc(popt)\n",
        "\n",
        "            # string_out = f\"{rho_min_x} {a_s[i]} {alpha_opt} {popt[1]} {popt[2]} {n_c_best_possible_fit} {n_c_alpha_cherny} {n_c_alpha_mf} {n_c_alpha_mf_over_10} \\n\"\n",
        "            string_out = f\"{a_s[i]:.2f}  {n_c_best_possible_fit:.5e}  {rho_min_x:.3e} {rho_max_x:.3e} {alpha:.5e} {popt[0]:.5e} {popt[1]:.5e}    \\n\"\n",
        "            fout.write(string_out)\n",
        "            # print(string_out)\n",
        "        except Exception as error:\n",
        "            print('Caught this error: ' + repr(error))\n"
      ]
    },
    {
      "cell_type": "markdown",
      "metadata": {
        "id": "Z7FxoHuFxfyI"
      },
      "source": [
        "# Estimate $n_c$ with recipe 42: MFLHY"
      ]
    },
    {
      "cell_type": "code",
      "execution_count": 21,
      "metadata": {
        "colab": {
          "base_uri": "https://localhost:8080/"
        },
        "id": "njCuthtYxfyJ",
        "outputId": "355e7cbe-9459-4e22-a07c-4a0475caa4fe"
      },
      "outputs": [
        {
          "name": "stdout",
          "output_type": "stream",
          "text": [
            "mkdir: results/critical-atom-numbers/recipe-42-nc: File exists\n",
            "analyzing a_s = 110.00000\n",
            "analyzing a_s = 101.57200\n",
            "analyzing a_s = 90.00000\n",
            "analyzing a_s = 80.00000\n",
            "analyzing a_s = 70.00000\n",
            "analyzing a_s = 60.00000\n"
          ]
        }
      ],
      "source": [
        "\n",
        "a_s = np.array([110, 101.572,  90, 80, 70, 60])\n",
        "file = [\"as110.dat\", \"as100.dat\", \"as90.dat\", \"as80.dat\", \"as70.dat\", \"as60.dat\"]\n",
        "# extension = \"_2\" #is either \"\" or \"_2\"\n",
        "enmax = np.array([0.015, 0.03, 0.05, 0.05])\n",
        "# approximate estimate of equilibrium density\n",
        "# rho_0_arr = np.array([0.018133025814418047, 0.022067711461453077,  0.03056689762975153,  0.03896986119629473]) \n",
        "rho_0_arr = np.array([0.02 , 0.025 ,  0.03 ,  0.04, 0.05, 0.069]) \n",
        "rho_max_arr = 2.0 * rho_0_arr\n",
        "\n",
        "!mkdir results/critical-atom-numbers/recipe-42-nc\n",
        "fout = open(f\"results/critical-atom-numbers/recipe-42-nc/functionals_E_N.dat\", 'w', buffering=1)\n",
        "# write header string_out = f\"{a_s[i]:.2f} {n_c_best_possible_fit:.5e} {rho_min_x:.4e} {rho_max_x:.4e}  {min_energy:.5e}   \\n\"\n",
        "string_out = f\"# a_s  n_c_best_possible_fit  rho_min_x  rho_max_x  alpha  alpha_opt  beta  gamma  min_energy  \\n\"\n",
        "fout.write(string_out)\n",
        "for i in range(len(a_s)):\n",
        "    # print(f\"analyzing a_s = {a_s[i]:.5f}\")\n",
        "    try:        \n",
        "        alpha = 2*np.pi*(a_s[i]/r_0) # * (1 - 1 / (3*(a_s / r_0)))\n",
        "        beta = 256*np.sqrt(np.pi)*(a_s[i]/r_0)**(5/2)/15 + 128*np.sqrt(np.pi)*np.sqrt((a_s[i]/r_0))/45\n",
        "\n",
        "        gamma = 1.5\n",
        "        n_c_best_possible_fit, min_energy = estimate_nc(alpha, beta, gamma, based_on=\"size\")\n",
        "        string_out = f\"{a_s[i]:.2f} {n_c_best_possible_fit:.5e} {rho_min_x:.4e} {rho_max_x:.4e}  {min_energy:.5e}   \\n\"\n",
        "        fout.write(string_out)\n",
        "        # print(string_out)\n",
        "    except Exception as error:\n",
        "        print('Caught this error: ' + repr(error))\n"
      ]
    },
    {
      "cell_type": "markdown",
      "metadata": {
        "id": "oh2x75PZozNg"
      },
      "source": [
        "# Plot critical atom number"
      ]
    },
    {
      "cell_type": "code",
      "execution_count": 22,
      "metadata": {
        "colab": {
          "base_uri": "https://localhost:8080/",
          "height": 425
        },
        "id": "egUf_nQjimzI",
        "outputId": "cc12dac8-929f-4955-8ec3-28e2dd9bd168"
      },
      "outputs": [],
      "source": [
        "\n",
        "# plt.figure(figsize=(16, 9))\n",
        "\n",
        "# def log_func_fit(x, a, b, c):\n",
        "#     return a*x**2 + b*x + c\n",
        "# def func_fit(x, a, b, c):\n",
        "#     return np.exp(log_func_fit(x, a, b, c))\n",
        "# data = np.loadtxt(\"./experimental-data/combined-critical-atom-number.dat\")\n",
        "# sclen_expt = data[:,0]\n",
        "# nc_expt = data[:,1]\n",
        "# popt, pcov = curve_fit(f=log_func_fit, xdata=sclen_expt, ydata=np.log(nc_expt))\n",
        "\n",
        "# plt.plot(sclen_expt, nc_expt, label=\"EXPT.\", ls='', marker='o', color='blue', markersize=10)\n",
        "# x = np.linspace(60, 110, num = 100)\n",
        "# plt.plot(x, func_fit(x, popt[0], popt[1], popt[2]), label=\"fit to EXPT.\", color='black', ls = '--', markersize=10)\n",
        "\n",
        "\n",
        "# mf_data = np.loadtxt(\"./experimental-data/mean_field_IGOR.dat\")\n",
        "# sclen_mf = mf_data[:,0]\n",
        "# nc_mf = mf_data[:,1]\n",
        "# plt.plot(sclen_mf, nc_mf, label=\"MF+LHY IGOR\", color='black', markersize=10)\n",
        "\n",
        "# data = np.loadtxt(\"./results/critical-atom-numbers/recipe-1-nc/functionals_E_N.dat\")\n",
        "# sclen = data[:,0]\n",
        "# nc = data[:,1]\n",
        "# plt.plot(sclen, nc, label=\"Recipe 1\", color='blue', marker='D', ls='', markersize=10)\n",
        "\n",
        "# data = np.loadtxt(\"./results/critical-atom-numbers/recipe-3-nc/functionals_E_N.dat\")\n",
        "# sclen = data[:,0]\n",
        "# nc = data[:,1]\n",
        "# plt.plot(sclen, nc, label=\"Recipe 3\", color='green', marker='D', ls='', markersize=10)\n",
        "\n",
        "# data = np.loadtxt(\"./results/critical-atom-numbers/recipe-5-nc/functionals_E_N.dat\")\n",
        "# sclen = data[:,0]\n",
        "# nc = data[:,1]\n",
        "# plt.plot(sclen, nc, label=\"Recipe 5\", color='red', marker='D', ls='', markersize=10)\n",
        "\n",
        "# # data = np.loadtxt(\"./results/critical-atom-numbers/recipe-6-nc/functionals_E_N.dat\")\n",
        "# # sclen = data[:,0]\n",
        "# # nc = data[:,1]\n",
        "# # plt.plot(sclen, nc, label=\"Recipe 6\", color='orange', marker='D', ls='', markersize=10)\n",
        "\n",
        "# data = np.loadtxt(\"./results/critical-atom-numbers/recipe-7-nc/functionals_E_N.dat\")\n",
        "# sclen = data[:,0]\n",
        "# nc = data[:,1]\n",
        "# # sort data by sclen\n",
        "# sclen, nc = (list(t) for t in zip(*sorted(zip(sclen, nc))))\n",
        "# plt.plot(sclen, nc, label=\"Recipe 7\", color='purple', marker='D', ls='-', markersize=10)\n",
        "\n",
        "\n",
        "\n",
        "# data = np.loadtxt(\"./results/critical-atom-numbers/recipe-42-nc/functionals_E_N.dat\")\n",
        "# sclen = data[:,0]\n",
        "# nc = data[:,1]\n",
        "# plt.plot(sclen, nc, label=\"Recipe 42: MFLHY\", color='black', marker='D', ls='-', markersize=10)\n",
        "\n",
        "\n",
        "# data = np.loadtxt(\"./results/critical-atom-numbers/recipe-43-nc/functionals_E_N.dat\")\n",
        "# sclen = data[:,0]\n",
        "# nc = data[:,1]\n",
        "# plt.plot(sclen, nc, label=\"Recipe 43: Cherny\", color='pink', marker='D', ls='', markersize=10)\n",
        "\n",
        "\n",
        "# plt.xlabel(r'$a_s$', fontsize=20)\n",
        "# plt.ylabel(r'$N$', fontsize=20)\n",
        "# plt.legend(loc = \"best\", bbox_to_anchor=(1.04, 1), fontsize=20)\n",
        "\n",
        "# plt.ylim(4E+01, 2e4)\n",
        "\n",
        "# plt.yscale('log')\n",
        "# plt.ylim(1, 400000)\n",
        "# plt.xticks(fontsize=20)\n",
        "# plt.yticks(fontsize=20)\n",
        "\n",
        "# # Save the figure into plots folder\n",
        "# plt.savefig(f\"plots/critical-atom-number.pdf\", bbox_inches='tight', dpi=300)\n",
        "# plt.savefig(f\"plots/critical-atom-number.png\", bbox_inches='tight', dpi=300)\n"
      ]
    },
    {
      "cell_type": "code",
      "execution_count": null,
      "metadata": {
        "id": "auZV7d_wimzI"
      },
      "outputs": [],
      "source": []
    },
    {
      "cell_type": "code",
      "execution_count": null,
      "metadata": {
        "id": "UWus1JM8imzI"
      },
      "outputs": [],
      "source": []
    }
  ],
  "metadata": {
    "colab": {
      "collapsed_sections": [],
      "include_colab_link": true,
      "provenance": [],
      "toc_visible": true
    },
    "kernelspec": {
      "display_name": "Python 3.8.13 ('mlp')",
      "language": "python",
      "name": "python3"
    },
    "language_info": {
      "codemirror_mode": {
        "name": "ipython",
        "version": 3
      },
      "file_extension": ".py",
      "mimetype": "text/x-python",
      "name": "python",
      "nbconvert_exporter": "python",
      "pygments_lexer": "ipython3",
      "version": "3.8.13"
    },
    "orig_nbformat": 4,
    "vscode": {
      "interpreter": {
        "hash": "5fc8cc4423f23a87e418a855553ca5df0686e4c1b4502d1b16c3e8233d998187"
      }
    }
  },
  "nbformat": 4,
  "nbformat_minor": 0
}
