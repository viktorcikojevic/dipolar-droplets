{
  "cells": [
    {
      "cell_type": "markdown",
      "metadata": {
        "colab_type": "text",
        "id": "view-in-github"
      },
      "source": [
        "# Dipolar Droplets: critical atom number study\n",
        "\n",
        "<a href=\"https://colab.research.google.com/github/viktorcikojevic/dipolar-droplets/blob/main/critical_atom_number.ipynb\" target=\"_parent\"><img src=\"https://colab.research.google.com/assets/colab-badge.svg\" alt=\"Open In Colab\"/></a>"
      ]
    },
    {
      "cell_type": "code",
      "execution_count": 1,
      "metadata": {
        "id": "G1eFBYe4imzB"
      },
      "outputs": [],
      "source": [
        "\n",
        "import numpy as np\n",
        "import random\n",
        "from numpy import loadtxt\n",
        "from scipy.optimize import curve_fit\n",
        "import os\n",
        "import matplotlib.pyplot as plt\n",
        "\n",
        "import scipy.special\n",
        "from scipy.optimize import fmin\n",
        "\n",
        "from tqdm import tqdm\n"
      ]
    },
    {
      "cell_type": "markdown",
      "metadata": {
        "id": "uDm9rHk0lLMR"
      },
      "source": [
        "# Functions for $n_c$ estimation"
      ]
    },
    {
      "cell_type": "code",
      "execution_count": 2,
      "metadata": {
        "id": "MVOg5QB-imzD"
      },
      "outputs": [],
      "source": [
        "from estimate_nc.estimate_nc import estimate_nc, en_per_particle"
      ]
    },
    {
      "cell_type": "markdown",
      "metadata": {
        "id": "diWrqRN7JUcX"
      },
      "source": [
        "## Physics parameters"
      ]
    },
    {
      "cell_type": "code",
      "execution_count": 3,
      "metadata": {
        "id": "rY_k2PLOJYC4"
      },
      "outputs": [],
      "source": [
        "a_s = 91.401702191\n",
        "r_0 = 387.6   # https://www.wolframalpha.com/input?i=%28162Dy+mass%29+*+%28mu_0%29+*+%289.93+bohr+magneton%29%5E2+%2F+%284+pi+hbar%5E2%29+%2F+%28bohr+radius%29\n",
        "# r_0 = 393.14   # https://www.wolframalpha.com/input?i=%28162+atomic+mass+unit%29+*+%28mu_0%29+*+%2810+bohr+magneton%29%5E2+%2F+%284+pi+hbar%5E2%29+%2F+%28bohr+radius%29\n",
        "# r_0 = 398 # https://www.wolframalpha.com/input?i=%28164+atomic+mass+unit%29+*+%28mu_0%29+*+%2810+bohr+magneton%29%5E2+%2F+%284+pi+hbar%5E2%29+%2F+%28bohr+radius%29\n",
        "# From Raul’s Thesis: m is the atomic mass, and Cdd = μ0 μ^2 sets the strength of the dipolar\n",
        "# interaction, with μ = 9.93μB the magnetic dipole moment of 162Dy. We use dipolar units,\n",
        "# obtained from the characteristic dipolar length r0 = m C_dd/ (4π \\hbar^2) = 387.672168a0 and the\n",
        "# dipolar scale of energy \u000f0 = ~2\n",
        "# "
      ]
    },
    {
      "cell_type": "markdown",
      "metadata": {
        "id": "nR_G71DcLBr8"
      },
      "source": [
        "## Test the $N_c$ function"
      ]
    },
    {
      "cell_type": "code",
      "execution_count": 4,
      "metadata": {
        "colab": {
          "base_uri": "https://localhost:8080/"
        },
        "id": "CiNhDDz6LD-7",
        "outputId": "f7eecec0-b79b-43be-bb26-29e176f94f71"
      },
      "outputs": [
        {
          "name": "stdout",
          "output_type": "stream",
          "text": [
            "#a\tN\n",
            "60.5970075184  550.962558145\n",
            "62.7356641274  630.484693517\n",
            "64.8743207365  721.484505403\n",
            "66.7271283591  798.254461363\n",
            "68.8657849681  913.469004347\n",
            "70.8615170839  1027.84403302\n",
            "72.7158135034  1176.19595118\n",
            "74.853725714  1323.46689853\n",
            "76.9931267214  1540.22653908\n",
            "78.9896032357  1762.532214\n",
            "80.5587950671  1983.2180518\n",
            "82.6974516761  2269.46206612\n",
            "84.5532368924  2686.04636111\n",
            "87.4057715689  3288.07864054\n",
            "89.4044812784  3957.78164425\n",
            "91.401702191  4605.99379639\n",
            "93.9721098732  5930.74447925\n",
            "96.3988486638  7383.40961091\n",
            "98.2561226769  9038.277145\n",
            "99.8275477035  10697.3506182\n",
            "\n"
          ]
        }
      ],
      "source": [
        "# These are the MF+LHY estimations from IGOR. Let's try to reproduce some of these\n",
        "!cat experimental-data/mean_field_IGOR.dat  "
      ]
    },
    {
      "cell_type": "code",
      "execution_count": 5,
      "metadata": {
        "colab": {
          "base_uri": "https://localhost:8080/"
        },
        "id": "RefUx6e10h3C",
        "outputId": "22e41f9d-0a26-4202-b912-116786b5e4d4"
      },
      "outputs": [
        {
          "data": {
            "text/plain": [
              "(6014.672060418236, 9.972961264054853e-06)"
            ]
          },
          "execution_count": 5,
          "metadata": {},
          "output_type": "execute_result"
        }
      ],
      "source": [
        "\n",
        "a_s = 91.401702191\n",
        "a_s = a_s / r_0\n",
        "alpha = 2*np.pi*a_s # * (1 - 1 / (3*(a_s / r_0)))\n",
        "beta = 256*np.sqrt(np.pi)*a_s**(5/2)/15 + 128*np.sqrt(np.pi)*np.sqrt(a_s)/45\n",
        "gamma = 1.5\n",
        "\n",
        "n_c_best_possible_fit, min_energy = estimate_nc(alpha, beta, gamma, include_ho=False, based_on='size')\n",
        "n_c_best_possible_fit, min_energy"
      ]
    },
    {
      "cell_type": "code",
      "execution_count": 6,
      "metadata": {
        "colab": {
          "base_uri": "https://localhost:8080/"
        },
        "id": "MS-0kfoG2Jof",
        "outputId": "e250d108-4de5-447e-ec49-a083c324f777"
      },
      "outputs": [
        {
          "data": {
            "text/plain": [
              "4.994387305328081e-05"
            ]
          },
          "execution_count": 6,
          "metadata": {},
          "output_type": "execute_result"
        }
      ],
      "source": [
        "ng = 400\n",
        "sr_range = np.linspace(4, 100, ng)\n",
        "sz_range = np.linspace(4, 1000, ng)\n",
        "# make meshgrid\n",
        "sr, sz = np.meshgrid(sr_range, sz_range)\n",
        "nparticles = 100\n",
        "\n",
        "np.min(en_per_particle(sr, sz, nparticles, alpha, beta, gamma, include_ho=False))"
      ]
    },
    {
      "cell_type": "code",
      "execution_count": 7,
      "metadata": {
        "id": "KdkMuIq7lYtC"
      },
      "outputs": [],
      "source": [
        "# r_0 = 360.375\n",
        "a_s = np.array([110, 101.572,  90, 80, 70, 60])\n",
        "file = [\"as110.dat\", \"as100.dat\", \"as90.dat\", \"as80.dat\", \"as70.dat\", \"as60.dat\"]"
      ]
    },
    {
      "cell_type": "markdown",
      "metadata": {
        "id": "bh_Q8WaCtpcZ"
      },
      "source": [
        "# Recipe: Fit the $E_{\\rm kin}/N$ to a function of the form $\\alpha \\rho + \\beta\\rho^\\gamma$. Step 2: Use $\\beta\\rho^\\gamma$ instead of the LHY term"
      ]
    },
    {
      "cell_type": "code",
      "execution_count": 8,
      "metadata": {
        "colab": {
          "base_uri": "https://localhost:8080/",
          "height": 595
        },
        "id": "ggpwy7Dltpcj",
        "outputId": "d999a623-cbbb-4895-99c3-cd74ebb87725"
      },
      "outputs": [
        {
          "name": "stdout",
          "output_type": "stream",
          "text": [
            "\n",
            "\n",
            "a_s = 110.0, popt[alpha,beta,gamma]=[0.11883386 3.28002707 1.52530296]\n",
            "\n",
            "\n",
            "a_s = 101.572, popt[alpha,beta,gamma]=[0.22125296 3.19806864 1.59521284]\n",
            "\n",
            "\n",
            "a_s = 90.0, popt[alpha,beta,gamma]=[-0.04210235  2.23638411  1.35239522]\n",
            "\n",
            "\n",
            "a_s = 80.0, popt[alpha,beta,gamma]=[0.27080808 2.38773349 1.56886656]\n",
            "\n",
            "\n",
            "a_s = 70.0, popt[alpha,beta,gamma]=[0.38361545 2.23528507 1.663546  ]\n",
            "\n",
            "\n",
            "a_s = 60.0, popt[alpha,beta,gamma]=[0.48306191 2.22129791 1.79371164]\n"
          ]
        },
        {
          "data": {
            "text/plain": [
              "(0.0, 0.21837499999999999)"
            ]
          },
          "execution_count": 8,
          "metadata": {},
          "output_type": "execute_result"
        },
        {
          "data": {
            "image/png": "[encoded data removed]",
            "text/plain": [
              "<Figure size 432x288 with 1 Axes>"
            ]
          },
          "metadata": {
            "needs_background": "light"
          },
          "output_type": "display_data"
        }
      ],
      "source": [
        " \n",
        "for i in range(len(a_s)):\n",
        "    data = loadtxt(\"energies-qmc/data_clean/\" + file[i],  float)\n",
        "    # # print(\"Reading data\", \"energies-qmc/\" + file[i])\n",
        "    rho_all = data[:, 0]\n",
        "    \n",
        "    en_all = data[:, 1] #  -  data[:,7]\n",
        "    sen_all = data[:, 2]  # - data[:,6]\n",
        "    kin_en = data[:, 3]\n",
        "    sen_kin = data[:, 4]\n",
        "    \n",
        "    alpha_mf = 2*np.pi*(a_s[i] / r_0) # * (1 - 1 / (3*(a_s[i] / r_0)))\n",
        "    \n",
        "    \n",
        "    plt.errorbar(rho_all, kin_en, sen_kin, label=f\"a_s = {a_s[i]}\", marker='o', markersize=10, linestyle='None')\n",
        "    \n",
        "    # STEP 1: Fit the energy to a function of the form a*x + b*x**c\n",
        "    def enFit(x, a, b, c):\n",
        "        return a*x + b*x**c\n",
        "    popt, pcov = curve_fit(enFit, rho_all , kin_en,sigma=sen_kin, maxfev=10000)\n",
        "    \n",
        "    print(f\"\\n\\na_s = {a_s[i]}, popt[alpha,beta,gamma]={popt}\")\n",
        "    # sort rho_all\n",
        "    idx = np.argsort(rho_all)\n",
        "    rho_all = rho_all[idx]\n",
        "    plt.plot(rho_all, enFit(rho_all, *popt))\n",
        "        \n",
        "\n",
        "    \n",
        "plt.legend()\n",
        "# plt.ylim(0, 3)\n",
        "plt.xlim(0)\n",
        "# plt.xlim(0, 0.03), plt.ylim(-0.02, 0)"
      ]
    },
    {
      "cell_type": "markdown",
      "metadata": {
        "id": "98mPV74Ft7Xa"
      },
      "source": [
        "# Estimate $n_c$"
      ]
    },
    {
      "cell_type": "code",
      "execution_count": null,
      "metadata": {
        "colab": {
          "base_uri": "https://localhost:8080/"
        },
        "id": "tPKPyGm6t7Xb",
        "outputId": "d2cea6ef-d774-4f2e-d608-1ef671f9d8b0"
      },
      "outputs": [],
      "source": [
        "a_s = np.array([110, 101.572,  90, 80, 70, 60])\n",
        "file = [\"as110.dat\", \"as100.dat\", \"as90.dat\", \"as80.dat\", \"as70.dat\", \"as60.dat\"]\n",
        "# extension = \"_2\" #is either \"\" or \"_2\"\n",
        "enmax = np.array([0.015, 0.03, 0.05, 0.05])\n",
        "# approximate estimate of equilibrium density\n",
        "# rho_0_arr = np.array([0.018133025814418047, 0.022067711461453077,  0.03056689762975153,  0.03896986119629473]) \n",
        "rho_0_arr = np.array([0.02 , 0.025 ,  0.03 ,  0.04, 0.05, 0.069]) \n",
        "rho_max_arr = 2.0 * rho_0_arr\n",
        "\n",
        "!mkdir results/dy-df\n",
        "fout = open(f\"results/dy-df/functionals_E_N.dat\", 'w', buffering=1)\n",
        "# fout.write(\"# {rho_min_x} {a_s[i]} {popt[0]} {popt[1]} {popt[2]} {n_c}\\n\")\n",
        "# Write the first line, which is the header: string_out = f\"{a_s[i]:.2f}  {n_c_best_possible_fit:.5e}  {rho_min_x:.3e} {rho_max_x:.3e} {alpha:.5e} {popt[0]:.5e} {popt[1]:.5e} {popt[2]:.5e}    \\n\"\n",
        "string_out = f\"# a_s  n_c_best_possible_fit  rho_min_x  rho_max_x  alpha  alpha_opt  beta  gamma  min_energy  \\n\"\n",
        "fout.write(string_out)\n",
        "for rho_min_x in tqdm(np.arange(0.4, 0.81, 0.1)):\n",
        "  for rho_max_x in np.arange(1.5, 2.91, 0.2):\n",
        "    for i in range(len(a_s)):\n",
        "        rho_min = rho_min_x * rho_0_arr\n",
        "        rho_max = rho_max_x * rho_0_arr\n",
        "\n",
        "\n",
        "        # # print(f\"analyzing a_s = {a_s[i]:.3f}\")\n",
        "\n",
        "        data = loadtxt(\"energies-qmc/data_clean/\" + file[i],  float)\n",
        "        # # print(\"Reading data\", \"energies-qmc/\" + file[i])\n",
        "        rho_all = data[:, 0]\n",
        "        en_all = data[:, 1] #  -  data[:,7]\n",
        "        sen_all = data[:, 2]  # - data[:,6]\n",
        "        kin_en = data[:,3]\n",
        "        sen_kin = data[:,4]        \n",
        "\n",
        "        en_all = en_all\n",
        "\n",
        "        w = np.logical_and(rho_all > rho_min[i], rho_all < rho_max[i])\n",
        "        rho_all_w = rho_all[w]\n",
        "        en_all_w = kin_en[w]\n",
        "        sen_all_w = sen_kin[w]\n",
        "\n",
        "        try:\n",
        "            \n",
        "            alpha_mf = 2*np.pi*(a_s[i] / r_0) # * (1 - 1 / (3*(a_s[i] / r_0)))\n",
        "            alpha_cherny = 2*np.pi*(a_s[i] / r_0)  * (1 - 1 / (3*(a_s[i] / r_0)))\n",
        "            \n",
        "            def enFit(x, a, b, c):\n",
        "              return a*x + b*x**c\n",
        "            \n",
        "            \n",
        "            \n",
        "            popt, pcov = curve_fit(enFit, rho_all_w, en_all_w,sigma=sen_all_w, p0=[-1, 5, 1.5], maxfev=10000)\n",
        "            alpha, beta, gamma = popt\n",
        "            alpha = alpha_mf\n",
        "            n_c_best_possible_fit, min_energy = estimate_nc(alpha, beta, gamma, based_on='size')\n",
        "            \n",
        "            \n",
        "            \n",
        "            alpha_opt = popt[0]\n",
        "            # popt[0] = 2*np.pi*(a_s[i] / r_0)  * (1 - 1 / (3*(a_s[i] / r_0)))\n",
        "            # n_c_alpha_cherny = estimate_nc(popt)\n",
        "\n",
        "            # popt[0] = 2*np.pi*(a_s[i] / r_0)  \n",
        "            # n_c_alpha_mf = estimate_nc(popt)\n",
        "\n",
        "            # popt[0] = 2*np.pi*(a_s[i] / r_0) / 10  \n",
        "            # n_c_alpha_mf_over_10 = estimate_nc(popt)\n",
        "\n",
        "            # string_out = f\"{rho_min_x} {a_s[i]} {alpha_opt} {popt[1]} {popt[2]} {n_c_best_possible_fit} {n_c_alpha_cherny} {n_c_alpha_mf} {n_c_alpha_mf_over_10} \\n\"\n",
        "            string_out = f\"{a_s[i]:.2f}  {n_c_best_possible_fit:.5e}  {rho_min_x:.3e} {rho_max_x:.3e} {alpha:.5e} {popt[0]:.5e} {popt[1]:.5e} {popt[2]:.5e}    \\n\"\n",
        "            fout.write(string_out)\n",
        "            # # print(string_out)\n",
        "        except Exception as error:\n",
        "            print('Caught this error: ' + repr(error))"
      ]
    }
  ],
  "metadata": {
    "colab": {
      "collapsed_sections": [],
      "include_colab_link": true,
      "provenance": [],
      "toc_visible": true
    },
    "kernelspec": {
      "display_name": "Python 3.8.13 ('mlp')",
      "language": "python",
      "name": "python3"
    },
    "language_info": {
      "codemirror_mode": {
        "name": "ipython",
        "version": 3
      },
      "file_extension": ".py",
      "mimetype": "text/x-python",
      "name": "python",
      "nbconvert_exporter": "python",
      "pygments_lexer": "ipython3",
      "version": "3.6.13"
    },
    "orig_nbformat": 4,
    "vscode": {
      "interpreter": {
        "hash": "5fc8cc4423f23a87e418a855553ca5df0686e4c1b4502d1b16c3e8233d998187"
      }
    }
  },
  "nbformat": 4,
  "nbformat_minor": 0
}
